{
 "cells": [
  {
   "cell_type": "markdown",
   "id": "fed1ce46",
   "metadata": {},
   "source": [
    "# import libraries"
   ]
  },
  {
   "cell_type": "code",
   "execution_count": 1,
   "id": "6bb7ab74",
   "metadata": {},
   "outputs": [],
   "source": [
    "import pandas as pd\n",
    "import numpy as np \n",
    "import matplotlib.pyplot as plt\n",
    "import seaborn as sns\n",
    "%matplotlib inline \n",
    "import warnings\n",
    "warnings.filterwarnings('ignore')\n",
    "from sklearn.model_selection import train_test_split\n",
    "from sklearn.linear_model import LinearRegression, Ridge\n",
    "from sklearn.preprocessing import StandardScaler, PolynomialFeatures"
   ]
  },
  {
   "cell_type": "markdown",
   "id": "71116736",
   "metadata": {},
   "source": [
    "# Preparing and Understanding the data"
   ]
  },
  {
   "cell_type": "code",
   "execution_count": 2,
   "id": "1c47f296",
   "metadata": {},
   "outputs": [
    {
     "data": {
      "text/html": [
       "<div>\n",
       "<style scoped>\n",
       "    .dataframe tbody tr th:only-of-type {\n",
       "        vertical-align: middle;\n",
       "    }\n",
       "\n",
       "    .dataframe tbody tr th {\n",
       "        vertical-align: top;\n",
       "    }\n",
       "\n",
       "    .dataframe thead th {\n",
       "        text-align: right;\n",
       "    }\n",
       "</style>\n",
       "<table border=\"1\" class=\"dataframe\">\n",
       "  <thead>\n",
       "    <tr style=\"text-align: right;\">\n",
       "      <th></th>\n",
       "      <th>id</th>\n",
       "      <th>url</th>\n",
       "      <th>region</th>\n",
       "      <th>region_url</th>\n",
       "      <th>price</th>\n",
       "      <th>year</th>\n",
       "      <th>manufacturer</th>\n",
       "      <th>model</th>\n",
       "      <th>condition</th>\n",
       "      <th>cylinders</th>\n",
       "      <th>...</th>\n",
       "      <th>size</th>\n",
       "      <th>type</th>\n",
       "      <th>paint_color</th>\n",
       "      <th>image_url</th>\n",
       "      <th>description</th>\n",
       "      <th>county</th>\n",
       "      <th>state</th>\n",
       "      <th>lat</th>\n",
       "      <th>long</th>\n",
       "      <th>posting_date</th>\n",
       "    </tr>\n",
       "  </thead>\n",
       "  <tbody>\n",
       "    <tr>\n",
       "      <th>0</th>\n",
       "      <td>7222695916</td>\n",
       "      <td>https://prescott.craigslist.org/cto/d/prescott...</td>\n",
       "      <td>prescott</td>\n",
       "      <td>https://prescott.craigslist.org</td>\n",
       "      <td>6000</td>\n",
       "      <td>NaN</td>\n",
       "      <td>NaN</td>\n",
       "      <td>NaN</td>\n",
       "      <td>NaN</td>\n",
       "      <td>NaN</td>\n",
       "      <td>...</td>\n",
       "      <td>NaN</td>\n",
       "      <td>NaN</td>\n",
       "      <td>NaN</td>\n",
       "      <td>NaN</td>\n",
       "      <td>NaN</td>\n",
       "      <td>NaN</td>\n",
       "      <td>az</td>\n",
       "      <td>NaN</td>\n",
       "      <td>NaN</td>\n",
       "      <td>NaN</td>\n",
       "    </tr>\n",
       "    <tr>\n",
       "      <th>1</th>\n",
       "      <td>7218891961</td>\n",
       "      <td>https://fayar.craigslist.org/ctd/d/bentonville...</td>\n",
       "      <td>fayetteville</td>\n",
       "      <td>https://fayar.craigslist.org</td>\n",
       "      <td>11900</td>\n",
       "      <td>NaN</td>\n",
       "      <td>NaN</td>\n",
       "      <td>NaN</td>\n",
       "      <td>NaN</td>\n",
       "      <td>NaN</td>\n",
       "      <td>...</td>\n",
       "      <td>NaN</td>\n",
       "      <td>NaN</td>\n",
       "      <td>NaN</td>\n",
       "      <td>NaN</td>\n",
       "      <td>NaN</td>\n",
       "      <td>NaN</td>\n",
       "      <td>ar</td>\n",
       "      <td>NaN</td>\n",
       "      <td>NaN</td>\n",
       "      <td>NaN</td>\n",
       "    </tr>\n",
       "    <tr>\n",
       "      <th>2</th>\n",
       "      <td>7221797935</td>\n",
       "      <td>https://keys.craigslist.org/cto/d/summerland-k...</td>\n",
       "      <td>florida keys</td>\n",
       "      <td>https://keys.craigslist.org</td>\n",
       "      <td>21000</td>\n",
       "      <td>NaN</td>\n",
       "      <td>NaN</td>\n",
       "      <td>NaN</td>\n",
       "      <td>NaN</td>\n",
       "      <td>NaN</td>\n",
       "      <td>...</td>\n",
       "      <td>NaN</td>\n",
       "      <td>NaN</td>\n",
       "      <td>NaN</td>\n",
       "      <td>NaN</td>\n",
       "      <td>NaN</td>\n",
       "      <td>NaN</td>\n",
       "      <td>fl</td>\n",
       "      <td>NaN</td>\n",
       "      <td>NaN</td>\n",
       "      <td>NaN</td>\n",
       "    </tr>\n",
       "    <tr>\n",
       "      <th>3</th>\n",
       "      <td>7222270760</td>\n",
       "      <td>https://worcester.craigslist.org/cto/d/west-br...</td>\n",
       "      <td>worcester / central MA</td>\n",
       "      <td>https://worcester.craigslist.org</td>\n",
       "      <td>1500</td>\n",
       "      <td>NaN</td>\n",
       "      <td>NaN</td>\n",
       "      <td>NaN</td>\n",
       "      <td>NaN</td>\n",
       "      <td>NaN</td>\n",
       "      <td>...</td>\n",
       "      <td>NaN</td>\n",
       "      <td>NaN</td>\n",
       "      <td>NaN</td>\n",
       "      <td>NaN</td>\n",
       "      <td>NaN</td>\n",
       "      <td>NaN</td>\n",
       "      <td>ma</td>\n",
       "      <td>NaN</td>\n",
       "      <td>NaN</td>\n",
       "      <td>NaN</td>\n",
       "    </tr>\n",
       "    <tr>\n",
       "      <th>4</th>\n",
       "      <td>7210384030</td>\n",
       "      <td>https://greensboro.craigslist.org/cto/d/trinit...</td>\n",
       "      <td>greensboro</td>\n",
       "      <td>https://greensboro.craigslist.org</td>\n",
       "      <td>4900</td>\n",
       "      <td>NaN</td>\n",
       "      <td>NaN</td>\n",
       "      <td>NaN</td>\n",
       "      <td>NaN</td>\n",
       "      <td>NaN</td>\n",
       "      <td>...</td>\n",
       "      <td>NaN</td>\n",
       "      <td>NaN</td>\n",
       "      <td>NaN</td>\n",
       "      <td>NaN</td>\n",
       "      <td>NaN</td>\n",
       "      <td>NaN</td>\n",
       "      <td>nc</td>\n",
       "      <td>NaN</td>\n",
       "      <td>NaN</td>\n",
       "      <td>NaN</td>\n",
       "    </tr>\n",
       "    <tr>\n",
       "      <th>...</th>\n",
       "      <td>...</td>\n",
       "      <td>...</td>\n",
       "      <td>...</td>\n",
       "      <td>...</td>\n",
       "      <td>...</td>\n",
       "      <td>...</td>\n",
       "      <td>...</td>\n",
       "      <td>...</td>\n",
       "      <td>...</td>\n",
       "      <td>...</td>\n",
       "      <td>...</td>\n",
       "      <td>...</td>\n",
       "      <td>...</td>\n",
       "      <td>...</td>\n",
       "      <td>...</td>\n",
       "      <td>...</td>\n",
       "      <td>...</td>\n",
       "      <td>...</td>\n",
       "      <td>...</td>\n",
       "      <td>...</td>\n",
       "      <td>...</td>\n",
       "    </tr>\n",
       "    <tr>\n",
       "      <th>426875</th>\n",
       "      <td>7301591192</td>\n",
       "      <td>https://wyoming.craigslist.org/ctd/d/atlanta-2...</td>\n",
       "      <td>wyoming</td>\n",
       "      <td>https://wyoming.craigslist.org</td>\n",
       "      <td>23590</td>\n",
       "      <td>2019.0</td>\n",
       "      <td>nissan</td>\n",
       "      <td>maxima s sedan 4d</td>\n",
       "      <td>good</td>\n",
       "      <td>6 cylinders</td>\n",
       "      <td>...</td>\n",
       "      <td>NaN</td>\n",
       "      <td>sedan</td>\n",
       "      <td>NaN</td>\n",
       "      <td>https://images.craigslist.org/00o0o_iiraFnHg8q...</td>\n",
       "      <td>Carvana is the safer way to buy a car During t...</td>\n",
       "      <td>NaN</td>\n",
       "      <td>wy</td>\n",
       "      <td>33.786500</td>\n",
       "      <td>-84.445400</td>\n",
       "      <td>2021-04-04T03:21:31-0600</td>\n",
       "    </tr>\n",
       "    <tr>\n",
       "      <th>426876</th>\n",
       "      <td>7301591187</td>\n",
       "      <td>https://wyoming.craigslist.org/ctd/d/atlanta-2...</td>\n",
       "      <td>wyoming</td>\n",
       "      <td>https://wyoming.craigslist.org</td>\n",
       "      <td>30590</td>\n",
       "      <td>2020.0</td>\n",
       "      <td>volvo</td>\n",
       "      <td>s60 t5 momentum sedan 4d</td>\n",
       "      <td>good</td>\n",
       "      <td>NaN</td>\n",
       "      <td>...</td>\n",
       "      <td>NaN</td>\n",
       "      <td>sedan</td>\n",
       "      <td>red</td>\n",
       "      <td>https://images.craigslist.org/00x0x_15sbgnxCIS...</td>\n",
       "      <td>Carvana is the safer way to buy a car During t...</td>\n",
       "      <td>NaN</td>\n",
       "      <td>wy</td>\n",
       "      <td>33.786500</td>\n",
       "      <td>-84.445400</td>\n",
       "      <td>2021-04-04T03:21:29-0600</td>\n",
       "    </tr>\n",
       "    <tr>\n",
       "      <th>426877</th>\n",
       "      <td>7301591147</td>\n",
       "      <td>https://wyoming.craigslist.org/ctd/d/atlanta-2...</td>\n",
       "      <td>wyoming</td>\n",
       "      <td>https://wyoming.craigslist.org</td>\n",
       "      <td>34990</td>\n",
       "      <td>2020.0</td>\n",
       "      <td>cadillac</td>\n",
       "      <td>xt4 sport suv 4d</td>\n",
       "      <td>good</td>\n",
       "      <td>NaN</td>\n",
       "      <td>...</td>\n",
       "      <td>NaN</td>\n",
       "      <td>hatchback</td>\n",
       "      <td>white</td>\n",
       "      <td>https://images.craigslist.org/00L0L_farM7bxnxR...</td>\n",
       "      <td>Carvana is the safer way to buy a car During t...</td>\n",
       "      <td>NaN</td>\n",
       "      <td>wy</td>\n",
       "      <td>33.779214</td>\n",
       "      <td>-84.411811</td>\n",
       "      <td>2021-04-04T03:21:17-0600</td>\n",
       "    </tr>\n",
       "    <tr>\n",
       "      <th>426878</th>\n",
       "      <td>7301591140</td>\n",
       "      <td>https://wyoming.craigslist.org/ctd/d/atlanta-2...</td>\n",
       "      <td>wyoming</td>\n",
       "      <td>https://wyoming.craigslist.org</td>\n",
       "      <td>28990</td>\n",
       "      <td>2018.0</td>\n",
       "      <td>lexus</td>\n",
       "      <td>es 350 sedan 4d</td>\n",
       "      <td>good</td>\n",
       "      <td>6 cylinders</td>\n",
       "      <td>...</td>\n",
       "      <td>NaN</td>\n",
       "      <td>sedan</td>\n",
       "      <td>silver</td>\n",
       "      <td>https://images.craigslist.org/00z0z_bKnIVGLkDT...</td>\n",
       "      <td>Carvana is the safer way to buy a car During t...</td>\n",
       "      <td>NaN</td>\n",
       "      <td>wy</td>\n",
       "      <td>33.786500</td>\n",
       "      <td>-84.445400</td>\n",
       "      <td>2021-04-04T03:21:11-0600</td>\n",
       "    </tr>\n",
       "    <tr>\n",
       "      <th>426879</th>\n",
       "      <td>7301591129</td>\n",
       "      <td>https://wyoming.craigslist.org/ctd/d/atlanta-2...</td>\n",
       "      <td>wyoming</td>\n",
       "      <td>https://wyoming.craigslist.org</td>\n",
       "      <td>30590</td>\n",
       "      <td>2019.0</td>\n",
       "      <td>bmw</td>\n",
       "      <td>4 series 430i gran coupe</td>\n",
       "      <td>good</td>\n",
       "      <td>NaN</td>\n",
       "      <td>...</td>\n",
       "      <td>NaN</td>\n",
       "      <td>coupe</td>\n",
       "      <td>NaN</td>\n",
       "      <td>https://images.craigslist.org/00Y0Y_lEUocjyRxa...</td>\n",
       "      <td>Carvana is the safer way to buy a car During t...</td>\n",
       "      <td>NaN</td>\n",
       "      <td>wy</td>\n",
       "      <td>33.779214</td>\n",
       "      <td>-84.411811</td>\n",
       "      <td>2021-04-04T03:21:07-0600</td>\n",
       "    </tr>\n",
       "  </tbody>\n",
       "</table>\n",
       "<p>426880 rows × 26 columns</p>\n",
       "</div>"
      ],
      "text/plain": [
       "                id                                                url  \\\n",
       "0       7222695916  https://prescott.craigslist.org/cto/d/prescott...   \n",
       "1       7218891961  https://fayar.craigslist.org/ctd/d/bentonville...   \n",
       "2       7221797935  https://keys.craigslist.org/cto/d/summerland-k...   \n",
       "3       7222270760  https://worcester.craigslist.org/cto/d/west-br...   \n",
       "4       7210384030  https://greensboro.craigslist.org/cto/d/trinit...   \n",
       "...            ...                                                ...   \n",
       "426875  7301591192  https://wyoming.craigslist.org/ctd/d/atlanta-2...   \n",
       "426876  7301591187  https://wyoming.craigslist.org/ctd/d/atlanta-2...   \n",
       "426877  7301591147  https://wyoming.craigslist.org/ctd/d/atlanta-2...   \n",
       "426878  7301591140  https://wyoming.craigslist.org/ctd/d/atlanta-2...   \n",
       "426879  7301591129  https://wyoming.craigslist.org/ctd/d/atlanta-2...   \n",
       "\n",
       "                        region                         region_url  price  \\\n",
       "0                     prescott    https://prescott.craigslist.org   6000   \n",
       "1                 fayetteville       https://fayar.craigslist.org  11900   \n",
       "2                 florida keys        https://keys.craigslist.org  21000   \n",
       "3       worcester / central MA   https://worcester.craigslist.org   1500   \n",
       "4                   greensboro  https://greensboro.craigslist.org   4900   \n",
       "...                        ...                                ...    ...   \n",
       "426875                 wyoming     https://wyoming.craigslist.org  23590   \n",
       "426876                 wyoming     https://wyoming.craigslist.org  30590   \n",
       "426877                 wyoming     https://wyoming.craigslist.org  34990   \n",
       "426878                 wyoming     https://wyoming.craigslist.org  28990   \n",
       "426879                 wyoming     https://wyoming.craigslist.org  30590   \n",
       "\n",
       "          year manufacturer                     model condition    cylinders  \\\n",
       "0          NaN          NaN                       NaN       NaN          NaN   \n",
       "1          NaN          NaN                       NaN       NaN          NaN   \n",
       "2          NaN          NaN                       NaN       NaN          NaN   \n",
       "3          NaN          NaN                       NaN       NaN          NaN   \n",
       "4          NaN          NaN                       NaN       NaN          NaN   \n",
       "...        ...          ...                       ...       ...          ...   \n",
       "426875  2019.0       nissan         maxima s sedan 4d      good  6 cylinders   \n",
       "426876  2020.0        volvo  s60 t5 momentum sedan 4d      good          NaN   \n",
       "426877  2020.0     cadillac          xt4 sport suv 4d      good          NaN   \n",
       "426878  2018.0        lexus           es 350 sedan 4d      good  6 cylinders   \n",
       "426879  2019.0          bmw  4 series 430i gran coupe      good          NaN   \n",
       "\n",
       "        ... size       type paint_color  \\\n",
       "0       ...  NaN        NaN         NaN   \n",
       "1       ...  NaN        NaN         NaN   \n",
       "2       ...  NaN        NaN         NaN   \n",
       "3       ...  NaN        NaN         NaN   \n",
       "4       ...  NaN        NaN         NaN   \n",
       "...     ...  ...        ...         ...   \n",
       "426875  ...  NaN      sedan         NaN   \n",
       "426876  ...  NaN      sedan         red   \n",
       "426877  ...  NaN  hatchback       white   \n",
       "426878  ...  NaN      sedan      silver   \n",
       "426879  ...  NaN      coupe         NaN   \n",
       "\n",
       "                                                image_url  \\\n",
       "0                                                     NaN   \n",
       "1                                                     NaN   \n",
       "2                                                     NaN   \n",
       "3                                                     NaN   \n",
       "4                                                     NaN   \n",
       "...                                                   ...   \n",
       "426875  https://images.craigslist.org/00o0o_iiraFnHg8q...   \n",
       "426876  https://images.craigslist.org/00x0x_15sbgnxCIS...   \n",
       "426877  https://images.craigslist.org/00L0L_farM7bxnxR...   \n",
       "426878  https://images.craigslist.org/00z0z_bKnIVGLkDT...   \n",
       "426879  https://images.craigslist.org/00Y0Y_lEUocjyRxa...   \n",
       "\n",
       "                                              description county state  \\\n",
       "0                                                     NaN    NaN    az   \n",
       "1                                                     NaN    NaN    ar   \n",
       "2                                                     NaN    NaN    fl   \n",
       "3                                                     NaN    NaN    ma   \n",
       "4                                                     NaN    NaN    nc   \n",
       "...                                                   ...    ...   ...   \n",
       "426875  Carvana is the safer way to buy a car During t...    NaN    wy   \n",
       "426876  Carvana is the safer way to buy a car During t...    NaN    wy   \n",
       "426877  Carvana is the safer way to buy a car During t...    NaN    wy   \n",
       "426878  Carvana is the safer way to buy a car During t...    NaN    wy   \n",
       "426879  Carvana is the safer way to buy a car During t...    NaN    wy   \n",
       "\n",
       "              lat       long              posting_date  \n",
       "0             NaN        NaN                       NaN  \n",
       "1             NaN        NaN                       NaN  \n",
       "2             NaN        NaN                       NaN  \n",
       "3             NaN        NaN                       NaN  \n",
       "4             NaN        NaN                       NaN  \n",
       "...           ...        ...                       ...  \n",
       "426875  33.786500 -84.445400  2021-04-04T03:21:31-0600  \n",
       "426876  33.786500 -84.445400  2021-04-04T03:21:29-0600  \n",
       "426877  33.779214 -84.411811  2021-04-04T03:21:17-0600  \n",
       "426878  33.786500 -84.445400  2021-04-04T03:21:11-0600  \n",
       "426879  33.779214 -84.411811  2021-04-04T03:21:07-0600  \n",
       "\n",
       "[426880 rows x 26 columns]"
      ]
     },
     "execution_count": 2,
     "metadata": {},
     "output_type": "execute_result"
    }
   ],
   "source": [
    "df=pd.read_csv(\"vehicles.csv\") \n",
    "df"
   ]
  },
  {
   "cell_type": "code",
   "execution_count": 3,
   "id": "0a3cb94b",
   "metadata": {},
   "outputs": [
    {
     "name": "stdout",
     "output_type": "stream",
     "text": [
      "<class 'pandas.core.frame.DataFrame'>\n",
      "RangeIndex: 426880 entries, 0 to 426879\n",
      "Data columns (total 26 columns):\n",
      " #   Column        Non-Null Count   Dtype  \n",
      "---  ------        --------------   -----  \n",
      " 0   id            426880 non-null  int64  \n",
      " 1   url           426880 non-null  object \n",
      " 2   region        426880 non-null  object \n",
      " 3   region_url    426880 non-null  object \n",
      " 4   price         426880 non-null  int64  \n",
      " 5   year          425675 non-null  float64\n",
      " 6   manufacturer  409234 non-null  object \n",
      " 7   model         421603 non-null  object \n",
      " 8   condition     252776 non-null  object \n",
      " 9   cylinders     249202 non-null  object \n",
      " 10  fuel          423867 non-null  object \n",
      " 11  odometer      422480 non-null  float64\n",
      " 12  title_status  418638 non-null  object \n",
      " 13  transmission  424324 non-null  object \n",
      " 14  VIN           265838 non-null  object \n",
      " 15  drive         296313 non-null  object \n",
      " 16  size          120519 non-null  object \n",
      " 17  type          334022 non-null  object \n",
      " 18  paint_color   296677 non-null  object \n",
      " 19  image_url     426812 non-null  object \n",
      " 20  description   426810 non-null  object \n",
      " 21  county        0 non-null       float64\n",
      " 22  state         426880 non-null  object \n",
      " 23  lat           420331 non-null  float64\n",
      " 24  long          420331 non-null  float64\n",
      " 25  posting_date  426812 non-null  object \n",
      "dtypes: float64(5), int64(2), object(19)\n",
      "memory usage: 84.7+ MB\n"
     ]
    }
   ],
   "source": [
    "df.info()"
   ]
  },
  {
   "cell_type": "code",
   "execution_count": 4,
   "id": "444699b7",
   "metadata": {},
   "outputs": [
    {
     "data": {
      "text/html": [
       "<div>\n",
       "<style scoped>\n",
       "    .dataframe tbody tr th:only-of-type {\n",
       "        vertical-align: middle;\n",
       "    }\n",
       "\n",
       "    .dataframe tbody tr th {\n",
       "        vertical-align: top;\n",
       "    }\n",
       "\n",
       "    .dataframe thead th {\n",
       "        text-align: right;\n",
       "    }\n",
       "</style>\n",
       "<table border=\"1\" class=\"dataframe\">\n",
       "  <thead>\n",
       "    <tr style=\"text-align: right;\">\n",
       "      <th></th>\n",
       "      <th>id</th>\n",
       "      <th>url</th>\n",
       "      <th>region</th>\n",
       "      <th>region_url</th>\n",
       "      <th>price</th>\n",
       "      <th>year</th>\n",
       "      <th>manufacturer</th>\n",
       "      <th>model</th>\n",
       "      <th>condition</th>\n",
       "      <th>cylinders</th>\n",
       "      <th>...</th>\n",
       "      <th>size</th>\n",
       "      <th>type</th>\n",
       "      <th>paint_color</th>\n",
       "      <th>image_url</th>\n",
       "      <th>description</th>\n",
       "      <th>county</th>\n",
       "      <th>state</th>\n",
       "      <th>lat</th>\n",
       "      <th>long</th>\n",
       "      <th>posting_date</th>\n",
       "    </tr>\n",
       "  </thead>\n",
       "  <tbody>\n",
       "    <tr>\n",
       "      <th>386556</th>\n",
       "      <td>7310167837</td>\n",
       "      <td>https://stgeorge.craigslist.org/ctd/d/salt-lak...</td>\n",
       "      <td>st george</td>\n",
       "      <td>https://stgeorge.craigslist.org</td>\n",
       "      <td>8550</td>\n",
       "      <td>2013.0</td>\n",
       "      <td>toyota</td>\n",
       "      <td>sienna</td>\n",
       "      <td>NaN</td>\n",
       "      <td>6 cylinders</td>\n",
       "      <td>...</td>\n",
       "      <td>NaN</td>\n",
       "      <td>van</td>\n",
       "      <td>silver</td>\n",
       "      <td>https://images.craigslist.org/00r0r_gjqHwSh3WB...</td>\n",
       "      <td>Engine: 6 Cylinders Transmission: Automatic Ti...</td>\n",
       "      <td>NaN</td>\n",
       "      <td>ut</td>\n",
       "      <td>40.746636</td>\n",
       "      <td>-111.939633</td>\n",
       "      <td>2021-04-20T20:28:56-0600</td>\n",
       "    </tr>\n",
       "    <tr>\n",
       "      <th>48650</th>\n",
       "      <td>7316539496</td>\n",
       "      <td>https://reno.craigslist.org/ctd/d/sacramento-2...</td>\n",
       "      <td>reno / tahoe</td>\n",
       "      <td>https://reno.craigslist.org</td>\n",
       "      <td>0</td>\n",
       "      <td>2015.0</td>\n",
       "      <td>ford</td>\n",
       "      <td>f-550 f550 f 550</td>\n",
       "      <td>excellent</td>\n",
       "      <td>10 cylinders</td>\n",
       "      <td>...</td>\n",
       "      <td>full-size</td>\n",
       "      <td>truck</td>\n",
       "      <td>white</td>\n",
       "      <td>https://images.craigslist.org/00909_99KdbM2Z2e...</td>\n",
       "      <td>MONTHLY PUBLIC AUCTION SATURDAY – MAY 8th, 202...</td>\n",
       "      <td>NaN</td>\n",
       "      <td>ca</td>\n",
       "      <td>38.553900</td>\n",
       "      <td>-121.369300</td>\n",
       "      <td>2021-05-03T18:00:45-0700</td>\n",
       "    </tr>\n",
       "    <tr>\n",
       "      <th>373265</th>\n",
       "      <td>7304670264</td>\n",
       "      <td>https://elpaso.craigslist.org/ctd/d/el-paso-19...</td>\n",
       "      <td>el paso</td>\n",
       "      <td>https://elpaso.craigslist.org</td>\n",
       "      <td>8800</td>\n",
       "      <td>1999.0</td>\n",
       "      <td>chevrolet</td>\n",
       "      <td>corvette</td>\n",
       "      <td>NaN</td>\n",
       "      <td>NaN</td>\n",
       "      <td>...</td>\n",
       "      <td>NaN</td>\n",
       "      <td>coupe</td>\n",
       "      <td>silver</td>\n",
       "      <td>https://images.craigslist.org/00A0A_3vakBK4mjQ...</td>\n",
       "      <td>1999 Chevrolet, Chevy Corvette Hardtop ☎ 915-2...</td>\n",
       "      <td>NaN</td>\n",
       "      <td>tx</td>\n",
       "      <td>31.810800</td>\n",
       "      <td>-106.240000</td>\n",
       "      <td>2021-04-10T09:05:37-0600</td>\n",
       "    </tr>\n",
       "    <tr>\n",
       "      <th>135832</th>\n",
       "      <td>7316937484</td>\n",
       "      <td>https://spokane.craigslist.org/ctd/d/coeur-ale...</td>\n",
       "      <td>spokane / coeur d'alene</td>\n",
       "      <td>https://spokane.craigslist.org</td>\n",
       "      <td>5277</td>\n",
       "      <td>2007.0</td>\n",
       "      <td>subaru</td>\n",
       "      <td>outback 2.5i limited</td>\n",
       "      <td>like new</td>\n",
       "      <td>4 cylinders</td>\n",
       "      <td>...</td>\n",
       "      <td>mid-size</td>\n",
       "      <td>wagon</td>\n",
       "      <td>custom</td>\n",
       "      <td>https://images.craigslist.org/00c0c_eiSpRTtgn0...</td>\n",
       "      <td>2007 Subaru Outback when's and drives perfect ...</td>\n",
       "      <td>NaN</td>\n",
       "      <td>id</td>\n",
       "      <td>47.681600</td>\n",
       "      <td>-116.756900</td>\n",
       "      <td>2021-05-04T13:54:05-0700</td>\n",
       "    </tr>\n",
       "    <tr>\n",
       "      <th>421385</th>\n",
       "      <td>7306708288</td>\n",
       "      <td>https://madison.craigslist.org/ctd/d/madison-2...</td>\n",
       "      <td>madison</td>\n",
       "      <td>https://madison.craigslist.org</td>\n",
       "      <td>34590</td>\n",
       "      <td>2018.0</td>\n",
       "      <td>dodge</td>\n",
       "      <td>durango gt sport utility</td>\n",
       "      <td>good</td>\n",
       "      <td>6 cylinders</td>\n",
       "      <td>...</td>\n",
       "      <td>NaN</td>\n",
       "      <td>SUV</td>\n",
       "      <td>blue</td>\n",
       "      <td>https://images.craigslist.org/00N0N_1xMPvfxRAI...</td>\n",
       "      <td>Carvana is the safer way to buy a car During t...</td>\n",
       "      <td>NaN</td>\n",
       "      <td>wi</td>\n",
       "      <td>43.070000</td>\n",
       "      <td>-89.380000</td>\n",
       "      <td>2021-04-14T11:11:00-0500</td>\n",
       "    </tr>\n",
       "    <tr>\n",
       "      <th>191837</th>\n",
       "      <td>7316270083</td>\n",
       "      <td>https://worcester.craigslist.org/ctd/d/rochdal...</td>\n",
       "      <td>worcester / central MA</td>\n",
       "      <td>https://worcester.craigslist.org</td>\n",
       "      <td>7900</td>\n",
       "      <td>2006.0</td>\n",
       "      <td>toyota</td>\n",
       "      <td>rav4 limited</td>\n",
       "      <td>excellent</td>\n",
       "      <td>4 cylinders</td>\n",
       "      <td>...</td>\n",
       "      <td>mid-size</td>\n",
       "      <td>SUV</td>\n",
       "      <td>brown</td>\n",
       "      <td>https://images.craigslist.org/01010_jxcC14bmMD...</td>\n",
       "      <td>Nice 4WD Toyota RAV4 with 101k miles. It is a ...</td>\n",
       "      <td>NaN</td>\n",
       "      <td>ma</td>\n",
       "      <td>42.199700</td>\n",
       "      <td>-71.906900</td>\n",
       "      <td>2021-05-03T12:49:34-0400</td>\n",
       "    </tr>\n",
       "    <tr>\n",
       "      <th>126048</th>\n",
       "      <td>7304217087</td>\n",
       "      <td>https://macon.craigslist.org/ctd/d/macon-2019-...</td>\n",
       "      <td>macon / warner robins</td>\n",
       "      <td>https://macon.craigslist.org</td>\n",
       "      <td>25590</td>\n",
       "      <td>2019.0</td>\n",
       "      <td>gmc</td>\n",
       "      <td>acadia sle-1 sport utility</td>\n",
       "      <td>good</td>\n",
       "      <td>NaN</td>\n",
       "      <td>...</td>\n",
       "      <td>NaN</td>\n",
       "      <td>SUV</td>\n",
       "      <td>black</td>\n",
       "      <td>https://images.craigslist.org/00l0l_2gNZhcpqfn...</td>\n",
       "      <td>Carvana is the safer way to buy a car During t...</td>\n",
       "      <td>NaN</td>\n",
       "      <td>ga</td>\n",
       "      <td>32.809500</td>\n",
       "      <td>-83.616800</td>\n",
       "      <td>2021-04-09T12:41:18-0400</td>\n",
       "    </tr>\n",
       "    <tr>\n",
       "      <th>49936</th>\n",
       "      <td>7313235399</td>\n",
       "      <td>https://reno.craigslist.org/ctd/d/atlanta-2015...</td>\n",
       "      <td>reno / tahoe</td>\n",
       "      <td>https://reno.craigslist.org</td>\n",
       "      <td>17990</td>\n",
       "      <td>2015.0</td>\n",
       "      <td>volkswagen</td>\n",
       "      <td>golf tdi sel</td>\n",
       "      <td>good</td>\n",
       "      <td>NaN</td>\n",
       "      <td>...</td>\n",
       "      <td>NaN</td>\n",
       "      <td>sedan</td>\n",
       "      <td>white</td>\n",
       "      <td>https://images.craigslist.org/00000_KNY0kE0TqA...</td>\n",
       "      <td>Carvana is the safer way to buy a car During t...</td>\n",
       "      <td>NaN</td>\n",
       "      <td>ca</td>\n",
       "      <td>33.779214</td>\n",
       "      <td>-84.411811</td>\n",
       "      <td>2021-04-27T04:21:07-0700</td>\n",
       "    </tr>\n",
       "    <tr>\n",
       "      <th>221323</th>\n",
       "      <td>7310333889</td>\n",
       "      <td>https://semo.craigslist.org/ctd/d/park-hills-2...</td>\n",
       "      <td>southeast missouri</td>\n",
       "      <td>https://semo.craigslist.org</td>\n",
       "      <td>29977</td>\n",
       "      <td>2000.0</td>\n",
       "      <td>chevrolet</td>\n",
       "      <td>corvette</td>\n",
       "      <td>NaN</td>\n",
       "      <td>8 cylinders</td>\n",
       "      <td>...</td>\n",
       "      <td>NaN</td>\n",
       "      <td>coupe</td>\n",
       "      <td>silver</td>\n",
       "      <td>https://images.craigslist.org/00p0p_gJP2rR3R6Q...</td>\n",
       "      <td>CarSmart of FarmingtonAsk for: Call Or Text☎ (...</td>\n",
       "      <td>NaN</td>\n",
       "      <td>mo</td>\n",
       "      <td>37.820812</td>\n",
       "      <td>-90.457720</td>\n",
       "      <td>2021-04-21T10:13:18-0500</td>\n",
       "    </tr>\n",
       "    <tr>\n",
       "      <th>171159</th>\n",
       "      <td>7316005187</td>\n",
       "      <td>https://lexington.craigslist.org/cto/d/berea-2...</td>\n",
       "      <td>lexington</td>\n",
       "      <td>https://lexington.craigslist.org</td>\n",
       "      <td>8900</td>\n",
       "      <td>2010.0</td>\n",
       "      <td>toyota</td>\n",
       "      <td>rav4</td>\n",
       "      <td>NaN</td>\n",
       "      <td>4 cylinders</td>\n",
       "      <td>...</td>\n",
       "      <td>NaN</td>\n",
       "      <td>NaN</td>\n",
       "      <td>white</td>\n",
       "      <td>https://images.craigslist.org/00P0P_kme70OkdfY...</td>\n",
       "      <td>2010 Toyota RAV4 limited 2.5L 4cyl auto, leath...</td>\n",
       "      <td>NaN</td>\n",
       "      <td>ky</td>\n",
       "      <td>37.601746</td>\n",
       "      <td>-84.301924</td>\n",
       "      <td>2021-05-02T20:10:24-0400</td>\n",
       "    </tr>\n",
       "  </tbody>\n",
       "</table>\n",
       "<p>10 rows × 26 columns</p>\n",
       "</div>"
      ],
      "text/plain": [
       "                id                                                url  \\\n",
       "386556  7310167837  https://stgeorge.craigslist.org/ctd/d/salt-lak...   \n",
       "48650   7316539496  https://reno.craigslist.org/ctd/d/sacramento-2...   \n",
       "373265  7304670264  https://elpaso.craigslist.org/ctd/d/el-paso-19...   \n",
       "135832  7316937484  https://spokane.craigslist.org/ctd/d/coeur-ale...   \n",
       "421385  7306708288  https://madison.craigslist.org/ctd/d/madison-2...   \n",
       "191837  7316270083  https://worcester.craigslist.org/ctd/d/rochdal...   \n",
       "126048  7304217087  https://macon.craigslist.org/ctd/d/macon-2019-...   \n",
       "49936   7313235399  https://reno.craigslist.org/ctd/d/atlanta-2015...   \n",
       "221323  7310333889  https://semo.craigslist.org/ctd/d/park-hills-2...   \n",
       "171159  7316005187  https://lexington.craigslist.org/cto/d/berea-2...   \n",
       "\n",
       "                         region                        region_url  price  \\\n",
       "386556                st george   https://stgeorge.craigslist.org   8550   \n",
       "48650              reno / tahoe       https://reno.craigslist.org      0   \n",
       "373265                  el paso     https://elpaso.craigslist.org   8800   \n",
       "135832  spokane / coeur d'alene    https://spokane.craigslist.org   5277   \n",
       "421385                  madison    https://madison.craigslist.org  34590   \n",
       "191837   worcester / central MA  https://worcester.craigslist.org   7900   \n",
       "126048    macon / warner robins      https://macon.craigslist.org  25590   \n",
       "49936              reno / tahoe       https://reno.craigslist.org  17990   \n",
       "221323       southeast missouri       https://semo.craigslist.org  29977   \n",
       "171159                lexington  https://lexington.craigslist.org   8900   \n",
       "\n",
       "          year manufacturer                       model  condition  \\\n",
       "386556  2013.0       toyota                      sienna        NaN   \n",
       "48650   2015.0         ford            f-550 f550 f 550  excellent   \n",
       "373265  1999.0    chevrolet                    corvette        NaN   \n",
       "135832  2007.0       subaru        outback 2.5i limited   like new   \n",
       "421385  2018.0        dodge    durango gt sport utility       good   \n",
       "191837  2006.0       toyota                rav4 limited  excellent   \n",
       "126048  2019.0          gmc  acadia sle-1 sport utility       good   \n",
       "49936   2015.0   volkswagen                golf tdi sel       good   \n",
       "221323  2000.0    chevrolet                    corvette        NaN   \n",
       "171159  2010.0       toyota                        rav4        NaN   \n",
       "\n",
       "           cylinders  ...       size   type paint_color  \\\n",
       "386556   6 cylinders  ...        NaN    van      silver   \n",
       "48650   10 cylinders  ...  full-size  truck       white   \n",
       "373265           NaN  ...        NaN  coupe      silver   \n",
       "135832   4 cylinders  ...   mid-size  wagon      custom   \n",
       "421385   6 cylinders  ...        NaN    SUV        blue   \n",
       "191837   4 cylinders  ...   mid-size    SUV       brown   \n",
       "126048           NaN  ...        NaN    SUV       black   \n",
       "49936            NaN  ...        NaN  sedan       white   \n",
       "221323   8 cylinders  ...        NaN  coupe      silver   \n",
       "171159   4 cylinders  ...        NaN    NaN       white   \n",
       "\n",
       "                                                image_url  \\\n",
       "386556  https://images.craigslist.org/00r0r_gjqHwSh3WB...   \n",
       "48650   https://images.craigslist.org/00909_99KdbM2Z2e...   \n",
       "373265  https://images.craigslist.org/00A0A_3vakBK4mjQ...   \n",
       "135832  https://images.craigslist.org/00c0c_eiSpRTtgn0...   \n",
       "421385  https://images.craigslist.org/00N0N_1xMPvfxRAI...   \n",
       "191837  https://images.craigslist.org/01010_jxcC14bmMD...   \n",
       "126048  https://images.craigslist.org/00l0l_2gNZhcpqfn...   \n",
       "49936   https://images.craigslist.org/00000_KNY0kE0TqA...   \n",
       "221323  https://images.craigslist.org/00p0p_gJP2rR3R6Q...   \n",
       "171159  https://images.craigslist.org/00P0P_kme70OkdfY...   \n",
       "\n",
       "                                              description county state  \\\n",
       "386556  Engine: 6 Cylinders Transmission: Automatic Ti...    NaN    ut   \n",
       "48650   MONTHLY PUBLIC AUCTION SATURDAY – MAY 8th, 202...    NaN    ca   \n",
       "373265  1999 Chevrolet, Chevy Corvette Hardtop ☎ 915-2...    NaN    tx   \n",
       "135832  2007 Subaru Outback when's and drives perfect ...    NaN    id   \n",
       "421385  Carvana is the safer way to buy a car During t...    NaN    wi   \n",
       "191837  Nice 4WD Toyota RAV4 with 101k miles. It is a ...    NaN    ma   \n",
       "126048  Carvana is the safer way to buy a car During t...    NaN    ga   \n",
       "49936   Carvana is the safer way to buy a car During t...    NaN    ca   \n",
       "221323  CarSmart of FarmingtonAsk for: Call Or Text☎ (...    NaN    mo   \n",
       "171159  2010 Toyota RAV4 limited 2.5L 4cyl auto, leath...    NaN    ky   \n",
       "\n",
       "              lat        long              posting_date  \n",
       "386556  40.746636 -111.939633  2021-04-20T20:28:56-0600  \n",
       "48650   38.553900 -121.369300  2021-05-03T18:00:45-0700  \n",
       "373265  31.810800 -106.240000  2021-04-10T09:05:37-0600  \n",
       "135832  47.681600 -116.756900  2021-05-04T13:54:05-0700  \n",
       "421385  43.070000  -89.380000  2021-04-14T11:11:00-0500  \n",
       "191837  42.199700  -71.906900  2021-05-03T12:49:34-0400  \n",
       "126048  32.809500  -83.616800  2021-04-09T12:41:18-0400  \n",
       "49936   33.779214  -84.411811  2021-04-27T04:21:07-0700  \n",
       "221323  37.820812  -90.457720  2021-04-21T10:13:18-0500  \n",
       "171159  37.601746  -84.301924  2021-05-02T20:10:24-0400  \n",
       "\n",
       "[10 rows x 26 columns]"
      ]
     },
     "execution_count": 4,
     "metadata": {},
     "output_type": "execute_result"
    }
   ],
   "source": [
    "df.sample(10, random_state=100)"
   ]
  },
  {
   "cell_type": "code",
   "execution_count": 5,
   "id": "63e99ac8",
   "metadata": {},
   "outputs": [
    {
     "data": {
      "text/plain": [
       "Index(['id', 'url', 'region', 'region_url', 'price', 'year', 'manufacturer',\n",
       "       'model', 'condition', 'cylinders', 'fuel', 'odometer', 'title_status',\n",
       "       'transmission', 'VIN', 'drive', 'size', 'type', 'paint_color',\n",
       "       'image_url', 'description', 'county', 'state', 'lat', 'long',\n",
       "       'posting_date'],\n",
       "      dtype='object')"
      ]
     },
     "execution_count": 5,
     "metadata": {},
     "output_type": "execute_result"
    }
   ],
   "source": [
    "df.columns"
   ]
  },
  {
   "cell_type": "code",
   "execution_count": 6,
   "id": "4c88ba39",
   "metadata": {},
   "outputs": [
    {
     "data": {
      "text/plain": [
       "(426880, 26)"
      ]
     },
     "execution_count": 6,
     "metadata": {},
     "output_type": "execute_result"
    }
   ],
   "source": [
    "df.shape"
   ]
  },
  {
   "cell_type": "code",
   "execution_count": 7,
   "id": "0a5d674e",
   "metadata": {},
   "outputs": [
    {
     "data": {
      "text/html": [
       "<div>\n",
       "<style scoped>\n",
       "    .dataframe tbody tr th:only-of-type {\n",
       "        vertical-align: middle;\n",
       "    }\n",
       "\n",
       "    .dataframe tbody tr th {\n",
       "        vertical-align: top;\n",
       "    }\n",
       "\n",
       "    .dataframe thead th {\n",
       "        text-align: right;\n",
       "    }\n",
       "</style>\n",
       "<table border=\"1\" class=\"dataframe\">\n",
       "  <thead>\n",
       "    <tr style=\"text-align: right;\">\n",
       "      <th></th>\n",
       "      <th>id</th>\n",
       "      <th>price</th>\n",
       "      <th>year</th>\n",
       "      <th>odometer</th>\n",
       "      <th>county</th>\n",
       "      <th>lat</th>\n",
       "      <th>long</th>\n",
       "    </tr>\n",
       "  </thead>\n",
       "  <tbody>\n",
       "    <tr>\n",
       "      <th>count</th>\n",
       "      <td>4.268800e+05</td>\n",
       "      <td>4.268800e+05</td>\n",
       "      <td>425675.000000</td>\n",
       "      <td>4.224800e+05</td>\n",
       "      <td>0.0</td>\n",
       "      <td>420331.000000</td>\n",
       "      <td>420331.000000</td>\n",
       "    </tr>\n",
       "    <tr>\n",
       "      <th>mean</th>\n",
       "      <td>7.311487e+09</td>\n",
       "      <td>7.519903e+04</td>\n",
       "      <td>2011.235191</td>\n",
       "      <td>9.804333e+04</td>\n",
       "      <td>NaN</td>\n",
       "      <td>38.493940</td>\n",
       "      <td>-94.748599</td>\n",
       "    </tr>\n",
       "    <tr>\n",
       "      <th>std</th>\n",
       "      <td>4.473170e+06</td>\n",
       "      <td>1.218228e+07</td>\n",
       "      <td>9.452120</td>\n",
       "      <td>2.138815e+05</td>\n",
       "      <td>NaN</td>\n",
       "      <td>5.841533</td>\n",
       "      <td>18.365462</td>\n",
       "    </tr>\n",
       "    <tr>\n",
       "      <th>min</th>\n",
       "      <td>7.207408e+09</td>\n",
       "      <td>0.000000e+00</td>\n",
       "      <td>1900.000000</td>\n",
       "      <td>0.000000e+00</td>\n",
       "      <td>NaN</td>\n",
       "      <td>-84.122245</td>\n",
       "      <td>-159.827728</td>\n",
       "    </tr>\n",
       "    <tr>\n",
       "      <th>25%</th>\n",
       "      <td>7.308143e+09</td>\n",
       "      <td>5.900000e+03</td>\n",
       "      <td>2008.000000</td>\n",
       "      <td>3.770400e+04</td>\n",
       "      <td>NaN</td>\n",
       "      <td>34.601900</td>\n",
       "      <td>-111.939847</td>\n",
       "    </tr>\n",
       "    <tr>\n",
       "      <th>50%</th>\n",
       "      <td>7.312621e+09</td>\n",
       "      <td>1.395000e+04</td>\n",
       "      <td>2013.000000</td>\n",
       "      <td>8.554800e+04</td>\n",
       "      <td>NaN</td>\n",
       "      <td>39.150100</td>\n",
       "      <td>-88.432600</td>\n",
       "    </tr>\n",
       "    <tr>\n",
       "      <th>75%</th>\n",
       "      <td>7.315254e+09</td>\n",
       "      <td>2.648575e+04</td>\n",
       "      <td>2017.000000</td>\n",
       "      <td>1.335425e+05</td>\n",
       "      <td>NaN</td>\n",
       "      <td>42.398900</td>\n",
       "      <td>-80.832039</td>\n",
       "    </tr>\n",
       "    <tr>\n",
       "      <th>max</th>\n",
       "      <td>7.317101e+09</td>\n",
       "      <td>3.736929e+09</td>\n",
       "      <td>2022.000000</td>\n",
       "      <td>1.000000e+07</td>\n",
       "      <td>NaN</td>\n",
       "      <td>82.390818</td>\n",
       "      <td>173.885502</td>\n",
       "    </tr>\n",
       "  </tbody>\n",
       "</table>\n",
       "</div>"
      ],
      "text/plain": [
       "                 id         price           year      odometer  county  \\\n",
       "count  4.268800e+05  4.268800e+05  425675.000000  4.224800e+05     0.0   \n",
       "mean   7.311487e+09  7.519903e+04    2011.235191  9.804333e+04     NaN   \n",
       "std    4.473170e+06  1.218228e+07       9.452120  2.138815e+05     NaN   \n",
       "min    7.207408e+09  0.000000e+00    1900.000000  0.000000e+00     NaN   \n",
       "25%    7.308143e+09  5.900000e+03    2008.000000  3.770400e+04     NaN   \n",
       "50%    7.312621e+09  1.395000e+04    2013.000000  8.554800e+04     NaN   \n",
       "75%    7.315254e+09  2.648575e+04    2017.000000  1.335425e+05     NaN   \n",
       "max    7.317101e+09  3.736929e+09    2022.000000  1.000000e+07     NaN   \n",
       "\n",
       "                 lat           long  \n",
       "count  420331.000000  420331.000000  \n",
       "mean       38.493940     -94.748599  \n",
       "std         5.841533      18.365462  \n",
       "min       -84.122245    -159.827728  \n",
       "25%        34.601900    -111.939847  \n",
       "50%        39.150100     -88.432600  \n",
       "75%        42.398900     -80.832039  \n",
       "max        82.390818     173.885502  "
      ]
     },
     "execution_count": 7,
     "metadata": {},
     "output_type": "execute_result"
    }
   ],
   "source": [
    "df.describe()\n"
   ]
  },
  {
   "cell_type": "code",
   "execution_count": 8,
   "id": "c633350a",
   "metadata": {},
   "outputs": [
    {
     "data": {
      "text/plain": [
       "array([  nan, 2014., 2010., 2020., 2017., 2013., 2012., 2016., 2019.,\n",
       "       2011., 1992., 2018., 2004., 2015., 2001., 2006., 1968., 2003.,\n",
       "       2008., 2007., 2005., 1966., 2009., 1998., 2002., 1999., 2021.,\n",
       "       1997., 1976., 1969., 1995., 1978., 1954., 1979., 1970., 1974.,\n",
       "       1996., 1987., 2000., 1955., 1960., 1991., 1972., 1988., 1994.,\n",
       "       1929., 1984., 1986., 1989., 1973., 1946., 1933., 1958., 1937.,\n",
       "       1985., 1957., 1953., 1942., 1963., 1977., 1993., 1903., 1990.,\n",
       "       1965., 1982., 1948., 1983., 1936., 1932., 1951., 1931., 1980.,\n",
       "       1967., 1971., 1947., 1981., 1926., 1962., 1975., 1964., 1934.,\n",
       "       1952., 1940., 1959., 1950., 1930., 1956., 1922., 1928., 2022.,\n",
       "       1901., 1941., 1924., 1927., 1939., 1923., 1949., 1961., 1935.,\n",
       "       1918., 1900., 1938., 1913., 1916., 1943., 1925., 1921., 1915.,\n",
       "       1945., 1902., 1905., 1920., 1944., 1910., 1909.])"
      ]
     },
     "execution_count": 8,
     "metadata": {},
     "output_type": "execute_result"
    }
   ],
   "source": [
    "df.year.unique()"
   ]
  },
  {
   "cell_type": "code",
   "execution_count": 9,
   "id": "7a2bf902",
   "metadata": {},
   "outputs": [
    {
     "data": {
      "text/plain": [
       "array([nan, 'gmc', 'chevrolet', 'toyota', 'ford', 'jeep', 'nissan', 'ram',\n",
       "       'mazda', 'cadillac', 'honda', 'dodge', 'lexus', 'jaguar', 'buick',\n",
       "       'chrysler', 'volvo', 'audi', 'infiniti', 'lincoln', 'alfa-romeo',\n",
       "       'subaru', 'acura', 'hyundai', 'mercedes-benz', 'bmw', 'mitsubishi',\n",
       "       'volkswagen', 'porsche', 'kia', 'rover', 'ferrari', 'mini',\n",
       "       'pontiac', 'fiat', 'tesla', 'saturn', 'mercury', 'harley-davidson',\n",
       "       'datsun', 'aston-martin', 'land rover', 'morgan'], dtype=object)"
      ]
     },
     "execution_count": 9,
     "metadata": {},
     "output_type": "execute_result"
    }
   ],
   "source": [
    "df.manufacturer.unique()"
   ]
  },
  {
   "cell_type": "code",
   "execution_count": 10,
   "id": "bf047519",
   "metadata": {},
   "outputs": [
    {
     "data": {
      "text/plain": [
       "array([nan, '8 cylinders', '6 cylinders', '4 cylinders', '5 cylinders',\n",
       "       'other', '3 cylinders', '10 cylinders', '12 cylinders'],\n",
       "      dtype=object)"
      ]
     },
     "execution_count": 10,
     "metadata": {},
     "output_type": "execute_result"
    }
   ],
   "source": [
    "df.cylinders.unique()"
   ]
  },
  {
   "cell_type": "code",
   "execution_count": 11,
   "id": "79272560",
   "metadata": {},
   "outputs": [
    {
     "data": {
      "text/plain": [
       "array([nan, 'white', 'blue', 'red', 'black', 'silver', 'grey', 'brown',\n",
       "       'yellow', 'orange', 'green', 'custom', 'purple'], dtype=object)"
      ]
     },
     "execution_count": 11,
     "metadata": {},
     "output_type": "execute_result"
    }
   ],
   "source": [
    "df.paint_color.unique()"
   ]
  },
  {
   "cell_type": "code",
   "execution_count": 12,
   "id": "b2844410",
   "metadata": {},
   "outputs": [
    {
     "data": {
      "text/html": [
       "<div>\n",
       "<style scoped>\n",
       "    .dataframe tbody tr th:only-of-type {\n",
       "        vertical-align: middle;\n",
       "    }\n",
       "\n",
       "    .dataframe tbody tr th {\n",
       "        vertical-align: top;\n",
       "    }\n",
       "\n",
       "    .dataframe thead th {\n",
       "        text-align: right;\n",
       "    }\n",
       "</style>\n",
       "<table border=\"1\" class=\"dataframe\">\n",
       "  <thead>\n",
       "    <tr style=\"text-align: right;\">\n",
       "      <th></th>\n",
       "      <th>id</th>\n",
       "      <th>price</th>\n",
       "      <th>year</th>\n",
       "      <th>odometer</th>\n",
       "      <th>county</th>\n",
       "      <th>lat</th>\n",
       "      <th>long</th>\n",
       "    </tr>\n",
       "  </thead>\n",
       "  <tbody>\n",
       "    <tr>\n",
       "      <th>id</th>\n",
       "      <td>1.000000</td>\n",
       "      <td>-0.002779</td>\n",
       "      <td>-0.059040</td>\n",
       "      <td>0.010721</td>\n",
       "      <td>NaN</td>\n",
       "      <td>-0.069388</td>\n",
       "      <td>-0.121864</td>\n",
       "    </tr>\n",
       "    <tr>\n",
       "      <th>price</th>\n",
       "      <td>-0.002779</td>\n",
       "      <td>1.000000</td>\n",
       "      <td>-0.004925</td>\n",
       "      <td>0.010032</td>\n",
       "      <td>NaN</td>\n",
       "      <td>0.000357</td>\n",
       "      <td>-0.000408</td>\n",
       "    </tr>\n",
       "    <tr>\n",
       "      <th>year</th>\n",
       "      <td>-0.059040</td>\n",
       "      <td>-0.004925</td>\n",
       "      <td>1.000000</td>\n",
       "      <td>-0.157215</td>\n",
       "      <td>NaN</td>\n",
       "      <td>-0.014677</td>\n",
       "      <td>-0.001410</td>\n",
       "    </tr>\n",
       "    <tr>\n",
       "      <th>odometer</th>\n",
       "      <td>0.010721</td>\n",
       "      <td>0.010032</td>\n",
       "      <td>-0.157215</td>\n",
       "      <td>1.000000</td>\n",
       "      <td>NaN</td>\n",
       "      <td>-0.001459</td>\n",
       "      <td>0.009807</td>\n",
       "    </tr>\n",
       "    <tr>\n",
       "      <th>county</th>\n",
       "      <td>NaN</td>\n",
       "      <td>NaN</td>\n",
       "      <td>NaN</td>\n",
       "      <td>NaN</td>\n",
       "      <td>NaN</td>\n",
       "      <td>NaN</td>\n",
       "      <td>NaN</td>\n",
       "    </tr>\n",
       "    <tr>\n",
       "      <th>lat</th>\n",
       "      <td>-0.069388</td>\n",
       "      <td>0.000357</td>\n",
       "      <td>-0.014677</td>\n",
       "      <td>-0.001459</td>\n",
       "      <td>NaN</td>\n",
       "      <td>1.000000</td>\n",
       "      <td>-0.128088</td>\n",
       "    </tr>\n",
       "    <tr>\n",
       "      <th>long</th>\n",
       "      <td>-0.121864</td>\n",
       "      <td>-0.000408</td>\n",
       "      <td>-0.001410</td>\n",
       "      <td>0.009807</td>\n",
       "      <td>NaN</td>\n",
       "      <td>-0.128088</td>\n",
       "      <td>1.000000</td>\n",
       "    </tr>\n",
       "  </tbody>\n",
       "</table>\n",
       "</div>"
      ],
      "text/plain": [
       "                id     price      year  odometer  county       lat      long\n",
       "id        1.000000 -0.002779 -0.059040  0.010721     NaN -0.069388 -0.121864\n",
       "price    -0.002779  1.000000 -0.004925  0.010032     NaN  0.000357 -0.000408\n",
       "year     -0.059040 -0.004925  1.000000 -0.157215     NaN -0.014677 -0.001410\n",
       "odometer  0.010721  0.010032 -0.157215  1.000000     NaN -0.001459  0.009807\n",
       "county         NaN       NaN       NaN       NaN     NaN       NaN       NaN\n",
       "lat      -0.069388  0.000357 -0.014677 -0.001459     NaN  1.000000 -0.128088\n",
       "long     -0.121864 -0.000408 -0.001410  0.009807     NaN -0.128088  1.000000"
      ]
     },
     "execution_count": 12,
     "metadata": {},
     "output_type": "execute_result"
    }
   ],
   "source": [
    "df.corr()"
   ]
  },
  {
   "cell_type": "markdown",
   "id": "7b3b5598",
   "metadata": {},
   "source": [
    "# Split data "
   ]
  },
  {
   "cell_type": "code",
   "execution_count": 13,
   "id": "0f97693d",
   "metadata": {},
   "outputs": [],
   "source": [
    "df_train,df_test=train_test_split(df,test_size=0.2 , random_state=0)"
   ]
  },
  {
   "cell_type": "code",
   "execution_count": 14,
   "id": "40c2a97c",
   "metadata": {},
   "outputs": [],
   "source": [
    "df_train,df_val=train_test_split(df_train,test_size=0.25, random_state=100)"
   ]
  },
  {
   "cell_type": "markdown",
   "id": "9fc7c26c",
   "metadata": {},
   "source": [
    "drop unuseful colums \n"
   ]
  },
  {
   "cell_type": "code",
   "execution_count": 15,
   "id": "a4c76458",
   "metadata": {},
   "outputs": [],
   "source": [
    "df_train.drop(columns=['url','region_url', 'VIN','image_url','description','county'],inplace=True)"
   ]
  },
  {
   "cell_type": "code",
   "execution_count": 16,
   "id": "0f16305a",
   "metadata": {},
   "outputs": [
    {
     "data": {
      "text/plain": [
       "Index(['id', 'region', 'price', 'year', 'manufacturer', 'model', 'condition',\n",
       "       'cylinders', 'fuel', 'odometer', 'title_status', 'transmission',\n",
       "       'drive', 'size', 'type', 'paint_color', 'state', 'lat', 'long',\n",
       "       'posting_date'],\n",
       "      dtype='object')"
      ]
     },
     "execution_count": 16,
     "metadata": {},
     "output_type": "execute_result"
    }
   ],
   "source": [
    "df_train.columns"
   ]
  },
  {
   "cell_type": "markdown",
   "id": "ef4ecb11",
   "metadata": {},
   "source": [
    "# Cleaning data "
   ]
  },
  {
   "cell_type": "markdown",
   "id": "011b004a",
   "metadata": {},
   "source": [
    "Handling null values "
   ]
  },
  {
   "cell_type": "code",
   "execution_count": 17,
   "id": "fe357178",
   "metadata": {},
   "outputs": [
    {
     "data": {
      "text/plain": [
       "id                   0\n",
       "region               0\n",
       "price                0\n",
       "year               725\n",
       "manufacturer     10620\n",
       "model             3089\n",
       "condition       104374\n",
       "cylinders       106654\n",
       "fuel              1759\n",
       "odometer          2655\n",
       "title_status      4917\n",
       "transmission      1505\n",
       "drive            78278\n",
       "size            183899\n",
       "type             55689\n",
       "paint_color      78207\n",
       "state                0\n",
       "lat               3972\n",
       "long              3972\n",
       "posting_date        47\n",
       "dtype: int64"
      ]
     },
     "execution_count": 17,
     "metadata": {},
     "output_type": "execute_result"
    }
   ],
   "source": [
    "df_train.isna().sum()"
   ]
  },
  {
   "cell_type": "code",
   "execution_count": 18,
   "id": "4b334198",
   "metadata": {},
   "outputs": [
    {
     "data": {
      "text/plain": [
       "(256128, 20)"
      ]
     },
     "execution_count": 18,
     "metadata": {},
     "output_type": "execute_result"
    }
   ],
   "source": [
    "df_train.shape  "
   ]
  },
  {
   "cell_type": "code",
   "execution_count": 19,
   "id": "7bc940fc",
   "metadata": {},
   "outputs": [
    {
     "data": {
      "text/plain": [
       "full-size      38080\n",
       "mid-size       20680\n",
       "compact        11561\n",
       "sub-compact     1908\n",
       "Name: size, dtype: int64"
      ]
     },
     "execution_count": 19,
     "metadata": {},
     "output_type": "execute_result"
    }
   ],
   "source": [
    "size1=df_train['size']\n",
    "size1.value_counts()"
   ]
  },
  {
   "cell_type": "code",
   "execution_count": 20,
   "id": "d225d1ac",
   "metadata": {},
   "outputs": [],
   "source": [
    "df_train['size'].fillna('full-size', inplace=True)"
   ]
  },
  {
   "cell_type": "code",
   "execution_count": 21,
   "id": "ed8b16d0",
   "metadata": {},
   "outputs": [
    {
     "data": {
      "text/plain": [
       "6 cylinders     56459\n",
       "4 cylinders     46614\n",
       "8 cylinders     43194\n",
       "5 cylinders      1047\n",
       "10 cylinders      854\n",
       "other             757\n",
       "3 cylinders       416\n",
       "12 cylinders      133\n",
       "Name: cylinders, dtype: int64"
      ]
     },
     "execution_count": 21,
     "metadata": {},
     "output_type": "execute_result"
    }
   ],
   "source": [
    "cylinders1=df_train['cylinders']\n",
    "cylinders1.value_counts()"
   ]
  },
  {
   "cell_type": "code",
   "execution_count": 22,
   "id": "afa21855",
   "metadata": {},
   "outputs": [],
   "source": [
    "df_train['cylinders'].fillna('6 cylinders', inplace=True)"
   ]
  },
  {
   "cell_type": "code",
   "execution_count": 23,
   "id": "b9e6ce76",
   "metadata": {},
   "outputs": [
    {
     "data": {
      "text/plain": [
       "white     47562\n",
       "black     37646\n",
       "silver    25726\n",
       "blue      18646\n",
       "red       18362\n",
       "grey      14657\n",
       "green      4384\n",
       "custom     4027\n",
       "brown      3987\n",
       "yellow     1314\n",
       "orange     1209\n",
       "purple      401\n",
       "Name: paint_color, dtype: int64"
      ]
     },
     "execution_count": 23,
     "metadata": {},
     "output_type": "execute_result"
    }
   ],
   "source": [
    "paint_color1=df_train['paint_color']\n",
    "paint_color1.value_counts()"
   ]
  },
  {
   "cell_type": "code",
   "execution_count": 24,
   "id": "b3d3b7a8",
   "metadata": {},
   "outputs": [],
   "source": [
    "df_train['paint_color'].fillna('white', inplace=True)"
   ]
  },
  {
   "cell_type": "code",
   "execution_count": 25,
   "id": "a04e88d1",
   "metadata": {},
   "outputs": [
    {
     "data": {
      "text/plain": [
       "ford               42563\n",
       "chevrolet          32830\n",
       "toyota             20490\n",
       "honda              12798\n",
       "nissan             11532\n",
       "jeep               11337\n",
       "ram                11079\n",
       "gmc                10044\n",
       "bmw                 8840\n",
       "dodge               8093\n",
       "mercedes-benz       7137\n",
       "hyundai             6207\n",
       "subaru              5701\n",
       "volkswagen          5608\n",
       "kia                 5042\n",
       "lexus               4920\n",
       "audi                4520\n",
       "cadillac            4167\n",
       "chrysler            3636\n",
       "acura               3609\n",
       "buick               3327\n",
       "mazda               3256\n",
       "infiniti            2918\n",
       "lincoln             2595\n",
       "volvo               2030\n",
       "mitsubishi          1977\n",
       "mini                1441\n",
       "pontiac             1379\n",
       "rover               1291\n",
       "jaguar              1175\n",
       "porsche              840\n",
       "mercury              685\n",
       "saturn               667\n",
       "alfa-romeo           557\n",
       "tesla                525\n",
       "fiat                 463\n",
       "harley-davidson       95\n",
       "ferrari               63\n",
       "datsun                41\n",
       "aston-martin          14\n",
       "land rover            13\n",
       "morgan                 3\n",
       "Name: manufacturer, dtype: int64"
      ]
     },
     "execution_count": 25,
     "metadata": {},
     "output_type": "execute_result"
    }
   ],
   "source": [
    "manufacturer1=df_train['manufacturer']\n",
    "manufacturer1.value_counts()"
   ]
  },
  {
   "cell_type": "code",
   "execution_count": 26,
   "id": "ab911923",
   "metadata": {},
   "outputs": [],
   "source": [
    "df_train['manufacturer'].fillna('ford', inplace=True)"
   ]
  },
  {
   "cell_type": "code",
   "execution_count": 27,
   "id": "07f62c01",
   "metadata": {},
   "outputs": [
    {
     "data": {
      "text/plain": [
       "good         73070\n",
       "excellent    60698\n",
       "like new     12727\n",
       "fair          4109\n",
       "new            791\n",
       "salvage        359\n",
       "Name: condition, dtype: int64"
      ]
     },
     "execution_count": 27,
     "metadata": {},
     "output_type": "execute_result"
    }
   ],
   "source": [
    "condition1=df_train['condition']\n",
    "condition1.value_counts()"
   ]
  },
  {
   "cell_type": "code",
   "execution_count": 28,
   "id": "5461e9df",
   "metadata": {},
   "outputs": [],
   "source": [
    "df_train['condition'].fillna('good', inplace=True)"
   ]
  },
  {
   "cell_type": "code",
   "execution_count": 29,
   "id": "430436b3",
   "metadata": {},
   "outputs": [
    {
     "data": {
      "text/plain": [
       "4wd    78914\n",
       "fwd    63393\n",
       "rwd    35543\n",
       "Name: drive, dtype: int64"
      ]
     },
     "execution_count": 29,
     "metadata": {},
     "output_type": "execute_result"
    }
   ],
   "source": [
    "drive1=df_train['drive']\n",
    "drive1.value_counts()"
   ]
  },
  {
   "cell_type": "code",
   "execution_count": 30,
   "id": "f6171698",
   "metadata": {},
   "outputs": [],
   "source": [
    "df_train['drive'].fillna('fwd', inplace=True)"
   ]
  },
  {
   "cell_type": "code",
   "execution_count": 31,
   "id": "af386a41",
   "metadata": {},
   "outputs": [
    {
     "data": {
      "text/plain": [
       "sedan          52435\n",
       "SUV            46166\n",
       "pickup         25989\n",
       "truck          21170\n",
       "other          13227\n",
       "coupe          11573\n",
       "hatchback      10078\n",
       "wagon           6484\n",
       "van             5167\n",
       "convertible     4679\n",
       "mini-van        2830\n",
       "offroad          344\n",
       "bus              297\n",
       "Name: type, dtype: int64"
      ]
     },
     "execution_count": 31,
     "metadata": {},
     "output_type": "execute_result"
    }
   ],
   "source": [
    "type1=df_train['type']\n",
    "type1.value_counts()"
   ]
  },
  {
   "cell_type": "code",
   "execution_count": 32,
   "id": "a5ad09bd",
   "metadata": {},
   "outputs": [],
   "source": [
    "df_train['type'].fillna('hatchback', inplace=True)\n"
   ]
  },
  {
   "cell_type": "code",
   "execution_count": 33,
   "id": "eefc2618",
   "metadata": {},
   "outputs": [
    {
     "data": {
      "text/plain": [
       "id                 0\n",
       "region             0\n",
       "price              0\n",
       "year             725\n",
       "manufacturer       0\n",
       "model           3089\n",
       "condition          0\n",
       "cylinders          0\n",
       "fuel            1759\n",
       "odometer        2655\n",
       "title_status    4917\n",
       "transmission    1505\n",
       "drive              0\n",
       "size               0\n",
       "type               0\n",
       "paint_color        0\n",
       "state              0\n",
       "lat             3972\n",
       "long            3972\n",
       "posting_date      47\n",
       "dtype: int64"
      ]
     },
     "execution_count": 33,
     "metadata": {},
     "output_type": "execute_result"
    }
   ],
   "source": [
    "df_train.isna().sum()"
   ]
  },
  {
   "cell_type": "code",
   "execution_count": 34,
   "id": "9b6e84cc",
   "metadata": {},
   "outputs": [],
   "source": [
    "df_train=df_train.dropna()"
   ]
  },
  {
   "cell_type": "code",
   "execution_count": 35,
   "id": "5a8ed0a1",
   "metadata": {},
   "outputs": [
    {
     "data": {
      "text/plain": [
       "id              0\n",
       "region          0\n",
       "price           0\n",
       "year            0\n",
       "manufacturer    0\n",
       "model           0\n",
       "condition       0\n",
       "cylinders       0\n",
       "fuel            0\n",
       "odometer        0\n",
       "title_status    0\n",
       "transmission    0\n",
       "drive           0\n",
       "size            0\n",
       "type            0\n",
       "paint_color     0\n",
       "state           0\n",
       "lat             0\n",
       "long            0\n",
       "posting_date    0\n",
       "dtype: int64"
      ]
     },
     "execution_count": 35,
     "metadata": {},
     "output_type": "execute_result"
    }
   ],
   "source": [
    "df_train.isna().sum()"
   ]
  },
  {
   "cell_type": "code",
   "execution_count": 36,
   "id": "8ba041c8",
   "metadata": {},
   "outputs": [
    {
     "data": {
      "text/plain": [
       "(239733, 20)"
      ]
     },
     "execution_count": 36,
     "metadata": {},
     "output_type": "execute_result"
    }
   ],
   "source": [
    "df_train.shape"
   ]
  },
  {
   "cell_type": "code",
   "execution_count": 37,
   "id": "354e481d",
   "metadata": {},
   "outputs": [
    {
     "data": {
      "text/plain": [
       "<AxesSubplot:xlabel='condition', ylabel='price'>"
      ]
     },
     "execution_count": 37,
     "metadata": {},
     "output_type": "execute_result"
    },
    {
     "data": {
      "image/png": "[encoded data removed]",
      "text/plain": [
       "<Figure size 720x360 with 1 Axes>"
      ]
     },
     "metadata": {
      "needs_background": "light"
     },
     "output_type": "display_data"
    }
   ],
   "source": [
    "plt.figure(figsize = (10,5))\n",
    "condition_price = pd.pivot_table(data=df_train,values='price',index='condition',aggfunc='mean').sort_values('price',ascending=False).reset_index()\n",
    "sns.barplot(y='price' , x='condition',data=condition_price,color=('SteelBlue'))"
   ]
  },
  {
   "cell_type": "code",
   "execution_count": 38,
   "id": "46a0863d",
   "metadata": {},
   "outputs": [
    {
     "data": {
      "text/plain": [
       "<AxesSubplot:xlabel='drive', ylabel='price'>"
      ]
     },
     "execution_count": 38,
     "metadata": {},
     "output_type": "execute_result"
    },
    {
     "data": {
      "image/png": "[encoded data removed]",
      "text/plain": [
       "<Figure size 720x360 with 1 Axes>"
      ]
     },
     "metadata": {
      "needs_background": "light"
     },
     "output_type": "display_data"
    }
   ],
   "source": [
    "plt.figure(figsize = (10,5))\n",
    "drive_price = pd.pivot_table(data=df_train,values='price',index='drive',aggfunc='mean').sort_values('price',ascending=False).reset_index()\n",
    "sns.barplot(y='price' , x='drive',data=drive_price,color=('SteelBlue'))"
   ]
  },
  {
   "cell_type": "code",
   "execution_count": 39,
   "id": "82b742b9",
   "metadata": {},
   "outputs": [
    {
     "data": {
      "text/plain": [
       "<AxesSubplot:xlabel='manufacturer', ylabel='price'>"
      ]
     },
     "execution_count": 39,
     "metadata": {},
     "output_type": "execute_result"
    },
    {
     "data": {
      "image/png": "[encoded data removed]",
      "text/plain": [
       "<Figure size 720x360 with 1 Axes>"
      ]
     },
     "metadata": {
      "needs_background": "light"
     },
     "output_type": "display_data"
    }
   ],
   "source": [
    "plt.figure(figsize = (10,5))\n",
    "manufacturer_price = pd.pivot_table(data=df_train,values='price',index='manufacturer',aggfunc='mean').sort_values('price',ascending=False).reset_index().head(5)\n",
    "sns.barplot(y='price' , x='manufacturer',data=manufacturer_price,color=('SteelBlue'))"
   ]
  },
  {
   "cell_type": "code",
   "execution_count": 40,
   "id": "984482c9",
   "metadata": {},
   "outputs": [
    {
     "data": {
      "image/png": "[encoded data removed]",
      "text/plain": [
       "<Figure size 1080x288 with 1 Axes>"
      ]
     },
     "metadata": {
      "needs_background": "light"
     },
     "output_type": "display_data"
    }
   ],
   "source": [
    "plt.figure(figsize=(15,4))\n",
    "sns.countplot(data=df_train,x=\"paint_color\",color=('SteelBlue'))\n",
    "plt.show()"
   ]
  },
  {
   "cell_type": "code",
   "execution_count": 41,
   "id": "34e3cfa2",
   "metadata": {},
   "outputs": [
    {
     "data": {
      "text/plain": [
       "<AxesSubplot:xlabel='year', ylabel='Density'>"
      ]
     },
     "execution_count": 41,
     "metadata": {},
     "output_type": "execute_result"
    },
    {
     "data": {
      "image/png": "[encoded data removed]",
      "text/plain": [
       "<Figure size 720x288 with 1 Axes>"
      ]
     },
     "metadata": {
      "needs_background": "light"
     },
     "output_type": "display_data"
    }
   ],
   "source": [
    "plt.figure(figsize=(10,4))\n",
    "sns.distplot(df_train['year'])"
   ]
  },
  {
   "cell_type": "code",
   "execution_count": null,
   "id": "5f5c0183",
   "metadata": {},
   "outputs": [],
   "source": []
  },
  {
   "cell_type": "code",
   "execution_count": null,
   "id": "67d1af16",
   "metadata": {},
   "outputs": [],
   "source": []
  },
  {
   "cell_type": "code",
   "execution_count": 42,
   "id": "47f017a9",
   "metadata": {},
   "outputs": [],
   "source": [
    "#plt.figure(figsize = (10,5))\n",
    "#model_price = pd.pivot_table(data=df_train,values='price',index='model',aggfunc='mean').sort_values('price',ascending=False).reset_index()\n",
    "#sns.barplot(y='price' , x='model',data=model_price,color=('SteelBlue'))"
   ]
  },
  {
   "cell_type": "code",
   "execution_count": null,
   "id": "1159cc00",
   "metadata": {},
   "outputs": [],
   "source": []
  },
  {
   "cell_type": "code",
   "execution_count": null,
   "id": "343bb728",
   "metadata": {},
   "outputs": [],
   "source": []
  },
  {
   "cell_type": "code",
   "execution_count": 43,
   "id": "778a345c",
   "metadata": {},
   "outputs": [
    {
     "data": {
      "text/plain": [
       "<AxesSubplot:xlabel='fuel', ylabel='price'>"
      ]
     },
     "execution_count": 43,
     "metadata": {},
     "output_type": "execute_result"
    },
    {
     "data": {
      "image/png": "[encoded data removed]",
      "text/plain": [
       "<Figure size 720x360 with 1 Axes>"
      ]
     },
     "metadata": {
      "needs_background": "light"
     },
     "output_type": "display_data"
    }
   ],
   "source": [
    "plt.figure(figsize = (10,5))\n",
    "fuel_price = pd.pivot_table(data=df_train,values='price',index='fuel',aggfunc='mean').sort_values('price',ascending=False).reset_index()\n",
    "sns.barplot(y='price' , x='fuel',data=fuel_price,color=('SteelBlue'))"
   ]
  },
  {
   "cell_type": "code",
   "execution_count": 44,
   "id": "4c815e2b",
   "metadata": {},
   "outputs": [
    {
     "data": {
      "text/plain": [
       "<AxesSubplot:xlabel='size', ylabel='price'>"
      ]
     },
     "execution_count": 44,
     "metadata": {},
     "output_type": "execute_result"
    },
    {
     "data": {
      "image/png": "[encoded data removed]",
      "text/plain": [
       "<Figure size 720x360 with 1 Axes>"
      ]
     },
     "metadata": {
      "needs_background": "light"
     },
     "output_type": "display_data"
    }
   ],
   "source": [
    "plt.figure(figsize = (10,5))\n",
    "size_price = pd.pivot_table(data=df_train,values='price',index='size',aggfunc='mean').sort_values('price',ascending=False).reset_index()\n",
    "sns.barplot(y='price' , x='size',data=size_price,color=('SteelBlue'))"
   ]
  },
  {
   "cell_type": "code",
   "execution_count": 45,
   "id": "918395cd",
   "metadata": {},
   "outputs": [],
   "source": [
    "#plt.figure(figsize = (10,5))\n",
    "#paint_color_price = pd.pivot_table(data=df_train,values='price',index='paint_color').sort_values('price',ascending=False).reset_index()\n",
    "#sns.barplot(y='price' , x='paint_color',data=paint_color_price,color=('SteelBlue'))"
   ]
  },
  {
   "cell_type": "code",
   "execution_count": 46,
   "id": "cb9ea57a",
   "metadata": {},
   "outputs": [
    {
     "data": {
      "text/plain": [
       "<AxesSubplot:xlabel='type', ylabel='price'>"
      ]
     },
     "execution_count": 46,
     "metadata": {},
     "output_type": "execute_result"
    },
    {
     "data": {
      "image/png": "[encoded data removed]",
      "text/plain": [
       "<Figure size 1080x360 with 1 Axes>"
      ]
     },
     "metadata": {
      "needs_background": "light"
     },
     "output_type": "display_data"
    }
   ],
   "source": [
    "plt.figure(figsize = (15,5))\n",
    "type_price = pd.pivot_table(data=df_train,values='price',index='type',aggfunc='mean').sort_values('price',ascending=False).reset_index()\n",
    "sns.barplot(y='price' , x='type',data=type_price,color=('SteelBlue'))"
   ]
  },
  {
   "cell_type": "code",
   "execution_count": 47,
   "id": "9954b71a",
   "metadata": {},
   "outputs": [
    {
     "data": {
      "text/plain": [
       "<AxesSubplot:xlabel='price,odometer'>"
      ]
     },
     "execution_count": 47,
     "metadata": {},
     "output_type": "execute_result"
    },
    {
     "data": {
      "image/png": "[encoded data removed]",
      "text/plain": [
       "<Figure size 720x360 with 1 Axes>"
      ]
     },
     "metadata": {
      "needs_background": "light"
     },
     "output_type": "display_data"
    }
   ],
   "source": [
    "plt.figure(figsize = (10,5))\n",
    "df_train.groupby('price')['odometer'].value_counts().head(10).plot(kind='bar',color=('SteelBlue'))"
   ]
  },
  {
   "cell_type": "code",
   "execution_count": 48,
   "id": "d633bdfa",
   "metadata": {},
   "outputs": [
    {
     "data": {
      "text/plain": [
       "148898           0.0\n",
       "72850            0.0\n",
       "158486           0.0\n",
       "299600           0.0\n",
       "134738           0.0\n",
       "             ...    \n",
       "108797    10000000.0\n",
       "106542    10000000.0\n",
       "105059    10000000.0\n",
       "110623    10000000.0\n",
       "172766    10000000.0\n",
       "Name: odometer, Length: 239733, dtype: float64"
      ]
     },
     "execution_count": 48,
     "metadata": {},
     "output_type": "execute_result"
    }
   ],
   "source": [
    "df_train[\"odometer\"].sort_values()\n"
   ]
  },
  {
   "cell_type": "code",
   "execution_count": 49,
   "id": "6a6c51b7",
   "metadata": {},
   "outputs": [
    {
     "data": {
      "text/plain": [
       "224952    235801\n",
       "424366    118565\n",
       "302479    131201\n",
       "145176    146000\n",
       "75935     153700\n",
       "           ...  \n",
       "291377     98000\n",
       "287338    100000\n",
       "93746      96500\n",
       "389237    150000\n",
       "236773     50000\n",
       "Name: odometer, Length: 239733, dtype: int64"
      ]
     },
     "execution_count": 49,
     "metadata": {},
     "output_type": "execute_result"
    }
   ],
   "source": [
    "df_train.odometer.astype(int)"
   ]
  },
  {
   "cell_type": "code",
   "execution_count": 50,
   "id": "571178f7",
   "metadata": {},
   "outputs": [],
   "source": [
    "#df_train = df_train[~(df_train.odometer > 500000)]\n",
    "#df_train.shape"
   ]
  },
  {
   "cell_type": "code",
   "execution_count": 51,
   "id": "7b0cb56f",
   "metadata": {},
   "outputs": [
    {
     "data": {
      "text/plain": [
       "<AxesSubplot:xlabel='odometer', ylabel='Density'>"
      ]
     },
     "execution_count": 51,
     "metadata": {},
     "output_type": "execute_result"
    },
    {
     "data": {
      "image/png": "[encoded data removed]",
      "text/plain": [
       "<Figure size 720x288 with 1 Axes>"
      ]
     },
     "metadata": {
      "needs_background": "light"
     },
     "output_type": "display_data"
    }
   ],
   "source": [
    "plt.figure(figsize=(10,4))\n",
    "sns.distplot(df_train['odometer'])"
   ]
  },
  {
   "cell_type": "code",
   "execution_count": 52,
   "id": "cf705c12",
   "metadata": {},
   "outputs": [],
   "source": [
    "#plt.figure(figsize = (15,5))\n",
    "#type_price = pd.pivot_table(data=df_train,values='price',index='type',aggfunc='mean').sort_values('price',ascending=False).reset_index()\n",
    "#sns.barplot(y='price' , x='type',data=type_price,color=('SteelBlue'))"
   ]
  },
  {
   "cell_type": "code",
   "execution_count": 53,
   "id": "531a120a",
   "metadata": {},
   "outputs": [
    {
     "data": {
      "image/png": "[encoded data removed]",
      "text/plain": [
       "<Figure size 1440x432 with 1 Axes>"
      ]
     },
     "metadata": {
      "needs_background": "light"
     },
     "output_type": "display_data"
    }
   ],
   "source": [
    "df_train['model'].value_counts().head(10).plot.bar(figsize=(20,6),rot=0, title=\"Top 10 models\")\n",
    "plt.show()"
   ]
  },
  {
   "cell_type": "code",
   "execution_count": 54,
   "id": "657e7003",
   "metadata": {},
   "outputs": [
    {
     "name": "stdout",
     "output_type": "stream",
     "text": [
      "            odometer\n",
      "count  192375.000000\n",
      "mean    86353.828372\n",
      "std     53325.688407\n",
      "min       101.000000\n",
      "25%     38600.000000\n",
      "50%     84552.000000\n",
      "75%    128364.000000\n",
      "max    200000.000000\n",
      "\n",
      "\n",
      "Skewness for odometer: 0.21\n",
      "\n",
      "\n"
     ]
    },
    {
     "data": {
      "image/png": "[encoded data removed]",
      "text/plain": [
       "<Figure size 720x360 with 1 Axes>"
      ]
     },
     "metadata": {
      "needs_background": "light"
     },
     "output_type": "display_data"
    }
   ],
   "source": [
    "vehicles_prc = df_train[(df_train.price >=2000) & (df_train.price <=50000)]\n",
    "\n",
    "\n",
    "\n",
    "\n",
    "vehicles_odo = vehicles_prc[(vehicles_prc.odometer >100) & (vehicles_prc.odometer <=200000)]\n",
    "\n",
    "print(pd.DataFrame(vehicles_odo.odometer).describe())\n",
    "\n",
    "print(f\"\\n\\nSkewness for odometer: {round(vehicles_odo['odometer'].skew(),2)}\\n\\n\")\n",
    "sns.displot(data=vehicles_odo, x=\"odometer\", aspect=2, height=5, kde=True)\n",
    "plt.ylabel(\"Price \", fontsize=10);\n",
    "\n"
   ]
  },
  {
   "cell_type": "markdown",
   "id": "6b113b21",
   "metadata": {},
   "source": [
    "Based on the figure above the higher odometer of cars the lower price "
   ]
  },
  {
   "cell_type": "markdown",
   "id": "0031ffa0",
   "metadata": {},
   "source": [
    "# Encoding Categorical Data"
   ]
  },
  {
   "cell_type": "code",
   "execution_count": 55,
   "id": "5c32136d",
   "metadata": {},
   "outputs": [
    {
     "data": {
      "text/html": [
       "<div>\n",
       "<style scoped>\n",
       "    .dataframe tbody tr th:only-of-type {\n",
       "        vertical-align: middle;\n",
       "    }\n",
       "\n",
       "    .dataframe tbody tr th {\n",
       "        vertical-align: top;\n",
       "    }\n",
       "\n",
       "    .dataframe thead th {\n",
       "        text-align: right;\n",
       "    }\n",
       "</style>\n",
       "<table border=\"1\" class=\"dataframe\">\n",
       "  <thead>\n",
       "    <tr style=\"text-align: right;\">\n",
       "      <th></th>\n",
       "      <th>id</th>\n",
       "      <th>price</th>\n",
       "      <th>year</th>\n",
       "      <th>odometer</th>\n",
       "      <th>lat</th>\n",
       "      <th>long</th>\n",
       "    </tr>\n",
       "  </thead>\n",
       "  <tbody>\n",
       "    <tr>\n",
       "      <th>224952</th>\n",
       "      <td>7304034786</td>\n",
       "      <td>0</td>\n",
       "      <td>2013.0</td>\n",
       "      <td>235801.0</td>\n",
       "      <td>45.793500</td>\n",
       "      <td>-108.481000</td>\n",
       "    </tr>\n",
       "    <tr>\n",
       "      <th>424366</th>\n",
       "      <td>7309927411</td>\n",
       "      <td>4990</td>\n",
       "      <td>2010.0</td>\n",
       "      <td>118565.0</td>\n",
       "      <td>42.987906</td>\n",
       "      <td>-88.241072</td>\n",
       "    </tr>\n",
       "    <tr>\n",
       "      <th>302479</th>\n",
       "      <td>7306603775</td>\n",
       "      <td>3000</td>\n",
       "      <td>2016.0</td>\n",
       "      <td>131201.0</td>\n",
       "      <td>41.641800</td>\n",
       "      <td>-83.471400</td>\n",
       "    </tr>\n",
       "    <tr>\n",
       "      <th>145176</th>\n",
       "      <td>7306261337</td>\n",
       "      <td>12500</td>\n",
       "      <td>2006.0</td>\n",
       "      <td>146000.0</td>\n",
       "      <td>42.255400</td>\n",
       "      <td>-89.076800</td>\n",
       "    </tr>\n",
       "    <tr>\n",
       "      <th>75935</th>\n",
       "      <td>7316551205</td>\n",
       "      <td>3350</td>\n",
       "      <td>2001.0</td>\n",
       "      <td>153700.0</td>\n",
       "      <td>39.910800</td>\n",
       "      <td>-105.010900</td>\n",
       "    </tr>\n",
       "    <tr>\n",
       "      <th>...</th>\n",
       "      <td>...</td>\n",
       "      <td>...</td>\n",
       "      <td>...</td>\n",
       "      <td>...</td>\n",
       "      <td>...</td>\n",
       "      <td>...</td>\n",
       "    </tr>\n",
       "    <tr>\n",
       "      <th>291377</th>\n",
       "      <td>7307694516</td>\n",
       "      <td>5995</td>\n",
       "      <td>2006.0</td>\n",
       "      <td>98000.0</td>\n",
       "      <td>39.191772</td>\n",
       "      <td>-84.252357</td>\n",
       "    </tr>\n",
       "    <tr>\n",
       "      <th>287338</th>\n",
       "      <td>7310261914</td>\n",
       "      <td>250</td>\n",
       "      <td>2011.0</td>\n",
       "      <td>100000.0</td>\n",
       "      <td>40.812000</td>\n",
       "      <td>-81.424100</td>\n",
       "    </tr>\n",
       "    <tr>\n",
       "      <th>93746</th>\n",
       "      <td>7306340896</td>\n",
       "      <td>7500</td>\n",
       "      <td>2003.0</td>\n",
       "      <td>96500.0</td>\n",
       "      <td>24.724323</td>\n",
       "      <td>-81.023782</td>\n",
       "    </tr>\n",
       "    <tr>\n",
       "      <th>389237</th>\n",
       "      <td>7301593436</td>\n",
       "      <td>8995</td>\n",
       "      <td>2013.0</td>\n",
       "      <td>150000.0</td>\n",
       "      <td>42.595900</td>\n",
       "      <td>-72.226700</td>\n",
       "    </tr>\n",
       "    <tr>\n",
       "      <th>236773</th>\n",
       "      <td>7315381004</td>\n",
       "      <td>14800</td>\n",
       "      <td>1962.0</td>\n",
       "      <td>50000.0</td>\n",
       "      <td>36.103200</td>\n",
       "      <td>-79.879400</td>\n",
       "    </tr>\n",
       "  </tbody>\n",
       "</table>\n",
       "<p>239733 rows × 6 columns</p>\n",
       "</div>"
      ],
      "text/plain": [
       "                id  price    year  odometer        lat        long\n",
       "224952  7304034786      0  2013.0  235801.0  45.793500 -108.481000\n",
       "424366  7309927411   4990  2010.0  118565.0  42.987906  -88.241072\n",
       "302479  7306603775   3000  2016.0  131201.0  41.641800  -83.471400\n",
       "145176  7306261337  12500  2006.0  146000.0  42.255400  -89.076800\n",
       "75935   7316551205   3350  2001.0  153700.0  39.910800 -105.010900\n",
       "...            ...    ...     ...       ...        ...         ...\n",
       "291377  7307694516   5995  2006.0   98000.0  39.191772  -84.252357\n",
       "287338  7310261914    250  2011.0  100000.0  40.812000  -81.424100\n",
       "93746   7306340896   7500  2003.0   96500.0  24.724323  -81.023782\n",
       "389237  7301593436   8995  2013.0  150000.0  42.595900  -72.226700\n",
       "236773  7315381004  14800  1962.0   50000.0  36.103200  -79.879400\n",
       "\n",
       "[239733 rows x 6 columns]"
      ]
     },
     "execution_count": 55,
     "metadata": {},
     "output_type": "execute_result"
    }
   ],
   "source": [
    " df_train.select_dtypes(exclude=['object']).copy()\n"
   ]
  },
  {
   "cell_type": "code",
   "execution_count": 56,
   "id": "f5901892",
   "metadata": {},
   "outputs": [
    {
     "data": {
      "text/plain": [
       "id                int64\n",
       "region           object\n",
       "price             int64\n",
       "year            float64\n",
       "manufacturer     object\n",
       "model            object\n",
       "condition        object\n",
       "cylinders        object\n",
       "fuel             object\n",
       "odometer        float64\n",
       "title_status     object\n",
       "transmission     object\n",
       "drive            object\n",
       "size             object\n",
       "type             object\n",
       "paint_color      object\n",
       "state            object\n",
       "lat             float64\n",
       "long            float64\n",
       "posting_date     object\n",
       "dtype: object"
      ]
     },
     "execution_count": 56,
     "metadata": {},
     "output_type": "execute_result"
    }
   ],
   "source": [
    "df_train.dtypes"
   ]
  },
  {
   "cell_type": "code",
   "execution_count": 57,
   "id": "53d5dffb",
   "metadata": {},
   "outputs": [],
   "source": [
    "df_train=pd.get_dummies(df_train, columns=[\"manufacturer\"])"
   ]
  },
  {
   "cell_type": "code",
   "execution_count": 58,
   "id": "20f8b2fb",
   "metadata": {},
   "outputs": [],
   "source": [
    "#df_train=pd.get_dummies(df_train, columns=[\"model\"])"
   ]
  },
  {
   "cell_type": "code",
   "execution_count": 59,
   "id": "ba48ded2",
   "metadata": {},
   "outputs": [],
   "source": [
    "df_train=pd.get_dummies(df_train, columns=[\"condition\"])"
   ]
  },
  {
   "cell_type": "code",
   "execution_count": 60,
   "id": "30c6ac37",
   "metadata": {},
   "outputs": [],
   "source": [
    "df_train=pd.get_dummies(df_train, columns=[\"cylinders\"])"
   ]
  },
  {
   "cell_type": "code",
   "execution_count": 61,
   "id": "b9c59c4d",
   "metadata": {},
   "outputs": [],
   "source": [
    "df_train=pd.get_dummies(df_train, columns=[\"fuel\"])"
   ]
  },
  {
   "cell_type": "code",
   "execution_count": 62,
   "id": "dac81ba8",
   "metadata": {},
   "outputs": [],
   "source": [
    "df_train=pd.get_dummies(df_train, columns=[\"title_status\"])"
   ]
  },
  {
   "cell_type": "code",
   "execution_count": 63,
   "id": "95f3da84",
   "metadata": {},
   "outputs": [],
   "source": [
    "df_train=pd.get_dummies(df_train, columns=[\"transmission\"])"
   ]
  },
  {
   "cell_type": "code",
   "execution_count": 64,
   "id": "11197b05",
   "metadata": {},
   "outputs": [],
   "source": [
    "df_train=pd.get_dummies(df_train, columns=[\"drive\"])"
   ]
  },
  {
   "cell_type": "code",
   "execution_count": 65,
   "id": "44c9b9d8",
   "metadata": {
    "scrolled": true
   },
   "outputs": [],
   "source": [
    "df_train=pd.get_dummies(df_train, columns=[\"type\"])"
   ]
  },
  {
   "cell_type": "code",
   "execution_count": 66,
   "id": "c941fc1b",
   "metadata": {},
   "outputs": [],
   "source": [
    "df_train=pd.get_dummies(df_train, columns=[\"paint_color\"])"
   ]
  },
  {
   "cell_type": "code",
   "execution_count": 67,
   "id": "acca1b39",
   "metadata": {},
   "outputs": [],
   "source": [
    "df_train=pd.get_dummies(df_train, columns=[\"size\"])"
   ]
  },
  {
   "cell_type": "code",
   "execution_count": 68,
   "id": "c7706ce7",
   "metadata": {},
   "outputs": [
    {
     "data": {
      "text/html": [
       "<div>\n",
       "<style scoped>\n",
       "    .dataframe tbody tr th:only-of-type {\n",
       "        vertical-align: middle;\n",
       "    }\n",
       "\n",
       "    .dataframe tbody tr th {\n",
       "        vertical-align: top;\n",
       "    }\n",
       "\n",
       "    .dataframe thead th {\n",
       "        text-align: right;\n",
       "    }\n",
       "</style>\n",
       "<table border=\"1\" class=\"dataframe\">\n",
       "  <thead>\n",
       "    <tr style=\"text-align: right;\">\n",
       "      <th></th>\n",
       "      <th>id</th>\n",
       "      <th>region</th>\n",
       "      <th>price</th>\n",
       "      <th>year</th>\n",
       "      <th>model</th>\n",
       "      <th>odometer</th>\n",
       "      <th>state</th>\n",
       "      <th>lat</th>\n",
       "      <th>long</th>\n",
       "      <th>posting_date</th>\n",
       "      <th>...</th>\n",
       "      <th>paint_color_orange</th>\n",
       "      <th>paint_color_purple</th>\n",
       "      <th>paint_color_red</th>\n",
       "      <th>paint_color_silver</th>\n",
       "      <th>paint_color_white</th>\n",
       "      <th>paint_color_yellow</th>\n",
       "      <th>size_compact</th>\n",
       "      <th>size_full-size</th>\n",
       "      <th>size_mid-size</th>\n",
       "      <th>size_sub-compact</th>\n",
       "    </tr>\n",
       "  </thead>\n",
       "  <tbody>\n",
       "    <tr>\n",
       "      <th>224952</th>\n",
       "      <td>7304034786</td>\n",
       "      <td>billings</td>\n",
       "      <td>0</td>\n",
       "      <td>2013.0</td>\n",
       "      <td>f-150</td>\n",
       "      <td>235801.0</td>\n",
       "      <td>mt</td>\n",
       "      <td>45.793500</td>\n",
       "      <td>-108.481000</td>\n",
       "      <td>2021-04-09T00:01:40-0600</td>\n",
       "      <td>...</td>\n",
       "      <td>0</td>\n",
       "      <td>0</td>\n",
       "      <td>0</td>\n",
       "      <td>0</td>\n",
       "      <td>1</td>\n",
       "      <td>0</td>\n",
       "      <td>0</td>\n",
       "      <td>1</td>\n",
       "      <td>0</td>\n",
       "      <td>0</td>\n",
       "    </tr>\n",
       "    <tr>\n",
       "      <th>424366</th>\n",
       "      <td>7309927411</td>\n",
       "      <td>milwaukee</td>\n",
       "      <td>4990</td>\n",
       "      <td>2010.0</td>\n",
       "      <td>cobalt</td>\n",
       "      <td>118565.0</td>\n",
       "      <td>wi</td>\n",
       "      <td>42.987906</td>\n",
       "      <td>-88.241072</td>\n",
       "      <td>2021-04-20T13:05:03-0500</td>\n",
       "      <td>...</td>\n",
       "      <td>0</td>\n",
       "      <td>0</td>\n",
       "      <td>0</td>\n",
       "      <td>1</td>\n",
       "      <td>0</td>\n",
       "      <td>0</td>\n",
       "      <td>0</td>\n",
       "      <td>1</td>\n",
       "      <td>0</td>\n",
       "      <td>0</td>\n",
       "    </tr>\n",
       "    <tr>\n",
       "      <th>302479</th>\n",
       "      <td>7306603775</td>\n",
       "      <td>toledo</td>\n",
       "      <td>3000</td>\n",
       "      <td>2016.0</td>\n",
       "      <td>grand caravan passenger</td>\n",
       "      <td>131201.0</td>\n",
       "      <td>oh</td>\n",
       "      <td>41.641800</td>\n",
       "      <td>-83.471400</td>\n",
       "      <td>2021-04-14T09:03:47-0400</td>\n",
       "      <td>...</td>\n",
       "      <td>0</td>\n",
       "      <td>0</td>\n",
       "      <td>0</td>\n",
       "      <td>0</td>\n",
       "      <td>0</td>\n",
       "      <td>0</td>\n",
       "      <td>0</td>\n",
       "      <td>1</td>\n",
       "      <td>0</td>\n",
       "      <td>0</td>\n",
       "    </tr>\n",
       "    <tr>\n",
       "      <th>145176</th>\n",
       "      <td>7306261337</td>\n",
       "      <td>rockford</td>\n",
       "      <td>12500</td>\n",
       "      <td>2006.0</td>\n",
       "      <td>trailblazer ss</td>\n",
       "      <td>146000.0</td>\n",
       "      <td>il</td>\n",
       "      <td>42.255400</td>\n",
       "      <td>-89.076800</td>\n",
       "      <td>2021-04-13T12:56:16-0500</td>\n",
       "      <td>...</td>\n",
       "      <td>0</td>\n",
       "      <td>0</td>\n",
       "      <td>0</td>\n",
       "      <td>1</td>\n",
       "      <td>0</td>\n",
       "      <td>0</td>\n",
       "      <td>0</td>\n",
       "      <td>1</td>\n",
       "      <td>0</td>\n",
       "      <td>0</td>\n",
       "    </tr>\n",
       "    <tr>\n",
       "      <th>75935</th>\n",
       "      <td>7316551205</td>\n",
       "      <td>denver</td>\n",
       "      <td>3350</td>\n",
       "      <td>2001.0</td>\n",
       "      <td>avalon</td>\n",
       "      <td>153700.0</td>\n",
       "      <td>co</td>\n",
       "      <td>39.910800</td>\n",
       "      <td>-105.010900</td>\n",
       "      <td>2021-05-03T19:34:48-0600</td>\n",
       "      <td>...</td>\n",
       "      <td>0</td>\n",
       "      <td>0</td>\n",
       "      <td>0</td>\n",
       "      <td>0</td>\n",
       "      <td>0</td>\n",
       "      <td>0</td>\n",
       "      <td>0</td>\n",
       "      <td>1</td>\n",
       "      <td>0</td>\n",
       "      <td>0</td>\n",
       "    </tr>\n",
       "  </tbody>\n",
       "</table>\n",
       "<p>5 rows × 111 columns</p>\n",
       "</div>"
      ],
      "text/plain": [
       "                id     region  price    year                    model  \\\n",
       "224952  7304034786   billings      0  2013.0                    f-150   \n",
       "424366  7309927411  milwaukee   4990  2010.0                   cobalt   \n",
       "302479  7306603775     toledo   3000  2016.0  grand caravan passenger   \n",
       "145176  7306261337   rockford  12500  2006.0           trailblazer ss   \n",
       "75935   7316551205     denver   3350  2001.0                   avalon   \n",
       "\n",
       "        odometer state        lat        long              posting_date  ...  \\\n",
       "224952  235801.0    mt  45.793500 -108.481000  2021-04-09T00:01:40-0600  ...   \n",
       "424366  118565.0    wi  42.987906  -88.241072  2021-04-20T13:05:03-0500  ...   \n",
       "302479  131201.0    oh  41.641800  -83.471400  2021-04-14T09:03:47-0400  ...   \n",
       "145176  146000.0    il  42.255400  -89.076800  2021-04-13T12:56:16-0500  ...   \n",
       "75935   153700.0    co  39.910800 -105.010900  2021-05-03T19:34:48-0600  ...   \n",
       "\n",
       "        paint_color_orange  paint_color_purple  paint_color_red  \\\n",
       "224952                   0                   0                0   \n",
       "424366                   0                   0                0   \n",
       "302479                   0                   0                0   \n",
       "145176                   0                   0                0   \n",
       "75935                    0                   0                0   \n",
       "\n",
       "        paint_color_silver  paint_color_white  paint_color_yellow  \\\n",
       "224952                   0                  1                   0   \n",
       "424366                   1                  0                   0   \n",
       "302479                   0                  0                   0   \n",
       "145176                   1                  0                   0   \n",
       "75935                    0                  0                   0   \n",
       "\n",
       "        size_compact  size_full-size  size_mid-size  size_sub-compact  \n",
       "224952             0               1              0                 0  \n",
       "424366             0               1              0                 0  \n",
       "302479             0               1              0                 0  \n",
       "145176             0               1              0                 0  \n",
       "75935              0               1              0                 0  \n",
       "\n",
       "[5 rows x 111 columns]"
      ]
     },
     "execution_count": 68,
     "metadata": {},
     "output_type": "execute_result"
    }
   ],
   "source": [
    "df_train.head()"
   ]
  },
  {
   "cell_type": "code",
   "execution_count": 69,
   "id": "67b5217b",
   "metadata": {},
   "outputs": [],
   "source": [
    "df_train.drop(columns=['id','region', 'state','lat','long',\"posting_date\",\"model\"],inplace=True)"
   ]
  },
  {
   "cell_type": "code",
   "execution_count": 141,
   "id": "031cbefc",
   "metadata": {},
   "outputs": [],
   "source": [
    "df_train_sample=df_train.sample(500)"
   ]
  },
  {
   "cell_type": "code",
   "execution_count": 142,
   "id": "6ad71a98",
   "metadata": {},
   "outputs": [],
   "source": [
    "X_train, y_train = df_train_sample.drop('price',axis=1), df_train_sample['price']"
   ]
  },
  {
   "cell_type": "code",
   "execution_count": 143,
   "id": "8aabbf89",
   "metadata": {},
   "outputs": [],
   "source": [
    "lm = LinearRegression()\n"
   ]
  },
  {
   "cell_type": "code",
   "execution_count": 144,
   "id": "4bc7607f",
   "metadata": {},
   "outputs": [
    {
     "data": {
      "text/plain": [
       "LinearRegression()"
      ]
     },
     "execution_count": 144,
     "metadata": {},
     "output_type": "execute_result"
    }
   ],
   "source": [
    "lm.fit(X_train, y_train)"
   ]
  },
  {
   "cell_type": "code",
   "execution_count": 145,
   "id": "7ba7a453",
   "metadata": {},
   "outputs": [
    {
     "data": {
      "text/plain": [
       "0.5027386319837742"
      ]
     },
     "execution_count": 145,
     "metadata": {},
     "output_type": "execute_result"
    }
   ],
   "source": [
    "lm.score(X_train, y_train)"
   ]
  },
  {
   "cell_type": "code",
   "execution_count": null,
   "id": "6eae7190",
   "metadata": {},
   "outputs": [],
   "source": []
  },
  {
   "cell_type": "code",
   "execution_count": null,
   "id": "d375983d",
   "metadata": {},
   "outputs": [],
   "source": []
  }
 ],
 "metadata": {
  "kernelspec": {
   "display_name": "Python 3",
   "language": "python",
   "name": "python3"
  },
  "language_info": {
   "codemirror_mode": {
    "name": "ipython",
    "version": 3
   },
   "file_extension": ".py",
   "mimetype": "text/x-python",
   "name": "python",
   "nbconvert_exporter": "python",
   "pygments_lexer": "ipython3",
   "version": "3.8.8"
  }
 },
 "nbformat": 4,
 "nbformat_minor": 5
}
