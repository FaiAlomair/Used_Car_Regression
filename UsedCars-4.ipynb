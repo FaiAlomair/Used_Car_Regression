{
 "cells": [
  {
   "cell_type": "markdown",
   "metadata": {
    "id": "qEmdvP6heszo"
   },
   "source": [
    "### Unzip the file"
   ]
  },
  {
   "cell_type": "code",
   "execution_count": null,
   "metadata": {
    "colab": {
     "base_uri": "https://localhost:8080/"
    },
    "id": "WfpmrdW9fKOq",
    "outputId": "37f81cbe-aef8-483a-ddf3-0f2d631f182a"
   },
   "outputs": [
    {
     "name": "stdout",
     "output_type": "stream",
     "text": [
      "Archive:  /content/drive/MyDrive/archive.zip\n",
      "replace vehicles.csv? [y]es, [n]o, [A]ll, [N]one, [r]ename: "
     ]
    }
   ],
   "source": [
    "# unzip file\n",
    "!unzip /content/drive/MyDrive/archive.zip"
   ]
  },
  {
   "cell_type": "markdown",
   "metadata": {
    "id": "1UeminH-i9Db"
   },
   "source": [
    "### import libraries"
   ]
  },
  {
   "cell_type": "code",
   "execution_count": 1,
   "metadata": {
    "id": "kDOVa0--ipKy"
   },
   "outputs": [],
   "source": [
    "import pandas as pd\n",
    "import numpy as np \n",
    "import matplotlib.pyplot as plt\n",
    "import seaborn as sns\n",
    "from sklearn.model_selection import train_test_split\n",
    "from sklearn.preprocessing import MinMaxScaler, StandardScaler\n",
    "from sklearn.linear_model import LinearRegression, Ridge,Lasso\n",
    "from sklearn.preprocessing import StandardScaler, PolynomialFeatures\n",
    "from sklearn.metrics import mean_squared_error\n",
    "import lightgbm\n",
    "from sklearn.ensemble import RandomForestRegressor\n",
    "%matplotlib inline \n",
    "\n",
    "import warnings\n",
    "warnings.filterwarnings('ignore')\n"
   ]
  },
  {
   "cell_type": "markdown",
   "metadata": {
    "id": "ktJ4GVpcjUS4"
   },
   "source": [
    "### Loading dataset"
   ]
  },
  {
   "cell_type": "code",
   "execution_count": 2,
   "metadata": {
    "colab": {
     "base_uri": "https://localhost:8080/",
     "height": 261
    },
    "id": "NzGsvLv7jBwR",
    "outputId": "7e1bc6c4-46f4-4b1f-b59b-cb707d4d9f13"
   },
   "outputs": [
    {
     "data": {
      "text/html": [
       "<div>\n",
       "<style scoped>\n",
       "    .dataframe tbody tr th:only-of-type {\n",
       "        vertical-align: middle;\n",
       "    }\n",
       "\n",
       "    .dataframe tbody tr th {\n",
       "        vertical-align: top;\n",
       "    }\n",
       "\n",
       "    .dataframe thead th {\n",
       "        text-align: right;\n",
       "    }\n",
       "</style>\n",
       "<table border=\"1\" class=\"dataframe\">\n",
       "  <thead>\n",
       "    <tr style=\"text-align: right;\">\n",
       "      <th></th>\n",
       "      <th>id</th>\n",
       "      <th>url</th>\n",
       "      <th>region</th>\n",
       "      <th>region_url</th>\n",
       "      <th>price</th>\n",
       "      <th>year</th>\n",
       "      <th>manufacturer</th>\n",
       "      <th>model</th>\n",
       "      <th>condition</th>\n",
       "      <th>cylinders</th>\n",
       "      <th>fuel</th>\n",
       "      <th>odometer</th>\n",
       "      <th>title_status</th>\n",
       "      <th>transmission</th>\n",
       "      <th>VIN</th>\n",
       "      <th>drive</th>\n",
       "      <th>size</th>\n",
       "      <th>type</th>\n",
       "      <th>paint_color</th>\n",
       "      <th>image_url</th>\n",
       "      <th>description</th>\n",
       "      <th>county</th>\n",
       "      <th>state</th>\n",
       "      <th>lat</th>\n",
       "      <th>long</th>\n",
       "      <th>posting_date</th>\n",
       "    </tr>\n",
       "  </thead>\n",
       "  <tbody>\n",
       "    <tr>\n",
       "      <th>0</th>\n",
       "      <td>7222695916</td>\n",
       "      <td>https://prescott.craigslist.org/cto/d/prescott...</td>\n",
       "      <td>prescott</td>\n",
       "      <td>https://prescott.craigslist.org</td>\n",
       "      <td>6000</td>\n",
       "      <td>NaN</td>\n",
       "      <td>NaN</td>\n",
       "      <td>NaN</td>\n",
       "      <td>NaN</td>\n",
       "      <td>NaN</td>\n",
       "      <td>NaN</td>\n",
       "      <td>NaN</td>\n",
       "      <td>NaN</td>\n",
       "      <td>NaN</td>\n",
       "      <td>NaN</td>\n",
       "      <td>NaN</td>\n",
       "      <td>NaN</td>\n",
       "      <td>NaN</td>\n",
       "      <td>NaN</td>\n",
       "      <td>NaN</td>\n",
       "      <td>NaN</td>\n",
       "      <td>NaN</td>\n",
       "      <td>az</td>\n",
       "      <td>NaN</td>\n",
       "      <td>NaN</td>\n",
       "      <td>NaN</td>\n",
       "    </tr>\n",
       "    <tr>\n",
       "      <th>1</th>\n",
       "      <td>7218891961</td>\n",
       "      <td>https://fayar.craigslist.org/ctd/d/bentonville...</td>\n",
       "      <td>fayetteville</td>\n",
       "      <td>https://fayar.craigslist.org</td>\n",
       "      <td>11900</td>\n",
       "      <td>NaN</td>\n",
       "      <td>NaN</td>\n",
       "      <td>NaN</td>\n",
       "      <td>NaN</td>\n",
       "      <td>NaN</td>\n",
       "      <td>NaN</td>\n",
       "      <td>NaN</td>\n",
       "      <td>NaN</td>\n",
       "      <td>NaN</td>\n",
       "      <td>NaN</td>\n",
       "      <td>NaN</td>\n",
       "      <td>NaN</td>\n",
       "      <td>NaN</td>\n",
       "      <td>NaN</td>\n",
       "      <td>NaN</td>\n",
       "      <td>NaN</td>\n",
       "      <td>NaN</td>\n",
       "      <td>ar</td>\n",
       "      <td>NaN</td>\n",
       "      <td>NaN</td>\n",
       "      <td>NaN</td>\n",
       "    </tr>\n",
       "    <tr>\n",
       "      <th>2</th>\n",
       "      <td>7221797935</td>\n",
       "      <td>https://keys.craigslist.org/cto/d/summerland-k...</td>\n",
       "      <td>florida keys</td>\n",
       "      <td>https://keys.craigslist.org</td>\n",
       "      <td>21000</td>\n",
       "      <td>NaN</td>\n",
       "      <td>NaN</td>\n",
       "      <td>NaN</td>\n",
       "      <td>NaN</td>\n",
       "      <td>NaN</td>\n",
       "      <td>NaN</td>\n",
       "      <td>NaN</td>\n",
       "      <td>NaN</td>\n",
       "      <td>NaN</td>\n",
       "      <td>NaN</td>\n",
       "      <td>NaN</td>\n",
       "      <td>NaN</td>\n",
       "      <td>NaN</td>\n",
       "      <td>NaN</td>\n",
       "      <td>NaN</td>\n",
       "      <td>NaN</td>\n",
       "      <td>NaN</td>\n",
       "      <td>fl</td>\n",
       "      <td>NaN</td>\n",
       "      <td>NaN</td>\n",
       "      <td>NaN</td>\n",
       "    </tr>\n",
       "    <tr>\n",
       "      <th>3</th>\n",
       "      <td>7222270760</td>\n",
       "      <td>https://worcester.craigslist.org/cto/d/west-br...</td>\n",
       "      <td>worcester / central MA</td>\n",
       "      <td>https://worcester.craigslist.org</td>\n",
       "      <td>1500</td>\n",
       "      <td>NaN</td>\n",
       "      <td>NaN</td>\n",
       "      <td>NaN</td>\n",
       "      <td>NaN</td>\n",
       "      <td>NaN</td>\n",
       "      <td>NaN</td>\n",
       "      <td>NaN</td>\n",
       "      <td>NaN</td>\n",
       "      <td>NaN</td>\n",
       "      <td>NaN</td>\n",
       "      <td>NaN</td>\n",
       "      <td>NaN</td>\n",
       "      <td>NaN</td>\n",
       "      <td>NaN</td>\n",
       "      <td>NaN</td>\n",
       "      <td>NaN</td>\n",
       "      <td>NaN</td>\n",
       "      <td>ma</td>\n",
       "      <td>NaN</td>\n",
       "      <td>NaN</td>\n",
       "      <td>NaN</td>\n",
       "    </tr>\n",
       "    <tr>\n",
       "      <th>4</th>\n",
       "      <td>7210384030</td>\n",
       "      <td>https://greensboro.craigslist.org/cto/d/trinit...</td>\n",
       "      <td>greensboro</td>\n",
       "      <td>https://greensboro.craigslist.org</td>\n",
       "      <td>4900</td>\n",
       "      <td>NaN</td>\n",
       "      <td>NaN</td>\n",
       "      <td>NaN</td>\n",
       "      <td>NaN</td>\n",
       "      <td>NaN</td>\n",
       "      <td>NaN</td>\n",
       "      <td>NaN</td>\n",
       "      <td>NaN</td>\n",
       "      <td>NaN</td>\n",
       "      <td>NaN</td>\n",
       "      <td>NaN</td>\n",
       "      <td>NaN</td>\n",
       "      <td>NaN</td>\n",
       "      <td>NaN</td>\n",
       "      <td>NaN</td>\n",
       "      <td>NaN</td>\n",
       "      <td>NaN</td>\n",
       "      <td>nc</td>\n",
       "      <td>NaN</td>\n",
       "      <td>NaN</td>\n",
       "      <td>NaN</td>\n",
       "    </tr>\n",
       "  </tbody>\n",
       "</table>\n",
       "</div>"
      ],
      "text/plain": [
       "           id  ... posting_date\n",
       "0  7222695916  ...          NaN\n",
       "1  7218891961  ...          NaN\n",
       "2  7221797935  ...          NaN\n",
       "3  7222270760  ...          NaN\n",
       "4  7210384030  ...          NaN\n",
       "\n",
       "[5 rows x 26 columns]"
      ]
     },
     "execution_count": 2,
     "metadata": {},
     "output_type": "execute_result"
    }
   ],
   "source": [
    "df = pd.read_csv('vehicles.csv')\n",
    "df.head()"
   ]
  },
  {
   "cell_type": "code",
   "execution_count": 3,
   "metadata": {
    "colab": {
     "base_uri": "https://localhost:8080/"
    },
    "id": "itzNNH5xmsZb",
    "outputId": "402714a3-f63f-48e8-90d7-ecc0d24c6227"
   },
   "outputs": [
    {
     "data": {
      "text/plain": [
       "(426880, 26)"
      ]
     },
     "execution_count": 3,
     "metadata": {},
     "output_type": "execute_result"
    }
   ],
   "source": [
    "df.shape"
   ]
  },
  {
   "cell_type": "code",
   "execution_count": 4,
   "metadata": {
    "colab": {
     "base_uri": "https://localhost:8080/"
    },
    "id": "C-vKGY24jl1V",
    "outputId": "e4df8b54-66e6-411c-a081-d6f9c0f6f9a8"
   },
   "outputs": [
    {
     "name": "stdout",
     "output_type": "stream",
     "text": [
      "<class 'pandas.core.frame.DataFrame'>\n",
      "RangeIndex: 426880 entries, 0 to 426879\n",
      "Data columns (total 26 columns):\n",
      " #   Column        Non-Null Count   Dtype  \n",
      "---  ------        --------------   -----  \n",
      " 0   id            426880 non-null  int64  \n",
      " 1   url           426880 non-null  object \n",
      " 2   region        426880 non-null  object \n",
      " 3   region_url    426880 non-null  object \n",
      " 4   price         426880 non-null  int64  \n",
      " 5   year          425675 non-null  float64\n",
      " 6   manufacturer  409234 non-null  object \n",
      " 7   model         421603 non-null  object \n",
      " 8   condition     252776 non-null  object \n",
      " 9   cylinders     249202 non-null  object \n",
      " 10  fuel          423867 non-null  object \n",
      " 11  odometer      422480 non-null  float64\n",
      " 12  title_status  418638 non-null  object \n",
      " 13  transmission  424324 non-null  object \n",
      " 14  VIN           265838 non-null  object \n",
      " 15  drive         296313 non-null  object \n",
      " 16  size          120519 non-null  object \n",
      " 17  type          334022 non-null  object \n",
      " 18  paint_color   296677 non-null  object \n",
      " 19  image_url     426812 non-null  object \n",
      " 20  description   426810 non-null  object \n",
      " 21  county        0 non-null       float64\n",
      " 22  state         426880 non-null  object \n",
      " 23  lat           420331 non-null  float64\n",
      " 24  long          420331 non-null  float64\n",
      " 25  posting_date  426812 non-null  object \n",
      "dtypes: float64(5), int64(2), object(19)\n",
      "memory usage: 4.2 GB\n"
     ]
    }
   ],
   "source": [
    "df.info(memory_usage='deep')"
   ]
  },
  {
   "cell_type": "markdown",
   "metadata": {
    "id": "jJVZdRsdlpUl"
   },
   "source": [
    "The dataset consists of 426880 rows and 26 columns."
   ]
  },
  {
   "cell_type": "code",
   "execution_count": 5,
   "metadata": {
    "colab": {
     "base_uri": "https://localhost:8080/"
    },
    "id": "LHDfvzS0j1kl",
    "outputId": "5c05f710-7821-4ab8-c334-2c33a6692f87"
   },
   "outputs": [
    {
     "data": {
      "text/plain": [
       "Index(['id', 'url', 'region', 'region_url', 'price', 'year', 'manufacturer',\n",
       "       'model', 'condition', 'cylinders', 'fuel', 'odometer', 'title_status',\n",
       "       'transmission', 'VIN', 'drive', 'size', 'type', 'paint_color',\n",
       "       'image_url', 'description', 'county', 'state', 'lat', 'long',\n",
       "       'posting_date'],\n",
       "      dtype='object')"
      ]
     },
     "execution_count": 5,
     "metadata": {},
     "output_type": "execute_result"
    }
   ],
   "source": [
    "df.columns"
   ]
  },
  {
   "cell_type": "code",
   "execution_count": 6,
   "metadata": {
    "colab": {
     "base_uri": "https://localhost:8080/",
     "height": 300
    },
    "id": "LrejZCD0lnCO",
    "outputId": "d15235c8-73dc-4e24-8927-30fe2d6f034a"
   },
   "outputs": [
    {
     "data": {
      "text/html": [
       "<div>\n",
       "<style scoped>\n",
       "    .dataframe tbody tr th:only-of-type {\n",
       "        vertical-align: middle;\n",
       "    }\n",
       "\n",
       "    .dataframe tbody tr th {\n",
       "        vertical-align: top;\n",
       "    }\n",
       "\n",
       "    .dataframe thead th {\n",
       "        text-align: right;\n",
       "    }\n",
       "</style>\n",
       "<table border=\"1\" class=\"dataframe\">\n",
       "  <thead>\n",
       "    <tr style=\"text-align: right;\">\n",
       "      <th></th>\n",
       "      <th>id</th>\n",
       "      <th>price</th>\n",
       "      <th>year</th>\n",
       "      <th>odometer</th>\n",
       "      <th>county</th>\n",
       "      <th>lat</th>\n",
       "      <th>long</th>\n",
       "    </tr>\n",
       "  </thead>\n",
       "  <tbody>\n",
       "    <tr>\n",
       "      <th>count</th>\n",
       "      <td>4.268800e+05</td>\n",
       "      <td>4.268800e+05</td>\n",
       "      <td>425675.000000</td>\n",
       "      <td>4.224800e+05</td>\n",
       "      <td>0.0</td>\n",
       "      <td>420331.000000</td>\n",
       "      <td>420331.000000</td>\n",
       "    </tr>\n",
       "    <tr>\n",
       "      <th>mean</th>\n",
       "      <td>7.311487e+09</td>\n",
       "      <td>7.519903e+04</td>\n",
       "      <td>2011.235191</td>\n",
       "      <td>9.804333e+04</td>\n",
       "      <td>NaN</td>\n",
       "      <td>38.493940</td>\n",
       "      <td>-94.748599</td>\n",
       "    </tr>\n",
       "    <tr>\n",
       "      <th>std</th>\n",
       "      <td>4.473170e+06</td>\n",
       "      <td>1.218228e+07</td>\n",
       "      <td>9.452120</td>\n",
       "      <td>2.138815e+05</td>\n",
       "      <td>NaN</td>\n",
       "      <td>5.841533</td>\n",
       "      <td>18.365462</td>\n",
       "    </tr>\n",
       "    <tr>\n",
       "      <th>min</th>\n",
       "      <td>7.207408e+09</td>\n",
       "      <td>0.000000e+00</td>\n",
       "      <td>1900.000000</td>\n",
       "      <td>0.000000e+00</td>\n",
       "      <td>NaN</td>\n",
       "      <td>-84.122245</td>\n",
       "      <td>-159.827728</td>\n",
       "    </tr>\n",
       "    <tr>\n",
       "      <th>25%</th>\n",
       "      <td>7.308143e+09</td>\n",
       "      <td>5.900000e+03</td>\n",
       "      <td>2008.000000</td>\n",
       "      <td>3.770400e+04</td>\n",
       "      <td>NaN</td>\n",
       "      <td>34.601900</td>\n",
       "      <td>-111.939847</td>\n",
       "    </tr>\n",
       "    <tr>\n",
       "      <th>50%</th>\n",
       "      <td>7.312621e+09</td>\n",
       "      <td>1.395000e+04</td>\n",
       "      <td>2013.000000</td>\n",
       "      <td>8.554800e+04</td>\n",
       "      <td>NaN</td>\n",
       "      <td>39.150100</td>\n",
       "      <td>-88.432600</td>\n",
       "    </tr>\n",
       "    <tr>\n",
       "      <th>75%</th>\n",
       "      <td>7.315254e+09</td>\n",
       "      <td>2.648575e+04</td>\n",
       "      <td>2017.000000</td>\n",
       "      <td>1.335425e+05</td>\n",
       "      <td>NaN</td>\n",
       "      <td>42.398900</td>\n",
       "      <td>-80.832039</td>\n",
       "    </tr>\n",
       "    <tr>\n",
       "      <th>max</th>\n",
       "      <td>7.317101e+09</td>\n",
       "      <td>3.736929e+09</td>\n",
       "      <td>2022.000000</td>\n",
       "      <td>1.000000e+07</td>\n",
       "      <td>NaN</td>\n",
       "      <td>82.390818</td>\n",
       "      <td>173.885502</td>\n",
       "    </tr>\n",
       "  </tbody>\n",
       "</table>\n",
       "</div>"
      ],
      "text/plain": [
       "                 id         price  ...            lat           long\n",
       "count  4.268800e+05  4.268800e+05  ...  420331.000000  420331.000000\n",
       "mean   7.311487e+09  7.519903e+04  ...      38.493940     -94.748599\n",
       "std    4.473170e+06  1.218228e+07  ...       5.841533      18.365462\n",
       "min    7.207408e+09  0.000000e+00  ...     -84.122245    -159.827728\n",
       "25%    7.308143e+09  5.900000e+03  ...      34.601900    -111.939847\n",
       "50%    7.312621e+09  1.395000e+04  ...      39.150100     -88.432600\n",
       "75%    7.315254e+09  2.648575e+04  ...      42.398900     -80.832039\n",
       "max    7.317101e+09  3.736929e+09  ...      82.390818     173.885502\n",
       "\n",
       "[8 rows x 7 columns]"
      ]
     },
     "execution_count": 6,
     "metadata": {},
     "output_type": "execute_result"
    }
   ],
   "source": [
    "df.describe()"
   ]
  },
  {
   "cell_type": "markdown",
   "metadata": {
    "id": "eg3mwNrdmdNn"
   },
   "source": [
    "### Removing unwanted variables"
   ]
  },
  {
   "cell_type": "code",
   "execution_count": 7,
   "metadata": {
    "colab": {
     "base_uri": "https://localhost:8080/",
     "height": 206
    },
    "id": "qJa-AW2PmYIg",
    "outputId": "b919b408-0b63-49e4-e0da-57eacfd0ca42"
   },
   "outputs": [
    {
     "data": {
      "text/html": [
       "<div>\n",
       "<style scoped>\n",
       "    .dataframe tbody tr th:only-of-type {\n",
       "        vertical-align: middle;\n",
       "    }\n",
       "\n",
       "    .dataframe tbody tr th {\n",
       "        vertical-align: top;\n",
       "    }\n",
       "\n",
       "    .dataframe thead th {\n",
       "        text-align: right;\n",
       "    }\n",
       "</style>\n",
       "<table border=\"1\" class=\"dataframe\">\n",
       "  <thead>\n",
       "    <tr style=\"text-align: right;\">\n",
       "      <th></th>\n",
       "      <th>price</th>\n",
       "      <th>year</th>\n",
       "      <th>manufacturer</th>\n",
       "      <th>condition</th>\n",
       "      <th>cylinders</th>\n",
       "      <th>fuel</th>\n",
       "      <th>odometer</th>\n",
       "      <th>title_status</th>\n",
       "      <th>transmission</th>\n",
       "      <th>drive</th>\n",
       "      <th>size</th>\n",
       "      <th>type</th>\n",
       "      <th>paint_color</th>\n",
       "      <th>lat</th>\n",
       "      <th>long</th>\n",
       "    </tr>\n",
       "  </thead>\n",
       "  <tbody>\n",
       "    <tr>\n",
       "      <th>0</th>\n",
       "      <td>6000</td>\n",
       "      <td>NaN</td>\n",
       "      <td>NaN</td>\n",
       "      <td>NaN</td>\n",
       "      <td>NaN</td>\n",
       "      <td>NaN</td>\n",
       "      <td>NaN</td>\n",
       "      <td>NaN</td>\n",
       "      <td>NaN</td>\n",
       "      <td>NaN</td>\n",
       "      <td>NaN</td>\n",
       "      <td>NaN</td>\n",
       "      <td>NaN</td>\n",
       "      <td>NaN</td>\n",
       "      <td>NaN</td>\n",
       "    </tr>\n",
       "    <tr>\n",
       "      <th>1</th>\n",
       "      <td>11900</td>\n",
       "      <td>NaN</td>\n",
       "      <td>NaN</td>\n",
       "      <td>NaN</td>\n",
       "      <td>NaN</td>\n",
       "      <td>NaN</td>\n",
       "      <td>NaN</td>\n",
       "      <td>NaN</td>\n",
       "      <td>NaN</td>\n",
       "      <td>NaN</td>\n",
       "      <td>NaN</td>\n",
       "      <td>NaN</td>\n",
       "      <td>NaN</td>\n",
       "      <td>NaN</td>\n",
       "      <td>NaN</td>\n",
       "    </tr>\n",
       "    <tr>\n",
       "      <th>2</th>\n",
       "      <td>21000</td>\n",
       "      <td>NaN</td>\n",
       "      <td>NaN</td>\n",
       "      <td>NaN</td>\n",
       "      <td>NaN</td>\n",
       "      <td>NaN</td>\n",
       "      <td>NaN</td>\n",
       "      <td>NaN</td>\n",
       "      <td>NaN</td>\n",
       "      <td>NaN</td>\n",
       "      <td>NaN</td>\n",
       "      <td>NaN</td>\n",
       "      <td>NaN</td>\n",
       "      <td>NaN</td>\n",
       "      <td>NaN</td>\n",
       "    </tr>\n",
       "    <tr>\n",
       "      <th>3</th>\n",
       "      <td>1500</td>\n",
       "      <td>NaN</td>\n",
       "      <td>NaN</td>\n",
       "      <td>NaN</td>\n",
       "      <td>NaN</td>\n",
       "      <td>NaN</td>\n",
       "      <td>NaN</td>\n",
       "      <td>NaN</td>\n",
       "      <td>NaN</td>\n",
       "      <td>NaN</td>\n",
       "      <td>NaN</td>\n",
       "      <td>NaN</td>\n",
       "      <td>NaN</td>\n",
       "      <td>NaN</td>\n",
       "      <td>NaN</td>\n",
       "    </tr>\n",
       "    <tr>\n",
       "      <th>4</th>\n",
       "      <td>4900</td>\n",
       "      <td>NaN</td>\n",
       "      <td>NaN</td>\n",
       "      <td>NaN</td>\n",
       "      <td>NaN</td>\n",
       "      <td>NaN</td>\n",
       "      <td>NaN</td>\n",
       "      <td>NaN</td>\n",
       "      <td>NaN</td>\n",
       "      <td>NaN</td>\n",
       "      <td>NaN</td>\n",
       "      <td>NaN</td>\n",
       "      <td>NaN</td>\n",
       "      <td>NaN</td>\n",
       "      <td>NaN</td>\n",
       "    </tr>\n",
       "  </tbody>\n",
       "</table>\n",
       "</div>"
      ],
      "text/plain": [
       "   price  year manufacturer condition  ... type paint_color  lat long\n",
       "0   6000   NaN          NaN       NaN  ...  NaN         NaN  NaN  NaN\n",
       "1  11900   NaN          NaN       NaN  ...  NaN         NaN  NaN  NaN\n",
       "2  21000   NaN          NaN       NaN  ...  NaN         NaN  NaN  NaN\n",
       "3   1500   NaN          NaN       NaN  ...  NaN         NaN  NaN  NaN\n",
       "4   4900   NaN          NaN       NaN  ...  NaN         NaN  NaN  NaN\n",
       "\n",
       "[5 rows x 15 columns]"
      ]
     },
     "execution_count": 7,
     "metadata": {},
     "output_type": "execute_result"
    }
   ],
   "source": [
    "df = df.drop(['id','url','region','region_url','VIN','image_url','description','county','posting_date','state','model'],axis=1)\n",
    "df.head()"
   ]
  },
  {
   "cell_type": "markdown",
   "metadata": {
    "id": "9YnyAp5tkZyp"
   },
   "source": [
    "### Split the dataset"
   ]
  },
  {
   "cell_type": "code",
   "execution_count": 8,
   "metadata": {
    "colab": {
     "base_uri": "https://localhost:8080/"
    },
    "id": "jb8WjKSEkfBb",
    "outputId": "133a75b0-cb59-4abd-de2d-8954a57f02df"
   },
   "outputs": [
    {
     "name": "stdout",
     "output_type": "stream",
     "text": [
      "X_train shape is (85376, 14)\n",
      "X_t shape is (341504, 14)\n",
      "y_train shape is (85376,)\n",
      "y_t shape is (341504,)\n"
     ]
    }
   ],
   "source": [
    "X = df.drop('price',axis=1)\n",
    "Y = df.price\n",
    "# Split the data into train and test dataset\n",
    "# train is 80% and test is  20%\n",
    "X_train, X_t, y_train, y_t = train_test_split(X,Y,test_size=0.8,random_state=42)\n",
    "\n",
    "print(f'X_train shape is {X_train.shape}')\n",
    "print(f'X_t shape is {X_t.shape}')\n",
    "print(f'y_train shape is {y_train.shape}')\n",
    "print(f'y_t shape is {y_t.shape}')"
   ]
  },
  {
   "cell_type": "code",
   "execution_count": 9,
   "metadata": {
    "colab": {
     "base_uri": "https://localhost:8080/"
    },
    "id": "DMS-cJolltLA",
    "outputId": "9deb1828-3d69-481b-df4c-ced530cc9fe7"
   },
   "outputs": [
    {
     "name": "stdout",
     "output_type": "stream",
     "text": [
      "X_test shape is (170752, 14)\n",
      "X_valid shape is (170752, 14)\n",
      "y_test shape is (170752,)\n",
      "y_valid shape is (170752,)\n"
     ]
    }
   ],
   "source": [
    "X = X_t \n",
    "Y = y_t \n",
    "# Split the data into test and valid dataset\n",
    "# train is 10% and test is  10%\n",
    "X_test, X_valid, y_test, y_valid = train_test_split(X,Y,test_size=0.5,random_state=42)\n",
    "\n",
    "print(f'X_test shape is {X_test.shape}')\n",
    "print(f'X_valid shape is {X_valid.shape}')\n",
    "print(f'y_test shape is {y_test.shape}')\n",
    "print(f'y_valid shape is {y_valid.shape}')"
   ]
  },
  {
   "cell_type": "markdown",
   "metadata": {
    "id": "imSHyoyNmnSQ"
   },
   "source": [
    "### Cleaning on the train dataset"
   ]
  },
  {
   "cell_type": "code",
   "execution_count": 10,
   "metadata": {
    "colab": {
     "base_uri": "https://localhost:8080/",
     "height": 226
    },
    "id": "aE6p3VT2pivP",
    "outputId": "d173ddbe-d62f-41ca-bcf0-da8cfa72048e"
   },
   "outputs": [
    {
     "data": {
      "text/html": [
       "<div>\n",
       "<style scoped>\n",
       "    .dataframe tbody tr th:only-of-type {\n",
       "        vertical-align: middle;\n",
       "    }\n",
       "\n",
       "    .dataframe tbody tr th {\n",
       "        vertical-align: top;\n",
       "    }\n",
       "\n",
       "    .dataframe thead th {\n",
       "        text-align: right;\n",
       "    }\n",
       "</style>\n",
       "<table border=\"1\" class=\"dataframe\">\n",
       "  <thead>\n",
       "    <tr style=\"text-align: right;\">\n",
       "      <th></th>\n",
       "      <th>year</th>\n",
       "      <th>manufacturer</th>\n",
       "      <th>condition</th>\n",
       "      <th>cylinders</th>\n",
       "      <th>fuel</th>\n",
       "      <th>odometer</th>\n",
       "      <th>title_status</th>\n",
       "      <th>transmission</th>\n",
       "      <th>drive</th>\n",
       "      <th>size</th>\n",
       "      <th>type</th>\n",
       "      <th>paint_color</th>\n",
       "      <th>lat</th>\n",
       "      <th>long</th>\n",
       "      <th>price</th>\n",
       "    </tr>\n",
       "  </thead>\n",
       "  <tbody>\n",
       "    <tr>\n",
       "      <th>0</th>\n",
       "      <td>2018.0</td>\n",
       "      <td>honda</td>\n",
       "      <td>NaN</td>\n",
       "      <td>6 cylinders</td>\n",
       "      <td>gas</td>\n",
       "      <td>21353.0</td>\n",
       "      <td>clean</td>\n",
       "      <td>automatic</td>\n",
       "      <td>fwd</td>\n",
       "      <td>NaN</td>\n",
       "      <td>van</td>\n",
       "      <td>custom</td>\n",
       "      <td>27.703573</td>\n",
       "      <td>-97.345045</td>\n",
       "      <td>29901</td>\n",
       "    </tr>\n",
       "    <tr>\n",
       "      <th>1</th>\n",
       "      <td>2013.0</td>\n",
       "      <td>toyota</td>\n",
       "      <td>excellent</td>\n",
       "      <td>4 cylinders</td>\n",
       "      <td>hybrid</td>\n",
       "      <td>115603.0</td>\n",
       "      <td>NaN</td>\n",
       "      <td>automatic</td>\n",
       "      <td>NaN</td>\n",
       "      <td>NaN</td>\n",
       "      <td>other</td>\n",
       "      <td>NaN</td>\n",
       "      <td>38.624043</td>\n",
       "      <td>-121.401842</td>\n",
       "      <td>10495</td>\n",
       "    </tr>\n",
       "    <tr>\n",
       "      <th>2</th>\n",
       "      <td>2017.0</td>\n",
       "      <td>cadillac</td>\n",
       "      <td>good</td>\n",
       "      <td>6 cylinders</td>\n",
       "      <td>gas</td>\n",
       "      <td>33333.0</td>\n",
       "      <td>clean</td>\n",
       "      <td>other</td>\n",
       "      <td>fwd</td>\n",
       "      <td>NaN</td>\n",
       "      <td>other</td>\n",
       "      <td>silver</td>\n",
       "      <td>29.450000</td>\n",
       "      <td>-98.500000</td>\n",
       "      <td>28590</td>\n",
       "    </tr>\n",
       "    <tr>\n",
       "      <th>3</th>\n",
       "      <td>2010.0</td>\n",
       "      <td>chevrolet</td>\n",
       "      <td>NaN</td>\n",
       "      <td>NaN</td>\n",
       "      <td>gas</td>\n",
       "      <td>139705.0</td>\n",
       "      <td>clean</td>\n",
       "      <td>automatic</td>\n",
       "      <td>NaN</td>\n",
       "      <td>NaN</td>\n",
       "      <td>NaN</td>\n",
       "      <td>NaN</td>\n",
       "      <td>43.182400</td>\n",
       "      <td>-84.112200</td>\n",
       "      <td>5995</td>\n",
       "    </tr>\n",
       "    <tr>\n",
       "      <th>4</th>\n",
       "      <td>2011.0</td>\n",
       "      <td>toyota</td>\n",
       "      <td>NaN</td>\n",
       "      <td>NaN</td>\n",
       "      <td>other</td>\n",
       "      <td>161027.0</td>\n",
       "      <td>clean</td>\n",
       "      <td>automatic</td>\n",
       "      <td>4wd</td>\n",
       "      <td>NaN</td>\n",
       "      <td>truck</td>\n",
       "      <td>NaN</td>\n",
       "      <td>39.391700</td>\n",
       "      <td>-94.559200</td>\n",
       "      <td>0</td>\n",
       "    </tr>\n",
       "  </tbody>\n",
       "</table>\n",
       "</div>"
      ],
      "text/plain": [
       "     year manufacturer  condition  ...        lat        long  price\n",
       "0  2018.0        honda        NaN  ...  27.703573  -97.345045  29901\n",
       "1  2013.0       toyota  excellent  ...  38.624043 -121.401842  10495\n",
       "2  2017.0     cadillac       good  ...  29.450000  -98.500000  28590\n",
       "3  2010.0    chevrolet        NaN  ...  43.182400  -84.112200   5995\n",
       "4  2011.0       toyota        NaN  ...  39.391700  -94.559200      0\n",
       "\n",
       "[5 rows x 15 columns]"
      ]
     },
     "execution_count": 10,
     "metadata": {},
     "output_type": "execute_result"
    }
   ],
   "source": [
    "train_df = X_train\n",
    "train_df['price'] = y_train\n",
    "train_df = train_df.reset_index(drop=True)\n",
    "train_df.head()"
   ]
  },
  {
   "cell_type": "markdown",
   "metadata": {
    "id": "tDg1T55WrH1V"
   },
   "source": [
    "### Missing values"
   ]
  },
  {
   "cell_type": "code",
   "execution_count": 11,
   "metadata": {
    "colab": {
     "base_uri": "https://localhost:8080/"
    },
    "id": "s-cjgBGArDWc",
    "outputId": "45513ca2-08cf-4075-c818-3027de7d292d"
   },
   "outputs": [
    {
     "data": {
      "text/plain": [
       "year             0.279938\n",
       "manufacturer     4.236554\n",
       "condition       40.788981\n",
       "cylinders       41.537434\n",
       "fuel             0.646552\n",
       "odometer         1.013165\n",
       "title_status     1.936141\n",
       "transmission     0.586816\n",
       "drive           30.707693\n",
       "size            71.835176\n",
       "type            21.682909\n",
       "paint_color     30.602277\n",
       "lat              1.519162\n",
       "long             1.519162\n",
       "price            0.000000\n",
       "dtype: float64"
      ]
     },
     "execution_count": 11,
     "metadata": {},
     "output_type": "execute_result"
    }
   ],
   "source": [
    "# check missing values are present or not\n",
    "train_df.isna().sum()/len(train_df) * 100"
   ]
  },
  {
   "cell_type": "markdown",
   "metadata": {
    "id": "w_5etCPErvX7"
   },
   "source": [
    "We can observed that missing values are present in the data. We are going to remove variables which having missingt values more than 70% of data.And also we would drop missing values in the dataset."
   ]
  },
  {
   "cell_type": "code",
   "execution_count": 12,
   "metadata": {
    "colab": {
     "base_uri": "https://localhost:8080/"
    },
    "id": "9xnYee5drV48",
    "outputId": "919f2ae8-bb3c-42b9-b9bb-713861f5778d"
   },
   "outputs": [
    {
     "data": {
      "text/plain": [
       "(85376, 14)"
      ]
     },
     "execution_count": 12,
     "metadata": {},
     "output_type": "execute_result"
    }
   ],
   "source": [
    "train_df = train_df.drop(['size'],axis=1)\n",
    "train_df.shape"
   ]
  },
  {
   "cell_type": "code",
   "execution_count": 13,
   "metadata": {
    "colab": {
     "base_uri": "https://localhost:8080/"
    },
    "id": "dEjZwEPos0_E",
    "outputId": "c51478d8-87de-418e-f5e6-27f9299d8764"
   },
   "outputs": [
    {
     "data": {
      "text/plain": [
       "(23283, 14)"
      ]
     },
     "execution_count": 13,
     "metadata": {},
     "output_type": "execute_result"
    }
   ],
   "source": [
    "# Removing missing values\n",
    "train_df = train_df.dropna()\n",
    "train_df.shape"
   ]
  },
  {
   "cell_type": "code",
   "execution_count": 14,
   "metadata": {
    "colab": {
     "base_uri": "https://localhost:8080/"
    },
    "id": "coKLkinquOoQ",
    "outputId": "575d0de5-3cc2-4f7b-acbe-c56112d249cc"
   },
   "outputs": [
    {
     "name": "stdout",
     "output_type": "stream",
     "text": [
      "<class 'pandas.core.frame.DataFrame'>\n",
      "Int64Index: 23283 entries, 2 to 85375\n",
      "Data columns (total 14 columns):\n",
      " #   Column        Non-Null Count  Dtype  \n",
      "---  ------        --------------  -----  \n",
      " 0   year          23283 non-null  float64\n",
      " 1   manufacturer  23283 non-null  object \n",
      " 2   condition     23283 non-null  object \n",
      " 3   cylinders     23283 non-null  object \n",
      " 4   fuel          23283 non-null  object \n",
      " 5   odometer      23283 non-null  float64\n",
      " 6   title_status  23283 non-null  object \n",
      " 7   transmission  23283 non-null  object \n",
      " 8   drive         23283 non-null  object \n",
      " 9   type          23283 non-null  object \n",
      " 10  paint_color   23283 non-null  object \n",
      " 11  lat           23283 non-null  float64\n",
      " 12  long          23283 non-null  float64\n",
      " 13  price         23283 non-null  int64  \n",
      "dtypes: float64(4), int64(1), object(9)\n",
      "memory usage: 13.6 MB\n"
     ]
    }
   ],
   "source": [
    "train_df.info(memory_usage='deep')"
   ]
  },
  {
   "cell_type": "code",
   "execution_count": 15,
   "metadata": {
    "colab": {
     "base_uri": "https://localhost:8080/",
     "height": 226
    },
    "id": "_cSAyZLquhB5",
    "outputId": "f7fed857-1765-41ff-af3e-39aee603e8b8"
   },
   "outputs": [
    {
     "data": {
      "text/html": [
       "<div>\n",
       "<style scoped>\n",
       "    .dataframe tbody tr th:only-of-type {\n",
       "        vertical-align: middle;\n",
       "    }\n",
       "\n",
       "    .dataframe tbody tr th {\n",
       "        vertical-align: top;\n",
       "    }\n",
       "\n",
       "    .dataframe thead th {\n",
       "        text-align: right;\n",
       "    }\n",
       "</style>\n",
       "<table border=\"1\" class=\"dataframe\">\n",
       "  <thead>\n",
       "    <tr style=\"text-align: right;\">\n",
       "      <th></th>\n",
       "      <th>year</th>\n",
       "      <th>manufacturer</th>\n",
       "      <th>condition</th>\n",
       "      <th>cylinders</th>\n",
       "      <th>fuel</th>\n",
       "      <th>odometer</th>\n",
       "      <th>title_status</th>\n",
       "      <th>transmission</th>\n",
       "      <th>drive</th>\n",
       "      <th>type</th>\n",
       "      <th>paint_color</th>\n",
       "      <th>lat</th>\n",
       "      <th>long</th>\n",
       "      <th>price</th>\n",
       "    </tr>\n",
       "  </thead>\n",
       "  <tbody>\n",
       "    <tr>\n",
       "      <th>0</th>\n",
       "      <td>2017.0</td>\n",
       "      <td>cadillac</td>\n",
       "      <td>good</td>\n",
       "      <td>6 cylinders</td>\n",
       "      <td>gas</td>\n",
       "      <td>33333.0</td>\n",
       "      <td>clean</td>\n",
       "      <td>other</td>\n",
       "      <td>fwd</td>\n",
       "      <td>other</td>\n",
       "      <td>silver</td>\n",
       "      <td>29.450000</td>\n",
       "      <td>-98.500000</td>\n",
       "      <td>28590</td>\n",
       "    </tr>\n",
       "    <tr>\n",
       "      <th>1</th>\n",
       "      <td>2018.0</td>\n",
       "      <td>acura</td>\n",
       "      <td>good</td>\n",
       "      <td>6 cylinders</td>\n",
       "      <td>gas</td>\n",
       "      <td>38619.0</td>\n",
       "      <td>clean</td>\n",
       "      <td>other</td>\n",
       "      <td>fwd</td>\n",
       "      <td>other</td>\n",
       "      <td>blue</td>\n",
       "      <td>42.410000</td>\n",
       "      <td>-70.990000</td>\n",
       "      <td>25990</td>\n",
       "    </tr>\n",
       "    <tr>\n",
       "      <th>2</th>\n",
       "      <td>2006.0</td>\n",
       "      <td>nissan</td>\n",
       "      <td>good</td>\n",
       "      <td>6 cylinders</td>\n",
       "      <td>gas</td>\n",
       "      <td>160940.0</td>\n",
       "      <td>clean</td>\n",
       "      <td>automatic</td>\n",
       "      <td>rwd</td>\n",
       "      <td>SUV</td>\n",
       "      <td>grey</td>\n",
       "      <td>43.169800</td>\n",
       "      <td>-77.600700</td>\n",
       "      <td>5500</td>\n",
       "    </tr>\n",
       "    <tr>\n",
       "      <th>3</th>\n",
       "      <td>2014.0</td>\n",
       "      <td>honda</td>\n",
       "      <td>excellent</td>\n",
       "      <td>6 cylinders</td>\n",
       "      <td>gas</td>\n",
       "      <td>143895.0</td>\n",
       "      <td>clean</td>\n",
       "      <td>automatic</td>\n",
       "      <td>rwd</td>\n",
       "      <td>SUV</td>\n",
       "      <td>black</td>\n",
       "      <td>27.527275</td>\n",
       "      <td>-82.572917</td>\n",
       "      <td>11395</td>\n",
       "    </tr>\n",
       "    <tr>\n",
       "      <th>4</th>\n",
       "      <td>2008.0</td>\n",
       "      <td>toyota</td>\n",
       "      <td>excellent</td>\n",
       "      <td>6 cylinders</td>\n",
       "      <td>gas</td>\n",
       "      <td>88706.0</td>\n",
       "      <td>clean</td>\n",
       "      <td>automatic</td>\n",
       "      <td>fwd</td>\n",
       "      <td>SUV</td>\n",
       "      <td>grey</td>\n",
       "      <td>21.331156</td>\n",
       "      <td>-157.884323</td>\n",
       "      <td>16900</td>\n",
       "    </tr>\n",
       "  </tbody>\n",
       "</table>\n",
       "</div>"
      ],
      "text/plain": [
       "     year manufacturer  condition  ...        lat        long  price\n",
       "0  2017.0     cadillac       good  ...  29.450000  -98.500000  28590\n",
       "1  2018.0        acura       good  ...  42.410000  -70.990000  25990\n",
       "2  2006.0       nissan       good  ...  43.169800  -77.600700   5500\n",
       "3  2014.0        honda  excellent  ...  27.527275  -82.572917  11395\n",
       "4  2008.0       toyota  excellent  ...  21.331156 -157.884323  16900\n",
       "\n",
       "[5 rows x 14 columns]"
      ]
     },
     "execution_count": 15,
     "metadata": {},
     "output_type": "execute_result"
    }
   ],
   "source": [
    "train_df = train_df.reset_index(drop=True)\n",
    "train_df.head()"
   ]
  },
  {
   "cell_type": "code",
   "execution_count": 16,
   "metadata": {
    "colab": {
     "base_uri": "https://localhost:8080/"
    },
    "id": "gF1ymUGL6Ad8",
    "outputId": "9e9f2026-b555-45ef-8719-d6d45b40dbcc"
   },
   "outputs": [
    {
     "data": {
      "text/plain": [
       "(23283, 14)"
      ]
     },
     "execution_count": 16,
     "metadata": {},
     "output_type": "execute_result"
    }
   ],
   "source": [
    "train_df.shape"
   ]
  },
  {
   "cell_type": "markdown",
   "metadata": {
    "id": "5GwaBDLnsAem"
   },
   "source": [
    "### Data visualization"
   ]
  },
  {
   "cell_type": "markdown",
   "metadata": {
    "id": "3erZTZiVv17y"
   },
   "source": [
    "### Histogram for Price\n"
   ]
  },
  {
   "cell_type": "code",
   "execution_count": 17,
   "metadata": {
    "colab": {
     "base_uri": "https://localhost:8080/",
     "height": 536
    },
    "id": "yGHrdN2aLpK8",
    "outputId": "4004340f-85d1-4303-9835-22fff07c57e5"
   },
   "outputs": [
    {
     "data": {
      "text/plain": [
       "<matplotlib.axes._subplots.AxesSubplot at 0x7f7512a31050>"
      ]
     },
     "execution_count": 17,
     "metadata": {},
     "output_type": "execute_result"
    },
    {
     "data": {
      "image/png": "[encoded data removed]",
      "text/plain": [
       "<Figure size 864x576 with 1 Axes>"
      ]
     },
     "metadata": {
      "needs_background": "light"
     },
     "output_type": "display_data"
    }
   ],
   "source": [
    "train_df_prc =train_df[(train_df.price >=2000) & (train_df.price <=50000)]\n",
    "# Then plot the distriution \n",
    "f, ax = plt.subplots(figsize=(12, 8))\n",
    "ax.set_title('Price Distribution', pad=12)\n",
    "sns.histplot(train_df_prc, x=\"price\", stat='count', bins=20)"
   ]
  },
  {
   "cell_type": "markdown",
   "metadata": {
    "id": "QzrQoTpIv7Rf"
   },
   "source": [
    "### Distribution plot for odometer"
   ]
  },
  {
   "cell_type": "code",
   "execution_count": 18,
   "metadata": {
    "colab": {
     "base_uri": "https://localhost:8080/",
     "height": 369
    },
    "id": "5jPkH6CXMuDo",
    "outputId": "2bcec64c-e253-438d-d691-182444f48f34"
   },
   "outputs": [
    {
     "data": {
      "image/png": "[encoded data removed]",
      "text/plain": [
       "<Figure size 720x360 with 1 Axes>"
      ]
     },
     "metadata": {
      "needs_background": "light"
     },
     "output_type": "display_data"
    }
   ],
   "source": [
    "train_df_prc = train_df[(train_df.price >=2000) & (train_df.price <=50000)]\n",
    "train_df_odo = train_df_prc[(train_df_prc.odometer >100000) & (train_df_prc.odometer <=200000)]\n",
    "sns.displot(data=train_df_odo, x=\"odometer\", aspect=2, height=5, kde=True)\n",
    "plt.ylabel(\"Price \", fontsize=10);"
   ]
  },
  {
   "cell_type": "markdown",
   "metadata": {
    "id": "W61Y3EkVvvtw"
   },
   "source": [
    "### Price Vs Year"
   ]
  },
  {
   "cell_type": "code",
   "execution_count": 19,
   "metadata": {
    "colab": {
     "base_uri": "https://localhost:8080/",
     "height": 638
    },
    "id": "COe-3S1YNq12",
    "outputId": "99df611e-2918-429b-eee7-a02a31af1bfd"
   },
   "outputs": [
    {
     "data": {
      "image/png": "[encoded data removed]",
      "text/plain": [
       "<Figure size 1440x720 with 1 Axes>"
      ]
     },
     "metadata": {
      "needs_background": "light"
     },
     "output_type": "display_data"
    }
   ],
   "source": [
    "f, ax = plt.subplots(figsize=(20, 10))\n",
    "ax.set_title('Price vs Year', pad=12)\n",
    "fig = sns.boxplot(x=train_df_odo.year.astype(int), y='price', data=train_df_odo)\n",
    "plt.xticks(rotation=90);"
   ]
  },
  {
   "cell_type": "markdown",
   "metadata": {
    "id": "1ylcEpOCwVlT"
   },
   "source": [
    "We can observ\n",
    "ed that car prices rising steadily from the year 2000 onwards."
   ]
  },
  {
   "cell_type": "markdown",
   "metadata": {
    "id": "Eml3eScLvp0X"
   },
   "source": [
    "### Condition vs Price"
   ]
  },
  {
   "cell_type": "code",
   "execution_count": 20,
   "metadata": {
    "colab": {
     "base_uri": "https://localhost:8080/",
     "height": 519
    },
    "id": "2UFrJWdLvggp",
    "outputId": "a2ea27ab-4df9-46c0-ec23-fd37c6e8670f"
   },
   "outputs": [
    {
     "data": {
      "text/plain": [
       "<matplotlib.axes._subplots.AxesSubplot at 0x7f7506b4ae50>"
      ]
     },
     "execution_count": 20,
     "metadata": {},
     "output_type": "execute_result"
    },
    {
     "data": {
      "image/png": "[encoded data removed]",
      "text/plain": [
       "<Figure size 720x576 with 1 Axes>"
      ]
     },
     "metadata": {},
     "output_type": "display_data"
    }
   ],
   "source": [
    "sns.set(rc={'figure.figsize':(10,8)})\n",
    "sns.barplot(x='condition',y='price',data=train_df)"
   ]
  },
  {
   "cell_type": "markdown",
   "metadata": {
    "id": "coRQ7O9pxrWX"
   },
   "source": [
    "We can observed that used car prices higher for cars in like new, \n",
    "good and fair condition."
   ]
  },
  {
   "cell_type": "markdown",
   "metadata": {
    "id": "JUItJLXZxKtP"
   },
   "source": [
    "### Type Vs Price"
   ]
  },
  {
   "cell_type": "code",
   "execution_count": 21,
   "metadata": {
    "colab": {
     "base_uri": "https://localhost:8080/",
     "height": 530
    },
    "id": "LEZPTUL8xS0s",
    "outputId": "bfd413bc-350c-4adc-b420-14891731b1a5"
   },
   "outputs": [
    {
     "data": {
      "text/plain": [
       "<matplotlib.axes._subplots.AxesSubplot at 0x7f7506bc9a90>"
      ]
     },
     "execution_count": 21,
     "metadata": {},
     "output_type": "execute_result"
    },
    {
     "data": {
      "image/png": "[encoded data removed]",
      "text/plain": [
       "<Figure size 1080x576 with 1 Axes>"
      ]
     },
     "metadata": {},
     "output_type": "display_data"
    }
   ],
   "source": [
    "sns.set(rc={'figure.figsize':(15,8)})\n",
    "sns.barplot(x='type',y='price',data=train_df)"
   ]
  },
  {
   "cell_type": "markdown",
   "metadata": {
    "id": "2JoffqkGxbG_"
   },
   "source": [
    "We can observed that, pickup cars are costlier than other cars."
   ]
  },
  {
   "cell_type": "markdown",
   "metadata": {
    "id": "_Ydz6XBOsQg6"
   },
   "source": [
    "Answer following questions"
   ]
  },
  {
   "cell_type": "markdown",
   "metadata": {
    "id": "SGQ7g-b8sVnQ"
   },
   "source": [
    "1. How price of cars is effected by the fuel"
   ]
  },
  {
   "cell_type": "code",
   "execution_count": 22,
   "metadata": {
    "colab": {
     "base_uri": "https://localhost:8080/",
     "height": 519
    },
    "id": "tnM1hf42u0AK",
    "outputId": "aa761903-44d7-4e2d-a35e-a40ddaf2bfcf"
   },
   "outputs": [
    {
     "data": {
      "text/plain": [
       "<matplotlib.axes._subplots.AxesSubplot at 0x7f7507131810>"
      ]
     },
     "execution_count": 22,
     "metadata": {},
     "output_type": "execute_result"
    },
    {
     "data": {
      "image/png": "[encoded data removed]",
      "text/plain": [
       "<Figure size 720x576 with 1 Axes>"
      ]
     },
     "metadata": {},
     "output_type": "display_data"
    }
   ],
   "source": [
    "sns.set(rc={'figure.figsize':(10,8)})\n",
    "sns.countplot(x='fuel', data=train_df)"
   ]
  },
  {
   "cell_type": "code",
   "execution_count": 23,
   "metadata": {
    "colab": {
     "base_uri": "https://localhost:8080/",
     "height": 530
    },
    "id": "ePcezsvLsvA9",
    "outputId": "771c9945-9642-4488-fad9-31e4df9a25f7"
   },
   "outputs": [
    {
     "data": {
      "text/plain": [
       "<matplotlib.axes._subplots.AxesSubplot at 0x7f750715f910>"
      ]
     },
     "execution_count": 23,
     "metadata": {},
     "output_type": "execute_result"
    },
    {
     "data": {
      "image/png": "[encoded data removed]",
      "text/plain": [
       "<Figure size 720x576 with 1 Axes>"
      ]
     },
     "metadata": {},
     "output_type": "display_data"
    }
   ],
   "source": [
    "sns.set(rc={'figure.figsize':(10,8)})\n",
    "sns.barplot(x='fuel',y='price',data=train_df)"
   ]
  },
  {
   "cell_type": "markdown",
   "metadata": {
    "id": "yputoO6K-cMI"
   },
   "source": [
    "From the above plots, we observed that cars which use diesel fuel is costlier than other cars which use like gas, electric,other and hybrid. And also most of the cars are used gas fuel."
   ]
  },
  {
   "cell_type": "markdown",
   "metadata": {
    "id": "w5bPJWzEubqI"
   },
   "source": [
    "2. How price is related to different kinds of manufacturing"
   ]
  },
  {
   "cell_type": "code",
   "execution_count": 24,
   "metadata": {
    "colab": {
     "base_uri": "https://localhost:8080/"
    },
    "id": "23nWwDXeuvIt",
    "outputId": "c3792eec-a7d2-4341-b6d1-9f4e1bf88084"
   },
   "outputs": [
    {
     "data": {
      "text/plain": [
       "array(['cadillac', 'acura', 'nissan', 'honda', 'toyota', 'audi', 'ford',\n",
       "       'subaru', 'pontiac', 'jeep', 'ram', 'chevrolet', 'hyundai', 'gmc',\n",
       "       'kia', 'mercedes-benz', 'saturn', 'dodge', 'mercury', 'lincoln',\n",
       "       'bmw', 'porsche', 'volvo', 'infiniti', 'chrysler', 'buick',\n",
       "       'volkswagen', 'mini', 'mazda', 'rover', 'aston-martin', 'lexus',\n",
       "       'mitsubishi', 'land rover', 'alfa-romeo', 'fiat', 'jaguar',\n",
       "       'harley-davidson', 'tesla', 'datsun', 'ferrari'], dtype=object)"
      ]
     },
     "execution_count": 24,
     "metadata": {},
     "output_type": "execute_result"
    }
   ],
   "source": [
    "train_df.manufacturer.unique()"
   ]
  },
  {
   "cell_type": "code",
   "execution_count": 25,
   "metadata": {
    "colab": {
     "base_uri": "https://localhost:8080/",
     "height": 509
    },
    "id": "opDooLHAuOeL",
    "outputId": "53024104-ed54-4be1-a3d3-25f3db51c513"
   },
   "outputs": [
    {
     "data": {
      "text/plain": [
       "<matplotlib.axes._subplots.AxesSubplot at 0x7f75069a5890>"
      ]
     },
     "execution_count": 25,
     "metadata": {},
     "output_type": "execute_result"
    },
    {
     "data": {
      "image/png": "[encoded data removed]",
      "text/plain": [
       "<Figure size 1440x576 with 1 Axes>"
      ]
     },
     "metadata": {},
     "output_type": "display_data"
    }
   ],
   "source": [
    "sns.set(rc={'figure.figsize':(20,8)})\n",
    "sns.barplot(x='manufacturer',y='price',data=train_df,order=['ford', 'gmc', 'chevrolet', 'toyota', 'jeep', 'nissan', 'cadillac',\n",
    "       'honda', 'dodge', 'lexus', 'chrysler', 'volvo', 'hyundai', 'ram',\n",
    "       'lincoln', 'mercedes-benz', 'infiniti', 'buick', 'acura', 'bmw',\n",
    "       'volkswagen', 'mazda'])"
   ]
  },
  {
   "cell_type": "code",
   "execution_count": 26,
   "metadata": {
    "colab": {
     "base_uri": "https://localhost:8080/",
     "height": 509
    },
    "id": "_HQ2TBzw3iBO",
    "outputId": "56b1cb32-d9d9-49de-f62a-67e85d775f3a"
   },
   "outputs": [
    {
     "data": {
      "text/plain": [
       "<matplotlib.axes._subplots.AxesSubplot at 0x7f75068affd0>"
      ]
     },
     "execution_count": 26,
     "metadata": {},
     "output_type": "execute_result"
    },
    {
     "data": {
      "image/png": "[encoded data removed]",
      "text/plain": [
       "<Figure size 1440x576 with 1 Axes>"
      ]
     },
     "metadata": {},
     "output_type": "display_data"
    }
   ],
   "source": [
    "sns.set(rc={'figure.figsize':(20,8)})\n",
    "sns.barplot(x='manufacturer',y='price',data=train_df,order=['porsche', 'rover', 'kia', 'ferrari',\n",
    "       'pontiac', 'audi', 'mitsubishi', 'fiat', 'jaguar', 'alfa-romeo',\n",
    "       'tesla', 'saturn', 'subaru', 'mini', 'harley-davidson', 'mercury',\n",
    "       'datsun', 'land rover', 'aston-martin', 'morgan'])"
   ]
  },
  {
   "cell_type": "markdown",
   "metadata": {
    "id": "mRXpg0UCAHBf"
   },
   "source": [
    "From the above above plots, we can conclude that buick cars are costlier than other manufactures and followed by ford and ferrari."
   ]
  },
  {
   "cell_type": "markdown",
   "metadata": {
    "id": "feMd0O3Wwiuc"
   },
   "source": [
    "3. what is the common color for used car"
   ]
  },
  {
   "cell_type": "code",
   "execution_count": 27,
   "metadata": {
    "colab": {
     "base_uri": "https://localhost:8080/",
     "height": 519
    },
    "id": "1iOsZDpaullG",
    "outputId": "87e8d90c-6507-405a-dc93-73d663fae6df"
   },
   "outputs": [
    {
     "data": {
      "text/plain": [
       "<matplotlib.axes._subplots.AxesSubplot at 0x7f75068b2f10>"
      ]
     },
     "execution_count": 27,
     "metadata": {},
     "output_type": "execute_result"
    },
    {
     "data": {
      "image/png": "[encoded data removed]",
      "text/plain": [
       "<Figure size 720x576 with 1 Axes>"
      ]
     },
     "metadata": {},
     "output_type": "display_data"
    }
   ],
   "source": [
    "sns.set(rc={'figure.figsize':(10,8)})\n",
    "sns.countplot(x='paint_color', data=train_df)"
   ]
  },
  {
   "cell_type": "markdown",
   "metadata": {
    "id": "rFMFxRmvAyQk"
   },
   "source": [
    "From the above plot, we can conclude that common color for used car is white and followed by black."
   ]
  },
  {
   "cell_type": "markdown",
   "metadata": {
    "id": "09EXiXZEw4d_"
   },
   "source": [
    "4. How can we predict used car price"
   ]
  },
  {
   "cell_type": "markdown",
   "metadata": {
    "id": "la7XU3ba46xr"
   },
   "source": [
    "Encoding the train categorical variables"
   ]
  },
  {
   "cell_type": "code",
   "execution_count": 28,
   "metadata": {
    "colab": {
     "base_uri": "https://localhost:8080/",
     "height": 273
    },
    "id": "fXmjXtLLwy3t",
    "outputId": "0333d5f3-5dc8-4059-9cb8-559388e8f65f"
   },
   "outputs": [
    {
     "data": {
      "text/html": [
       "<div>\n",
       "<style scoped>\n",
       "    .dataframe tbody tr th:only-of-type {\n",
       "        vertical-align: middle;\n",
       "    }\n",
       "\n",
       "    .dataframe tbody tr th {\n",
       "        vertical-align: top;\n",
       "    }\n",
       "\n",
       "    .dataframe thead th {\n",
       "        text-align: right;\n",
       "    }\n",
       "</style>\n",
       "<table border=\"1\" class=\"dataframe\">\n",
       "  <thead>\n",
       "    <tr style=\"text-align: right;\">\n",
       "      <th></th>\n",
       "      <th>year</th>\n",
       "      <th>odometer</th>\n",
       "      <th>lat</th>\n",
       "      <th>long</th>\n",
       "      <th>price</th>\n",
       "      <th>condition_excellent</th>\n",
       "      <th>condition_fair</th>\n",
       "      <th>condition_good</th>\n",
       "      <th>condition_like new</th>\n",
       "      <th>condition_new</th>\n",
       "      <th>condition_salvage</th>\n",
       "      <th>cylinders_10 cylinders</th>\n",
       "      <th>cylinders_12 cylinders</th>\n",
       "      <th>cylinders_3 cylinders</th>\n",
       "      <th>cylinders_4 cylinders</th>\n",
       "      <th>cylinders_5 cylinders</th>\n",
       "      <th>cylinders_6 cylinders</th>\n",
       "      <th>cylinders_8 cylinders</th>\n",
       "      <th>cylinders_other</th>\n",
       "      <th>manufacturer_acura</th>\n",
       "      <th>manufacturer_alfa-romeo</th>\n",
       "      <th>manufacturer_aston-martin</th>\n",
       "      <th>manufacturer_audi</th>\n",
       "      <th>manufacturer_bmw</th>\n",
       "      <th>manufacturer_buick</th>\n",
       "      <th>manufacturer_cadillac</th>\n",
       "      <th>manufacturer_chevrolet</th>\n",
       "      <th>manufacturer_chrysler</th>\n",
       "      <th>manufacturer_datsun</th>\n",
       "      <th>manufacturer_dodge</th>\n",
       "      <th>manufacturer_ferrari</th>\n",
       "      <th>manufacturer_fiat</th>\n",
       "      <th>manufacturer_ford</th>\n",
       "      <th>manufacturer_gmc</th>\n",
       "      <th>manufacturer_harley-davidson</th>\n",
       "      <th>manufacturer_honda</th>\n",
       "      <th>manufacturer_hyundai</th>\n",
       "      <th>manufacturer_infiniti</th>\n",
       "      <th>manufacturer_jaguar</th>\n",
       "      <th>manufacturer_jeep</th>\n",
       "      <th>...</th>\n",
       "      <th>fuel_gas</th>\n",
       "      <th>fuel_hybrid</th>\n",
       "      <th>fuel_other</th>\n",
       "      <th>title_status_clean</th>\n",
       "      <th>title_status_lien</th>\n",
       "      <th>title_status_missing</th>\n",
       "      <th>title_status_parts only</th>\n",
       "      <th>title_status_rebuilt</th>\n",
       "      <th>title_status_salvage</th>\n",
       "      <th>transmission_automatic</th>\n",
       "      <th>transmission_manual</th>\n",
       "      <th>transmission_other</th>\n",
       "      <th>drive_4wd</th>\n",
       "      <th>drive_fwd</th>\n",
       "      <th>drive_rwd</th>\n",
       "      <th>type_SUV</th>\n",
       "      <th>type_bus</th>\n",
       "      <th>type_convertible</th>\n",
       "      <th>type_coupe</th>\n",
       "      <th>type_hatchback</th>\n",
       "      <th>type_mini-van</th>\n",
       "      <th>type_offroad</th>\n",
       "      <th>type_other</th>\n",
       "      <th>type_pickup</th>\n",
       "      <th>type_sedan</th>\n",
       "      <th>type_truck</th>\n",
       "      <th>type_van</th>\n",
       "      <th>type_wagon</th>\n",
       "      <th>paint_color_black</th>\n",
       "      <th>paint_color_blue</th>\n",
       "      <th>paint_color_brown</th>\n",
       "      <th>paint_color_custom</th>\n",
       "      <th>paint_color_green</th>\n",
       "      <th>paint_color_grey</th>\n",
       "      <th>paint_color_orange</th>\n",
       "      <th>paint_color_purple</th>\n",
       "      <th>paint_color_red</th>\n",
       "      <th>paint_color_silver</th>\n",
       "      <th>paint_color_white</th>\n",
       "      <th>paint_color_yellow</th>\n",
       "    </tr>\n",
       "  </thead>\n",
       "  <tbody>\n",
       "    <tr>\n",
       "      <th>0</th>\n",
       "      <td>2017.0</td>\n",
       "      <td>33333.0</td>\n",
       "      <td>29.450000</td>\n",
       "      <td>-98.500000</td>\n",
       "      <td>28590</td>\n",
       "      <td>0</td>\n",
       "      <td>0</td>\n",
       "      <td>1</td>\n",
       "      <td>0</td>\n",
       "      <td>0</td>\n",
       "      <td>0</td>\n",
       "      <td>0</td>\n",
       "      <td>0</td>\n",
       "      <td>0</td>\n",
       "      <td>0</td>\n",
       "      <td>0</td>\n",
       "      <td>1</td>\n",
       "      <td>0</td>\n",
       "      <td>0</td>\n",
       "      <td>0</td>\n",
       "      <td>0</td>\n",
       "      <td>0</td>\n",
       "      <td>0</td>\n",
       "      <td>0</td>\n",
       "      <td>0</td>\n",
       "      <td>1</td>\n",
       "      <td>0</td>\n",
       "      <td>0</td>\n",
       "      <td>0</td>\n",
       "      <td>0</td>\n",
       "      <td>0</td>\n",
       "      <td>0</td>\n",
       "      <td>0</td>\n",
       "      <td>0</td>\n",
       "      <td>0</td>\n",
       "      <td>0</td>\n",
       "      <td>0</td>\n",
       "      <td>0</td>\n",
       "      <td>0</td>\n",
       "      <td>0</td>\n",
       "      <td>...</td>\n",
       "      <td>1</td>\n",
       "      <td>0</td>\n",
       "      <td>0</td>\n",
       "      <td>1</td>\n",
       "      <td>0</td>\n",
       "      <td>0</td>\n",
       "      <td>0</td>\n",
       "      <td>0</td>\n",
       "      <td>0</td>\n",
       "      <td>0</td>\n",
       "      <td>0</td>\n",
       "      <td>1</td>\n",
       "      <td>0</td>\n",
       "      <td>1</td>\n",
       "      <td>0</td>\n",
       "      <td>0</td>\n",
       "      <td>0</td>\n",
       "      <td>0</td>\n",
       "      <td>0</td>\n",
       "      <td>0</td>\n",
       "      <td>0</td>\n",
       "      <td>0</td>\n",
       "      <td>1</td>\n",
       "      <td>0</td>\n",
       "      <td>0</td>\n",
       "      <td>0</td>\n",
       "      <td>0</td>\n",
       "      <td>0</td>\n",
       "      <td>0</td>\n",
       "      <td>0</td>\n",
       "      <td>0</td>\n",
       "      <td>0</td>\n",
       "      <td>0</td>\n",
       "      <td>0</td>\n",
       "      <td>0</td>\n",
       "      <td>0</td>\n",
       "      <td>0</td>\n",
       "      <td>1</td>\n",
       "      <td>0</td>\n",
       "      <td>0</td>\n",
       "    </tr>\n",
       "    <tr>\n",
       "      <th>1</th>\n",
       "      <td>2018.0</td>\n",
       "      <td>38619.0</td>\n",
       "      <td>42.410000</td>\n",
       "      <td>-70.990000</td>\n",
       "      <td>25990</td>\n",
       "      <td>0</td>\n",
       "      <td>0</td>\n",
       "      <td>1</td>\n",
       "      <td>0</td>\n",
       "      <td>0</td>\n",
       "      <td>0</td>\n",
       "      <td>0</td>\n",
       "      <td>0</td>\n",
       "      <td>0</td>\n",
       "      <td>0</td>\n",
       "      <td>0</td>\n",
       "      <td>1</td>\n",
       "      <td>0</td>\n",
       "      <td>0</td>\n",
       "      <td>1</td>\n",
       "      <td>0</td>\n",
       "      <td>0</td>\n",
       "      <td>0</td>\n",
       "      <td>0</td>\n",
       "      <td>0</td>\n",
       "      <td>0</td>\n",
       "      <td>0</td>\n",
       "      <td>0</td>\n",
       "      <td>0</td>\n",
       "      <td>0</td>\n",
       "      <td>0</td>\n",
       "      <td>0</td>\n",
       "      <td>0</td>\n",
       "      <td>0</td>\n",
       "      <td>0</td>\n",
       "      <td>0</td>\n",
       "      <td>0</td>\n",
       "      <td>0</td>\n",
       "      <td>0</td>\n",
       "      <td>0</td>\n",
       "      <td>...</td>\n",
       "      <td>1</td>\n",
       "      <td>0</td>\n",
       "      <td>0</td>\n",
       "      <td>1</td>\n",
       "      <td>0</td>\n",
       "      <td>0</td>\n",
       "      <td>0</td>\n",
       "      <td>0</td>\n",
       "      <td>0</td>\n",
       "      <td>0</td>\n",
       "      <td>0</td>\n",
       "      <td>1</td>\n",
       "      <td>0</td>\n",
       "      <td>1</td>\n",
       "      <td>0</td>\n",
       "      <td>0</td>\n",
       "      <td>0</td>\n",
       "      <td>0</td>\n",
       "      <td>0</td>\n",
       "      <td>0</td>\n",
       "      <td>0</td>\n",
       "      <td>0</td>\n",
       "      <td>1</td>\n",
       "      <td>0</td>\n",
       "      <td>0</td>\n",
       "      <td>0</td>\n",
       "      <td>0</td>\n",
       "      <td>0</td>\n",
       "      <td>0</td>\n",
       "      <td>1</td>\n",
       "      <td>0</td>\n",
       "      <td>0</td>\n",
       "      <td>0</td>\n",
       "      <td>0</td>\n",
       "      <td>0</td>\n",
       "      <td>0</td>\n",
       "      <td>0</td>\n",
       "      <td>0</td>\n",
       "      <td>0</td>\n",
       "      <td>0</td>\n",
       "    </tr>\n",
       "    <tr>\n",
       "      <th>2</th>\n",
       "      <td>2006.0</td>\n",
       "      <td>160940.0</td>\n",
       "      <td>43.169800</td>\n",
       "      <td>-77.600700</td>\n",
       "      <td>5500</td>\n",
       "      <td>0</td>\n",
       "      <td>0</td>\n",
       "      <td>1</td>\n",
       "      <td>0</td>\n",
       "      <td>0</td>\n",
       "      <td>0</td>\n",
       "      <td>0</td>\n",
       "      <td>0</td>\n",
       "      <td>0</td>\n",
       "      <td>0</td>\n",
       "      <td>0</td>\n",
       "      <td>1</td>\n",
       "      <td>0</td>\n",
       "      <td>0</td>\n",
       "      <td>0</td>\n",
       "      <td>0</td>\n",
       "      <td>0</td>\n",
       "      <td>0</td>\n",
       "      <td>0</td>\n",
       "      <td>0</td>\n",
       "      <td>0</td>\n",
       "      <td>0</td>\n",
       "      <td>0</td>\n",
       "      <td>0</td>\n",
       "      <td>0</td>\n",
       "      <td>0</td>\n",
       "      <td>0</td>\n",
       "      <td>0</td>\n",
       "      <td>0</td>\n",
       "      <td>0</td>\n",
       "      <td>0</td>\n",
       "      <td>0</td>\n",
       "      <td>0</td>\n",
       "      <td>0</td>\n",
       "      <td>0</td>\n",
       "      <td>...</td>\n",
       "      <td>1</td>\n",
       "      <td>0</td>\n",
       "      <td>0</td>\n",
       "      <td>1</td>\n",
       "      <td>0</td>\n",
       "      <td>0</td>\n",
       "      <td>0</td>\n",
       "      <td>0</td>\n",
       "      <td>0</td>\n",
       "      <td>1</td>\n",
       "      <td>0</td>\n",
       "      <td>0</td>\n",
       "      <td>0</td>\n",
       "      <td>0</td>\n",
       "      <td>1</td>\n",
       "      <td>1</td>\n",
       "      <td>0</td>\n",
       "      <td>0</td>\n",
       "      <td>0</td>\n",
       "      <td>0</td>\n",
       "      <td>0</td>\n",
       "      <td>0</td>\n",
       "      <td>0</td>\n",
       "      <td>0</td>\n",
       "      <td>0</td>\n",
       "      <td>0</td>\n",
       "      <td>0</td>\n",
       "      <td>0</td>\n",
       "      <td>0</td>\n",
       "      <td>0</td>\n",
       "      <td>0</td>\n",
       "      <td>0</td>\n",
       "      <td>0</td>\n",
       "      <td>1</td>\n",
       "      <td>0</td>\n",
       "      <td>0</td>\n",
       "      <td>0</td>\n",
       "      <td>0</td>\n",
       "      <td>0</td>\n",
       "      <td>0</td>\n",
       "    </tr>\n",
       "    <tr>\n",
       "      <th>3</th>\n",
       "      <td>2014.0</td>\n",
       "      <td>143895.0</td>\n",
       "      <td>27.527275</td>\n",
       "      <td>-82.572917</td>\n",
       "      <td>11395</td>\n",
       "      <td>1</td>\n",
       "      <td>0</td>\n",
       "      <td>0</td>\n",
       "      <td>0</td>\n",
       "      <td>0</td>\n",
       "      <td>0</td>\n",
       "      <td>0</td>\n",
       "      <td>0</td>\n",
       "      <td>0</td>\n",
       "      <td>0</td>\n",
       "      <td>0</td>\n",
       "      <td>1</td>\n",
       "      <td>0</td>\n",
       "      <td>0</td>\n",
       "      <td>0</td>\n",
       "      <td>0</td>\n",
       "      <td>0</td>\n",
       "      <td>0</td>\n",
       "      <td>0</td>\n",
       "      <td>0</td>\n",
       "      <td>0</td>\n",
       "      <td>0</td>\n",
       "      <td>0</td>\n",
       "      <td>0</td>\n",
       "      <td>0</td>\n",
       "      <td>0</td>\n",
       "      <td>0</td>\n",
       "      <td>0</td>\n",
       "      <td>0</td>\n",
       "      <td>0</td>\n",
       "      <td>1</td>\n",
       "      <td>0</td>\n",
       "      <td>0</td>\n",
       "      <td>0</td>\n",
       "      <td>0</td>\n",
       "      <td>...</td>\n",
       "      <td>1</td>\n",
       "      <td>0</td>\n",
       "      <td>0</td>\n",
       "      <td>1</td>\n",
       "      <td>0</td>\n",
       "      <td>0</td>\n",
       "      <td>0</td>\n",
       "      <td>0</td>\n",
       "      <td>0</td>\n",
       "      <td>1</td>\n",
       "      <td>0</td>\n",
       "      <td>0</td>\n",
       "      <td>0</td>\n",
       "      <td>0</td>\n",
       "      <td>1</td>\n",
       "      <td>1</td>\n",
       "      <td>0</td>\n",
       "      <td>0</td>\n",
       "      <td>0</td>\n",
       "      <td>0</td>\n",
       "      <td>0</td>\n",
       "      <td>0</td>\n",
       "      <td>0</td>\n",
       "      <td>0</td>\n",
       "      <td>0</td>\n",
       "      <td>0</td>\n",
       "      <td>0</td>\n",
       "      <td>0</td>\n",
       "      <td>1</td>\n",
       "      <td>0</td>\n",
       "      <td>0</td>\n",
       "      <td>0</td>\n",
       "      <td>0</td>\n",
       "      <td>0</td>\n",
       "      <td>0</td>\n",
       "      <td>0</td>\n",
       "      <td>0</td>\n",
       "      <td>0</td>\n",
       "      <td>0</td>\n",
       "      <td>0</td>\n",
       "    </tr>\n",
       "    <tr>\n",
       "      <th>4</th>\n",
       "      <td>2008.0</td>\n",
       "      <td>88706.0</td>\n",
       "      <td>21.331156</td>\n",
       "      <td>-157.884323</td>\n",
       "      <td>16900</td>\n",
       "      <td>1</td>\n",
       "      <td>0</td>\n",
       "      <td>0</td>\n",
       "      <td>0</td>\n",
       "      <td>0</td>\n",
       "      <td>0</td>\n",
       "      <td>0</td>\n",
       "      <td>0</td>\n",
       "      <td>0</td>\n",
       "      <td>0</td>\n",
       "      <td>0</td>\n",
       "      <td>1</td>\n",
       "      <td>0</td>\n",
       "      <td>0</td>\n",
       "      <td>0</td>\n",
       "      <td>0</td>\n",
       "      <td>0</td>\n",
       "      <td>0</td>\n",
       "      <td>0</td>\n",
       "      <td>0</td>\n",
       "      <td>0</td>\n",
       "      <td>0</td>\n",
       "      <td>0</td>\n",
       "      <td>0</td>\n",
       "      <td>0</td>\n",
       "      <td>0</td>\n",
       "      <td>0</td>\n",
       "      <td>0</td>\n",
       "      <td>0</td>\n",
       "      <td>0</td>\n",
       "      <td>0</td>\n",
       "      <td>0</td>\n",
       "      <td>0</td>\n",
       "      <td>0</td>\n",
       "      <td>0</td>\n",
       "      <td>...</td>\n",
       "      <td>1</td>\n",
       "      <td>0</td>\n",
       "      <td>0</td>\n",
       "      <td>1</td>\n",
       "      <td>0</td>\n",
       "      <td>0</td>\n",
       "      <td>0</td>\n",
       "      <td>0</td>\n",
       "      <td>0</td>\n",
       "      <td>1</td>\n",
       "      <td>0</td>\n",
       "      <td>0</td>\n",
       "      <td>0</td>\n",
       "      <td>1</td>\n",
       "      <td>0</td>\n",
       "      <td>1</td>\n",
       "      <td>0</td>\n",
       "      <td>0</td>\n",
       "      <td>0</td>\n",
       "      <td>0</td>\n",
       "      <td>0</td>\n",
       "      <td>0</td>\n",
       "      <td>0</td>\n",
       "      <td>0</td>\n",
       "      <td>0</td>\n",
       "      <td>0</td>\n",
       "      <td>0</td>\n",
       "      <td>0</td>\n",
       "      <td>0</td>\n",
       "      <td>0</td>\n",
       "      <td>0</td>\n",
       "      <td>0</td>\n",
       "      <td>0</td>\n",
       "      <td>1</td>\n",
       "      <td>0</td>\n",
       "      <td>0</td>\n",
       "      <td>0</td>\n",
       "      <td>0</td>\n",
       "      <td>0</td>\n",
       "      <td>0</td>\n",
       "    </tr>\n",
       "  </tbody>\n",
       "</table>\n",
       "<p>5 rows × 102 columns</p>\n",
       "</div>"
      ],
      "text/plain": [
       "     year  odometer  ...  paint_color_white  paint_color_yellow\n",
       "0  2017.0   33333.0  ...                  0                   0\n",
       "1  2018.0   38619.0  ...                  0                   0\n",
       "2  2006.0  160940.0  ...                  0                   0\n",
       "3  2014.0  143895.0  ...                  0                   0\n",
       "4  2008.0   88706.0  ...                  0                   0\n",
       "\n",
       "[5 rows x 102 columns]"
      ]
     },
     "execution_count": 28,
     "metadata": {},
     "output_type": "execute_result"
    }
   ],
   "source": [
    "# Get dummy variables\n",
    "train_df_encoded = pd.get_dummies(train_df,columns=['condition','cylinders','manufacturer','fuel','title_status','transmission','drive','type','paint_color'])\n",
    "# reset index\n",
    "train_df_encoded = train_df_encoded.reset_index(drop=True)\n",
    "train_df_encoded.head()"
   ]
  },
  {
   "cell_type": "code",
   "execution_count": 29,
   "metadata": {
    "colab": {
     "base_uri": "https://localhost:8080/"
    },
    "id": "T0pSep7cd77H",
    "outputId": "a6459f48-2d80-4659-ceb6-7ad6ec24d8cd"
   },
   "outputs": [
    {
     "name": "stdout",
     "output_type": "stream",
     "text": [
      "<class 'pandas.core.frame.DataFrame'>\n",
      "RangeIndex: 23283 entries, 0 to 23282\n",
      "Columns: 102 entries, year to paint_color_yellow\n",
      "dtypes: float64(4), int64(1), uint8(97)\n",
      "memory usage: 3.0 MB\n"
     ]
    }
   ],
   "source": [
    "train_df_encoded.info()"
   ]
  },
  {
   "cell_type": "markdown",
   "metadata": {
    "id": "uyiL43wR70kg"
   },
   "source": [
    "### Train Correlation matrix"
   ]
  },
  {
   "cell_type": "markdown",
   "metadata": {
    "id": "6hK0omLC850l"
   },
   "source": [
    "Plot correlation matrix using heatmap to check how the features are correlated."
   ]
  },
  {
   "cell_type": "code",
   "execution_count": 30,
   "metadata": {
    "colab": {
     "base_uri": "https://localhost:8080/",
     "height": 461
    },
    "id": "CftxNAXQ7ek9",
    "outputId": "fc50ba97-3523-4271-b75c-ba003c1cda72"
   },
   "outputs": [
    {
     "data": {
      "text/html": [
       "<div>\n",
       "<style scoped>\n",
       "    .dataframe tbody tr th:only-of-type {\n",
       "        vertical-align: middle;\n",
       "    }\n",
       "\n",
       "    .dataframe tbody tr th {\n",
       "        vertical-align: top;\n",
       "    }\n",
       "\n",
       "    .dataframe thead th {\n",
       "        text-align: right;\n",
       "    }\n",
       "</style>\n",
       "<table border=\"1\" class=\"dataframe\">\n",
       "  <thead>\n",
       "    <tr style=\"text-align: right;\">\n",
       "      <th></th>\n",
       "      <th>year</th>\n",
       "      <th>odometer</th>\n",
       "      <th>lat</th>\n",
       "      <th>long</th>\n",
       "      <th>price</th>\n",
       "      <th>condition_excellent</th>\n",
       "      <th>condition_fair</th>\n",
       "      <th>condition_good</th>\n",
       "      <th>condition_like new</th>\n",
       "      <th>condition_new</th>\n",
       "      <th>condition_salvage</th>\n",
       "      <th>cylinders_10 cylinders</th>\n",
       "      <th>cylinders_12 cylinders</th>\n",
       "      <th>cylinders_3 cylinders</th>\n",
       "      <th>cylinders_4 cylinders</th>\n",
       "      <th>cylinders_5 cylinders</th>\n",
       "      <th>cylinders_6 cylinders</th>\n",
       "      <th>cylinders_8 cylinders</th>\n",
       "      <th>cylinders_other</th>\n",
       "      <th>manufacturer_acura</th>\n",
       "      <th>manufacturer_alfa-romeo</th>\n",
       "      <th>manufacturer_aston-martin</th>\n",
       "      <th>manufacturer_audi</th>\n",
       "      <th>manufacturer_bmw</th>\n",
       "      <th>manufacturer_buick</th>\n",
       "      <th>manufacturer_cadillac</th>\n",
       "      <th>manufacturer_chevrolet</th>\n",
       "      <th>manufacturer_chrysler</th>\n",
       "      <th>manufacturer_datsun</th>\n",
       "      <th>manufacturer_dodge</th>\n",
       "      <th>manufacturer_ferrari</th>\n",
       "      <th>manufacturer_fiat</th>\n",
       "      <th>manufacturer_ford</th>\n",
       "      <th>manufacturer_gmc</th>\n",
       "      <th>manufacturer_harley-davidson</th>\n",
       "      <th>manufacturer_honda</th>\n",
       "      <th>manufacturer_hyundai</th>\n",
       "      <th>manufacturer_infiniti</th>\n",
       "      <th>manufacturer_jaguar</th>\n",
       "      <th>manufacturer_jeep</th>\n",
       "      <th>...</th>\n",
       "      <th>fuel_gas</th>\n",
       "      <th>fuel_hybrid</th>\n",
       "      <th>fuel_other</th>\n",
       "      <th>title_status_clean</th>\n",
       "      <th>title_status_lien</th>\n",
       "      <th>title_status_missing</th>\n",
       "      <th>title_status_parts only</th>\n",
       "      <th>title_status_rebuilt</th>\n",
       "      <th>title_status_salvage</th>\n",
       "      <th>transmission_automatic</th>\n",
       "      <th>transmission_manual</th>\n",
       "      <th>transmission_other</th>\n",
       "      <th>drive_4wd</th>\n",
       "      <th>drive_fwd</th>\n",
       "      <th>drive_rwd</th>\n",
       "      <th>type_SUV</th>\n",
       "      <th>type_bus</th>\n",
       "      <th>type_convertible</th>\n",
       "      <th>type_coupe</th>\n",
       "      <th>type_hatchback</th>\n",
       "      <th>type_mini-van</th>\n",
       "      <th>type_offroad</th>\n",
       "      <th>type_other</th>\n",
       "      <th>type_pickup</th>\n",
       "      <th>type_sedan</th>\n",
       "      <th>type_truck</th>\n",
       "      <th>type_van</th>\n",
       "      <th>type_wagon</th>\n",
       "      <th>paint_color_black</th>\n",
       "      <th>paint_color_blue</th>\n",
       "      <th>paint_color_brown</th>\n",
       "      <th>paint_color_custom</th>\n",
       "      <th>paint_color_green</th>\n",
       "      <th>paint_color_grey</th>\n",
       "      <th>paint_color_orange</th>\n",
       "      <th>paint_color_purple</th>\n",
       "      <th>paint_color_red</th>\n",
       "      <th>paint_color_silver</th>\n",
       "      <th>paint_color_white</th>\n",
       "      <th>paint_color_yellow</th>\n",
       "    </tr>\n",
       "  </thead>\n",
       "  <tbody>\n",
       "    <tr>\n",
       "      <th>year</th>\n",
       "      <td>1.000000</td>\n",
       "      <td>-0.127658</td>\n",
       "      <td>-0.005931</td>\n",
       "      <td>0.046156</td>\n",
       "      <td>-0.007147</td>\n",
       "      <td>0.045822</td>\n",
       "      <td>-0.205968</td>\n",
       "      <td>-0.024918</td>\n",
       "      <td>0.087331</td>\n",
       "      <td>0.004934</td>\n",
       "      <td>-0.030078</td>\n",
       "      <td>0.011942</td>\n",
       "      <td>-0.016299</td>\n",
       "      <td>-0.011203</td>\n",
       "      <td>0.101808</td>\n",
       "      <td>-0.017982</td>\n",
       "      <td>0.074415</td>\n",
       "      <td>-0.174545</td>\n",
       "      <td>-0.033596</td>\n",
       "      <td>0.012121</td>\n",
       "      <td>-0.015685</td>\n",
       "      <td>-0.002821</td>\n",
       "      <td>0.014545</td>\n",
       "      <td>0.010153</td>\n",
       "      <td>-0.017767</td>\n",
       "      <td>-0.030124</td>\n",
       "      <td>-0.046737</td>\n",
       "      <td>0.000385</td>\n",
       "      <td>-0.048078</td>\n",
       "      <td>0.009547</td>\n",
       "      <td>-0.004461</td>\n",
       "      <td>-0.003874</td>\n",
       "      <td>-0.050851</td>\n",
       "      <td>0.028975</td>\n",
       "      <td>-0.014314</td>\n",
       "      <td>-0.003475</td>\n",
       "      <td>0.044295</td>\n",
       "      <td>0.044304</td>\n",
       "      <td>-0.017332</td>\n",
       "      <td>0.018392</td>\n",
       "      <td>...</td>\n",
       "      <td>-0.047686</td>\n",
       "      <td>0.026864</td>\n",
       "      <td>0.071284</td>\n",
       "      <td>-0.036075</td>\n",
       "      <td>0.029754</td>\n",
       "      <td>-0.103066</td>\n",
       "      <td>-0.029695</td>\n",
       "      <td>0.054944</td>\n",
       "      <td>0.007362</td>\n",
       "      <td>0.002611</td>\n",
       "      <td>-0.277586</td>\n",
       "      <td>0.226473</td>\n",
       "      <td>0.133542</td>\n",
       "      <td>0.095704</td>\n",
       "      <td>-0.261737</td>\n",
       "      <td>0.072266</td>\n",
       "      <td>-0.033539</td>\n",
       "      <td>-0.180856</td>\n",
       "      <td>-0.117033</td>\n",
       "      <td>0.019223</td>\n",
       "      <td>0.005282</td>\n",
       "      <td>-0.068132</td>\n",
       "      <td>0.057404</td>\n",
       "      <td>0.022970</td>\n",
       "      <td>0.038250</td>\n",
       "      <td>-0.033230</td>\n",
       "      <td>0.036005</td>\n",
       "      <td>0.020826</td>\n",
       "      <td>0.070642</td>\n",
       "      <td>-0.054250</td>\n",
       "      <td>-0.048381</td>\n",
       "      <td>-0.082903</td>\n",
       "      <td>-0.126693</td>\n",
       "      <td>0.040800</td>\n",
       "      <td>-0.048094</td>\n",
       "      <td>-0.044013</td>\n",
       "      <td>-0.058614</td>\n",
       "      <td>0.032920</td>\n",
       "      <td>0.087726</td>\n",
       "      <td>-0.074767</td>\n",
       "    </tr>\n",
       "    <tr>\n",
       "      <th>odometer</th>\n",
       "      <td>-0.127658</td>\n",
       "      <td>1.000000</td>\n",
       "      <td>-0.004826</td>\n",
       "      <td>-0.005551</td>\n",
       "      <td>0.001781</td>\n",
       "      <td>-0.007041</td>\n",
       "      <td>0.099586</td>\n",
       "      <td>-0.005081</td>\n",
       "      <td>-0.035791</td>\n",
       "      <td>-0.018482</td>\n",
       "      <td>0.014165</td>\n",
       "      <td>-0.002203</td>\n",
       "      <td>0.000597</td>\n",
       "      <td>-0.010466</td>\n",
       "      <td>-0.008248</td>\n",
       "      <td>0.012811</td>\n",
       "      <td>-0.008858</td>\n",
       "      <td>0.017133</td>\n",
       "      <td>-0.007499</td>\n",
       "      <td>0.003219</td>\n",
       "      <td>-0.009394</td>\n",
       "      <td>-0.006277</td>\n",
       "      <td>-0.005666</td>\n",
       "      <td>-0.010573</td>\n",
       "      <td>-0.007865</td>\n",
       "      <td>-0.008269</td>\n",
       "      <td>-0.010893</td>\n",
       "      <td>-0.004147</td>\n",
       "      <td>-0.001421</td>\n",
       "      <td>-0.018228</td>\n",
       "      <td>-0.006908</td>\n",
       "      <td>-0.009913</td>\n",
       "      <td>0.016734</td>\n",
       "      <td>0.011536</td>\n",
       "      <td>0.002577</td>\n",
       "      <td>0.024555</td>\n",
       "      <td>0.008096</td>\n",
       "      <td>-0.016907</td>\n",
       "      <td>-0.013679</td>\n",
       "      <td>-0.019726</td>\n",
       "      <td>...</td>\n",
       "      <td>-0.030318</td>\n",
       "      <td>0.002189</td>\n",
       "      <td>-0.038228</td>\n",
       "      <td>0.022875</td>\n",
       "      <td>-0.009866</td>\n",
       "      <td>0.004392</td>\n",
       "      <td>0.001089</td>\n",
       "      <td>-0.024516</td>\n",
       "      <td>-0.002471</td>\n",
       "      <td>0.092922</td>\n",
       "      <td>0.028365</td>\n",
       "      <td>-0.138313</td>\n",
       "      <td>0.009665</td>\n",
       "      <td>0.006374</td>\n",
       "      <td>-0.018328</td>\n",
       "      <td>0.031042</td>\n",
       "      <td>0.001503</td>\n",
       "      <td>-0.023494</td>\n",
       "      <td>-0.031998</td>\n",
       "      <td>-0.002494</td>\n",
       "      <td>0.020944</td>\n",
       "      <td>-0.000214</td>\n",
       "      <td>-0.049627</td>\n",
       "      <td>-0.021139</td>\n",
       "      <td>-0.013789</td>\n",
       "      <td>0.049651</td>\n",
       "      <td>0.000079</td>\n",
       "      <td>0.002917</td>\n",
       "      <td>-0.024935</td>\n",
       "      <td>0.012779</td>\n",
       "      <td>0.008220</td>\n",
       "      <td>0.002664</td>\n",
       "      <td>0.016954</td>\n",
       "      <td>0.008841</td>\n",
       "      <td>-0.009163</td>\n",
       "      <td>0.005155</td>\n",
       "      <td>-0.004159</td>\n",
       "      <td>0.014446</td>\n",
       "      <td>-0.010091</td>\n",
       "      <td>-0.007924</td>\n",
       "    </tr>\n",
       "    <tr>\n",
       "      <th>lat</th>\n",
       "      <td>-0.005931</td>\n",
       "      <td>-0.004826</td>\n",
       "      <td>1.000000</td>\n",
       "      <td>-0.028500</td>\n",
       "      <td>0.002799</td>\n",
       "      <td>-0.006771</td>\n",
       "      <td>0.016385</td>\n",
       "      <td>0.025124</td>\n",
       "      <td>-0.037756</td>\n",
       "      <td>0.000368</td>\n",
       "      <td>-0.003284</td>\n",
       "      <td>-0.034444</td>\n",
       "      <td>0.007722</td>\n",
       "      <td>-0.003514</td>\n",
       "      <td>0.043028</td>\n",
       "      <td>-0.004979</td>\n",
       "      <td>-0.015247</td>\n",
       "      <td>-0.020814</td>\n",
       "      <td>0.004560</td>\n",
       "      <td>-0.011019</td>\n",
       "      <td>-0.000747</td>\n",
       "      <td>-0.015880</td>\n",
       "      <td>0.022958</td>\n",
       "      <td>-0.024758</td>\n",
       "      <td>0.034534</td>\n",
       "      <td>-0.010043</td>\n",
       "      <td>0.028922</td>\n",
       "      <td>0.005049</td>\n",
       "      <td>-0.003283</td>\n",
       "      <td>-0.014478</td>\n",
       "      <td>0.005984</td>\n",
       "      <td>-0.007725</td>\n",
       "      <td>0.012765</td>\n",
       "      <td>-0.002009</td>\n",
       "      <td>0.004308</td>\n",
       "      <td>-0.002477</td>\n",
       "      <td>0.003036</td>\n",
       "      <td>-0.024000</td>\n",
       "      <td>-0.015032</td>\n",
       "      <td>0.004511</td>\n",
       "      <td>...</td>\n",
       "      <td>-0.006448</td>\n",
       "      <td>-0.010132</td>\n",
       "      <td>-0.012179</td>\n",
       "      <td>-0.012313</td>\n",
       "      <td>0.022433</td>\n",
       "      <td>0.002758</td>\n",
       "      <td>0.006638</td>\n",
       "      <td>0.009075</td>\n",
       "      <td>-0.007714</td>\n",
       "      <td>0.053929</td>\n",
       "      <td>0.018838</td>\n",
       "      <td>-0.082238</td>\n",
       "      <td>0.176066</td>\n",
       "      <td>-0.049269</td>\n",
       "      <td>-0.149663</td>\n",
       "      <td>0.054300</td>\n",
       "      <td>-0.000059</td>\n",
       "      <td>-0.017896</td>\n",
       "      <td>-0.043192</td>\n",
       "      <td>0.013615</td>\n",
       "      <td>-0.001279</td>\n",
       "      <td>-0.020534</td>\n",
       "      <td>-0.037721</td>\n",
       "      <td>-0.017271</td>\n",
       "      <td>-0.009323</td>\n",
       "      <td>0.003653</td>\n",
       "      <td>-0.002826</td>\n",
       "      <td>0.033361</td>\n",
       "      <td>0.009528</td>\n",
       "      <td>0.024187</td>\n",
       "      <td>0.016130</td>\n",
       "      <td>-0.014175</td>\n",
       "      <td>0.024243</td>\n",
       "      <td>0.013083</td>\n",
       "      <td>-0.007428</td>\n",
       "      <td>0.010716</td>\n",
       "      <td>0.026570</td>\n",
       "      <td>-0.007757</td>\n",
       "      <td>-0.058580</td>\n",
       "      <td>-0.007928</td>\n",
       "    </tr>\n",
       "    <tr>\n",
       "      <th>long</th>\n",
       "      <td>0.046156</td>\n",
       "      <td>-0.005551</td>\n",
       "      <td>-0.028500</td>\n",
       "      <td>1.000000</td>\n",
       "      <td>-0.011901</td>\n",
       "      <td>-0.054368</td>\n",
       "      <td>-0.012027</td>\n",
       "      <td>0.074754</td>\n",
       "      <td>-0.020596</td>\n",
       "      <td>-0.006197</td>\n",
       "      <td>-0.013634</td>\n",
       "      <td>0.024729</td>\n",
       "      <td>-0.002964</td>\n",
       "      <td>0.007072</td>\n",
       "      <td>-0.050314</td>\n",
       "      <td>-0.001753</td>\n",
       "      <td>0.025743</td>\n",
       "      <td>0.020986</td>\n",
       "      <td>-0.017572</td>\n",
       "      <td>-0.011923</td>\n",
       "      <td>0.000050</td>\n",
       "      <td>0.009774</td>\n",
       "      <td>0.001069</td>\n",
       "      <td>-0.008322</td>\n",
       "      <td>0.005711</td>\n",
       "      <td>0.005027</td>\n",
       "      <td>0.013608</td>\n",
       "      <td>0.011254</td>\n",
       "      <td>-0.014652</td>\n",
       "      <td>-0.002455</td>\n",
       "      <td>-0.004569</td>\n",
       "      <td>-0.013561</td>\n",
       "      <td>0.019061</td>\n",
       "      <td>0.008202</td>\n",
       "      <td>-0.012663</td>\n",
       "      <td>-0.003675</td>\n",
       "      <td>-0.002277</td>\n",
       "      <td>0.016511</td>\n",
       "      <td>-0.001986</td>\n",
       "      <td>0.012113</td>\n",
       "      <td>...</td>\n",
       "      <td>0.009130</td>\n",
       "      <td>-0.026979</td>\n",
       "      <td>0.023647</td>\n",
       "      <td>0.015128</td>\n",
       "      <td>-0.009190</td>\n",
       "      <td>0.004424</td>\n",
       "      <td>-0.013899</td>\n",
       "      <td>0.017654</td>\n",
       "      <td>-0.047905</td>\n",
       "      <td>-0.060529</td>\n",
       "      <td>-0.033859</td>\n",
       "      <td>0.102825</td>\n",
       "      <td>0.045462</td>\n",
       "      <td>-0.030987</td>\n",
       "      <td>-0.018300</td>\n",
       "      <td>-0.015531</td>\n",
       "      <td>-0.006548</td>\n",
       "      <td>0.006955</td>\n",
       "      <td>0.020234</td>\n",
       "      <td>-0.023706</td>\n",
       "      <td>0.011587</td>\n",
       "      <td>-0.026555</td>\n",
       "      <td>0.011051</td>\n",
       "      <td>0.002300</td>\n",
       "      <td>-0.007193</td>\n",
       "      <td>-0.004048</td>\n",
       "      <td>0.021253</td>\n",
       "      <td>0.019629</td>\n",
       "      <td>0.029195</td>\n",
       "      <td>0.015747</td>\n",
       "      <td>-0.014507</td>\n",
       "      <td>0.014404</td>\n",
       "      <td>0.002034</td>\n",
       "      <td>-0.024977</td>\n",
       "      <td>-0.002341</td>\n",
       "      <td>-0.002917</td>\n",
       "      <td>0.032752</td>\n",
       "      <td>-0.014905</td>\n",
       "      <td>-0.031488</td>\n",
       "      <td>0.002353</td>\n",
       "    </tr>\n",
       "    <tr>\n",
       "      <th>price</th>\n",
       "      <td>-0.007147</td>\n",
       "      <td>0.001781</td>\n",
       "      <td>0.002799</td>\n",
       "      <td>-0.011901</td>\n",
       "      <td>1.000000</td>\n",
       "      <td>-0.006769</td>\n",
       "      <td>0.002444</td>\n",
       "      <td>0.007593</td>\n",
       "      <td>-0.002385</td>\n",
       "      <td>-0.000430</td>\n",
       "      <td>-0.000424</td>\n",
       "      <td>-0.000602</td>\n",
       "      <td>-0.000132</td>\n",
       "      <td>-0.000320</td>\n",
       "      <td>-0.005422</td>\n",
       "      <td>-0.000784</td>\n",
       "      <td>-0.005575</td>\n",
       "      <td>0.011683</td>\n",
       "      <td>-0.000333</td>\n",
       "      <td>-0.000760</td>\n",
       "      <td>-0.000155</td>\n",
       "      <td>-0.000023</td>\n",
       "      <td>-0.000815</td>\n",
       "      <td>-0.001246</td>\n",
       "      <td>-0.000896</td>\n",
       "      <td>-0.000873</td>\n",
       "      <td>-0.002791</td>\n",
       "      <td>-0.001052</td>\n",
       "      <td>-0.000101</td>\n",
       "      <td>-0.001410</td>\n",
       "      <td>-0.000018</td>\n",
       "      <td>-0.000314</td>\n",
       "      <td>0.013821</td>\n",
       "      <td>0.002236</td>\n",
       "      <td>-0.000156</td>\n",
       "      <td>-0.002061</td>\n",
       "      <td>-0.001244</td>\n",
       "      <td>-0.000795</td>\n",
       "      <td>-0.000369</td>\n",
       "      <td>-0.001596</td>\n",
       "      <td>...</td>\n",
       "      <td>-0.021785</td>\n",
       "      <td>-0.000855</td>\n",
       "      <td>-0.000681</td>\n",
       "      <td>0.001799</td>\n",
       "      <td>-0.000506</td>\n",
       "      <td>-0.000340</td>\n",
       "      <td>-0.000210</td>\n",
       "      <td>-0.001359</td>\n",
       "      <td>-0.000945</td>\n",
       "      <td>0.002844</td>\n",
       "      <td>-0.002098</td>\n",
       "      <td>-0.001779</td>\n",
       "      <td>-0.004228</td>\n",
       "      <td>-0.005851</td>\n",
       "      <td>0.011429</td>\n",
       "      <td>-0.004191</td>\n",
       "      <td>-0.000301</td>\n",
       "      <td>-0.001256</td>\n",
       "      <td>-0.001838</td>\n",
       "      <td>-0.001613</td>\n",
       "      <td>-0.001280</td>\n",
       "      <td>-0.000468</td>\n",
       "      <td>-0.000962</td>\n",
       "      <td>0.020845</td>\n",
       "      <td>-0.004849</td>\n",
       "      <td>-0.002373</td>\n",
       "      <td>-0.001291</td>\n",
       "      <td>-0.001296</td>\n",
       "      <td>-0.001373</td>\n",
       "      <td>-0.002661</td>\n",
       "      <td>-0.001321</td>\n",
       "      <td>-0.001106</td>\n",
       "      <td>-0.001381</td>\n",
       "      <td>-0.002667</td>\n",
       "      <td>-0.000511</td>\n",
       "      <td>-0.000439</td>\n",
       "      <td>-0.002505</td>\n",
       "      <td>-0.003188</td>\n",
       "      <td>0.011335</td>\n",
       "      <td>-0.000667</td>\n",
       "    </tr>\n",
       "    <tr>\n",
       "      <th>...</th>\n",
       "      <td>...</td>\n",
       "      <td>...</td>\n",
       "      <td>...</td>\n",
       "      <td>...</td>\n",
       "      <td>...</td>\n",
       "      <td>...</td>\n",
       "      <td>...</td>\n",
       "      <td>...</td>\n",
       "      <td>...</td>\n",
       "      <td>...</td>\n",
       "      <td>...</td>\n",
       "      <td>...</td>\n",
       "      <td>...</td>\n",
       "      <td>...</td>\n",
       "      <td>...</td>\n",
       "      <td>...</td>\n",
       "      <td>...</td>\n",
       "      <td>...</td>\n",
       "      <td>...</td>\n",
       "      <td>...</td>\n",
       "      <td>...</td>\n",
       "      <td>...</td>\n",
       "      <td>...</td>\n",
       "      <td>...</td>\n",
       "      <td>...</td>\n",
       "      <td>...</td>\n",
       "      <td>...</td>\n",
       "      <td>...</td>\n",
       "      <td>...</td>\n",
       "      <td>...</td>\n",
       "      <td>...</td>\n",
       "      <td>...</td>\n",
       "      <td>...</td>\n",
       "      <td>...</td>\n",
       "      <td>...</td>\n",
       "      <td>...</td>\n",
       "      <td>...</td>\n",
       "      <td>...</td>\n",
       "      <td>...</td>\n",
       "      <td>...</td>\n",
       "      <td>...</td>\n",
       "      <td>...</td>\n",
       "      <td>...</td>\n",
       "      <td>...</td>\n",
       "      <td>...</td>\n",
       "      <td>...</td>\n",
       "      <td>...</td>\n",
       "      <td>...</td>\n",
       "      <td>...</td>\n",
       "      <td>...</td>\n",
       "      <td>...</td>\n",
       "      <td>...</td>\n",
       "      <td>...</td>\n",
       "      <td>...</td>\n",
       "      <td>...</td>\n",
       "      <td>...</td>\n",
       "      <td>...</td>\n",
       "      <td>...</td>\n",
       "      <td>...</td>\n",
       "      <td>...</td>\n",
       "      <td>...</td>\n",
       "      <td>...</td>\n",
       "      <td>...</td>\n",
       "      <td>...</td>\n",
       "      <td>...</td>\n",
       "      <td>...</td>\n",
       "      <td>...</td>\n",
       "      <td>...</td>\n",
       "      <td>...</td>\n",
       "      <td>...</td>\n",
       "      <td>...</td>\n",
       "      <td>...</td>\n",
       "      <td>...</td>\n",
       "      <td>...</td>\n",
       "      <td>...</td>\n",
       "      <td>...</td>\n",
       "      <td>...</td>\n",
       "      <td>...</td>\n",
       "      <td>...</td>\n",
       "      <td>...</td>\n",
       "      <td>...</td>\n",
       "    </tr>\n",
       "    <tr>\n",
       "      <th>paint_color_purple</th>\n",
       "      <td>-0.044013</td>\n",
       "      <td>0.005155</td>\n",
       "      <td>0.010716</td>\n",
       "      <td>-0.002917</td>\n",
       "      <td>-0.000439</td>\n",
       "      <td>-0.009556</td>\n",
       "      <td>0.016664</td>\n",
       "      <td>0.006804</td>\n",
       "      <td>-0.003741</td>\n",
       "      <td>-0.003739</td>\n",
       "      <td>-0.002629</td>\n",
       "      <td>-0.004463</td>\n",
       "      <td>-0.001185</td>\n",
       "      <td>0.017370</td>\n",
       "      <td>-0.005904</td>\n",
       "      <td>-0.005075</td>\n",
       "      <td>0.009006</td>\n",
       "      <td>-0.004646</td>\n",
       "      <td>0.014347</td>\n",
       "      <td>-0.005493</td>\n",
       "      <td>-0.001289</td>\n",
       "      <td>-0.000715</td>\n",
       "      <td>-0.005839</td>\n",
       "      <td>0.000573</td>\n",
       "      <td>0.014305</td>\n",
       "      <td>-0.006557</td>\n",
       "      <td>0.000547</td>\n",
       "      <td>-0.000891</td>\n",
       "      <td>-0.000715</td>\n",
       "      <td>0.019468</td>\n",
       "      <td>-0.000715</td>\n",
       "      <td>-0.002145</td>\n",
       "      <td>0.001705</td>\n",
       "      <td>-0.003548</td>\n",
       "      <td>-0.001130</td>\n",
       "      <td>0.016369</td>\n",
       "      <td>0.007663</td>\n",
       "      <td>-0.006312</td>\n",
       "      <td>-0.003221</td>\n",
       "      <td>-0.001750</td>\n",
       "      <td>...</td>\n",
       "      <td>0.005001</td>\n",
       "      <td>0.023746</td>\n",
       "      <td>-0.006813</td>\n",
       "      <td>-0.004786</td>\n",
       "      <td>-0.004463</td>\n",
       "      <td>-0.002115</td>\n",
       "      <td>-0.001238</td>\n",
       "      <td>0.008654</td>\n",
       "      <td>0.000455</td>\n",
       "      <td>0.004592</td>\n",
       "      <td>0.003560</td>\n",
       "      <td>-0.008621</td>\n",
       "      <td>-0.022696</td>\n",
       "      <td>0.014256</td>\n",
       "      <td>0.010487</td>\n",
       "      <td>-0.000299</td>\n",
       "      <td>-0.002175</td>\n",
       "      <td>0.004199</td>\n",
       "      <td>0.006205</td>\n",
       "      <td>0.010288</td>\n",
       "      <td>-0.003302</td>\n",
       "      <td>-0.003545</td>\n",
       "      <td>-0.009377</td>\n",
       "      <td>-0.004177</td>\n",
       "      <td>0.006578</td>\n",
       "      <td>-0.005265</td>\n",
       "      <td>-0.000805</td>\n",
       "      <td>-0.008875</td>\n",
       "      <td>-0.026343</td>\n",
       "      <td>-0.019326</td>\n",
       "      <td>-0.009261</td>\n",
       "      <td>-0.007817</td>\n",
       "      <td>-0.009577</td>\n",
       "      <td>-0.018900</td>\n",
       "      <td>-0.003957</td>\n",
       "      <td>1.000000</td>\n",
       "      <td>-0.019061</td>\n",
       "      <td>-0.022661</td>\n",
       "      <td>-0.030666</td>\n",
       "      <td>-0.005164</td>\n",
       "    </tr>\n",
       "    <tr>\n",
       "      <th>paint_color_red</th>\n",
       "      <td>-0.058614</td>\n",
       "      <td>-0.004159</td>\n",
       "      <td>0.026570</td>\n",
       "      <td>0.032752</td>\n",
       "      <td>-0.002505</td>\n",
       "      <td>-0.014679</td>\n",
       "      <td>0.014136</td>\n",
       "      <td>0.010144</td>\n",
       "      <td>-0.001149</td>\n",
       "      <td>0.002277</td>\n",
       "      <td>0.000339</td>\n",
       "      <td>-0.021840</td>\n",
       "      <td>-0.007601</td>\n",
       "      <td>-0.003890</td>\n",
       "      <td>-0.017778</td>\n",
       "      <td>-0.005653</td>\n",
       "      <td>-0.009184</td>\n",
       "      <td>0.034421</td>\n",
       "      <td>-0.010483</td>\n",
       "      <td>-0.010349</td>\n",
       "      <td>0.009244</td>\n",
       "      <td>-0.004583</td>\n",
       "      <td>-0.025723</td>\n",
       "      <td>-0.040767</td>\n",
       "      <td>0.010959</td>\n",
       "      <td>-0.018793</td>\n",
       "      <td>0.082093</td>\n",
       "      <td>0.002113</td>\n",
       "      <td>-0.004583</td>\n",
       "      <td>0.005325</td>\n",
       "      <td>0.016455</td>\n",
       "      <td>0.010803</td>\n",
       "      <td>0.021497</td>\n",
       "      <td>-0.012800</td>\n",
       "      <td>-0.007247</td>\n",
       "      <td>-0.024340</td>\n",
       "      <td>-0.000271</td>\n",
       "      <td>-0.029620</td>\n",
       "      <td>-0.004267</td>\n",
       "      <td>0.030790</td>\n",
       "      <td>...</td>\n",
       "      <td>0.020106</td>\n",
       "      <td>-0.006709</td>\n",
       "      <td>-0.007836</td>\n",
       "      <td>0.001832</td>\n",
       "      <td>-0.008278</td>\n",
       "      <td>0.000668</td>\n",
       "      <td>0.010283</td>\n",
       "      <td>0.005073</td>\n",
       "      <td>-0.007530</td>\n",
       "      <td>-0.071839</td>\n",
       "      <td>0.029561</td>\n",
       "      <td>0.064323</td>\n",
       "      <td>0.009803</td>\n",
       "      <td>-0.026485</td>\n",
       "      <td>0.018111</td>\n",
       "      <td>-0.029280</td>\n",
       "      <td>-0.007026</td>\n",
       "      <td>0.036374</td>\n",
       "      <td>0.062572</td>\n",
       "      <td>0.008365</td>\n",
       "      <td>-0.010987</td>\n",
       "      <td>0.009212</td>\n",
       "      <td>0.033944</td>\n",
       "      <td>0.066017</td>\n",
       "      <td>-0.053211</td>\n",
       "      <td>-0.001945</td>\n",
       "      <td>-0.043411</td>\n",
       "      <td>-0.030829</td>\n",
       "      <td>-0.168933</td>\n",
       "      <td>-0.123932</td>\n",
       "      <td>-0.059390</td>\n",
       "      <td>-0.050128</td>\n",
       "      <td>-0.061418</td>\n",
       "      <td>-0.121204</td>\n",
       "      <td>-0.025375</td>\n",
       "      <td>-0.019061</td>\n",
       "      <td>1.000000</td>\n",
       "      <td>-0.145322</td>\n",
       "      <td>-0.196657</td>\n",
       "      <td>-0.033113</td>\n",
       "    </tr>\n",
       "    <tr>\n",
       "      <th>paint_color_silver</th>\n",
       "      <td>0.032920</td>\n",
       "      <td>0.014446</td>\n",
       "      <td>-0.007757</td>\n",
       "      <td>-0.014905</td>\n",
       "      <td>-0.003188</td>\n",
       "      <td>0.022454</td>\n",
       "      <td>-0.020433</td>\n",
       "      <td>-0.008849</td>\n",
       "      <td>-0.010291</td>\n",
       "      <td>-0.001878</td>\n",
       "      <td>0.002632</td>\n",
       "      <td>-0.019126</td>\n",
       "      <td>-0.003460</td>\n",
       "      <td>-0.004798</td>\n",
       "      <td>0.059497</td>\n",
       "      <td>0.008583</td>\n",
       "      <td>0.040290</td>\n",
       "      <td>-0.100157</td>\n",
       "      <td>-0.001330</td>\n",
       "      <td>0.023724</td>\n",
       "      <td>-0.009824</td>\n",
       "      <td>-0.005449</td>\n",
       "      <td>0.000124</td>\n",
       "      <td>0.006289</td>\n",
       "      <td>-0.000861</td>\n",
       "      <td>-0.002974</td>\n",
       "      <td>-0.029514</td>\n",
       "      <td>0.017212</td>\n",
       "      <td>0.003798</td>\n",
       "      <td>-0.012806</td>\n",
       "      <td>-0.005449</td>\n",
       "      <td>-0.016357</td>\n",
       "      <td>-0.077030</td>\n",
       "      <td>-0.035156</td>\n",
       "      <td>-0.002767</td>\n",
       "      <td>0.031320</td>\n",
       "      <td>0.027328</td>\n",
       "      <td>-0.007821</td>\n",
       "      <td>-0.008094</td>\n",
       "      <td>-0.010650</td>\n",
       "      <td>...</td>\n",
       "      <td>0.023589</td>\n",
       "      <td>0.031263</td>\n",
       "      <td>0.000256</td>\n",
       "      <td>-0.004225</td>\n",
       "      <td>0.003227</td>\n",
       "      <td>-0.000488</td>\n",
       "      <td>-0.004100</td>\n",
       "      <td>-0.006357</td>\n",
       "      <td>0.016359</td>\n",
       "      <td>0.017266</td>\n",
       "      <td>-0.011385</td>\n",
       "      <td>-0.011919</td>\n",
       "      <td>-0.025775</td>\n",
       "      <td>0.093668</td>\n",
       "      <td>-0.074387</td>\n",
       "      <td>0.007633</td>\n",
       "      <td>-0.016583</td>\n",
       "      <td>-0.001315</td>\n",
       "      <td>-0.034711</td>\n",
       "      <td>0.006078</td>\n",
       "      <td>0.023641</td>\n",
       "      <td>-0.008305</td>\n",
       "      <td>0.005400</td>\n",
       "      <td>-0.043903</td>\n",
       "      <td>0.094155</td>\n",
       "      <td>-0.065005</td>\n",
       "      <td>-0.032768</td>\n",
       "      <td>0.010288</td>\n",
       "      <td>-0.200840</td>\n",
       "      <td>-0.147340</td>\n",
       "      <td>-0.070607</td>\n",
       "      <td>-0.059596</td>\n",
       "      <td>-0.073018</td>\n",
       "      <td>-0.144097</td>\n",
       "      <td>-0.030167</td>\n",
       "      <td>-0.022661</td>\n",
       "      <td>-0.145322</td>\n",
       "      <td>1.000000</td>\n",
       "      <td>-0.233801</td>\n",
       "      <td>-0.039368</td>\n",
       "    </tr>\n",
       "    <tr>\n",
       "      <th>paint_color_white</th>\n",
       "      <td>0.087726</td>\n",
       "      <td>-0.010091</td>\n",
       "      <td>-0.058580</td>\n",
       "      <td>-0.031488</td>\n",
       "      <td>0.011335</td>\n",
       "      <td>-0.009390</td>\n",
       "      <td>-0.027527</td>\n",
       "      <td>0.015214</td>\n",
       "      <td>0.007791</td>\n",
       "      <td>-0.000291</td>\n",
       "      <td>-0.006224</td>\n",
       "      <td>0.052837</td>\n",
       "      <td>-0.002978</td>\n",
       "      <td>0.004649</td>\n",
       "      <td>-0.097356</td>\n",
       "      <td>-0.015325</td>\n",
       "      <td>-0.000405</td>\n",
       "      <td>0.092056</td>\n",
       "      <td>0.001596</td>\n",
       "      <td>-0.011328</td>\n",
       "      <td>-0.009040</td>\n",
       "      <td>-0.007373</td>\n",
       "      <td>-0.024163</td>\n",
       "      <td>-0.026302</td>\n",
       "      <td>0.002847</td>\n",
       "      <td>-0.001522</td>\n",
       "      <td>0.021969</td>\n",
       "      <td>-0.021864</td>\n",
       "      <td>-0.007373</td>\n",
       "      <td>-0.019729</td>\n",
       "      <td>0.000296</td>\n",
       "      <td>-0.004227</td>\n",
       "      <td>0.136159</td>\n",
       "      <td>0.027396</td>\n",
       "      <td>-0.011660</td>\n",
       "      <td>-0.076790</td>\n",
       "      <td>-0.024637</td>\n",
       "      <td>-0.015860</td>\n",
       "      <td>-0.005921</td>\n",
       "      <td>-0.028296</td>\n",
       "      <td>...</td>\n",
       "      <td>-0.107920</td>\n",
       "      <td>-0.008870</td>\n",
       "      <td>0.009767</td>\n",
       "      <td>0.024097</td>\n",
       "      <td>0.002158</td>\n",
       "      <td>-0.001069</td>\n",
       "      <td>0.000513</td>\n",
       "      <td>-0.022383</td>\n",
       "      <td>-0.014538</td>\n",
       "      <td>0.032374</td>\n",
       "      <td>-0.060644</td>\n",
       "      <td>0.010172</td>\n",
       "      <td>-0.015344</td>\n",
       "      <td>-0.085116</td>\n",
       "      <td>0.112631</td>\n",
       "      <td>-0.056633</td>\n",
       "      <td>0.043169</td>\n",
       "      <td>-0.038976</td>\n",
       "      <td>-0.041236</td>\n",
       "      <td>-0.035971</td>\n",
       "      <td>-0.011675</td>\n",
       "      <td>-0.011728</td>\n",
       "      <td>0.009752</td>\n",
       "      <td>0.045657</td>\n",
       "      <td>-0.096973</td>\n",
       "      <td>0.144098</td>\n",
       "      <td>0.163464</td>\n",
       "      <td>-0.012328</td>\n",
       "      <td>-0.271787</td>\n",
       "      <td>-0.199387</td>\n",
       "      <td>-0.095549</td>\n",
       "      <td>-0.080649</td>\n",
       "      <td>-0.098812</td>\n",
       "      <td>-0.194999</td>\n",
       "      <td>-0.040824</td>\n",
       "      <td>-0.030666</td>\n",
       "      <td>-0.196657</td>\n",
       "      <td>-0.233801</td>\n",
       "      <td>1.000000</td>\n",
       "      <td>-0.053274</td>\n",
       "    </tr>\n",
       "    <tr>\n",
       "      <th>paint_color_yellow</th>\n",
       "      <td>-0.074767</td>\n",
       "      <td>-0.007924</td>\n",
       "      <td>-0.007928</td>\n",
       "      <td>0.002353</td>\n",
       "      <td>-0.000667</td>\n",
       "      <td>-0.021200</td>\n",
       "      <td>0.013500</td>\n",
       "      <td>0.013685</td>\n",
       "      <td>0.003809</td>\n",
       "      <td>0.006910</td>\n",
       "      <td>-0.004567</td>\n",
       "      <td>-0.002127</td>\n",
       "      <td>-0.002059</td>\n",
       "      <td>-0.003829</td>\n",
       "      <td>-0.018164</td>\n",
       "      <td>0.001100</td>\n",
       "      <td>-0.016584</td>\n",
       "      <td>0.035864</td>\n",
       "      <td>0.005349</td>\n",
       "      <td>-0.009543</td>\n",
       "      <td>-0.002239</td>\n",
       "      <td>-0.001242</td>\n",
       "      <td>-0.005821</td>\n",
       "      <td>-0.013050</td>\n",
       "      <td>-0.003049</td>\n",
       "      <td>-0.003673</td>\n",
       "      <td>0.038802</td>\n",
       "      <td>-0.001547</td>\n",
       "      <td>-0.001242</td>\n",
       "      <td>0.014021</td>\n",
       "      <td>-0.001242</td>\n",
       "      <td>0.019563</td>\n",
       "      <td>-0.000638</td>\n",
       "      <td>0.000675</td>\n",
       "      <td>-0.001963</td>\n",
       "      <td>-0.012200</td>\n",
       "      <td>-0.014399</td>\n",
       "      <td>-0.010966</td>\n",
       "      <td>-0.005596</td>\n",
       "      <td>0.024120</td>\n",
       "      <td>...</td>\n",
       "      <td>0.002066</td>\n",
       "      <td>-0.005931</td>\n",
       "      <td>0.003039</td>\n",
       "      <td>0.010095</td>\n",
       "      <td>-0.007754</td>\n",
       "      <td>0.008135</td>\n",
       "      <td>0.018009</td>\n",
       "      <td>-0.011523</td>\n",
       "      <td>-0.003171</td>\n",
       "      <td>-0.053150</td>\n",
       "      <td>0.041987</td>\n",
       "      <td>0.030943</td>\n",
       "      <td>-0.035723</td>\n",
       "      <td>-0.022565</td>\n",
       "      <td>0.066634</td>\n",
       "      <td>-0.018886</td>\n",
       "      <td>0.007708</td>\n",
       "      <td>0.052688</td>\n",
       "      <td>0.076261</td>\n",
       "      <td>0.005736</td>\n",
       "      <td>-0.008744</td>\n",
       "      <td>0.015044</td>\n",
       "      <td>0.016576</td>\n",
       "      <td>-0.014538</td>\n",
       "      <td>-0.028979</td>\n",
       "      <td>-0.011830</td>\n",
       "      <td>-0.009249</td>\n",
       "      <td>-0.009646</td>\n",
       "      <td>-0.045764</td>\n",
       "      <td>-0.033573</td>\n",
       "      <td>-0.016089</td>\n",
       "      <td>-0.013580</td>\n",
       "      <td>-0.016638</td>\n",
       "      <td>-0.032834</td>\n",
       "      <td>-0.006874</td>\n",
       "      <td>-0.005164</td>\n",
       "      <td>-0.033113</td>\n",
       "      <td>-0.039368</td>\n",
       "      <td>-0.053274</td>\n",
       "      <td>1.000000</td>\n",
       "    </tr>\n",
       "  </tbody>\n",
       "</table>\n",
       "<p>102 rows × 102 columns</p>\n",
       "</div>"
      ],
      "text/plain": [
       "                        year  odometer  ...  paint_color_white  paint_color_yellow\n",
       "year                1.000000 -0.127658  ...           0.087726           -0.074767\n",
       "odometer           -0.127658  1.000000  ...          -0.010091           -0.007924\n",
       "lat                -0.005931 -0.004826  ...          -0.058580           -0.007928\n",
       "long                0.046156 -0.005551  ...          -0.031488            0.002353\n",
       "price              -0.007147  0.001781  ...           0.011335           -0.000667\n",
       "...                      ...       ...  ...                ...                 ...\n",
       "paint_color_purple -0.044013  0.005155  ...          -0.030666           -0.005164\n",
       "paint_color_red    -0.058614 -0.004159  ...          -0.196657           -0.033113\n",
       "paint_color_silver  0.032920  0.014446  ...          -0.233801           -0.039368\n",
       "paint_color_white   0.087726 -0.010091  ...           1.000000           -0.053274\n",
       "paint_color_yellow -0.074767 -0.007924  ...          -0.053274            1.000000\n",
       "\n",
       "[102 rows x 102 columns]"
      ]
     },
     "execution_count": 30,
     "metadata": {},
     "output_type": "execute_result"
    }
   ],
   "source": [
    "# Corrlation between the variables\n",
    "train_df_encoded.corr()"
   ]
  },
  {
   "cell_type": "code",
   "execution_count": 31,
   "metadata": {
    "colab": {
     "base_uri": "https://localhost:8080/",
     "height": 645
    },
    "id": "Z7URqTpp76IO",
    "outputId": "5ec9a3d3-2bd4-42fb-8eff-4470d0f7096e"
   },
   "outputs": [
    {
     "data": {
      "image/png": "[encoded data removed]",
      "text/plain": [
       "<Figure size 864x576 with 2 Axes>"
      ]
     },
     "metadata": {},
     "output_type": "display_data"
    }
   ],
   "source": [
    "# Correlation plot\n",
    "plt.figure(figsize = (12,8))\n",
    "train_df_corr = train_df_encoded.corr()\n",
    "sns.heatmap(train_df_corr,fmt = \"\", cmap = \"RdYlGn\", linewidth = 0.30)\n",
    "plt.show()"
   ]
  },
  {
   "cell_type": "markdown",
   "metadata": {
    "id": "mDB_rTcysYj-"
   },
   "source": [
    "Normalizing the train data"
   ]
  },
  {
   "cell_type": "code",
   "execution_count": 32,
   "metadata": {
    "colab": {
     "base_uri": "https://localhost:8080/"
    },
    "id": "4fkggxNzsX8e",
    "outputId": "88299a97-8a6a-4c7b-e693-aab76f122c75"
   },
   "outputs": [
    {
     "data": {
      "text/plain": [
       "array([[0.95      , 0.0033333 , 0.29812429, ..., 1.        , 0.        ,\n",
       "        0.        ],\n",
       "       [0.96      , 0.0038619 , 0.47039366, ..., 0.        , 0.        ,\n",
       "        0.        ],\n",
       "       [0.84      , 0.016094  , 0.48049321, ..., 0.        , 0.        ,\n",
       "        0.        ],\n",
       "       ...,\n",
       "       [0.9       , 0.0065    , 0.26679812, ..., 0.        , 0.        ,\n",
       "        0.        ],\n",
       "       [0.91      , 0.01392   , 0.37449306, ..., 1.        , 0.        ,\n",
       "        0.        ],\n",
       "       [0.89      , 0.0218666 , 0.3559063 , ..., 0.        , 0.        ,\n",
       "        0.        ]])"
      ]
     },
     "execution_count": 32,
     "metadata": {},
     "output_type": "execute_result"
    }
   ],
   "source": [
    "## MinMax scaler\n",
    "scaler = MinMaxScaler()\n",
    "\n",
    "scaler.fit(train_df_encoded.drop('price',axis=1))\n",
    "\n",
    "train_df_scaled = scaler.transform(train_df_encoded.drop('price',axis=1))\n",
    "\n",
    "train_df_scaled"
   ]
  },
  {
   "cell_type": "code",
   "execution_count": 33,
   "metadata": {
    "colab": {
     "base_uri": "https://localhost:8080/"
    },
    "id": "uXe8n_2i6ghp",
    "outputId": "ad2f6c68-0467-429b-c129-b7df1adf0e64"
   },
   "outputs": [
    {
     "data": {
      "text/plain": [
       "(23283, 102)"
      ]
     },
     "execution_count": 33,
     "metadata": {},
     "output_type": "execute_result"
    }
   ],
   "source": [
    "train_df_encoded.shape"
   ]
  },
  {
   "cell_type": "markdown",
   "metadata": {
    "id": "FZ63LjjfxymK"
   },
   "source": [
    "### Cleaning on the validation dataset"
   ]
  },
  {
   "cell_type": "code",
   "execution_count": 34,
   "metadata": {
    "colab": {
     "base_uri": "https://localhost:8080/",
     "height": 226
    },
    "id": "bMiRN59QyLS_",
    "outputId": "810463dc-9800-467a-c744-9fc0c41d8e88"
   },
   "outputs": [
    {
     "data": {
      "text/html": [
       "<div>\n",
       "<style scoped>\n",
       "    .dataframe tbody tr th:only-of-type {\n",
       "        vertical-align: middle;\n",
       "    }\n",
       "\n",
       "    .dataframe tbody tr th {\n",
       "        vertical-align: top;\n",
       "    }\n",
       "\n",
       "    .dataframe thead th {\n",
       "        text-align: right;\n",
       "    }\n",
       "</style>\n",
       "<table border=\"1\" class=\"dataframe\">\n",
       "  <thead>\n",
       "    <tr style=\"text-align: right;\">\n",
       "      <th></th>\n",
       "      <th>year</th>\n",
       "      <th>manufacturer</th>\n",
       "      <th>condition</th>\n",
       "      <th>cylinders</th>\n",
       "      <th>fuel</th>\n",
       "      <th>odometer</th>\n",
       "      <th>title_status</th>\n",
       "      <th>transmission</th>\n",
       "      <th>drive</th>\n",
       "      <th>size</th>\n",
       "      <th>type</th>\n",
       "      <th>paint_color</th>\n",
       "      <th>lat</th>\n",
       "      <th>long</th>\n",
       "      <th>price</th>\n",
       "    </tr>\n",
       "  </thead>\n",
       "  <tbody>\n",
       "    <tr>\n",
       "      <th>0</th>\n",
       "      <td>2008.0</td>\n",
       "      <td>nissan</td>\n",
       "      <td>excellent</td>\n",
       "      <td>4 cylinders</td>\n",
       "      <td>gas</td>\n",
       "      <td>146000.0</td>\n",
       "      <td>clean</td>\n",
       "      <td>automatic</td>\n",
       "      <td>fwd</td>\n",
       "      <td>compact</td>\n",
       "      <td>sedan</td>\n",
       "      <td>white</td>\n",
       "      <td>40.433200</td>\n",
       "      <td>-74.199600</td>\n",
       "      <td>3800</td>\n",
       "    </tr>\n",
       "    <tr>\n",
       "      <th>1</th>\n",
       "      <td>2018.0</td>\n",
       "      <td>honda</td>\n",
       "      <td>NaN</td>\n",
       "      <td>NaN</td>\n",
       "      <td>gas</td>\n",
       "      <td>54723.0</td>\n",
       "      <td>clean</td>\n",
       "      <td>automatic</td>\n",
       "      <td>4wd</td>\n",
       "      <td>NaN</td>\n",
       "      <td>SUV</td>\n",
       "      <td>NaN</td>\n",
       "      <td>38.570730</td>\n",
       "      <td>-77.318480</td>\n",
       "      <td>19999</td>\n",
       "    </tr>\n",
       "    <tr>\n",
       "      <th>2</th>\n",
       "      <td>2017.0</td>\n",
       "      <td>chevrolet</td>\n",
       "      <td>NaN</td>\n",
       "      <td>NaN</td>\n",
       "      <td>gas</td>\n",
       "      <td>118312.0</td>\n",
       "      <td>clean</td>\n",
       "      <td>automatic</td>\n",
       "      <td>NaN</td>\n",
       "      <td>NaN</td>\n",
       "      <td>NaN</td>\n",
       "      <td>NaN</td>\n",
       "      <td>44.538579</td>\n",
       "      <td>-88.070989</td>\n",
       "      <td>13984</td>\n",
       "    </tr>\n",
       "    <tr>\n",
       "      <th>3</th>\n",
       "      <td>2012.0</td>\n",
       "      <td>chrysler</td>\n",
       "      <td>excellent</td>\n",
       "      <td>8 cylinders</td>\n",
       "      <td>gas</td>\n",
       "      <td>100900.0</td>\n",
       "      <td>clean</td>\n",
       "      <td>automatic</td>\n",
       "      <td>rwd</td>\n",
       "      <td>NaN</td>\n",
       "      <td>sedan</td>\n",
       "      <td>black</td>\n",
       "      <td>40.137859</td>\n",
       "      <td>-74.820807</td>\n",
       "      <td>11995</td>\n",
       "    </tr>\n",
       "    <tr>\n",
       "      <th>4</th>\n",
       "      <td>2014.0</td>\n",
       "      <td>chrysler</td>\n",
       "      <td>NaN</td>\n",
       "      <td>6 cylinders</td>\n",
       "      <td>gas</td>\n",
       "      <td>83025.0</td>\n",
       "      <td>NaN</td>\n",
       "      <td>automatic</td>\n",
       "      <td>fwd</td>\n",
       "      <td>NaN</td>\n",
       "      <td>van</td>\n",
       "      <td>NaN</td>\n",
       "      <td>43.176636</td>\n",
       "      <td>-88.023648</td>\n",
       "      <td>13998</td>\n",
       "    </tr>\n",
       "  </tbody>\n",
       "</table>\n",
       "</div>"
      ],
      "text/plain": [
       "     year manufacturer  condition  ...        lat       long  price\n",
       "0  2008.0       nissan  excellent  ...  40.433200 -74.199600   3800\n",
       "1  2018.0        honda        NaN  ...  38.570730 -77.318480  19999\n",
       "2  2017.0    chevrolet        NaN  ...  44.538579 -88.070989  13984\n",
       "3  2012.0     chrysler  excellent  ...  40.137859 -74.820807  11995\n",
       "4  2014.0     chrysler        NaN  ...  43.176636 -88.023648  13998\n",
       "\n",
       "[5 rows x 15 columns]"
      ]
     },
     "execution_count": 34,
     "metadata": {},
     "output_type": "execute_result"
    }
   ],
   "source": [
    "valid_df = X_valid\n",
    "valid_df['price'] = y_valid\n",
    "valid_df = valid_df.reset_index(drop=True)\n",
    "valid_df.head()"
   ]
  },
  {
   "cell_type": "code",
   "execution_count": 35,
   "metadata": {
    "colab": {
     "base_uri": "https://localhost:8080/"
    },
    "id": "EYdBRjkR6otO",
    "outputId": "6f36c349-72e7-49e8-f749-6416900802bf"
   },
   "outputs": [
    {
     "data": {
      "text/plain": [
       "(170752, 15)"
      ]
     },
     "execution_count": 35,
     "metadata": {},
     "output_type": "execute_result"
    }
   ],
   "source": [
    "\n",
    "valid_df.shape"
   ]
  },
  {
   "cell_type": "code",
   "execution_count": 36,
   "metadata": {
    "colab": {
     "base_uri": "https://localhost:8080/"
    },
    "id": "Ql0R2Jrny0FN",
    "outputId": "e1035952-a8f6-4c6b-8a2e-151ab20b5634"
   },
   "outputs": [
    {
     "data": {
      "text/plain": [
       "year             0.272325\n",
       "manufacturer     4.185603\n",
       "condition       40.804207\n",
       "cylinders       41.642850\n",
       "fuel             0.718000\n",
       "odometer         1.053575\n",
       "title_status     1.925600\n",
       "transmission     0.605557\n",
       "drive           30.861718\n",
       "size            71.906625\n",
       "type            21.885542\n",
       "paint_color     30.546055\n",
       "lat              1.522091\n",
       "long             1.522091\n",
       "price            0.000000\n",
       "dtype: float64"
      ]
     },
     "execution_count": 36,
     "metadata": {},
     "output_type": "execute_result"
    }
   ],
   "source": [
    "# check missing values are present or not\n",
    "valid_df.isna().sum()/len(valid_df) * 100"
   ]
  },
  {
   "cell_type": "markdown",
   "metadata": {
    "id": "sOc3Hf_ozZ5_"
   },
   "source": [
    "We can observed that missing values are present in the data. We are going to remove variables which having missingt values more than 70% of data.And also we would drop missing values in the dataset."
   ]
  },
  {
   "cell_type": "code",
   "execution_count": 37,
   "metadata": {
    "colab": {
     "base_uri": "https://localhost:8080/"
    },
    "id": "wLEgaz5mzbo3",
    "outputId": "76729563-2199-4612-ae8e-072f4fa1bdce"
   },
   "outputs": [
    {
     "data": {
      "text/plain": [
       "(170752, 14)"
      ]
     },
     "execution_count": 37,
     "metadata": {},
     "output_type": "execute_result"
    }
   ],
   "source": [
    "valid_df = valid_df.drop(['size'],axis=1)\n",
    "valid_df.shape"
   ]
  },
  {
   "cell_type": "code",
   "execution_count": 38,
   "metadata": {
    "colab": {
     "base_uri": "https://localhost:8080/"
    },
    "id": "G-NAyayXzzxM",
    "outputId": "a173b2ec-38cc-4888-8337-a5071c5c54a2"
   },
   "outputs": [
    {
     "data": {
      "text/plain": [
       "(46480, 14)"
      ]
     },
     "execution_count": 38,
     "metadata": {},
     "output_type": "execute_result"
    }
   ],
   "source": [
    "# Removing missing values\n",
    "valid_df = valid_df.dropna()\n",
    "valid_df.shape"
   ]
  },
  {
   "cell_type": "code",
   "execution_count": 39,
   "metadata": {
    "colab": {
     "base_uri": "https://localhost:8080/"
    },
    "id": "av14L94G0BcX",
    "outputId": "5394a858-eb88-485a-bb7e-09284ab6ca97"
   },
   "outputs": [
    {
     "name": "stdout",
     "output_type": "stream",
     "text": [
      "<class 'pandas.core.frame.DataFrame'>\n",
      "Int64Index: 46480 entries, 0 to 170745\n",
      "Data columns (total 14 columns):\n",
      " #   Column        Non-Null Count  Dtype  \n",
      "---  ------        --------------  -----  \n",
      " 0   year          46480 non-null  float64\n",
      " 1   manufacturer  46480 non-null  object \n",
      " 2   condition     46480 non-null  object \n",
      " 3   cylinders     46480 non-null  object \n",
      " 4   fuel          46480 non-null  object \n",
      " 5   odometer      46480 non-null  float64\n",
      " 6   title_status  46480 non-null  object \n",
      " 7   transmission  46480 non-null  object \n",
      " 8   drive         46480 non-null  object \n",
      " 9   type          46480 non-null  object \n",
      " 10  paint_color   46480 non-null  object \n",
      " 11  lat           46480 non-null  float64\n",
      " 12  long          46480 non-null  float64\n",
      " 13  price         46480 non-null  int64  \n",
      "dtypes: float64(4), int64(1), object(9)\n",
      "memory usage: 27.5 MB\n"
     ]
    }
   ],
   "source": [
    "valid_df.info(memory_usage='deep')"
   ]
  },
  {
   "cell_type": "code",
   "execution_count": 40,
   "metadata": {
    "colab": {
     "base_uri": "https://localhost:8080/",
     "height": 226
    },
    "id": "2uUM5haW0MR5",
    "outputId": "c6f45e35-4d33-4640-91a6-a4eedb087e03"
   },
   "outputs": [
    {
     "data": {
      "text/html": [
       "<div>\n",
       "<style scoped>\n",
       "    .dataframe tbody tr th:only-of-type {\n",
       "        vertical-align: middle;\n",
       "    }\n",
       "\n",
       "    .dataframe tbody tr th {\n",
       "        vertical-align: top;\n",
       "    }\n",
       "\n",
       "    .dataframe thead th {\n",
       "        text-align: right;\n",
       "    }\n",
       "</style>\n",
       "<table border=\"1\" class=\"dataframe\">\n",
       "  <thead>\n",
       "    <tr style=\"text-align: right;\">\n",
       "      <th></th>\n",
       "      <th>year</th>\n",
       "      <th>manufacturer</th>\n",
       "      <th>condition</th>\n",
       "      <th>cylinders</th>\n",
       "      <th>fuel</th>\n",
       "      <th>odometer</th>\n",
       "      <th>title_status</th>\n",
       "      <th>transmission</th>\n",
       "      <th>drive</th>\n",
       "      <th>type</th>\n",
       "      <th>paint_color</th>\n",
       "      <th>lat</th>\n",
       "      <th>long</th>\n",
       "      <th>price</th>\n",
       "    </tr>\n",
       "  </thead>\n",
       "  <tbody>\n",
       "    <tr>\n",
       "      <th>0</th>\n",
       "      <td>2008.0</td>\n",
       "      <td>nissan</td>\n",
       "      <td>excellent</td>\n",
       "      <td>4 cylinders</td>\n",
       "      <td>gas</td>\n",
       "      <td>146000.0</td>\n",
       "      <td>clean</td>\n",
       "      <td>automatic</td>\n",
       "      <td>fwd</td>\n",
       "      <td>sedan</td>\n",
       "      <td>white</td>\n",
       "      <td>40.433200</td>\n",
       "      <td>-74.199600</td>\n",
       "      <td>3800</td>\n",
       "    </tr>\n",
       "    <tr>\n",
       "      <th>1</th>\n",
       "      <td>2012.0</td>\n",
       "      <td>chrysler</td>\n",
       "      <td>excellent</td>\n",
       "      <td>8 cylinders</td>\n",
       "      <td>gas</td>\n",
       "      <td>100900.0</td>\n",
       "      <td>clean</td>\n",
       "      <td>automatic</td>\n",
       "      <td>rwd</td>\n",
       "      <td>sedan</td>\n",
       "      <td>black</td>\n",
       "      <td>40.137859</td>\n",
       "      <td>-74.820807</td>\n",
       "      <td>11995</td>\n",
       "    </tr>\n",
       "    <tr>\n",
       "      <th>2</th>\n",
       "      <td>2018.0</td>\n",
       "      <td>jeep</td>\n",
       "      <td>good</td>\n",
       "      <td>6 cylinders</td>\n",
       "      <td>diesel</td>\n",
       "      <td>15813.0</td>\n",
       "      <td>clean</td>\n",
       "      <td>other</td>\n",
       "      <td>4wd</td>\n",
       "      <td>other</td>\n",
       "      <td>white</td>\n",
       "      <td>40.740000</td>\n",
       "      <td>-84.110000</td>\n",
       "      <td>36590</td>\n",
       "    </tr>\n",
       "    <tr>\n",
       "      <th>3</th>\n",
       "      <td>2019.0</td>\n",
       "      <td>ford</td>\n",
       "      <td>excellent</td>\n",
       "      <td>8 cylinders</td>\n",
       "      <td>diesel</td>\n",
       "      <td>31175.0</td>\n",
       "      <td>clean</td>\n",
       "      <td>automatic</td>\n",
       "      <td>4wd</td>\n",
       "      <td>pickup</td>\n",
       "      <td>blue</td>\n",
       "      <td>46.136393</td>\n",
       "      <td>-100.169313</td>\n",
       "      <td>40750</td>\n",
       "    </tr>\n",
       "    <tr>\n",
       "      <th>4</th>\n",
       "      <td>2008.0</td>\n",
       "      <td>honda</td>\n",
       "      <td>excellent</td>\n",
       "      <td>4 cylinders</td>\n",
       "      <td>gas</td>\n",
       "      <td>165600.0</td>\n",
       "      <td>clean</td>\n",
       "      <td>automatic</td>\n",
       "      <td>fwd</td>\n",
       "      <td>sedan</td>\n",
       "      <td>silver</td>\n",
       "      <td>21.288700</td>\n",
       "      <td>-157.800600</td>\n",
       "      <td>5800</td>\n",
       "    </tr>\n",
       "  </tbody>\n",
       "</table>\n",
       "</div>"
      ],
      "text/plain": [
       "     year manufacturer  condition  ...        lat        long  price\n",
       "0  2008.0       nissan  excellent  ...  40.433200  -74.199600   3800\n",
       "1  2012.0     chrysler  excellent  ...  40.137859  -74.820807  11995\n",
       "2  2018.0         jeep       good  ...  40.740000  -84.110000  36590\n",
       "3  2019.0         ford  excellent  ...  46.136393 -100.169313  40750\n",
       "4  2008.0        honda  excellent  ...  21.288700 -157.800600   5800\n",
       "\n",
       "[5 rows x 14 columns]"
      ]
     },
     "execution_count": 40,
     "metadata": {},
     "output_type": "execute_result"
    }
   ],
   "source": [
    "valid_df = valid_df.reset_index(drop=True)\n",
    "valid_df.head()"
   ]
  },
  {
   "cell_type": "markdown",
   "metadata": {
    "id": "8wfA72q70gC7"
   },
   "source": [
    "### Encoding the validation categorical variables"
   ]
  },
  {
   "cell_type": "code",
   "execution_count": 41,
   "metadata": {
    "colab": {
     "base_uri": "https://localhost:8080/",
     "height": 273
    },
    "id": "h8XgWpUW0Syc",
    "outputId": "df257b30-31c2-45dd-df9d-08de7a89ca77"
   },
   "outputs": [
    {
     "data": {
      "text/html": [
       "<div>\n",
       "<style scoped>\n",
       "    .dataframe tbody tr th:only-of-type {\n",
       "        vertical-align: middle;\n",
       "    }\n",
       "\n",
       "    .dataframe tbody tr th {\n",
       "        vertical-align: top;\n",
       "    }\n",
       "\n",
       "    .dataframe thead th {\n",
       "        text-align: right;\n",
       "    }\n",
       "</style>\n",
       "<table border=\"1\" class=\"dataframe\">\n",
       "  <thead>\n",
       "    <tr style=\"text-align: right;\">\n",
       "      <th></th>\n",
       "      <th>year</th>\n",
       "      <th>odometer</th>\n",
       "      <th>lat</th>\n",
       "      <th>long</th>\n",
       "      <th>price</th>\n",
       "      <th>condition_excellent</th>\n",
       "      <th>condition_fair</th>\n",
       "      <th>condition_good</th>\n",
       "      <th>condition_like new</th>\n",
       "      <th>condition_new</th>\n",
       "      <th>condition_salvage</th>\n",
       "      <th>cylinders_10 cylinders</th>\n",
       "      <th>cylinders_12 cylinders</th>\n",
       "      <th>cylinders_3 cylinders</th>\n",
       "      <th>cylinders_4 cylinders</th>\n",
       "      <th>cylinders_5 cylinders</th>\n",
       "      <th>cylinders_6 cylinders</th>\n",
       "      <th>cylinders_8 cylinders</th>\n",
       "      <th>cylinders_other</th>\n",
       "      <th>manufacturer_acura</th>\n",
       "      <th>manufacturer_alfa-romeo</th>\n",
       "      <th>manufacturer_aston-martin</th>\n",
       "      <th>manufacturer_audi</th>\n",
       "      <th>manufacturer_bmw</th>\n",
       "      <th>manufacturer_buick</th>\n",
       "      <th>manufacturer_cadillac</th>\n",
       "      <th>manufacturer_chevrolet</th>\n",
       "      <th>manufacturer_chrysler</th>\n",
       "      <th>manufacturer_datsun</th>\n",
       "      <th>manufacturer_dodge</th>\n",
       "      <th>manufacturer_ferrari</th>\n",
       "      <th>manufacturer_fiat</th>\n",
       "      <th>manufacturer_ford</th>\n",
       "      <th>manufacturer_gmc</th>\n",
       "      <th>manufacturer_harley-davidson</th>\n",
       "      <th>manufacturer_honda</th>\n",
       "      <th>manufacturer_hyundai</th>\n",
       "      <th>manufacturer_infiniti</th>\n",
       "      <th>manufacturer_jaguar</th>\n",
       "      <th>manufacturer_jeep</th>\n",
       "      <th>...</th>\n",
       "      <th>fuel_gas</th>\n",
       "      <th>fuel_hybrid</th>\n",
       "      <th>fuel_other</th>\n",
       "      <th>title_status_clean</th>\n",
       "      <th>title_status_lien</th>\n",
       "      <th>title_status_missing</th>\n",
       "      <th>title_status_parts only</th>\n",
       "      <th>title_status_rebuilt</th>\n",
       "      <th>title_status_salvage</th>\n",
       "      <th>transmission_automatic</th>\n",
       "      <th>transmission_manual</th>\n",
       "      <th>transmission_other</th>\n",
       "      <th>drive_4wd</th>\n",
       "      <th>drive_fwd</th>\n",
       "      <th>drive_rwd</th>\n",
       "      <th>type_SUV</th>\n",
       "      <th>type_bus</th>\n",
       "      <th>type_convertible</th>\n",
       "      <th>type_coupe</th>\n",
       "      <th>type_hatchback</th>\n",
       "      <th>type_mini-van</th>\n",
       "      <th>type_offroad</th>\n",
       "      <th>type_other</th>\n",
       "      <th>type_pickup</th>\n",
       "      <th>type_sedan</th>\n",
       "      <th>type_truck</th>\n",
       "      <th>type_van</th>\n",
       "      <th>type_wagon</th>\n",
       "      <th>paint_color_black</th>\n",
       "      <th>paint_color_blue</th>\n",
       "      <th>paint_color_brown</th>\n",
       "      <th>paint_color_custom</th>\n",
       "      <th>paint_color_green</th>\n",
       "      <th>paint_color_grey</th>\n",
       "      <th>paint_color_orange</th>\n",
       "      <th>paint_color_purple</th>\n",
       "      <th>paint_color_red</th>\n",
       "      <th>paint_color_silver</th>\n",
       "      <th>paint_color_white</th>\n",
       "      <th>paint_color_yellow</th>\n",
       "    </tr>\n",
       "  </thead>\n",
       "  <tbody>\n",
       "    <tr>\n",
       "      <th>0</th>\n",
       "      <td>2008.0</td>\n",
       "      <td>146000.0</td>\n",
       "      <td>40.433200</td>\n",
       "      <td>-74.199600</td>\n",
       "      <td>3800</td>\n",
       "      <td>1</td>\n",
       "      <td>0</td>\n",
       "      <td>0</td>\n",
       "      <td>0</td>\n",
       "      <td>0</td>\n",
       "      <td>0</td>\n",
       "      <td>0</td>\n",
       "      <td>0</td>\n",
       "      <td>0</td>\n",
       "      <td>1</td>\n",
       "      <td>0</td>\n",
       "      <td>0</td>\n",
       "      <td>0</td>\n",
       "      <td>0</td>\n",
       "      <td>0</td>\n",
       "      <td>0</td>\n",
       "      <td>0</td>\n",
       "      <td>0</td>\n",
       "      <td>0</td>\n",
       "      <td>0</td>\n",
       "      <td>0</td>\n",
       "      <td>0</td>\n",
       "      <td>0</td>\n",
       "      <td>0</td>\n",
       "      <td>0</td>\n",
       "      <td>0</td>\n",
       "      <td>0</td>\n",
       "      <td>0</td>\n",
       "      <td>0</td>\n",
       "      <td>0</td>\n",
       "      <td>0</td>\n",
       "      <td>0</td>\n",
       "      <td>0</td>\n",
       "      <td>0</td>\n",
       "      <td>0</td>\n",
       "      <td>...</td>\n",
       "      <td>1</td>\n",
       "      <td>0</td>\n",
       "      <td>0</td>\n",
       "      <td>1</td>\n",
       "      <td>0</td>\n",
       "      <td>0</td>\n",
       "      <td>0</td>\n",
       "      <td>0</td>\n",
       "      <td>0</td>\n",
       "      <td>1</td>\n",
       "      <td>0</td>\n",
       "      <td>0</td>\n",
       "      <td>0</td>\n",
       "      <td>1</td>\n",
       "      <td>0</td>\n",
       "      <td>0</td>\n",
       "      <td>0</td>\n",
       "      <td>0</td>\n",
       "      <td>0</td>\n",
       "      <td>0</td>\n",
       "      <td>0</td>\n",
       "      <td>0</td>\n",
       "      <td>0</td>\n",
       "      <td>0</td>\n",
       "      <td>1</td>\n",
       "      <td>0</td>\n",
       "      <td>0</td>\n",
       "      <td>0</td>\n",
       "      <td>0</td>\n",
       "      <td>0</td>\n",
       "      <td>0</td>\n",
       "      <td>0</td>\n",
       "      <td>0</td>\n",
       "      <td>0</td>\n",
       "      <td>0</td>\n",
       "      <td>0</td>\n",
       "      <td>0</td>\n",
       "      <td>0</td>\n",
       "      <td>1</td>\n",
       "      <td>0</td>\n",
       "    </tr>\n",
       "    <tr>\n",
       "      <th>1</th>\n",
       "      <td>2012.0</td>\n",
       "      <td>100900.0</td>\n",
       "      <td>40.137859</td>\n",
       "      <td>-74.820807</td>\n",
       "      <td>11995</td>\n",
       "      <td>1</td>\n",
       "      <td>0</td>\n",
       "      <td>0</td>\n",
       "      <td>0</td>\n",
       "      <td>0</td>\n",
       "      <td>0</td>\n",
       "      <td>0</td>\n",
       "      <td>0</td>\n",
       "      <td>0</td>\n",
       "      <td>0</td>\n",
       "      <td>0</td>\n",
       "      <td>0</td>\n",
       "      <td>1</td>\n",
       "      <td>0</td>\n",
       "      <td>0</td>\n",
       "      <td>0</td>\n",
       "      <td>0</td>\n",
       "      <td>0</td>\n",
       "      <td>0</td>\n",
       "      <td>0</td>\n",
       "      <td>0</td>\n",
       "      <td>0</td>\n",
       "      <td>1</td>\n",
       "      <td>0</td>\n",
       "      <td>0</td>\n",
       "      <td>0</td>\n",
       "      <td>0</td>\n",
       "      <td>0</td>\n",
       "      <td>0</td>\n",
       "      <td>0</td>\n",
       "      <td>0</td>\n",
       "      <td>0</td>\n",
       "      <td>0</td>\n",
       "      <td>0</td>\n",
       "      <td>0</td>\n",
       "      <td>...</td>\n",
       "      <td>1</td>\n",
       "      <td>0</td>\n",
       "      <td>0</td>\n",
       "      <td>1</td>\n",
       "      <td>0</td>\n",
       "      <td>0</td>\n",
       "      <td>0</td>\n",
       "      <td>0</td>\n",
       "      <td>0</td>\n",
       "      <td>1</td>\n",
       "      <td>0</td>\n",
       "      <td>0</td>\n",
       "      <td>0</td>\n",
       "      <td>0</td>\n",
       "      <td>1</td>\n",
       "      <td>0</td>\n",
       "      <td>0</td>\n",
       "      <td>0</td>\n",
       "      <td>0</td>\n",
       "      <td>0</td>\n",
       "      <td>0</td>\n",
       "      <td>0</td>\n",
       "      <td>0</td>\n",
       "      <td>0</td>\n",
       "      <td>1</td>\n",
       "      <td>0</td>\n",
       "      <td>0</td>\n",
       "      <td>0</td>\n",
       "      <td>1</td>\n",
       "      <td>0</td>\n",
       "      <td>0</td>\n",
       "      <td>0</td>\n",
       "      <td>0</td>\n",
       "      <td>0</td>\n",
       "      <td>0</td>\n",
       "      <td>0</td>\n",
       "      <td>0</td>\n",
       "      <td>0</td>\n",
       "      <td>0</td>\n",
       "      <td>0</td>\n",
       "    </tr>\n",
       "    <tr>\n",
       "      <th>2</th>\n",
       "      <td>2018.0</td>\n",
       "      <td>15813.0</td>\n",
       "      <td>40.740000</td>\n",
       "      <td>-84.110000</td>\n",
       "      <td>36590</td>\n",
       "      <td>0</td>\n",
       "      <td>0</td>\n",
       "      <td>1</td>\n",
       "      <td>0</td>\n",
       "      <td>0</td>\n",
       "      <td>0</td>\n",
       "      <td>0</td>\n",
       "      <td>0</td>\n",
       "      <td>0</td>\n",
       "      <td>0</td>\n",
       "      <td>0</td>\n",
       "      <td>1</td>\n",
       "      <td>0</td>\n",
       "      <td>0</td>\n",
       "      <td>0</td>\n",
       "      <td>0</td>\n",
       "      <td>0</td>\n",
       "      <td>0</td>\n",
       "      <td>0</td>\n",
       "      <td>0</td>\n",
       "      <td>0</td>\n",
       "      <td>0</td>\n",
       "      <td>0</td>\n",
       "      <td>0</td>\n",
       "      <td>0</td>\n",
       "      <td>0</td>\n",
       "      <td>0</td>\n",
       "      <td>0</td>\n",
       "      <td>0</td>\n",
       "      <td>0</td>\n",
       "      <td>0</td>\n",
       "      <td>0</td>\n",
       "      <td>0</td>\n",
       "      <td>0</td>\n",
       "      <td>1</td>\n",
       "      <td>...</td>\n",
       "      <td>0</td>\n",
       "      <td>0</td>\n",
       "      <td>0</td>\n",
       "      <td>1</td>\n",
       "      <td>0</td>\n",
       "      <td>0</td>\n",
       "      <td>0</td>\n",
       "      <td>0</td>\n",
       "      <td>0</td>\n",
       "      <td>0</td>\n",
       "      <td>0</td>\n",
       "      <td>1</td>\n",
       "      <td>1</td>\n",
       "      <td>0</td>\n",
       "      <td>0</td>\n",
       "      <td>0</td>\n",
       "      <td>0</td>\n",
       "      <td>0</td>\n",
       "      <td>0</td>\n",
       "      <td>0</td>\n",
       "      <td>0</td>\n",
       "      <td>0</td>\n",
       "      <td>1</td>\n",
       "      <td>0</td>\n",
       "      <td>0</td>\n",
       "      <td>0</td>\n",
       "      <td>0</td>\n",
       "      <td>0</td>\n",
       "      <td>0</td>\n",
       "      <td>0</td>\n",
       "      <td>0</td>\n",
       "      <td>0</td>\n",
       "      <td>0</td>\n",
       "      <td>0</td>\n",
       "      <td>0</td>\n",
       "      <td>0</td>\n",
       "      <td>0</td>\n",
       "      <td>0</td>\n",
       "      <td>1</td>\n",
       "      <td>0</td>\n",
       "    </tr>\n",
       "    <tr>\n",
       "      <th>3</th>\n",
       "      <td>2019.0</td>\n",
       "      <td>31175.0</td>\n",
       "      <td>46.136393</td>\n",
       "      <td>-100.169313</td>\n",
       "      <td>40750</td>\n",
       "      <td>1</td>\n",
       "      <td>0</td>\n",
       "      <td>0</td>\n",
       "      <td>0</td>\n",
       "      <td>0</td>\n",
       "      <td>0</td>\n",
       "      <td>0</td>\n",
       "      <td>0</td>\n",
       "      <td>0</td>\n",
       "      <td>0</td>\n",
       "      <td>0</td>\n",
       "      <td>0</td>\n",
       "      <td>1</td>\n",
       "      <td>0</td>\n",
       "      <td>0</td>\n",
       "      <td>0</td>\n",
       "      <td>0</td>\n",
       "      <td>0</td>\n",
       "      <td>0</td>\n",
       "      <td>0</td>\n",
       "      <td>0</td>\n",
       "      <td>0</td>\n",
       "      <td>0</td>\n",
       "      <td>0</td>\n",
       "      <td>0</td>\n",
       "      <td>0</td>\n",
       "      <td>0</td>\n",
       "      <td>1</td>\n",
       "      <td>0</td>\n",
       "      <td>0</td>\n",
       "      <td>0</td>\n",
       "      <td>0</td>\n",
       "      <td>0</td>\n",
       "      <td>0</td>\n",
       "      <td>0</td>\n",
       "      <td>...</td>\n",
       "      <td>0</td>\n",
       "      <td>0</td>\n",
       "      <td>0</td>\n",
       "      <td>1</td>\n",
       "      <td>0</td>\n",
       "      <td>0</td>\n",
       "      <td>0</td>\n",
       "      <td>0</td>\n",
       "      <td>0</td>\n",
       "      <td>1</td>\n",
       "      <td>0</td>\n",
       "      <td>0</td>\n",
       "      <td>1</td>\n",
       "      <td>0</td>\n",
       "      <td>0</td>\n",
       "      <td>0</td>\n",
       "      <td>0</td>\n",
       "      <td>0</td>\n",
       "      <td>0</td>\n",
       "      <td>0</td>\n",
       "      <td>0</td>\n",
       "      <td>0</td>\n",
       "      <td>0</td>\n",
       "      <td>1</td>\n",
       "      <td>0</td>\n",
       "      <td>0</td>\n",
       "      <td>0</td>\n",
       "      <td>0</td>\n",
       "      <td>0</td>\n",
       "      <td>1</td>\n",
       "      <td>0</td>\n",
       "      <td>0</td>\n",
       "      <td>0</td>\n",
       "      <td>0</td>\n",
       "      <td>0</td>\n",
       "      <td>0</td>\n",
       "      <td>0</td>\n",
       "      <td>0</td>\n",
       "      <td>0</td>\n",
       "      <td>0</td>\n",
       "    </tr>\n",
       "    <tr>\n",
       "      <th>4</th>\n",
       "      <td>2008.0</td>\n",
       "      <td>165600.0</td>\n",
       "      <td>21.288700</td>\n",
       "      <td>-157.800600</td>\n",
       "      <td>5800</td>\n",
       "      <td>1</td>\n",
       "      <td>0</td>\n",
       "      <td>0</td>\n",
       "      <td>0</td>\n",
       "      <td>0</td>\n",
       "      <td>0</td>\n",
       "      <td>0</td>\n",
       "      <td>0</td>\n",
       "      <td>0</td>\n",
       "      <td>1</td>\n",
       "      <td>0</td>\n",
       "      <td>0</td>\n",
       "      <td>0</td>\n",
       "      <td>0</td>\n",
       "      <td>0</td>\n",
       "      <td>0</td>\n",
       "      <td>0</td>\n",
       "      <td>0</td>\n",
       "      <td>0</td>\n",
       "      <td>0</td>\n",
       "      <td>0</td>\n",
       "      <td>0</td>\n",
       "      <td>0</td>\n",
       "      <td>0</td>\n",
       "      <td>0</td>\n",
       "      <td>0</td>\n",
       "      <td>0</td>\n",
       "      <td>0</td>\n",
       "      <td>0</td>\n",
       "      <td>0</td>\n",
       "      <td>1</td>\n",
       "      <td>0</td>\n",
       "      <td>0</td>\n",
       "      <td>0</td>\n",
       "      <td>0</td>\n",
       "      <td>...</td>\n",
       "      <td>1</td>\n",
       "      <td>0</td>\n",
       "      <td>0</td>\n",
       "      <td>1</td>\n",
       "      <td>0</td>\n",
       "      <td>0</td>\n",
       "      <td>0</td>\n",
       "      <td>0</td>\n",
       "      <td>0</td>\n",
       "      <td>1</td>\n",
       "      <td>0</td>\n",
       "      <td>0</td>\n",
       "      <td>0</td>\n",
       "      <td>1</td>\n",
       "      <td>0</td>\n",
       "      <td>0</td>\n",
       "      <td>0</td>\n",
       "      <td>0</td>\n",
       "      <td>0</td>\n",
       "      <td>0</td>\n",
       "      <td>0</td>\n",
       "      <td>0</td>\n",
       "      <td>0</td>\n",
       "      <td>0</td>\n",
       "      <td>1</td>\n",
       "      <td>0</td>\n",
       "      <td>0</td>\n",
       "      <td>0</td>\n",
       "      <td>0</td>\n",
       "      <td>0</td>\n",
       "      <td>0</td>\n",
       "      <td>0</td>\n",
       "      <td>0</td>\n",
       "      <td>0</td>\n",
       "      <td>0</td>\n",
       "      <td>0</td>\n",
       "      <td>0</td>\n",
       "      <td>1</td>\n",
       "      <td>0</td>\n",
       "      <td>0</td>\n",
       "    </tr>\n",
       "  </tbody>\n",
       "</table>\n",
       "<p>5 rows × 102 columns</p>\n",
       "</div>"
      ],
      "text/plain": [
       "     year  odometer  ...  paint_color_white  paint_color_yellow\n",
       "0  2008.0  146000.0  ...                  1                   0\n",
       "1  2012.0  100900.0  ...                  0                   0\n",
       "2  2018.0   15813.0  ...                  1                   0\n",
       "3  2019.0   31175.0  ...                  0                   0\n",
       "4  2008.0  165600.0  ...                  0                   0\n",
       "\n",
       "[5 rows x 102 columns]"
      ]
     },
     "execution_count": 41,
     "metadata": {},
     "output_type": "execute_result"
    }
   ],
   "source": [
    "# Get dummy variables\n",
    "valid_df_encoded = pd.get_dummies(valid_df,columns=['condition','cylinders','manufacturer','fuel','title_status','transmission','drive','type','paint_color'])\n",
    "# reset index\n",
    "valid_df_encoded = valid_df_encoded.reset_index(drop=True)\n",
    "valid_df_encoded.head()"
   ]
  },
  {
   "cell_type": "code",
   "execution_count": 42,
   "metadata": {
    "colab": {
     "base_uri": "https://localhost:8080/"
    },
    "id": "g6RzAk7964sd",
    "outputId": "93f91a93-e9dd-4ebc-9af5-663fe7737edd"
   },
   "outputs": [
    {
     "data": {
      "text/plain": [
       "(46480, 102)"
      ]
     },
     "execution_count": 42,
     "metadata": {},
     "output_type": "execute_result"
    }
   ],
   "source": [
    "valid_df_encoded.shape"
   ]
  },
  {
   "cell_type": "code",
   "execution_count": 43,
   "metadata": {
    "colab": {
     "base_uri": "https://localhost:8080/"
    },
    "id": "S1gdhPi31D99",
    "outputId": "bbd3f1bb-f52d-4515-a92e-f0df327fdd71"
   },
   "outputs": [
    {
     "name": "stdout",
     "output_type": "stream",
     "text": [
      "<class 'pandas.core.frame.DataFrame'>\n",
      "RangeIndex: 46480 entries, 0 to 46479\n",
      "Columns: 102 entries, year to paint_color_yellow\n",
      "dtypes: float64(4), int64(1), uint8(97)\n",
      "memory usage: 6.1 MB\n"
     ]
    }
   ],
   "source": [
    "valid_df_encoded.info()"
   ]
  },
  {
   "cell_type": "markdown",
   "metadata": {
    "id": "hts3M0UB1RpU"
   },
   "source": [
    "### Valid Correlation matrix"
   ]
  },
  {
   "cell_type": "code",
   "execution_count": 44,
   "metadata": {
    "colab": {
     "base_uri": "https://localhost:8080/",
     "height": 645
    },
    "id": "WJuAFUi-1Phm",
    "outputId": "eed453ec-ba02-46f0-8d8e-9feb7ffc654c"
   },
   "outputs": [
    {
     "data": {
      "image/png": "[encoded data removed]",
      "text/plain": [
       "<Figure size 864x576 with 2 Axes>"
      ]
     },
     "metadata": {},
     "output_type": "display_data"
    }
   ],
   "source": [
    "# Correlation plot\n",
    "plt.figure(figsize = (12,8))\n",
    "valid_df_corr = valid_df_encoded.corr()\n",
    "sns.heatmap(valid_df_corr,fmt = \"\", cmap = \"RdYlGn\", linewidth = 0.30)\n",
    "plt.show()"
   ]
  },
  {
   "cell_type": "markdown",
   "metadata": {
    "id": "P7GASiAv1mNq"
   },
   "source": [
    "It seems features have less or no correlation between them."
   ]
  },
  {
   "cell_type": "markdown",
   "metadata": {
    "id": "5fZz0Qx71sLU"
   },
   "source": [
    "Normalizing the validation data"
   ]
  },
  {
   "cell_type": "code",
   "execution_count": 45,
   "metadata": {
    "colab": {
     "base_uri": "https://localhost:8080/"
    },
    "id": "YyqeEbDD11Y2",
    "outputId": "104337d2-05aa-4513-e5e5-1f12ba5e8826"
   },
   "outputs": [
    {
     "data": {
      "text/plain": [
       "array([[0.86      , 0.0146    , 0.44411726, ..., 0.        , 1.        ,\n",
       "        0.        ],\n",
       "       [0.9       , 0.01009   , 0.44019147, ..., 0.        , 0.        ,\n",
       "        0.        ],\n",
       "       [0.96      , 0.0015813 , 0.44819537, ..., 0.        , 1.        ,\n",
       "        0.        ],\n",
       "       ...,\n",
       "       [0.92      , 0.0068873 , 0.37418337, ..., 0.        , 0.        ,\n",
       "        0.        ],\n",
       "       [0.92      , 0.0121716 , 0.30472529, ..., 1.        , 0.        ,\n",
       "        0.        ],\n",
       "       [0.96      , 0.0030635 , 0.40053907, ..., 0.        , 1.        ,\n",
       "        0.        ]])"
      ]
     },
     "execution_count": 45,
     "metadata": {},
     "output_type": "execute_result"
    }
   ],
   "source": [
    "## MinMax scaler\n",
    "#scaler = MinMaxScaler()\n",
    "\n",
    "valid_df_scaled = scaler.transform(valid_df_encoded.drop('price',axis=1))\n",
    "\n",
    "valid_df_scaled"
   ]
  },
  {
   "cell_type": "markdown",
   "metadata": {
    "id": "Q5ov8se_8ys1"
   },
   "source": [
    "### Cleaning on the test dataset"
   ]
  },
  {
   "cell_type": "code",
   "execution_count": 46,
   "metadata": {
    "colab": {
     "base_uri": "https://localhost:8080/",
     "height": 244
    },
    "id": "Eq1Xk1uJ8_Pg",
    "outputId": "5577489f-6b20-4445-978c-416a556f8706"
   },
   "outputs": [
    {
     "data": {
      "text/html": [
       "<div>\n",
       "<style scoped>\n",
       "    .dataframe tbody tr th:only-of-type {\n",
       "        vertical-align: middle;\n",
       "    }\n",
       "\n",
       "    .dataframe tbody tr th {\n",
       "        vertical-align: top;\n",
       "    }\n",
       "\n",
       "    .dataframe thead th {\n",
       "        text-align: right;\n",
       "    }\n",
       "</style>\n",
       "<table border=\"1\" class=\"dataframe\">\n",
       "  <thead>\n",
       "    <tr style=\"text-align: right;\">\n",
       "      <th></th>\n",
       "      <th>year</th>\n",
       "      <th>manufacturer</th>\n",
       "      <th>condition</th>\n",
       "      <th>cylinders</th>\n",
       "      <th>fuel</th>\n",
       "      <th>odometer</th>\n",
       "      <th>title_status</th>\n",
       "      <th>transmission</th>\n",
       "      <th>drive</th>\n",
       "      <th>size</th>\n",
       "      <th>type</th>\n",
       "      <th>paint_color</th>\n",
       "      <th>lat</th>\n",
       "      <th>long</th>\n",
       "      <th>price</th>\n",
       "    </tr>\n",
       "  </thead>\n",
       "  <tbody>\n",
       "    <tr>\n",
       "      <th>0</th>\n",
       "      <td>2011.0</td>\n",
       "      <td>hyundai</td>\n",
       "      <td>excellent</td>\n",
       "      <td>4 cylinders</td>\n",
       "      <td>gas</td>\n",
       "      <td>130786.0</td>\n",
       "      <td>clean</td>\n",
       "      <td>automatic</td>\n",
       "      <td>fwd</td>\n",
       "      <td>full-size</td>\n",
       "      <td>sedan</td>\n",
       "      <td>silver</td>\n",
       "      <td>41.800099</td>\n",
       "      <td>-81.078283</td>\n",
       "      <td>7500</td>\n",
       "    </tr>\n",
       "    <tr>\n",
       "      <th>1</th>\n",
       "      <td>2019.0</td>\n",
       "      <td>mini</td>\n",
       "      <td>good</td>\n",
       "      <td>NaN</td>\n",
       "      <td>gas</td>\n",
       "      <td>21246.0</td>\n",
       "      <td>clean</td>\n",
       "      <td>automatic</td>\n",
       "      <td>NaN</td>\n",
       "      <td>NaN</td>\n",
       "      <td>hatchback</td>\n",
       "      <td>NaN</td>\n",
       "      <td>42.780000</td>\n",
       "      <td>-71.080000</td>\n",
       "      <td>30590</td>\n",
       "    </tr>\n",
       "    <tr>\n",
       "      <th>2</th>\n",
       "      <td>2019.0</td>\n",
       "      <td>volkswagen</td>\n",
       "      <td>excellent</td>\n",
       "      <td>4 cylinders</td>\n",
       "      <td>gas</td>\n",
       "      <td>7952.0</td>\n",
       "      <td>clean</td>\n",
       "      <td>automatic</td>\n",
       "      <td>fwd</td>\n",
       "      <td>NaN</td>\n",
       "      <td>sedan</td>\n",
       "      <td>blue</td>\n",
       "      <td>61.217832</td>\n",
       "      <td>-149.870274</td>\n",
       "      <td>19995</td>\n",
       "    </tr>\n",
       "    <tr>\n",
       "      <th>3</th>\n",
       "      <td>2018.0</td>\n",
       "      <td>gmc</td>\n",
       "      <td>good</td>\n",
       "      <td>NaN</td>\n",
       "      <td>other</td>\n",
       "      <td>19458.0</td>\n",
       "      <td>clean</td>\n",
       "      <td>other</td>\n",
       "      <td>4wd</td>\n",
       "      <td>NaN</td>\n",
       "      <td>pickup</td>\n",
       "      <td>black</td>\n",
       "      <td>40.740000</td>\n",
       "      <td>-89.600000</td>\n",
       "      <td>35590</td>\n",
       "    </tr>\n",
       "    <tr>\n",
       "      <th>4</th>\n",
       "      <td>2017.0</td>\n",
       "      <td>ford</td>\n",
       "      <td>NaN</td>\n",
       "      <td>6 cylinders</td>\n",
       "      <td>gas</td>\n",
       "      <td>39556.0</td>\n",
       "      <td>rebuilt</td>\n",
       "      <td>automatic</td>\n",
       "      <td>4wd</td>\n",
       "      <td>NaN</td>\n",
       "      <td>truck</td>\n",
       "      <td>NaN</td>\n",
       "      <td>47.715888</td>\n",
       "      <td>-116.908034</td>\n",
       "      <td>462</td>\n",
       "    </tr>\n",
       "  </tbody>\n",
       "</table>\n",
       "</div>"
      ],
      "text/plain": [
       "     year manufacturer  condition  ...        lat        long  price\n",
       "0  2011.0      hyundai  excellent  ...  41.800099  -81.078283   7500\n",
       "1  2019.0         mini       good  ...  42.780000  -71.080000  30590\n",
       "2  2019.0   volkswagen  excellent  ...  61.217832 -149.870274  19995\n",
       "3  2018.0          gmc       good  ...  40.740000  -89.600000  35590\n",
       "4  2017.0         ford        NaN  ...  47.715888 -116.908034    462\n",
       "\n",
       "[5 rows x 15 columns]"
      ]
     },
     "execution_count": 46,
     "metadata": {},
     "output_type": "execute_result"
    }
   ],
   "source": [
    "test_df = X_test\n",
    "test_df['price'] = y_test\n",
    "test_df = test_df.reset_index(drop=True)\n",
    "test_df.head()"
   ]
  },
  {
   "cell_type": "code",
   "execution_count": 47,
   "metadata": {
    "colab": {
     "base_uri": "https://localhost:8080/"
    },
    "id": "jfgVEUFJ9OeX",
    "outputId": "b1e3fa33-7531-4d66-fa1f-beca6ea95df1"
   },
   "outputs": [
    {
     "data": {
      "text/plain": [
       "(170752, 15)"
      ]
     },
     "execution_count": 47,
     "metadata": {},
     "output_type": "execute_result"
    }
   ],
   "source": [
    "test_df.shape"
   ]
  },
  {
   "cell_type": "markdown",
   "metadata": {
    "id": "EUVg6IF89VsN"
   },
   "source": [
    "### Missing values"
   ]
  },
  {
   "cell_type": "code",
   "execution_count": 48,
   "metadata": {
    "colab": {
     "base_uri": "https://localhost:8080/"
    },
    "id": "Aqe4kG6I9b2l",
    "outputId": "42a19840-930e-49b9-bea7-270980670e7b"
   },
   "outputs": [
    {
     "data": {
      "text/plain": [
       "year             0.293408\n",
       "manufacturer     4.030407\n",
       "condition       40.764383\n",
       "cylinders       41.644607\n",
       "fuel             0.723271\n",
       "odometer         1.016679\n",
       "title_status     1.933213\n",
       "transmission     0.597943\n",
       "drive           30.250305\n",
       "size            71.594476\n",
       "type            21.654798\n",
       "paint_color     30.405500\n",
       "lat              1.553715\n",
       "long             1.553715\n",
       "price            0.000000\n",
       "dtype: float64"
      ]
     },
     "execution_count": 48,
     "metadata": {},
     "output_type": "execute_result"
    }
   ],
   "source": [
    "# check missing values are present or not\n",
    "test_df.isna().sum()/len(test_df) * 100"
   ]
  },
  {
   "cell_type": "markdown",
   "metadata": {
    "id": "OiKouNgW9mm7"
   },
   "source": [
    "We can observed that missing values are present in the data. We are going to remove variables which having missingt values more than 70% of data.And also we would drop missing values in the dataset.\n",
    "\n"
   ]
  },
  {
   "cell_type": "code",
   "execution_count": 49,
   "metadata": {
    "colab": {
     "base_uri": "https://localhost:8080/"
    },
    "id": "Hg6DTxyb9mSD",
    "outputId": "a14db911-3e25-4c2e-f1c7-8ff0464a134f"
   },
   "outputs": [
    {
     "data": {
      "text/plain": [
       "(170752, 14)"
      ]
     },
     "execution_count": 49,
     "metadata": {},
     "output_type": "execute_result"
    }
   ],
   "source": [
    "test_df = test_df.drop(['size'],axis=1)\n",
    "test_df.shape"
   ]
  },
  {
   "cell_type": "code",
   "execution_count": 50,
   "metadata": {
    "colab": {
     "base_uri": "https://localhost:8080/"
    },
    "id": "DjqEz3XI91bq",
    "outputId": "a4bc9749-3abe-4dd5-8d4f-1f530be9ca92"
   },
   "outputs": [
    {
     "data": {
      "text/plain": [
       "(46849, 14)"
      ]
     },
     "execution_count": 50,
     "metadata": {},
     "output_type": "execute_result"
    }
   ],
   "source": [
    "# Removing missing values\n",
    "test_df = test_df.dropna()\n",
    "test_df.shape"
   ]
  },
  {
   "cell_type": "code",
   "execution_count": 51,
   "metadata": {
    "colab": {
     "base_uri": "https://localhost:8080/"
    },
    "id": "4_JF9E5Y-A1o",
    "outputId": "8a54fb4e-96b4-41b4-8418-46e4e5bb1d6b"
   },
   "outputs": [
    {
     "name": "stdout",
     "output_type": "stream",
     "text": [
      "<class 'pandas.core.frame.DataFrame'>\n",
      "Int64Index: 46849 entries, 0 to 170750\n",
      "Data columns (total 14 columns):\n",
      " #   Column        Non-Null Count  Dtype  \n",
      "---  ------        --------------  -----  \n",
      " 0   year          46849 non-null  float64\n",
      " 1   manufacturer  46849 non-null  object \n",
      " 2   condition     46849 non-null  object \n",
      " 3   cylinders     46849 non-null  object \n",
      " 4   fuel          46849 non-null  object \n",
      " 5   odometer      46849 non-null  float64\n",
      " 6   title_status  46849 non-null  object \n",
      " 7   transmission  46849 non-null  object \n",
      " 8   drive         46849 non-null  object \n",
      " 9   type          46849 non-null  object \n",
      " 10  paint_color   46849 non-null  object \n",
      " 11  lat           46849 non-null  float64\n",
      " 12  long          46849 non-null  float64\n",
      " 13  price         46849 non-null  int64  \n",
      "dtypes: float64(4), int64(1), object(9)\n",
      "memory usage: 27.8 MB\n"
     ]
    }
   ],
   "source": [
    "test_df.info(memory_usage='deep')"
   ]
  },
  {
   "cell_type": "code",
   "execution_count": 52,
   "metadata": {
    "colab": {
     "base_uri": "https://localhost:8080/",
     "height": 226
    },
    "id": "Yb7lhBW3-IR8",
    "outputId": "17872599-e1a3-426a-c44f-072b84e8e8b9"
   },
   "outputs": [
    {
     "data": {
      "text/html": [
       "<div>\n",
       "<style scoped>\n",
       "    .dataframe tbody tr th:only-of-type {\n",
       "        vertical-align: middle;\n",
       "    }\n",
       "\n",
       "    .dataframe tbody tr th {\n",
       "        vertical-align: top;\n",
       "    }\n",
       "\n",
       "    .dataframe thead th {\n",
       "        text-align: right;\n",
       "    }\n",
       "</style>\n",
       "<table border=\"1\" class=\"dataframe\">\n",
       "  <thead>\n",
       "    <tr style=\"text-align: right;\">\n",
       "      <th></th>\n",
       "      <th>year</th>\n",
       "      <th>manufacturer</th>\n",
       "      <th>condition</th>\n",
       "      <th>cylinders</th>\n",
       "      <th>fuel</th>\n",
       "      <th>odometer</th>\n",
       "      <th>title_status</th>\n",
       "      <th>transmission</th>\n",
       "      <th>drive</th>\n",
       "      <th>type</th>\n",
       "      <th>paint_color</th>\n",
       "      <th>lat</th>\n",
       "      <th>long</th>\n",
       "      <th>price</th>\n",
       "    </tr>\n",
       "  </thead>\n",
       "  <tbody>\n",
       "    <tr>\n",
       "      <th>0</th>\n",
       "      <td>2011.0</td>\n",
       "      <td>hyundai</td>\n",
       "      <td>excellent</td>\n",
       "      <td>4 cylinders</td>\n",
       "      <td>gas</td>\n",
       "      <td>130786.0</td>\n",
       "      <td>clean</td>\n",
       "      <td>automatic</td>\n",
       "      <td>fwd</td>\n",
       "      <td>sedan</td>\n",
       "      <td>silver</td>\n",
       "      <td>41.800099</td>\n",
       "      <td>-81.078283</td>\n",
       "      <td>7500</td>\n",
       "    </tr>\n",
       "    <tr>\n",
       "      <th>1</th>\n",
       "      <td>2019.0</td>\n",
       "      <td>volkswagen</td>\n",
       "      <td>excellent</td>\n",
       "      <td>4 cylinders</td>\n",
       "      <td>gas</td>\n",
       "      <td>7952.0</td>\n",
       "      <td>clean</td>\n",
       "      <td>automatic</td>\n",
       "      <td>fwd</td>\n",
       "      <td>sedan</td>\n",
       "      <td>blue</td>\n",
       "      <td>61.217832</td>\n",
       "      <td>-149.870274</td>\n",
       "      <td>19995</td>\n",
       "    </tr>\n",
       "    <tr>\n",
       "      <th>2</th>\n",
       "      <td>1997.0</td>\n",
       "      <td>chevrolet</td>\n",
       "      <td>fair</td>\n",
       "      <td>8 cylinders</td>\n",
       "      <td>gas</td>\n",
       "      <td>140500.0</td>\n",
       "      <td>clean</td>\n",
       "      <td>automatic</td>\n",
       "      <td>4wd</td>\n",
       "      <td>pickup</td>\n",
       "      <td>silver</td>\n",
       "      <td>41.538700</td>\n",
       "      <td>-75.946600</td>\n",
       "      <td>2750</td>\n",
       "    </tr>\n",
       "    <tr>\n",
       "      <th>3</th>\n",
       "      <td>2007.0</td>\n",
       "      <td>toyota</td>\n",
       "      <td>good</td>\n",
       "      <td>8 cylinders</td>\n",
       "      <td>gas</td>\n",
       "      <td>106454.0</td>\n",
       "      <td>clean</td>\n",
       "      <td>automatic</td>\n",
       "      <td>4wd</td>\n",
       "      <td>SUV</td>\n",
       "      <td>black</td>\n",
       "      <td>40.691380</td>\n",
       "      <td>-74.299975</td>\n",
       "      <td>12495</td>\n",
       "    </tr>\n",
       "    <tr>\n",
       "      <th>4</th>\n",
       "      <td>2014.0</td>\n",
       "      <td>gmc</td>\n",
       "      <td>excellent</td>\n",
       "      <td>6 cylinders</td>\n",
       "      <td>gas</td>\n",
       "      <td>114269.0</td>\n",
       "      <td>clean</td>\n",
       "      <td>automatic</td>\n",
       "      <td>4wd</td>\n",
       "      <td>truck</td>\n",
       "      <td>white</td>\n",
       "      <td>36.721370</td>\n",
       "      <td>-95.935180</td>\n",
       "      <td>0</td>\n",
       "    </tr>\n",
       "  </tbody>\n",
       "</table>\n",
       "</div>"
      ],
      "text/plain": [
       "     year manufacturer  condition  ...        lat        long  price\n",
       "0  2011.0      hyundai  excellent  ...  41.800099  -81.078283   7500\n",
       "1  2019.0   volkswagen  excellent  ...  61.217832 -149.870274  19995\n",
       "2  1997.0    chevrolet       fair  ...  41.538700  -75.946600   2750\n",
       "3  2007.0       toyota       good  ...  40.691380  -74.299975  12495\n",
       "4  2014.0          gmc  excellent  ...  36.721370  -95.935180      0\n",
       "\n",
       "[5 rows x 14 columns]"
      ]
     },
     "execution_count": 52,
     "metadata": {},
     "output_type": "execute_result"
    }
   ],
   "source": [
    "test_df = test_df.reset_index(drop=True)\n",
    "test_df.head()"
   ]
  },
  {
   "cell_type": "markdown",
   "metadata": {
    "id": "Z-vxhojZ-S4z"
   },
   "source": [
    "### Encoding the test categorical variables"
   ]
  },
  {
   "cell_type": "code",
   "execution_count": 53,
   "metadata": {
    "colab": {
     "base_uri": "https://localhost:8080/",
     "height": 273
    },
    "id": "vJ_XvX3O-am3",
    "outputId": "ec199a11-1857-43c2-9c43-032c070efce6"
   },
   "outputs": [
    {
     "data": {
      "text/html": [
       "<div>\n",
       "<style scoped>\n",
       "    .dataframe tbody tr th:only-of-type {\n",
       "        vertical-align: middle;\n",
       "    }\n",
       "\n",
       "    .dataframe tbody tr th {\n",
       "        vertical-align: top;\n",
       "    }\n",
       "\n",
       "    .dataframe thead th {\n",
       "        text-align: right;\n",
       "    }\n",
       "</style>\n",
       "<table border=\"1\" class=\"dataframe\">\n",
       "  <thead>\n",
       "    <tr style=\"text-align: right;\">\n",
       "      <th></th>\n",
       "      <th>year</th>\n",
       "      <th>odometer</th>\n",
       "      <th>lat</th>\n",
       "      <th>long</th>\n",
       "      <th>price</th>\n",
       "      <th>condition_excellent</th>\n",
       "      <th>condition_fair</th>\n",
       "      <th>condition_good</th>\n",
       "      <th>condition_like new</th>\n",
       "      <th>condition_new</th>\n",
       "      <th>condition_salvage</th>\n",
       "      <th>cylinders_10 cylinders</th>\n",
       "      <th>cylinders_12 cylinders</th>\n",
       "      <th>cylinders_3 cylinders</th>\n",
       "      <th>cylinders_4 cylinders</th>\n",
       "      <th>cylinders_5 cylinders</th>\n",
       "      <th>cylinders_6 cylinders</th>\n",
       "      <th>cylinders_8 cylinders</th>\n",
       "      <th>cylinders_other</th>\n",
       "      <th>manufacturer_acura</th>\n",
       "      <th>manufacturer_alfa-romeo</th>\n",
       "      <th>manufacturer_audi</th>\n",
       "      <th>manufacturer_bmw</th>\n",
       "      <th>manufacturer_buick</th>\n",
       "      <th>manufacturer_cadillac</th>\n",
       "      <th>manufacturer_chevrolet</th>\n",
       "      <th>manufacturer_chrysler</th>\n",
       "      <th>manufacturer_datsun</th>\n",
       "      <th>manufacturer_dodge</th>\n",
       "      <th>manufacturer_ferrari</th>\n",
       "      <th>manufacturer_fiat</th>\n",
       "      <th>manufacturer_ford</th>\n",
       "      <th>manufacturer_gmc</th>\n",
       "      <th>manufacturer_harley-davidson</th>\n",
       "      <th>manufacturer_honda</th>\n",
       "      <th>manufacturer_hyundai</th>\n",
       "      <th>manufacturer_infiniti</th>\n",
       "      <th>manufacturer_jaguar</th>\n",
       "      <th>manufacturer_jeep</th>\n",
       "      <th>manufacturer_kia</th>\n",
       "      <th>...</th>\n",
       "      <th>fuel_gas</th>\n",
       "      <th>fuel_hybrid</th>\n",
       "      <th>fuel_other</th>\n",
       "      <th>title_status_clean</th>\n",
       "      <th>title_status_lien</th>\n",
       "      <th>title_status_missing</th>\n",
       "      <th>title_status_parts only</th>\n",
       "      <th>title_status_rebuilt</th>\n",
       "      <th>title_status_salvage</th>\n",
       "      <th>transmission_automatic</th>\n",
       "      <th>transmission_manual</th>\n",
       "      <th>transmission_other</th>\n",
       "      <th>drive_4wd</th>\n",
       "      <th>drive_fwd</th>\n",
       "      <th>drive_rwd</th>\n",
       "      <th>type_SUV</th>\n",
       "      <th>type_bus</th>\n",
       "      <th>type_convertible</th>\n",
       "      <th>type_coupe</th>\n",
       "      <th>type_hatchback</th>\n",
       "      <th>type_mini-van</th>\n",
       "      <th>type_offroad</th>\n",
       "      <th>type_other</th>\n",
       "      <th>type_pickup</th>\n",
       "      <th>type_sedan</th>\n",
       "      <th>type_truck</th>\n",
       "      <th>type_van</th>\n",
       "      <th>type_wagon</th>\n",
       "      <th>paint_color_black</th>\n",
       "      <th>paint_color_blue</th>\n",
       "      <th>paint_color_brown</th>\n",
       "      <th>paint_color_custom</th>\n",
       "      <th>paint_color_green</th>\n",
       "      <th>paint_color_grey</th>\n",
       "      <th>paint_color_orange</th>\n",
       "      <th>paint_color_purple</th>\n",
       "      <th>paint_color_red</th>\n",
       "      <th>paint_color_silver</th>\n",
       "      <th>paint_color_white</th>\n",
       "      <th>paint_color_yellow</th>\n",
       "    </tr>\n",
       "  </thead>\n",
       "  <tbody>\n",
       "    <tr>\n",
       "      <th>0</th>\n",
       "      <td>2011.0</td>\n",
       "      <td>130786.0</td>\n",
       "      <td>41.800099</td>\n",
       "      <td>-81.078283</td>\n",
       "      <td>7500</td>\n",
       "      <td>1</td>\n",
       "      <td>0</td>\n",
       "      <td>0</td>\n",
       "      <td>0</td>\n",
       "      <td>0</td>\n",
       "      <td>0</td>\n",
       "      <td>0</td>\n",
       "      <td>0</td>\n",
       "      <td>0</td>\n",
       "      <td>1</td>\n",
       "      <td>0</td>\n",
       "      <td>0</td>\n",
       "      <td>0</td>\n",
       "      <td>0</td>\n",
       "      <td>0</td>\n",
       "      <td>0</td>\n",
       "      <td>0</td>\n",
       "      <td>0</td>\n",
       "      <td>0</td>\n",
       "      <td>0</td>\n",
       "      <td>0</td>\n",
       "      <td>0</td>\n",
       "      <td>0</td>\n",
       "      <td>0</td>\n",
       "      <td>0</td>\n",
       "      <td>0</td>\n",
       "      <td>0</td>\n",
       "      <td>0</td>\n",
       "      <td>0</td>\n",
       "      <td>0</td>\n",
       "      <td>1</td>\n",
       "      <td>0</td>\n",
       "      <td>0</td>\n",
       "      <td>0</td>\n",
       "      <td>0</td>\n",
       "      <td>...</td>\n",
       "      <td>1</td>\n",
       "      <td>0</td>\n",
       "      <td>0</td>\n",
       "      <td>1</td>\n",
       "      <td>0</td>\n",
       "      <td>0</td>\n",
       "      <td>0</td>\n",
       "      <td>0</td>\n",
       "      <td>0</td>\n",
       "      <td>1</td>\n",
       "      <td>0</td>\n",
       "      <td>0</td>\n",
       "      <td>0</td>\n",
       "      <td>1</td>\n",
       "      <td>0</td>\n",
       "      <td>0</td>\n",
       "      <td>0</td>\n",
       "      <td>0</td>\n",
       "      <td>0</td>\n",
       "      <td>0</td>\n",
       "      <td>0</td>\n",
       "      <td>0</td>\n",
       "      <td>0</td>\n",
       "      <td>0</td>\n",
       "      <td>1</td>\n",
       "      <td>0</td>\n",
       "      <td>0</td>\n",
       "      <td>0</td>\n",
       "      <td>0</td>\n",
       "      <td>0</td>\n",
       "      <td>0</td>\n",
       "      <td>0</td>\n",
       "      <td>0</td>\n",
       "      <td>0</td>\n",
       "      <td>0</td>\n",
       "      <td>0</td>\n",
       "      <td>0</td>\n",
       "      <td>1</td>\n",
       "      <td>0</td>\n",
       "      <td>0</td>\n",
       "    </tr>\n",
       "    <tr>\n",
       "      <th>1</th>\n",
       "      <td>2019.0</td>\n",
       "      <td>7952.0</td>\n",
       "      <td>61.217832</td>\n",
       "      <td>-149.870274</td>\n",
       "      <td>19995</td>\n",
       "      <td>1</td>\n",
       "      <td>0</td>\n",
       "      <td>0</td>\n",
       "      <td>0</td>\n",
       "      <td>0</td>\n",
       "      <td>0</td>\n",
       "      <td>0</td>\n",
       "      <td>0</td>\n",
       "      <td>0</td>\n",
       "      <td>1</td>\n",
       "      <td>0</td>\n",
       "      <td>0</td>\n",
       "      <td>0</td>\n",
       "      <td>0</td>\n",
       "      <td>0</td>\n",
       "      <td>0</td>\n",
       "      <td>0</td>\n",
       "      <td>0</td>\n",
       "      <td>0</td>\n",
       "      <td>0</td>\n",
       "      <td>0</td>\n",
       "      <td>0</td>\n",
       "      <td>0</td>\n",
       "      <td>0</td>\n",
       "      <td>0</td>\n",
       "      <td>0</td>\n",
       "      <td>0</td>\n",
       "      <td>0</td>\n",
       "      <td>0</td>\n",
       "      <td>0</td>\n",
       "      <td>0</td>\n",
       "      <td>0</td>\n",
       "      <td>0</td>\n",
       "      <td>0</td>\n",
       "      <td>0</td>\n",
       "      <td>...</td>\n",
       "      <td>1</td>\n",
       "      <td>0</td>\n",
       "      <td>0</td>\n",
       "      <td>1</td>\n",
       "      <td>0</td>\n",
       "      <td>0</td>\n",
       "      <td>0</td>\n",
       "      <td>0</td>\n",
       "      <td>0</td>\n",
       "      <td>1</td>\n",
       "      <td>0</td>\n",
       "      <td>0</td>\n",
       "      <td>0</td>\n",
       "      <td>1</td>\n",
       "      <td>0</td>\n",
       "      <td>0</td>\n",
       "      <td>0</td>\n",
       "      <td>0</td>\n",
       "      <td>0</td>\n",
       "      <td>0</td>\n",
       "      <td>0</td>\n",
       "      <td>0</td>\n",
       "      <td>0</td>\n",
       "      <td>0</td>\n",
       "      <td>1</td>\n",
       "      <td>0</td>\n",
       "      <td>0</td>\n",
       "      <td>0</td>\n",
       "      <td>0</td>\n",
       "      <td>1</td>\n",
       "      <td>0</td>\n",
       "      <td>0</td>\n",
       "      <td>0</td>\n",
       "      <td>0</td>\n",
       "      <td>0</td>\n",
       "      <td>0</td>\n",
       "      <td>0</td>\n",
       "      <td>0</td>\n",
       "      <td>0</td>\n",
       "      <td>0</td>\n",
       "    </tr>\n",
       "    <tr>\n",
       "      <th>2</th>\n",
       "      <td>1997.0</td>\n",
       "      <td>140500.0</td>\n",
       "      <td>41.538700</td>\n",
       "      <td>-75.946600</td>\n",
       "      <td>2750</td>\n",
       "      <td>0</td>\n",
       "      <td>1</td>\n",
       "      <td>0</td>\n",
       "      <td>0</td>\n",
       "      <td>0</td>\n",
       "      <td>0</td>\n",
       "      <td>0</td>\n",
       "      <td>0</td>\n",
       "      <td>0</td>\n",
       "      <td>0</td>\n",
       "      <td>0</td>\n",
       "      <td>0</td>\n",
       "      <td>1</td>\n",
       "      <td>0</td>\n",
       "      <td>0</td>\n",
       "      <td>0</td>\n",
       "      <td>0</td>\n",
       "      <td>0</td>\n",
       "      <td>0</td>\n",
       "      <td>0</td>\n",
       "      <td>1</td>\n",
       "      <td>0</td>\n",
       "      <td>0</td>\n",
       "      <td>0</td>\n",
       "      <td>0</td>\n",
       "      <td>0</td>\n",
       "      <td>0</td>\n",
       "      <td>0</td>\n",
       "      <td>0</td>\n",
       "      <td>0</td>\n",
       "      <td>0</td>\n",
       "      <td>0</td>\n",
       "      <td>0</td>\n",
       "      <td>0</td>\n",
       "      <td>0</td>\n",
       "      <td>...</td>\n",
       "      <td>1</td>\n",
       "      <td>0</td>\n",
       "      <td>0</td>\n",
       "      <td>1</td>\n",
       "      <td>0</td>\n",
       "      <td>0</td>\n",
       "      <td>0</td>\n",
       "      <td>0</td>\n",
       "      <td>0</td>\n",
       "      <td>1</td>\n",
       "      <td>0</td>\n",
       "      <td>0</td>\n",
       "      <td>1</td>\n",
       "      <td>0</td>\n",
       "      <td>0</td>\n",
       "      <td>0</td>\n",
       "      <td>0</td>\n",
       "      <td>0</td>\n",
       "      <td>0</td>\n",
       "      <td>0</td>\n",
       "      <td>0</td>\n",
       "      <td>0</td>\n",
       "      <td>0</td>\n",
       "      <td>1</td>\n",
       "      <td>0</td>\n",
       "      <td>0</td>\n",
       "      <td>0</td>\n",
       "      <td>0</td>\n",
       "      <td>0</td>\n",
       "      <td>0</td>\n",
       "      <td>0</td>\n",
       "      <td>0</td>\n",
       "      <td>0</td>\n",
       "      <td>0</td>\n",
       "      <td>0</td>\n",
       "      <td>0</td>\n",
       "      <td>0</td>\n",
       "      <td>1</td>\n",
       "      <td>0</td>\n",
       "      <td>0</td>\n",
       "    </tr>\n",
       "    <tr>\n",
       "      <th>3</th>\n",
       "      <td>2007.0</td>\n",
       "      <td>106454.0</td>\n",
       "      <td>40.691380</td>\n",
       "      <td>-74.299975</td>\n",
       "      <td>12495</td>\n",
       "      <td>0</td>\n",
       "      <td>0</td>\n",
       "      <td>1</td>\n",
       "      <td>0</td>\n",
       "      <td>0</td>\n",
       "      <td>0</td>\n",
       "      <td>0</td>\n",
       "      <td>0</td>\n",
       "      <td>0</td>\n",
       "      <td>0</td>\n",
       "      <td>0</td>\n",
       "      <td>0</td>\n",
       "      <td>1</td>\n",
       "      <td>0</td>\n",
       "      <td>0</td>\n",
       "      <td>0</td>\n",
       "      <td>0</td>\n",
       "      <td>0</td>\n",
       "      <td>0</td>\n",
       "      <td>0</td>\n",
       "      <td>0</td>\n",
       "      <td>0</td>\n",
       "      <td>0</td>\n",
       "      <td>0</td>\n",
       "      <td>0</td>\n",
       "      <td>0</td>\n",
       "      <td>0</td>\n",
       "      <td>0</td>\n",
       "      <td>0</td>\n",
       "      <td>0</td>\n",
       "      <td>0</td>\n",
       "      <td>0</td>\n",
       "      <td>0</td>\n",
       "      <td>0</td>\n",
       "      <td>0</td>\n",
       "      <td>...</td>\n",
       "      <td>1</td>\n",
       "      <td>0</td>\n",
       "      <td>0</td>\n",
       "      <td>1</td>\n",
       "      <td>0</td>\n",
       "      <td>0</td>\n",
       "      <td>0</td>\n",
       "      <td>0</td>\n",
       "      <td>0</td>\n",
       "      <td>1</td>\n",
       "      <td>0</td>\n",
       "      <td>0</td>\n",
       "      <td>1</td>\n",
       "      <td>0</td>\n",
       "      <td>0</td>\n",
       "      <td>1</td>\n",
       "      <td>0</td>\n",
       "      <td>0</td>\n",
       "      <td>0</td>\n",
       "      <td>0</td>\n",
       "      <td>0</td>\n",
       "      <td>0</td>\n",
       "      <td>0</td>\n",
       "      <td>0</td>\n",
       "      <td>0</td>\n",
       "      <td>0</td>\n",
       "      <td>0</td>\n",
       "      <td>0</td>\n",
       "      <td>1</td>\n",
       "      <td>0</td>\n",
       "      <td>0</td>\n",
       "      <td>0</td>\n",
       "      <td>0</td>\n",
       "      <td>0</td>\n",
       "      <td>0</td>\n",
       "      <td>0</td>\n",
       "      <td>0</td>\n",
       "      <td>0</td>\n",
       "      <td>0</td>\n",
       "      <td>0</td>\n",
       "    </tr>\n",
       "    <tr>\n",
       "      <th>4</th>\n",
       "      <td>2014.0</td>\n",
       "      <td>114269.0</td>\n",
       "      <td>36.721370</td>\n",
       "      <td>-95.935180</td>\n",
       "      <td>0</td>\n",
       "      <td>1</td>\n",
       "      <td>0</td>\n",
       "      <td>0</td>\n",
       "      <td>0</td>\n",
       "      <td>0</td>\n",
       "      <td>0</td>\n",
       "      <td>0</td>\n",
       "      <td>0</td>\n",
       "      <td>0</td>\n",
       "      <td>0</td>\n",
       "      <td>0</td>\n",
       "      <td>1</td>\n",
       "      <td>0</td>\n",
       "      <td>0</td>\n",
       "      <td>0</td>\n",
       "      <td>0</td>\n",
       "      <td>0</td>\n",
       "      <td>0</td>\n",
       "      <td>0</td>\n",
       "      <td>0</td>\n",
       "      <td>0</td>\n",
       "      <td>0</td>\n",
       "      <td>0</td>\n",
       "      <td>0</td>\n",
       "      <td>0</td>\n",
       "      <td>0</td>\n",
       "      <td>0</td>\n",
       "      <td>1</td>\n",
       "      <td>0</td>\n",
       "      <td>0</td>\n",
       "      <td>0</td>\n",
       "      <td>0</td>\n",
       "      <td>0</td>\n",
       "      <td>0</td>\n",
       "      <td>0</td>\n",
       "      <td>...</td>\n",
       "      <td>1</td>\n",
       "      <td>0</td>\n",
       "      <td>0</td>\n",
       "      <td>1</td>\n",
       "      <td>0</td>\n",
       "      <td>0</td>\n",
       "      <td>0</td>\n",
       "      <td>0</td>\n",
       "      <td>0</td>\n",
       "      <td>1</td>\n",
       "      <td>0</td>\n",
       "      <td>0</td>\n",
       "      <td>1</td>\n",
       "      <td>0</td>\n",
       "      <td>0</td>\n",
       "      <td>0</td>\n",
       "      <td>0</td>\n",
       "      <td>0</td>\n",
       "      <td>0</td>\n",
       "      <td>0</td>\n",
       "      <td>0</td>\n",
       "      <td>0</td>\n",
       "      <td>0</td>\n",
       "      <td>0</td>\n",
       "      <td>0</td>\n",
       "      <td>1</td>\n",
       "      <td>0</td>\n",
       "      <td>0</td>\n",
       "      <td>0</td>\n",
       "      <td>0</td>\n",
       "      <td>0</td>\n",
       "      <td>0</td>\n",
       "      <td>0</td>\n",
       "      <td>0</td>\n",
       "      <td>0</td>\n",
       "      <td>0</td>\n",
       "      <td>0</td>\n",
       "      <td>0</td>\n",
       "      <td>1</td>\n",
       "      <td>0</td>\n",
       "    </tr>\n",
       "  </tbody>\n",
       "</table>\n",
       "<p>5 rows × 102 columns</p>\n",
       "</div>"
      ],
      "text/plain": [
       "     year  odometer  ...  paint_color_white  paint_color_yellow\n",
       "0  2011.0  130786.0  ...                  0                   0\n",
       "1  2019.0    7952.0  ...                  0                   0\n",
       "2  1997.0  140500.0  ...                  0                   0\n",
       "3  2007.0  106454.0  ...                  0                   0\n",
       "4  2014.0  114269.0  ...                  1                   0\n",
       "\n",
       "[5 rows x 102 columns]"
      ]
     },
     "execution_count": 53,
     "metadata": {},
     "output_type": "execute_result"
    }
   ],
   "source": [
    "# Get dummy variables\n",
    "test_df_encoded = pd.get_dummies(test_df,columns=['condition','cylinders','manufacturer','fuel','title_status','transmission','drive','type','paint_color'])\n",
    "# reset index\n",
    "test_df_encoded = test_df_encoded.reset_index(drop=True)\n",
    "test_df_encoded.head()"
   ]
  },
  {
   "cell_type": "code",
   "execution_count": 54,
   "metadata": {
    "colab": {
     "base_uri": "https://localhost:8080/"
    },
    "id": "R4lbQROe-pQt",
    "outputId": "ae6e17da-1579-4a8f-8c28-461b27a2b186"
   },
   "outputs": [
    {
     "data": {
      "text/plain": [
       "(46849, 102)"
      ]
     },
     "execution_count": 54,
     "metadata": {},
     "output_type": "execute_result"
    }
   ],
   "source": [
    "test_df_encoded.shape"
   ]
  },
  {
   "cell_type": "code",
   "execution_count": 55,
   "metadata": {
    "colab": {
     "base_uri": "https://localhost:8080/"
    },
    "id": "M2-czxXh-ydZ",
    "outputId": "add2218f-d05c-4d3e-84ac-9eccbd91189b"
   },
   "outputs": [
    {
     "name": "stdout",
     "output_type": "stream",
     "text": [
      "<class 'pandas.core.frame.DataFrame'>\n",
      "RangeIndex: 46849 entries, 0 to 46848\n",
      "Columns: 102 entries, year to paint_color_yellow\n",
      "dtypes: float64(4), int64(1), uint8(97)\n",
      "memory usage: 6.1 MB\n"
     ]
    }
   ],
   "source": [
    "test_df_encoded.info()"
   ]
  },
  {
   "cell_type": "code",
   "execution_count": 56,
   "metadata": {
    "colab": {
     "base_uri": "https://localhost:8080/",
     "height": 649
    },
    "id": "b1EksZQK-9cG",
    "outputId": "bcd9758e-094a-4f66-adc9-1cb2c3924521"
   },
   "outputs": [
    {
     "data": {
      "image/png": "[encoded data removed]",
      "text/plain": [
       "<Figure size 864x576 with 2 Axes>"
      ]
     },
     "metadata": {},
     "output_type": "display_data"
    }
   ],
   "source": [
    "# Correlation plot\n",
    "plt.figure(figsize = (12,8))\n",
    "test_df_corr = test_df_encoded.corr()\n",
    "sns.heatmap(test_df_corr,fmt = \"\", cmap = \"RdYlGn\", linewidth = 0.30)\n",
    "plt.show()"
   ]
  },
  {
   "cell_type": "markdown",
   "metadata": {
    "id": "we49NMt7_JAa"
   },
   "source": [
    "It seems features have less or no correlation between them."
   ]
  },
  {
   "cell_type": "markdown",
   "metadata": {
    "id": "QRTQfx62_P1_"
   },
   "source": [
    "Normalization the test data"
   ]
  },
  {
   "cell_type": "code",
   "execution_count": 77,
   "metadata": {
    "colab": {
     "base_uri": "https://localhost:8080/"
    },
    "id": "QbyvN5Ek_PDX",
    "outputId": "f3186ae2-3427-49af-c237-b4e008ff8e3f"
   },
   "outputs": [
    {
     "data": {
      "text/plain": [
       "array([[8.90000000e-01, 1.30786000e-02, 4.62286614e-01, ...,\n",
       "        1.00000000e+00, 0.00000000e+00, 0.00000000e+00],\n",
       "       [9.70000000e-01, 7.95200000e-04, 7.20394676e-01, ...,\n",
       "        0.00000000e+00, 0.00000000e+00, 0.00000000e+00],\n",
       "       [7.50000000e-01, 1.40500000e-02, 4.58811997e-01, ...,\n",
       "        1.00000000e+00, 0.00000000e+00, 0.00000000e+00],\n",
       "       ...,\n",
       "       [9.20000000e-01, 1.10289000e-02, 4.31686219e-01, ...,\n",
       "        0.00000000e+00, 0.00000000e+00, 0.00000000e+00],\n",
       "       [8.90000000e-01, 1.93000000e-05, 3.82519719e-01, ...,\n",
       "        0.00000000e+00, 0.00000000e+00, 0.00000000e+00],\n",
       "       [9.60000000e-01, 2.74260000e-03, 3.94095343e-01, ...,\n",
       "        0.00000000e+00, 1.00000000e+00, 0.00000000e+00]])"
      ]
     },
     "execution_count": 77,
     "metadata": {},
     "output_type": "execute_result"
    }
   ],
   "source": [
    "## MinMax scaler\n",
    "#scaler = MinMaxScaler()\n",
    "\n",
    "test_df_scaled = scaler.transform(test_df_encoded.drop('price',axis=1))\n",
    "\n",
    "test_df_scaled"
   ]
  },
  {
   "cell_type": "markdown",
   "metadata": {
    "id": "gKbVyJguaRPk"
   },
   "source": [
    "### Building predictive models"
   ]
  },
  {
   "cell_type": "markdown",
   "metadata": {
    "id": "l4krSm9-aclg"
   },
   "source": [
    "### Linear Regression Model"
   ]
  },
  {
   "cell_type": "code",
   "execution_count": 78,
   "metadata": {
    "colab": {
     "base_uri": "https://localhost:8080/"
    },
    "id": "lNGEhzwTTVbQ",
    "outputId": "f35850da-fda7-4fd3-db84-c153505adaca"
   },
   "outputs": [
    {
     "data": {
      "text/plain": [
       "LinearRegression()"
      ]
     },
     "execution_count": 78,
     "metadata": {},
     "output_type": "execute_result"
    }
   ],
   "source": [
    "X_train = train_df_scaled\n",
    "y_train = train_df_encoded.price\n",
    "X_valid = valid_df_scaled\n",
    "y_valid = valid_df_encoded.price\n",
    "## Linear regression model\n",
    "lr = LinearRegression()\n",
    "\n",
    "## fitting the model\n",
    "lr.fit(X_train,y_train)"
   ]
  },
  {
   "cell_type": "code",
   "execution_count": 79,
   "metadata": {
    "colab": {
     "base_uri": "https://localhost:8080/"
    },
    "id": "-NU69OSZa4zL",
    "outputId": "4614d89a-23ef-44aa-9aff-a02cc5d38c9b"
   },
   "outputs": [
    {
     "name": "stdout",
     "output_type": "stream",
     "text": [
      "Accuracy for linear regression model is -8.583646151816282e-05\n"
     ]
    }
   ],
   "source": [
    "score = lr.score(X_valid,y_valid)\n",
    "print(f'Accuracy for linear regression model is {score}')"
   ]
  },
  {
   "cell_type": "markdown",
   "metadata": {
    "id": "9KraEEH9067B"
   },
   "source": [
    "### Lasso regularization model"
   ]
  },
  {
   "cell_type": "code",
   "execution_count": 80,
   "metadata": {
    "colab": {
     "base_uri": "https://localhost:8080/"
    },
    "id": "PNh0KK2BpRyf",
    "outputId": "59477195-79d6-4f6c-8d0d-0b90b0091665"
   },
   "outputs": [
    {
     "data": {
      "text/plain": [
       "Lasso()"
      ]
     },
     "execution_count": 80,
     "metadata": {},
     "output_type": "execute_result"
    }
   ],
   "source": [
    "## lasso model\n",
    "lasso =Lasso(alpha=1.0)\n",
    "\n",
    "lasso.fit(X_train,y_train)"
   ]
  },
  {
   "cell_type": "code",
   "execution_count": 81,
   "metadata": {
    "colab": {
     "base_uri": "https://localhost:8080/"
    },
    "id": "SD6r3aIpuVyB",
    "outputId": "a1908d91-18fb-4c68-db22-789617a7046a"
   },
   "outputs": [
    {
     "name": "stdout",
     "output_type": "stream",
     "text": [
      "Accuracy for lasso model is -8.621239258443936e-05\n"
     ]
    }
   ],
   "source": [
    "score = lasso.score(X_valid,y_valid)\n",
    "print(f'Accuracy for lasso model is {score}')"
   ]
  },
  {
   "cell_type": "markdown",
   "metadata": {
    "id": "VT0j4VHpA5e1"
   },
   "source": [
    "### Ridge regularization model"
   ]
  },
  {
   "cell_type": "code",
   "execution_count": 82,
   "metadata": {
    "colab": {
     "base_uri": "https://localhost:8080/"
    },
    "id": "O_js0bfvA8Su",
    "outputId": "d1a805e0-df99-4194-abef-da6826ea5761"
   },
   "outputs": [
    {
     "data": {
      "text/plain": [
       "Ridge()"
      ]
     },
     "execution_count": 82,
     "metadata": {},
     "output_type": "execute_result"
    }
   ],
   "source": [
    "## lasso model\n",
    "ridge =Ridge(alpha=1.0)\n",
    "\n",
    "ridge.fit(X_train,y_train)"
   ]
  },
  {
   "cell_type": "code",
   "execution_count": 83,
   "metadata": {
    "colab": {
     "base_uri": "https://localhost:8080/"
    },
    "id": "NasQXS78Bclq",
    "outputId": "3ca1dfd8-a62b-4f24-b274-2d3c4d75849a"
   },
   "outputs": [
    {
     "name": "stdout",
     "output_type": "stream",
     "text": [
      "Accuracy for ridge model is -8.601082936410265e-05\n"
     ]
    }
   ],
   "source": [
    "score = ridge.score(X_valid,y_valid)\n",
    "print(f'Accuracy for ridge model is {score}')"
   ]
  },
  {
   "cell_type": "markdown",
   "metadata": {
    "id": "FEK0vEXuCCS0"
   },
   "source": [
    "### Polynomial features"
   ]
  },
  {
   "cell_type": "code",
   "execution_count": 64,
   "metadata": {
    "id": "W9tlD-KrCFDU"
   },
   "outputs": [],
   "source": [
    "poly_features = PolynomialFeatures(degree = 2, include_bias = False)\n",
    "X_poly = poly_features.fit_transform(X_train)\n",
    "X_poly_v = poly_features.fit_transform(X_valid)\n"
   ]
  },
  {
   "cell_type": "code",
   "execution_count": 65,
   "metadata": {
    "id": "MCzrkn6-DayF"
   },
   "outputs": [],
   "source": [
    "lr_poly = lr.fit(X_poly,y_train)"
   ]
  },
  {
   "cell_type": "code",
   "execution_count": 66,
   "metadata": {
    "colab": {
     "base_uri": "https://localhost:8080/"
    },
    "id": "aEh3ZQaMBrL7",
    "outputId": "db1ca9a5-e9ed-4b6e-b162-3b0d7205b9db"
   },
   "outputs": [
    {
     "name": "stdout",
     "output_type": "stream",
     "text": [
      "Accuracy for poly model is -1.1351709651134652e+19\n"
     ]
    }
   ],
   "source": [
    "score = lr_poly.score(X_poly_v,y_valid)\n",
    "print(f'Accuracy for poly model is {score}')"
   ]
  },
  {
   "cell_type": "markdown",
   "metadata": {
    "id": "R-b07bCYHzou"
   },
   "source": [
    "Comparing the linear regression, lasso, ridge and polynomial features, linear regression is performing well. So, we are going to use linear regression model to test on test dataset."
   ]
  },
  {
   "cell_type": "code",
   "execution_count": 84,
   "metadata": {
    "colab": {
     "base_uri": "https://localhost:8080/"
    },
    "id": "eIwVC77FCWjV",
    "outputId": "e1d89fb0-a6ab-406e-ed6f-c4f663bd0981"
   },
   "outputs": [
    {
     "name": "stdout",
     "output_type": "stream",
     "text": [
      "Accuracy for linear regression model is -0.33493947362293186\n"
     ]
    }
   ],
   "source": [
    "X_test = test_df_scaled\n",
    "y_test = test_df_encoded.price\n",
    "\n",
    "score = lr.score(X_test,y_test)\n",
    "print(f'Accuracy for linear regression model is {score}')"
   ]
  },
  {
   "cell_type": "markdown",
   "metadata": {
    "id": "9xBCs93_NFiR"
   },
   "source": [
    "Negative values of R2 may occur when fitting non linear data."
   ]
  }
 ],
 "metadata": {
  "colab": {
   "name": "Copy of UsedCars",
   "provenance": []
  },
  "kernelspec": {
   "display_name": "Python 3",
   "language": "python",
   "name": "python3"
  },
  "language_info": {
   "codemirror_mode": {
    "name": "ipython",
    "version": 3
   },
   "file_extension": ".py",
   "mimetype": "text/x-python",
   "name": "python",
   "nbconvert_exporter": "python",
   "pygments_lexer": "ipython3",
   "version": "3.8.8"
  }
 },
 "nbformat": 4,
 "nbformat_minor": 1
}
