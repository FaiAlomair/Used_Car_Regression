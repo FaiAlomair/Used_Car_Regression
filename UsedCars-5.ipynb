{
 "cells": [
  {
   "cell_type": "markdown",
   "metadata": {
    "id": "qEmdvP6heszo"
   },
   "source": [
    "### Unzip the file"
   ]
  },
  {
   "cell_type": "code",
   "execution_count": 1,
   "metadata": {
    "colab": {
     "base_uri": "https://localhost:8080/"
    },
    "id": "WfpmrdW9fKOq",
    "outputId": "dc3505d2-f08e-437b-e2b8-a9bc6f505f6e"
   },
   "outputs": [
    {
     "name": "stdout",
     "output_type": "stream",
     "text": [
      "Archive:  /content/drive/MyDrive/archive.zip\n",
      "replace vehicles.csv? [y]es, [n]o, [A]ll, [N]one, [r]ename: "
     ]
    }
   ],
   "source": [
    "# unzip file\n",
    "!unzip /content/drive/MyDrive/archive.zip"
   ]
  },
  {
   "cell_type": "markdown",
   "metadata": {
    "id": "1UeminH-i9Db"
   },
   "source": [
    "### import libraries"
   ]
  },
  {
   "cell_type": "code",
   "execution_count": 92,
   "metadata": {
    "id": "kDOVa0--ipKy"
   },
   "outputs": [],
   "source": [
    "import pandas as pd\n",
    "import numpy as np \n",
    "import matplotlib.pyplot as plt\n",
    "import seaborn as sns\n",
    "from sklearn.model_selection import train_test_split\n",
    "from sklearn.preprocessing import MinMaxScaler, StandardScaler\n",
    "from sklearn.linear_model import LinearRegression, Ridge,Lasso\n",
    "from sklearn.preprocessing import StandardScaler, PolynomialFeatures\n",
    "from sklearn.metrics import mean_squared_error\n",
    "import lightgbm\n",
    "from sklearn.ensemble import RandomForestRegressor\n",
    "%matplotlib inline \n",
    "\n",
    "import warnings\n",
    "warnings.filterwarnings('ignore')\n"
   ]
  },
  {
   "cell_type": "markdown",
   "metadata": {
    "id": "ktJ4GVpcjUS4"
   },
   "source": [
    "### Loading dataset"
   ]
  },
  {
   "cell_type": "code",
   "execution_count": 4,
   "metadata": {
    "colab": {
     "base_uri": "https://localhost:8080/",
     "height": 261
    },
    "id": "NzGsvLv7jBwR",
    "outputId": "4c355fa2-8cd0-4809-e043-78a84719bee9"
   },
   "outputs": [
    {
     "data": {
      "text/html": [
       "<div>\n",
       "<style scoped>\n",
       "    .dataframe tbody tr th:only-of-type {\n",
       "        vertical-align: middle;\n",
       "    }\n",
       "\n",
       "    .dataframe tbody tr th {\n",
       "        vertical-align: top;\n",
       "    }\n",
       "\n",
       "    .dataframe thead th {\n",
       "        text-align: right;\n",
       "    }\n",
       "</style>\n",
       "<table border=\"1\" class=\"dataframe\">\n",
       "  <thead>\n",
       "    <tr style=\"text-align: right;\">\n",
       "      <th></th>\n",
       "      <th>id</th>\n",
       "      <th>url</th>\n",
       "      <th>region</th>\n",
       "      <th>region_url</th>\n",
       "      <th>price</th>\n",
       "      <th>year</th>\n",
       "      <th>manufacturer</th>\n",
       "      <th>model</th>\n",
       "      <th>condition</th>\n",
       "      <th>cylinders</th>\n",
       "      <th>fuel</th>\n",
       "      <th>odometer</th>\n",
       "      <th>title_status</th>\n",
       "      <th>transmission</th>\n",
       "      <th>VIN</th>\n",
       "      <th>drive</th>\n",
       "      <th>size</th>\n",
       "      <th>type</th>\n",
       "      <th>paint_color</th>\n",
       "      <th>image_url</th>\n",
       "      <th>description</th>\n",
       "      <th>county</th>\n",
       "      <th>state</th>\n",
       "      <th>lat</th>\n",
       "      <th>long</th>\n",
       "      <th>posting_date</th>\n",
       "    </tr>\n",
       "  </thead>\n",
       "  <tbody>\n",
       "    <tr>\n",
       "      <th>0</th>\n",
       "      <td>7222695916</td>\n",
       "      <td>https://prescott.craigslist.org/cto/d/prescott...</td>\n",
       "      <td>prescott</td>\n",
       "      <td>https://prescott.craigslist.org</td>\n",
       "      <td>6000</td>\n",
       "      <td>NaN</td>\n",
       "      <td>NaN</td>\n",
       "      <td>NaN</td>\n",
       "      <td>NaN</td>\n",
       "      <td>NaN</td>\n",
       "      <td>NaN</td>\n",
       "      <td>NaN</td>\n",
       "      <td>NaN</td>\n",
       "      <td>NaN</td>\n",
       "      <td>NaN</td>\n",
       "      <td>NaN</td>\n",
       "      <td>NaN</td>\n",
       "      <td>NaN</td>\n",
       "      <td>NaN</td>\n",
       "      <td>NaN</td>\n",
       "      <td>NaN</td>\n",
       "      <td>NaN</td>\n",
       "      <td>az</td>\n",
       "      <td>NaN</td>\n",
       "      <td>NaN</td>\n",
       "      <td>NaN</td>\n",
       "    </tr>\n",
       "    <tr>\n",
       "      <th>1</th>\n",
       "      <td>7218891961</td>\n",
       "      <td>https://fayar.craigslist.org/ctd/d/bentonville...</td>\n",
       "      <td>fayetteville</td>\n",
       "      <td>https://fayar.craigslist.org</td>\n",
       "      <td>11900</td>\n",
       "      <td>NaN</td>\n",
       "      <td>NaN</td>\n",
       "      <td>NaN</td>\n",
       "      <td>NaN</td>\n",
       "      <td>NaN</td>\n",
       "      <td>NaN</td>\n",
       "      <td>NaN</td>\n",
       "      <td>NaN</td>\n",
       "      <td>NaN</td>\n",
       "      <td>NaN</td>\n",
       "      <td>NaN</td>\n",
       "      <td>NaN</td>\n",
       "      <td>NaN</td>\n",
       "      <td>NaN</td>\n",
       "      <td>NaN</td>\n",
       "      <td>NaN</td>\n",
       "      <td>NaN</td>\n",
       "      <td>ar</td>\n",
       "      <td>NaN</td>\n",
       "      <td>NaN</td>\n",
       "      <td>NaN</td>\n",
       "    </tr>\n",
       "    <tr>\n",
       "      <th>2</th>\n",
       "      <td>7221797935</td>\n",
       "      <td>https://keys.craigslist.org/cto/d/summerland-k...</td>\n",
       "      <td>florida keys</td>\n",
       "      <td>https://keys.craigslist.org</td>\n",
       "      <td>21000</td>\n",
       "      <td>NaN</td>\n",
       "      <td>NaN</td>\n",
       "      <td>NaN</td>\n",
       "      <td>NaN</td>\n",
       "      <td>NaN</td>\n",
       "      <td>NaN</td>\n",
       "      <td>NaN</td>\n",
       "      <td>NaN</td>\n",
       "      <td>NaN</td>\n",
       "      <td>NaN</td>\n",
       "      <td>NaN</td>\n",
       "      <td>NaN</td>\n",
       "      <td>NaN</td>\n",
       "      <td>NaN</td>\n",
       "      <td>NaN</td>\n",
       "      <td>NaN</td>\n",
       "      <td>NaN</td>\n",
       "      <td>fl</td>\n",
       "      <td>NaN</td>\n",
       "      <td>NaN</td>\n",
       "      <td>NaN</td>\n",
       "    </tr>\n",
       "    <tr>\n",
       "      <th>3</th>\n",
       "      <td>7222270760</td>\n",
       "      <td>https://worcester.craigslist.org/cto/d/west-br...</td>\n",
       "      <td>worcester / central MA</td>\n",
       "      <td>https://worcester.craigslist.org</td>\n",
       "      <td>1500</td>\n",
       "      <td>NaN</td>\n",
       "      <td>NaN</td>\n",
       "      <td>NaN</td>\n",
       "      <td>NaN</td>\n",
       "      <td>NaN</td>\n",
       "      <td>NaN</td>\n",
       "      <td>NaN</td>\n",
       "      <td>NaN</td>\n",
       "      <td>NaN</td>\n",
       "      <td>NaN</td>\n",
       "      <td>NaN</td>\n",
       "      <td>NaN</td>\n",
       "      <td>NaN</td>\n",
       "      <td>NaN</td>\n",
       "      <td>NaN</td>\n",
       "      <td>NaN</td>\n",
       "      <td>NaN</td>\n",
       "      <td>ma</td>\n",
       "      <td>NaN</td>\n",
       "      <td>NaN</td>\n",
       "      <td>NaN</td>\n",
       "    </tr>\n",
       "    <tr>\n",
       "      <th>4</th>\n",
       "      <td>7210384030</td>\n",
       "      <td>https://greensboro.craigslist.org/cto/d/trinit...</td>\n",
       "      <td>greensboro</td>\n",
       "      <td>https://greensboro.craigslist.org</td>\n",
       "      <td>4900</td>\n",
       "      <td>NaN</td>\n",
       "      <td>NaN</td>\n",
       "      <td>NaN</td>\n",
       "      <td>NaN</td>\n",
       "      <td>NaN</td>\n",
       "      <td>NaN</td>\n",
       "      <td>NaN</td>\n",
       "      <td>NaN</td>\n",
       "      <td>NaN</td>\n",
       "      <td>NaN</td>\n",
       "      <td>NaN</td>\n",
       "      <td>NaN</td>\n",
       "      <td>NaN</td>\n",
       "      <td>NaN</td>\n",
       "      <td>NaN</td>\n",
       "      <td>NaN</td>\n",
       "      <td>NaN</td>\n",
       "      <td>nc</td>\n",
       "      <td>NaN</td>\n",
       "      <td>NaN</td>\n",
       "      <td>NaN</td>\n",
       "    </tr>\n",
       "  </tbody>\n",
       "</table>\n",
       "</div>"
      ],
      "text/plain": [
       "           id  ... posting_date\n",
       "0  7222695916  ...          NaN\n",
       "1  7218891961  ...          NaN\n",
       "2  7221797935  ...          NaN\n",
       "3  7222270760  ...          NaN\n",
       "4  7210384030  ...          NaN\n",
       "\n",
       "[5 rows x 26 columns]"
      ]
     },
     "execution_count": 4,
     "metadata": {},
     "output_type": "execute_result"
    }
   ],
   "source": [
    "df = pd.read_csv('vehicles.csv')\n",
    "df.head()"
   ]
  },
  {
   "cell_type": "code",
   "execution_count": 5,
   "metadata": {
    "colab": {
     "base_uri": "https://localhost:8080/"
    },
    "id": "itzNNH5xmsZb",
    "outputId": "cc7c7cb9-f231-41a6-9b70-1a56c28f1051"
   },
   "outputs": [
    {
     "data": {
      "text/plain": [
       "(426880, 26)"
      ]
     },
     "execution_count": 5,
     "metadata": {},
     "output_type": "execute_result"
    }
   ],
   "source": [
    "df.shape"
   ]
  },
  {
   "cell_type": "code",
   "execution_count": 6,
   "metadata": {
    "colab": {
     "base_uri": "https://localhost:8080/"
    },
    "id": "C-vKGY24jl1V",
    "outputId": "ef5b2ce1-af8e-4021-dc64-7f63cb52ecf7"
   },
   "outputs": [
    {
     "name": "stdout",
     "output_type": "stream",
     "text": [
      "<class 'pandas.core.frame.DataFrame'>\n",
      "RangeIndex: 426880 entries, 0 to 426879\n",
      "Data columns (total 26 columns):\n",
      " #   Column        Non-Null Count   Dtype  \n",
      "---  ------        --------------   -----  \n",
      " 0   id            426880 non-null  int64  \n",
      " 1   url           426880 non-null  object \n",
      " 2   region        426880 non-null  object \n",
      " 3   region_url    426880 non-null  object \n",
      " 4   price         426880 non-null  int64  \n",
      " 5   year          425675 non-null  float64\n",
      " 6   manufacturer  409234 non-null  object \n",
      " 7   model         421603 non-null  object \n",
      " 8   condition     252776 non-null  object \n",
      " 9   cylinders     249202 non-null  object \n",
      " 10  fuel          423867 non-null  object \n",
      " 11  odometer      422480 non-null  float64\n",
      " 12  title_status  418638 non-null  object \n",
      " 13  transmission  424324 non-null  object \n",
      " 14  VIN           265838 non-null  object \n",
      " 15  drive         296313 non-null  object \n",
      " 16  size          120519 non-null  object \n",
      " 17  type          334022 non-null  object \n",
      " 18  paint_color   296677 non-null  object \n",
      " 19  image_url     426812 non-null  object \n",
      " 20  description   426810 non-null  object \n",
      " 21  county        0 non-null       float64\n",
      " 22  state         426880 non-null  object \n",
      " 23  lat           420331 non-null  float64\n",
      " 24  long          420331 non-null  float64\n",
      " 25  posting_date  426812 non-null  object \n",
      "dtypes: float64(5), int64(2), object(19)\n",
      "memory usage: 4.2 GB\n"
     ]
    }
   ],
   "source": [
    "df.info(memory_usage='deep')"
   ]
  },
  {
   "cell_type": "markdown",
   "metadata": {
    "id": "jJVZdRsdlpUl"
   },
   "source": [
    "The dataset consists of 426880 rows and 26 columns."
   ]
  },
  {
   "cell_type": "code",
   "execution_count": 7,
   "metadata": {
    "colab": {
     "base_uri": "https://localhost:8080/"
    },
    "id": "LHDfvzS0j1kl",
    "outputId": "137c9e87-b2cb-434b-ca45-1a1d942f0c32"
   },
   "outputs": [
    {
     "data": {
      "text/plain": [
       "Index(['id', 'url', 'region', 'region_url', 'price', 'year', 'manufacturer',\n",
       "       'model', 'condition', 'cylinders', 'fuel', 'odometer', 'title_status',\n",
       "       'transmission', 'VIN', 'drive', 'size', 'type', 'paint_color',\n",
       "       'image_url', 'description', 'county', 'state', 'lat', 'long',\n",
       "       'posting_date'],\n",
       "      dtype='object')"
      ]
     },
     "execution_count": 7,
     "metadata": {},
     "output_type": "execute_result"
    }
   ],
   "source": [
    "df.columns"
   ]
  },
  {
   "cell_type": "code",
   "execution_count": 8,
   "metadata": {
    "colab": {
     "base_uri": "https://localhost:8080/",
     "height": 300
    },
    "id": "LrejZCD0lnCO",
    "outputId": "21a26c72-d6a8-4163-ef44-7fd51783b1e7"
   },
   "outputs": [
    {
     "data": {
      "text/html": [
       "<div>\n",
       "<style scoped>\n",
       "    .dataframe tbody tr th:only-of-type {\n",
       "        vertical-align: middle;\n",
       "    }\n",
       "\n",
       "    .dataframe tbody tr th {\n",
       "        vertical-align: top;\n",
       "    }\n",
       "\n",
       "    .dataframe thead th {\n",
       "        text-align: right;\n",
       "    }\n",
       "</style>\n",
       "<table border=\"1\" class=\"dataframe\">\n",
       "  <thead>\n",
       "    <tr style=\"text-align: right;\">\n",
       "      <th></th>\n",
       "      <th>id</th>\n",
       "      <th>price</th>\n",
       "      <th>year</th>\n",
       "      <th>odometer</th>\n",
       "      <th>county</th>\n",
       "      <th>lat</th>\n",
       "      <th>long</th>\n",
       "    </tr>\n",
       "  </thead>\n",
       "  <tbody>\n",
       "    <tr>\n",
       "      <th>count</th>\n",
       "      <td>4.268800e+05</td>\n",
       "      <td>4.268800e+05</td>\n",
       "      <td>425675.000000</td>\n",
       "      <td>4.224800e+05</td>\n",
       "      <td>0.0</td>\n",
       "      <td>420331.000000</td>\n",
       "      <td>420331.000000</td>\n",
       "    </tr>\n",
       "    <tr>\n",
       "      <th>mean</th>\n",
       "      <td>7.311487e+09</td>\n",
       "      <td>7.519903e+04</td>\n",
       "      <td>2011.235191</td>\n",
       "      <td>9.804333e+04</td>\n",
       "      <td>NaN</td>\n",
       "      <td>38.493940</td>\n",
       "      <td>-94.748599</td>\n",
       "    </tr>\n",
       "    <tr>\n",
       "      <th>std</th>\n",
       "      <td>4.473170e+06</td>\n",
       "      <td>1.218228e+07</td>\n",
       "      <td>9.452120</td>\n",
       "      <td>2.138815e+05</td>\n",
       "      <td>NaN</td>\n",
       "      <td>5.841533</td>\n",
       "      <td>18.365462</td>\n",
       "    </tr>\n",
       "    <tr>\n",
       "      <th>min</th>\n",
       "      <td>7.207408e+09</td>\n",
       "      <td>0.000000e+00</td>\n",
       "      <td>1900.000000</td>\n",
       "      <td>0.000000e+00</td>\n",
       "      <td>NaN</td>\n",
       "      <td>-84.122245</td>\n",
       "      <td>-159.827728</td>\n",
       "    </tr>\n",
       "    <tr>\n",
       "      <th>25%</th>\n",
       "      <td>7.308143e+09</td>\n",
       "      <td>5.900000e+03</td>\n",
       "      <td>2008.000000</td>\n",
       "      <td>3.770400e+04</td>\n",
       "      <td>NaN</td>\n",
       "      <td>34.601900</td>\n",
       "      <td>-111.939847</td>\n",
       "    </tr>\n",
       "    <tr>\n",
       "      <th>50%</th>\n",
       "      <td>7.312621e+09</td>\n",
       "      <td>1.395000e+04</td>\n",
       "      <td>2013.000000</td>\n",
       "      <td>8.554800e+04</td>\n",
       "      <td>NaN</td>\n",
       "      <td>39.150100</td>\n",
       "      <td>-88.432600</td>\n",
       "    </tr>\n",
       "    <tr>\n",
       "      <th>75%</th>\n",
       "      <td>7.315254e+09</td>\n",
       "      <td>2.648575e+04</td>\n",
       "      <td>2017.000000</td>\n",
       "      <td>1.335425e+05</td>\n",
       "      <td>NaN</td>\n",
       "      <td>42.398900</td>\n",
       "      <td>-80.832039</td>\n",
       "    </tr>\n",
       "    <tr>\n",
       "      <th>max</th>\n",
       "      <td>7.317101e+09</td>\n",
       "      <td>3.736929e+09</td>\n",
       "      <td>2022.000000</td>\n",
       "      <td>1.000000e+07</td>\n",
       "      <td>NaN</td>\n",
       "      <td>82.390818</td>\n",
       "      <td>173.885502</td>\n",
       "    </tr>\n",
       "  </tbody>\n",
       "</table>\n",
       "</div>"
      ],
      "text/plain": [
       "                 id         price  ...            lat           long\n",
       "count  4.268800e+05  4.268800e+05  ...  420331.000000  420331.000000\n",
       "mean   7.311487e+09  7.519903e+04  ...      38.493940     -94.748599\n",
       "std    4.473170e+06  1.218228e+07  ...       5.841533      18.365462\n",
       "min    7.207408e+09  0.000000e+00  ...     -84.122245    -159.827728\n",
       "25%    7.308143e+09  5.900000e+03  ...      34.601900    -111.939847\n",
       "50%    7.312621e+09  1.395000e+04  ...      39.150100     -88.432600\n",
       "75%    7.315254e+09  2.648575e+04  ...      42.398900     -80.832039\n",
       "max    7.317101e+09  3.736929e+09  ...      82.390818     173.885502\n",
       "\n",
       "[8 rows x 7 columns]"
      ]
     },
     "execution_count": 8,
     "metadata": {},
     "output_type": "execute_result"
    }
   ],
   "source": [
    "df.describe()"
   ]
  },
  {
   "cell_type": "markdown",
   "metadata": {
    "id": "eg3mwNrdmdNn"
   },
   "source": [
    "### Removing unwanted variables"
   ]
  },
  {
   "cell_type": "code",
   "execution_count": 9,
   "metadata": {
    "colab": {
     "base_uri": "https://localhost:8080/",
     "height": 206
    },
    "id": "qJa-AW2PmYIg",
    "outputId": "3f0059c1-a15b-4361-f977-98868e6b085a"
   },
   "outputs": [
    {
     "data": {
      "text/html": [
       "<div>\n",
       "<style scoped>\n",
       "    .dataframe tbody tr th:only-of-type {\n",
       "        vertical-align: middle;\n",
       "    }\n",
       "\n",
       "    .dataframe tbody tr th {\n",
       "        vertical-align: top;\n",
       "    }\n",
       "\n",
       "    .dataframe thead th {\n",
       "        text-align: right;\n",
       "    }\n",
       "</style>\n",
       "<table border=\"1\" class=\"dataframe\">\n",
       "  <thead>\n",
       "    <tr style=\"text-align: right;\">\n",
       "      <th></th>\n",
       "      <th>price</th>\n",
       "      <th>year</th>\n",
       "      <th>manufacturer</th>\n",
       "      <th>condition</th>\n",
       "      <th>cylinders</th>\n",
       "      <th>fuel</th>\n",
       "      <th>odometer</th>\n",
       "      <th>title_status</th>\n",
       "      <th>transmission</th>\n",
       "      <th>drive</th>\n",
       "      <th>size</th>\n",
       "      <th>type</th>\n",
       "      <th>paint_color</th>\n",
       "      <th>lat</th>\n",
       "      <th>long</th>\n",
       "    </tr>\n",
       "  </thead>\n",
       "  <tbody>\n",
       "    <tr>\n",
       "      <th>0</th>\n",
       "      <td>6000</td>\n",
       "      <td>NaN</td>\n",
       "      <td>NaN</td>\n",
       "      <td>NaN</td>\n",
       "      <td>NaN</td>\n",
       "      <td>NaN</td>\n",
       "      <td>NaN</td>\n",
       "      <td>NaN</td>\n",
       "      <td>NaN</td>\n",
       "      <td>NaN</td>\n",
       "      <td>NaN</td>\n",
       "      <td>NaN</td>\n",
       "      <td>NaN</td>\n",
       "      <td>NaN</td>\n",
       "      <td>NaN</td>\n",
       "    </tr>\n",
       "    <tr>\n",
       "      <th>1</th>\n",
       "      <td>11900</td>\n",
       "      <td>NaN</td>\n",
       "      <td>NaN</td>\n",
       "      <td>NaN</td>\n",
       "      <td>NaN</td>\n",
       "      <td>NaN</td>\n",
       "      <td>NaN</td>\n",
       "      <td>NaN</td>\n",
       "      <td>NaN</td>\n",
       "      <td>NaN</td>\n",
       "      <td>NaN</td>\n",
       "      <td>NaN</td>\n",
       "      <td>NaN</td>\n",
       "      <td>NaN</td>\n",
       "      <td>NaN</td>\n",
       "    </tr>\n",
       "    <tr>\n",
       "      <th>2</th>\n",
       "      <td>21000</td>\n",
       "      <td>NaN</td>\n",
       "      <td>NaN</td>\n",
       "      <td>NaN</td>\n",
       "      <td>NaN</td>\n",
       "      <td>NaN</td>\n",
       "      <td>NaN</td>\n",
       "      <td>NaN</td>\n",
       "      <td>NaN</td>\n",
       "      <td>NaN</td>\n",
       "      <td>NaN</td>\n",
       "      <td>NaN</td>\n",
       "      <td>NaN</td>\n",
       "      <td>NaN</td>\n",
       "      <td>NaN</td>\n",
       "    </tr>\n",
       "    <tr>\n",
       "      <th>3</th>\n",
       "      <td>1500</td>\n",
       "      <td>NaN</td>\n",
       "      <td>NaN</td>\n",
       "      <td>NaN</td>\n",
       "      <td>NaN</td>\n",
       "      <td>NaN</td>\n",
       "      <td>NaN</td>\n",
       "      <td>NaN</td>\n",
       "      <td>NaN</td>\n",
       "      <td>NaN</td>\n",
       "      <td>NaN</td>\n",
       "      <td>NaN</td>\n",
       "      <td>NaN</td>\n",
       "      <td>NaN</td>\n",
       "      <td>NaN</td>\n",
       "    </tr>\n",
       "    <tr>\n",
       "      <th>4</th>\n",
       "      <td>4900</td>\n",
       "      <td>NaN</td>\n",
       "      <td>NaN</td>\n",
       "      <td>NaN</td>\n",
       "      <td>NaN</td>\n",
       "      <td>NaN</td>\n",
       "      <td>NaN</td>\n",
       "      <td>NaN</td>\n",
       "      <td>NaN</td>\n",
       "      <td>NaN</td>\n",
       "      <td>NaN</td>\n",
       "      <td>NaN</td>\n",
       "      <td>NaN</td>\n",
       "      <td>NaN</td>\n",
       "      <td>NaN</td>\n",
       "    </tr>\n",
       "  </tbody>\n",
       "</table>\n",
       "</div>"
      ],
      "text/plain": [
       "   price  year manufacturer condition  ... type paint_color  lat long\n",
       "0   6000   NaN          NaN       NaN  ...  NaN         NaN  NaN  NaN\n",
       "1  11900   NaN          NaN       NaN  ...  NaN         NaN  NaN  NaN\n",
       "2  21000   NaN          NaN       NaN  ...  NaN         NaN  NaN  NaN\n",
       "3   1500   NaN          NaN       NaN  ...  NaN         NaN  NaN  NaN\n",
       "4   4900   NaN          NaN       NaN  ...  NaN         NaN  NaN  NaN\n",
       "\n",
       "[5 rows x 15 columns]"
      ]
     },
     "execution_count": 9,
     "metadata": {},
     "output_type": "execute_result"
    }
   ],
   "source": [
    "df = df.drop(['id','url','region','region_url','VIN','image_url','description','county','posting_date','state','model'],axis=1)\n",
    "df.head()"
   ]
  },
  {
   "cell_type": "markdown",
   "metadata": {
    "id": "tDg1T55WrH1V"
   },
   "source": [
    "### Missing values"
   ]
  },
  {
   "cell_type": "code",
   "execution_count": 10,
   "metadata": {
    "colab": {
     "base_uri": "https://localhost:8080/"
    },
    "id": "s-cjgBGArDWc",
    "outputId": "fcb77c3d-b851-4411-d41f-906164b79694"
   },
   "outputs": [
    {
     "data": {
      "text/plain": [
       "price            0.000000\n",
       "year             0.282281\n",
       "manufacturer     4.133714\n",
       "condition       40.785232\n",
       "cylinders       41.622470\n",
       "fuel             0.705819\n",
       "odometer         1.030735\n",
       "title_status     1.930753\n",
       "transmission     0.598763\n",
       "drive           30.586347\n",
       "size            71.767476\n",
       "type            21.752717\n",
       "paint_color     30.501078\n",
       "lat              1.534155\n",
       "long             1.534155\n",
       "dtype: float64"
      ]
     },
     "execution_count": 10,
     "metadata": {},
     "output_type": "execute_result"
    }
   ],
   "source": [
    "# check missing values are present or not\n",
    "df.isna().sum()/len(df) * 100"
   ]
  },
  {
   "cell_type": "markdown",
   "metadata": {
    "id": "w_5etCPErvX7"
   },
   "source": [
    "We can observed that missing values are present in the data. We are going to remove variables which having missingt values more than 70% of data.And also we would drop missing values in the dataset."
   ]
  },
  {
   "cell_type": "code",
   "execution_count": 11,
   "metadata": {
    "colab": {
     "base_uri": "https://localhost:8080/"
    },
    "id": "9xnYee5drV48",
    "outputId": "7ec228f2-70a3-421c-e571-94064ee9b829"
   },
   "outputs": [
    {
     "data": {
      "text/plain": [
       "(426880, 14)"
      ]
     },
     "execution_count": 11,
     "metadata": {},
     "output_type": "execute_result"
    }
   ],
   "source": [
    "df = df.drop(['size'],axis=1)\n",
    "df.shape"
   ]
  },
  {
   "cell_type": "code",
   "execution_count": 12,
   "metadata": {
    "colab": {
     "base_uri": "https://localhost:8080/"
    },
    "id": "dEjZwEPos0_E",
    "outputId": "7e1a0873-0f72-409a-a62c-8652122d52db"
   },
   "outputs": [
    {
     "data": {
      "text/plain": [
       "(116612, 14)"
      ]
     },
     "execution_count": 12,
     "metadata": {},
     "output_type": "execute_result"
    }
   ],
   "source": [
    "df = df.dropna()\n",
    "df.shape"
   ]
  },
  {
   "cell_type": "code",
   "execution_count": 13,
   "metadata": {
    "colab": {
     "base_uri": "https://localhost:8080/"
    },
    "id": "coKLkinquOoQ",
    "outputId": "ba8c00df-5f33-4eb7-ab79-d8d1d2ff218e"
   },
   "outputs": [
    {
     "name": "stdout",
     "output_type": "stream",
     "text": [
      "<class 'pandas.core.frame.DataFrame'>\n",
      "Int64Index: 116612 entries, 31 to 426878\n",
      "Data columns (total 14 columns):\n",
      " #   Column        Non-Null Count   Dtype  \n",
      "---  ------        --------------   -----  \n",
      " 0   price         116612 non-null  int64  \n",
      " 1   year          116612 non-null  float64\n",
      " 2   manufacturer  116612 non-null  object \n",
      " 3   condition     116612 non-null  object \n",
      " 4   cylinders     116612 non-null  object \n",
      " 5   fuel          116612 non-null  object \n",
      " 6   odometer      116612 non-null  float64\n",
      " 7   title_status  116612 non-null  object \n",
      " 8   transmission  116612 non-null  object \n",
      " 9   drive         116612 non-null  object \n",
      " 10  type          116612 non-null  object \n",
      " 11  paint_color   116612 non-null  object \n",
      " 12  lat           116612 non-null  float64\n",
      " 13  long          116612 non-null  float64\n",
      "dtypes: float64(4), int64(1), object(9)\n",
      "memory usage: 68.3 MB\n"
     ]
    }
   ],
   "source": [
    "df.info(memory_usage='deep')"
   ]
  },
  {
   "cell_type": "code",
   "execution_count": 14,
   "metadata": {
    "colab": {
     "base_uri": "https://localhost:8080/",
     "height": 206
    },
    "id": "_cSAyZLquhB5",
    "outputId": "c229fbb8-eefa-4be5-b875-b8dc4f8be5ec"
   },
   "outputs": [
    {
     "data": {
      "text/html": [
       "<div>\n",
       "<style scoped>\n",
       "    .dataframe tbody tr th:only-of-type {\n",
       "        vertical-align: middle;\n",
       "    }\n",
       "\n",
       "    .dataframe tbody tr th {\n",
       "        vertical-align: top;\n",
       "    }\n",
       "\n",
       "    .dataframe thead th {\n",
       "        text-align: right;\n",
       "    }\n",
       "</style>\n",
       "<table border=\"1\" class=\"dataframe\">\n",
       "  <thead>\n",
       "    <tr style=\"text-align: right;\">\n",
       "      <th></th>\n",
       "      <th>price</th>\n",
       "      <th>year</th>\n",
       "      <th>manufacturer</th>\n",
       "      <th>condition</th>\n",
       "      <th>cylinders</th>\n",
       "      <th>fuel</th>\n",
       "      <th>odometer</th>\n",
       "      <th>title_status</th>\n",
       "      <th>transmission</th>\n",
       "      <th>drive</th>\n",
       "      <th>type</th>\n",
       "      <th>paint_color</th>\n",
       "      <th>lat</th>\n",
       "      <th>long</th>\n",
       "    </tr>\n",
       "  </thead>\n",
       "  <tbody>\n",
       "    <tr>\n",
       "      <th>31</th>\n",
       "      <td>15000</td>\n",
       "      <td>2013.0</td>\n",
       "      <td>ford</td>\n",
       "      <td>excellent</td>\n",
       "      <td>6 cylinders</td>\n",
       "      <td>gas</td>\n",
       "      <td>128000.0</td>\n",
       "      <td>clean</td>\n",
       "      <td>automatic</td>\n",
       "      <td>rwd</td>\n",
       "      <td>truck</td>\n",
       "      <td>black</td>\n",
       "      <td>32.5920</td>\n",
       "      <td>-85.518900</td>\n",
       "    </tr>\n",
       "    <tr>\n",
       "      <th>32</th>\n",
       "      <td>27990</td>\n",
       "      <td>2012.0</td>\n",
       "      <td>gmc</td>\n",
       "      <td>good</td>\n",
       "      <td>8 cylinders</td>\n",
       "      <td>gas</td>\n",
       "      <td>68696.0</td>\n",
       "      <td>clean</td>\n",
       "      <td>other</td>\n",
       "      <td>4wd</td>\n",
       "      <td>pickup</td>\n",
       "      <td>black</td>\n",
       "      <td>32.5900</td>\n",
       "      <td>-85.480000</td>\n",
       "    </tr>\n",
       "    <tr>\n",
       "      <th>33</th>\n",
       "      <td>34590</td>\n",
       "      <td>2016.0</td>\n",
       "      <td>chevrolet</td>\n",
       "      <td>good</td>\n",
       "      <td>6 cylinders</td>\n",
       "      <td>gas</td>\n",
       "      <td>29499.0</td>\n",
       "      <td>clean</td>\n",
       "      <td>other</td>\n",
       "      <td>4wd</td>\n",
       "      <td>pickup</td>\n",
       "      <td>silver</td>\n",
       "      <td>32.5900</td>\n",
       "      <td>-85.480000</td>\n",
       "    </tr>\n",
       "    <tr>\n",
       "      <th>34</th>\n",
       "      <td>35000</td>\n",
       "      <td>2019.0</td>\n",
       "      <td>toyota</td>\n",
       "      <td>excellent</td>\n",
       "      <td>6 cylinders</td>\n",
       "      <td>gas</td>\n",
       "      <td>43000.0</td>\n",
       "      <td>clean</td>\n",
       "      <td>automatic</td>\n",
       "      <td>4wd</td>\n",
       "      <td>truck</td>\n",
       "      <td>grey</td>\n",
       "      <td>32.6013</td>\n",
       "      <td>-85.443974</td>\n",
       "    </tr>\n",
       "    <tr>\n",
       "      <th>35</th>\n",
       "      <td>29990</td>\n",
       "      <td>2016.0</td>\n",
       "      <td>chevrolet</td>\n",
       "      <td>good</td>\n",
       "      <td>6 cylinders</td>\n",
       "      <td>gas</td>\n",
       "      <td>17302.0</td>\n",
       "      <td>clean</td>\n",
       "      <td>other</td>\n",
       "      <td>4wd</td>\n",
       "      <td>pickup</td>\n",
       "      <td>red</td>\n",
       "      <td>32.5900</td>\n",
       "      <td>-85.480000</td>\n",
       "    </tr>\n",
       "  </tbody>\n",
       "</table>\n",
       "</div>"
      ],
      "text/plain": [
       "    price    year manufacturer  ... paint_color      lat       long\n",
       "31  15000  2013.0         ford  ...       black  32.5920 -85.518900\n",
       "32  27990  2012.0          gmc  ...       black  32.5900 -85.480000\n",
       "33  34590  2016.0    chevrolet  ...      silver  32.5900 -85.480000\n",
       "34  35000  2019.0       toyota  ...        grey  32.6013 -85.443974\n",
       "35  29990  2016.0    chevrolet  ...         red  32.5900 -85.480000\n",
       "\n",
       "[5 rows x 14 columns]"
      ]
     },
     "execution_count": 14,
     "metadata": {},
     "output_type": "execute_result"
    }
   ],
   "source": [
    "df.head()"
   ]
  },
  {
   "cell_type": "markdown",
   "metadata": {
    "id": "5GwaBDLnsAem"
   },
   "source": [
    "### Data visualization"
   ]
  },
  {
   "cell_type": "code",
   "execution_count": 15,
   "metadata": {
    "colab": {
     "base_uri": "https://localhost:8080/",
     "height": 536
    },
    "id": "yGHrdN2aLpK8",
    "outputId": "ced6623a-600a-407f-a9f4-eb86491b7df2"
   },
   "outputs": [
    {
     "data": {
      "text/plain": [
       "<matplotlib.axes._subplots.AxesSubplot at 0x7f90f5d88350>"
      ]
     },
     "execution_count": 15,
     "metadata": {},
     "output_type": "execute_result"
    },
    {
     "data": {
      "image/png": "[encoded data removed]",
      "text/plain": [
       "<Figure size 864x576 with 1 Axes>"
      ]
     },
     "metadata": {
      "needs_background": "light"
     },
     "output_type": "display_data"
    }
   ],
   "source": [
    "df_prc =df[(df.price >=2000) & (df.price <=50000)]\n",
    "# Then plot the distriution \n",
    "f, ax = plt.subplots(figsize=(12, 8))\n",
    "ax.set_title('Price Distribution', pad=12)\n",
    "sns.histplot(df_prc, x=\"price\", stat='count', bins=20)"
   ]
  },
  {
   "cell_type": "code",
   "execution_count": 16,
   "metadata": {
    "colab": {
     "base_uri": "https://localhost:8080/",
     "height": 369
    },
    "id": "5jPkH6CXMuDo",
    "outputId": "00832cdb-efff-4ead-fe55-3ed48ad7d563"
   },
   "outputs": [
    {
     "data": {
      "image/png": "[encoded data removed]",
      "text/plain": [
       "<Figure size 720x360 with 1 Axes>"
      ]
     },
     "metadata": {
      "needs_background": "light"
     },
     "output_type": "display_data"
    }
   ],
   "source": [
    "df_prc = df[(df.price >=2000) & (df.price <=50000)]\n",
    "df_odo = df_prc[(df_prc.odometer >100000) & (df_prc.odometer <=200000)]\n",
    "sns.displot(data=df_odo, x=\"odometer\", aspect=2, height=5, kde=True)\n",
    "plt.ylabel(\"Price \", fontsize=10);"
   ]
  },
  {
   "cell_type": "code",
   "execution_count": 17,
   "metadata": {
    "colab": {
     "base_uri": "https://localhost:8080/",
     "height": 638
    },
    "id": "COe-3S1YNq12",
    "outputId": "fd864099-fca9-4b9b-f07c-362526dffdb0"
   },
   "outputs": [
    {
     "data": {
      "image/png": "[encoded data removed]",
      "text/plain": [
       "<Figure size 1440x720 with 1 Axes>"
      ]
     },
     "metadata": {
      "needs_background": "light"
     },
     "output_type": "display_data"
    }
   ],
   "source": [
    "f, ax = plt.subplots(figsize=(20, 10))\n",
    "ax.set_title('Price vs Year', pad=12)\n",
    "fig = sns.boxplot(x=df_odo.year.astype(int), y='price', data=df_odo)\n",
    "plt.xticks(rotation=90);"
   ]
  },
  {
   "cell_type": "markdown",
   "metadata": {
    "id": "_Ydz6XBOsQg6"
   },
   "source": [
    "Answer following questions"
   ]
  },
  {
   "cell_type": "markdown",
   "metadata": {
    "id": "SGQ7g-b8sVnQ"
   },
   "source": [
    "1. How price of cars is effected by the fuel"
   ]
  },
  {
   "cell_type": "code",
   "execution_count": 18,
   "metadata": {
    "colab": {
     "base_uri": "https://localhost:8080/",
     "height": 519
    },
    "id": "tnM1hf42u0AK",
    "outputId": "a7eec02a-7277-4ae5-a3b7-5cf4c3855353"
   },
   "outputs": [
    {
     "data": {
      "text/plain": [
       "<matplotlib.axes._subplots.AxesSubplot at 0x7f90e94bbb50>"
      ]
     },
     "execution_count": 18,
     "metadata": {},
     "output_type": "execute_result"
    },
    {
     "data": {
      "image/png": "[encoded data removed]",
      "text/plain": [
       "<Figure size 720x576 with 1 Axes>"
      ]
     },
     "metadata": {},
     "output_type": "display_data"
    }
   ],
   "source": [
    "sns.set(rc={'figure.figsize':(10,8)})\n",
    "sns.countplot(x='fuel', data=df)"
   ]
  },
  {
   "cell_type": "code",
   "execution_count": 19,
   "metadata": {
    "colab": {
     "base_uri": "https://localhost:8080/",
     "height": 519
    },
    "id": "ePcezsvLsvA9",
    "outputId": "a6e3075f-14d8-4fe6-8627-9b146519bcb0"
   },
   "outputs": [
    {
     "data": {
      "text/plain": [
       "<matplotlib.axes._subplots.AxesSubplot at 0x7f90e9541590>"
      ]
     },
     "execution_count": 19,
     "metadata": {},
     "output_type": "execute_result"
    },
    {
     "data": {
      "image/png": "[encoded data removed]",
      "text/plain": [
       "<Figure size 720x576 with 1 Axes>"
      ]
     },
     "metadata": {},
     "output_type": "display_data"
    }
   ],
   "source": [
    "sns.set(rc={'figure.figsize':(10,8)})\n",
    "sns.barplot(x='fuel',y='price',data=df)"
   ]
  },
  {
   "cell_type": "markdown",
   "metadata": {
    "id": "yputoO6K-cMI"
   },
   "source": [
    "From the above plots, we observed that cars which use diesel fuel is costlier than other cars which use like gas, electric,other and hybrid. And also most of the cars are used gas fuel."
   ]
  },
  {
   "cell_type": "markdown",
   "metadata": {
    "id": "w5bPJWzEubqI"
   },
   "source": [
    "2. How price is related to different kinds of manufacturing"
   ]
  },
  {
   "cell_type": "code",
   "execution_count": 20,
   "metadata": {
    "colab": {
     "base_uri": "https://localhost:8080/"
    },
    "id": "23nWwDXeuvIt",
    "outputId": "8cc8151f-cac9-4dfa-faa1-197bb68a4b89"
   },
   "outputs": [
    {
     "data": {
      "text/plain": [
       "array(['ford', 'gmc', 'chevrolet', 'toyota', 'jeep', 'nissan', 'honda',\n",
       "       'dodge', 'chrysler', 'ram', 'mercedes-benz', 'infiniti', 'bmw',\n",
       "       'volkswagen', 'mazda', 'porsche', 'lexus', 'rover', 'ferrari',\n",
       "       'audi', 'mitsubishi', 'kia', 'hyundai', 'fiat', 'acura',\n",
       "       'cadillac', 'lincoln', 'jaguar', 'saturn', 'volvo', 'alfa-romeo',\n",
       "       'buick', 'subaru', 'pontiac', 'mini', 'tesla', 'harley-davidson',\n",
       "       'mercury', 'datsun', 'land rover', 'aston-martin', 'morgan'],\n",
       "      dtype=object)"
      ]
     },
     "execution_count": 20,
     "metadata": {},
     "output_type": "execute_result"
    }
   ],
   "source": [
    "df.manufacturer.unique()"
   ]
  },
  {
   "cell_type": "code",
   "execution_count": 21,
   "metadata": {
    "colab": {
     "base_uri": "https://localhost:8080/",
     "height": 530
    },
    "id": "opDooLHAuOeL",
    "outputId": "d6b323a0-bc0c-44cf-ac34-9d280a4efd2d"
   },
   "outputs": [
    {
     "data": {
      "text/plain": [
       "<matplotlib.axes._subplots.AxesSubplot at 0x7f90e9c8c8d0>"
      ]
     },
     "execution_count": 21,
     "metadata": {},
     "output_type": "execute_result"
    },
    {
     "data": {
      "image/png": "[encoded data removed]",
      "text/plain": [
       "<Figure size 1440x576 with 1 Axes>"
      ]
     },
     "metadata": {},
     "output_type": "display_data"
    }
   ],
   "source": [
    "sns.set(rc={'figure.figsize':(20,8)})\n",
    "sns.barplot(x='manufacturer',y='price',data=df,order=['ford', 'gmc', 'chevrolet', 'toyota', 'jeep', 'nissan', 'cadillac',\n",
    "       'honda', 'dodge', 'lexus', 'chrysler', 'volvo', 'hyundai', 'ram',\n",
    "       'lincoln', 'mercedes-benz', 'infiniti', 'buick', 'acura', 'bmw',\n",
    "       'volkswagen', 'mazda'])"
   ]
  },
  {
   "cell_type": "code",
   "execution_count": 22,
   "metadata": {
    "colab": {
     "base_uri": "https://localhost:8080/",
     "height": 509
    },
    "id": "_HQ2TBzw3iBO",
    "outputId": "132c27fe-db9e-4c97-ebd4-e1d6c39c83ee"
   },
   "outputs": [
    {
     "data": {
      "text/plain": [
       "<matplotlib.axes._subplots.AxesSubplot at 0x7f90e7b9d8d0>"
      ]
     },
     "execution_count": 22,
     "metadata": {},
     "output_type": "execute_result"
    },
    {
     "data": {
      "image/png": "[encoded data removed]",
      "text/plain": [
       "<Figure size 1440x576 with 1 Axes>"
      ]
     },
     "metadata": {},
     "output_type": "display_data"
    }
   ],
   "source": [
    "sns.set(rc={'figure.figsize':(20,8)})\n",
    "sns.barplot(x='manufacturer',y='price',data=df,order=['porsche', 'rover', 'kia', 'ferrari',\n",
    "       'pontiac', 'audi', 'mitsubishi', 'fiat', 'jaguar', 'alfa-romeo',\n",
    "       'tesla', 'saturn', 'subaru', 'mini', 'harley-davidson', 'mercury',\n",
    "       'datsun', 'land rover', 'aston-martin', 'morgan'])"
   ]
  },
  {
   "cell_type": "markdown",
   "metadata": {
    "id": "mRXpg0UCAHBf"
   },
   "source": [
    "From the above above plots, we can conclude that Toyota cars are costlier than other manufactures. "
   ]
  },
  {
   "cell_type": "markdown",
   "metadata": {
    "id": "feMd0O3Wwiuc"
   },
   "source": [
    "3. what is the common color for used car"
   ]
  },
  {
   "cell_type": "code",
   "execution_count": 23,
   "metadata": {
    "colab": {
     "base_uri": "https://localhost:8080/",
     "height": 519
    },
    "id": "1iOsZDpaullG",
    "outputId": "d32df4bd-4ac8-4cf3-fd48-f29046e339be"
   },
   "outputs": [
    {
     "data": {
      "text/plain": [
       "<matplotlib.axes._subplots.AxesSubplot at 0x7f90e7a8c090>"
      ]
     },
     "execution_count": 23,
     "metadata": {},
     "output_type": "execute_result"
    },
    {
     "data": {
      "image/png": "[encoded data removed]",
      "text/plain": [
       "<Figure size 720x576 with 1 Axes>"
      ]
     },
     "metadata": {},
     "output_type": "display_data"
    }
   ],
   "source": [
    "sns.set(rc={'figure.figsize':(10,8)})\n",
    "sns.countplot(x='paint_color', data=df)"
   ]
  },
  {
   "cell_type": "markdown",
   "metadata": {
    "id": "rFMFxRmvAyQk"
   },
   "source": [
    "From the above plot, we can conclude that common color for used car is white and followed by black."
   ]
  },
  {
   "cell_type": "markdown",
   "metadata": {
    "id": "09EXiXZEw4d_"
   },
   "source": [
    "4. How can we predict used car price"
   ]
  },
  {
   "cell_type": "markdown",
   "metadata": {
    "id": "la7XU3ba46xr"
   },
   "source": [
    "Encoding the categorical variables"
   ]
  },
  {
   "cell_type": "code",
   "execution_count": 25,
   "metadata": {
    "colab": {
     "base_uri": "https://localhost:8080/",
     "height": 273
    },
    "id": "fXmjXtLLwy3t",
    "outputId": "7e81a236-0e5f-43fd-d7e0-fc9233eb4053"
   },
   "outputs": [
    {
     "data": {
      "text/html": [
       "<div>\n",
       "<style scoped>\n",
       "    .dataframe tbody tr th:only-of-type {\n",
       "        vertical-align: middle;\n",
       "    }\n",
       "\n",
       "    .dataframe tbody tr th {\n",
       "        vertical-align: top;\n",
       "    }\n",
       "\n",
       "    .dataframe thead th {\n",
       "        text-align: right;\n",
       "    }\n",
       "</style>\n",
       "<table border=\"1\" class=\"dataframe\">\n",
       "  <thead>\n",
       "    <tr style=\"text-align: right;\">\n",
       "      <th></th>\n",
       "      <th>price</th>\n",
       "      <th>year</th>\n",
       "      <th>odometer</th>\n",
       "      <th>lat</th>\n",
       "      <th>long</th>\n",
       "      <th>condition_excellent</th>\n",
       "      <th>condition_fair</th>\n",
       "      <th>condition_good</th>\n",
       "      <th>condition_like new</th>\n",
       "      <th>condition_new</th>\n",
       "      <th>condition_salvage</th>\n",
       "      <th>cylinders_10 cylinders</th>\n",
       "      <th>cylinders_12 cylinders</th>\n",
       "      <th>cylinders_3 cylinders</th>\n",
       "      <th>cylinders_4 cylinders</th>\n",
       "      <th>cylinders_5 cylinders</th>\n",
       "      <th>cylinders_6 cylinders</th>\n",
       "      <th>cylinders_8 cylinders</th>\n",
       "      <th>cylinders_other</th>\n",
       "      <th>manufacturer_acura</th>\n",
       "      <th>manufacturer_alfa-romeo</th>\n",
       "      <th>manufacturer_aston-martin</th>\n",
       "      <th>manufacturer_audi</th>\n",
       "      <th>manufacturer_bmw</th>\n",
       "      <th>manufacturer_buick</th>\n",
       "      <th>manufacturer_cadillac</th>\n",
       "      <th>manufacturer_chevrolet</th>\n",
       "      <th>manufacturer_chrysler</th>\n",
       "      <th>manufacturer_datsun</th>\n",
       "      <th>manufacturer_dodge</th>\n",
       "      <th>manufacturer_ferrari</th>\n",
       "      <th>manufacturer_fiat</th>\n",
       "      <th>manufacturer_ford</th>\n",
       "      <th>manufacturer_gmc</th>\n",
       "      <th>manufacturer_harley-davidson</th>\n",
       "      <th>manufacturer_honda</th>\n",
       "      <th>manufacturer_hyundai</th>\n",
       "      <th>manufacturer_infiniti</th>\n",
       "      <th>manufacturer_jaguar</th>\n",
       "      <th>manufacturer_jeep</th>\n",
       "      <th>...</th>\n",
       "      <th>fuel_gas</th>\n",
       "      <th>fuel_hybrid</th>\n",
       "      <th>fuel_other</th>\n",
       "      <th>title_status_clean</th>\n",
       "      <th>title_status_lien</th>\n",
       "      <th>title_status_missing</th>\n",
       "      <th>title_status_parts only</th>\n",
       "      <th>title_status_rebuilt</th>\n",
       "      <th>title_status_salvage</th>\n",
       "      <th>transmission_automatic</th>\n",
       "      <th>transmission_manual</th>\n",
       "      <th>transmission_other</th>\n",
       "      <th>drive_4wd</th>\n",
       "      <th>drive_fwd</th>\n",
       "      <th>drive_rwd</th>\n",
       "      <th>type_SUV</th>\n",
       "      <th>type_bus</th>\n",
       "      <th>type_convertible</th>\n",
       "      <th>type_coupe</th>\n",
       "      <th>type_hatchback</th>\n",
       "      <th>type_mini-van</th>\n",
       "      <th>type_offroad</th>\n",
       "      <th>type_other</th>\n",
       "      <th>type_pickup</th>\n",
       "      <th>type_sedan</th>\n",
       "      <th>type_truck</th>\n",
       "      <th>type_van</th>\n",
       "      <th>type_wagon</th>\n",
       "      <th>paint_color_black</th>\n",
       "      <th>paint_color_blue</th>\n",
       "      <th>paint_color_brown</th>\n",
       "      <th>paint_color_custom</th>\n",
       "      <th>paint_color_green</th>\n",
       "      <th>paint_color_grey</th>\n",
       "      <th>paint_color_orange</th>\n",
       "      <th>paint_color_purple</th>\n",
       "      <th>paint_color_red</th>\n",
       "      <th>paint_color_silver</th>\n",
       "      <th>paint_color_white</th>\n",
       "      <th>paint_color_yellow</th>\n",
       "    </tr>\n",
       "  </thead>\n",
       "  <tbody>\n",
       "    <tr>\n",
       "      <th>0</th>\n",
       "      <td>15000</td>\n",
       "      <td>2013.0</td>\n",
       "      <td>128000.0</td>\n",
       "      <td>32.5920</td>\n",
       "      <td>-85.518900</td>\n",
       "      <td>1</td>\n",
       "      <td>0</td>\n",
       "      <td>0</td>\n",
       "      <td>0</td>\n",
       "      <td>0</td>\n",
       "      <td>0</td>\n",
       "      <td>0</td>\n",
       "      <td>0</td>\n",
       "      <td>0</td>\n",
       "      <td>0</td>\n",
       "      <td>0</td>\n",
       "      <td>1</td>\n",
       "      <td>0</td>\n",
       "      <td>0</td>\n",
       "      <td>0</td>\n",
       "      <td>0</td>\n",
       "      <td>0</td>\n",
       "      <td>0</td>\n",
       "      <td>0</td>\n",
       "      <td>0</td>\n",
       "      <td>0</td>\n",
       "      <td>0</td>\n",
       "      <td>0</td>\n",
       "      <td>0</td>\n",
       "      <td>0</td>\n",
       "      <td>0</td>\n",
       "      <td>0</td>\n",
       "      <td>1</td>\n",
       "      <td>0</td>\n",
       "      <td>0</td>\n",
       "      <td>0</td>\n",
       "      <td>0</td>\n",
       "      <td>0</td>\n",
       "      <td>0</td>\n",
       "      <td>0</td>\n",
       "      <td>...</td>\n",
       "      <td>1</td>\n",
       "      <td>0</td>\n",
       "      <td>0</td>\n",
       "      <td>1</td>\n",
       "      <td>0</td>\n",
       "      <td>0</td>\n",
       "      <td>0</td>\n",
       "      <td>0</td>\n",
       "      <td>0</td>\n",
       "      <td>1</td>\n",
       "      <td>0</td>\n",
       "      <td>0</td>\n",
       "      <td>0</td>\n",
       "      <td>0</td>\n",
       "      <td>1</td>\n",
       "      <td>0</td>\n",
       "      <td>0</td>\n",
       "      <td>0</td>\n",
       "      <td>0</td>\n",
       "      <td>0</td>\n",
       "      <td>0</td>\n",
       "      <td>0</td>\n",
       "      <td>0</td>\n",
       "      <td>0</td>\n",
       "      <td>0</td>\n",
       "      <td>1</td>\n",
       "      <td>0</td>\n",
       "      <td>0</td>\n",
       "      <td>1</td>\n",
       "      <td>0</td>\n",
       "      <td>0</td>\n",
       "      <td>0</td>\n",
       "      <td>0</td>\n",
       "      <td>0</td>\n",
       "      <td>0</td>\n",
       "      <td>0</td>\n",
       "      <td>0</td>\n",
       "      <td>0</td>\n",
       "      <td>0</td>\n",
       "      <td>0</td>\n",
       "    </tr>\n",
       "    <tr>\n",
       "      <th>1</th>\n",
       "      <td>27990</td>\n",
       "      <td>2012.0</td>\n",
       "      <td>68696.0</td>\n",
       "      <td>32.5900</td>\n",
       "      <td>-85.480000</td>\n",
       "      <td>0</td>\n",
       "      <td>0</td>\n",
       "      <td>1</td>\n",
       "      <td>0</td>\n",
       "      <td>0</td>\n",
       "      <td>0</td>\n",
       "      <td>0</td>\n",
       "      <td>0</td>\n",
       "      <td>0</td>\n",
       "      <td>0</td>\n",
       "      <td>0</td>\n",
       "      <td>0</td>\n",
       "      <td>1</td>\n",
       "      <td>0</td>\n",
       "      <td>0</td>\n",
       "      <td>0</td>\n",
       "      <td>0</td>\n",
       "      <td>0</td>\n",
       "      <td>0</td>\n",
       "      <td>0</td>\n",
       "      <td>0</td>\n",
       "      <td>0</td>\n",
       "      <td>0</td>\n",
       "      <td>0</td>\n",
       "      <td>0</td>\n",
       "      <td>0</td>\n",
       "      <td>0</td>\n",
       "      <td>0</td>\n",
       "      <td>1</td>\n",
       "      <td>0</td>\n",
       "      <td>0</td>\n",
       "      <td>0</td>\n",
       "      <td>0</td>\n",
       "      <td>0</td>\n",
       "      <td>0</td>\n",
       "      <td>...</td>\n",
       "      <td>1</td>\n",
       "      <td>0</td>\n",
       "      <td>0</td>\n",
       "      <td>1</td>\n",
       "      <td>0</td>\n",
       "      <td>0</td>\n",
       "      <td>0</td>\n",
       "      <td>0</td>\n",
       "      <td>0</td>\n",
       "      <td>0</td>\n",
       "      <td>0</td>\n",
       "      <td>1</td>\n",
       "      <td>1</td>\n",
       "      <td>0</td>\n",
       "      <td>0</td>\n",
       "      <td>0</td>\n",
       "      <td>0</td>\n",
       "      <td>0</td>\n",
       "      <td>0</td>\n",
       "      <td>0</td>\n",
       "      <td>0</td>\n",
       "      <td>0</td>\n",
       "      <td>0</td>\n",
       "      <td>1</td>\n",
       "      <td>0</td>\n",
       "      <td>0</td>\n",
       "      <td>0</td>\n",
       "      <td>0</td>\n",
       "      <td>1</td>\n",
       "      <td>0</td>\n",
       "      <td>0</td>\n",
       "      <td>0</td>\n",
       "      <td>0</td>\n",
       "      <td>0</td>\n",
       "      <td>0</td>\n",
       "      <td>0</td>\n",
       "      <td>0</td>\n",
       "      <td>0</td>\n",
       "      <td>0</td>\n",
       "      <td>0</td>\n",
       "    </tr>\n",
       "    <tr>\n",
       "      <th>2</th>\n",
       "      <td>34590</td>\n",
       "      <td>2016.0</td>\n",
       "      <td>29499.0</td>\n",
       "      <td>32.5900</td>\n",
       "      <td>-85.480000</td>\n",
       "      <td>0</td>\n",
       "      <td>0</td>\n",
       "      <td>1</td>\n",
       "      <td>0</td>\n",
       "      <td>0</td>\n",
       "      <td>0</td>\n",
       "      <td>0</td>\n",
       "      <td>0</td>\n",
       "      <td>0</td>\n",
       "      <td>0</td>\n",
       "      <td>0</td>\n",
       "      <td>1</td>\n",
       "      <td>0</td>\n",
       "      <td>0</td>\n",
       "      <td>0</td>\n",
       "      <td>0</td>\n",
       "      <td>0</td>\n",
       "      <td>0</td>\n",
       "      <td>0</td>\n",
       "      <td>0</td>\n",
       "      <td>0</td>\n",
       "      <td>1</td>\n",
       "      <td>0</td>\n",
       "      <td>0</td>\n",
       "      <td>0</td>\n",
       "      <td>0</td>\n",
       "      <td>0</td>\n",
       "      <td>0</td>\n",
       "      <td>0</td>\n",
       "      <td>0</td>\n",
       "      <td>0</td>\n",
       "      <td>0</td>\n",
       "      <td>0</td>\n",
       "      <td>0</td>\n",
       "      <td>0</td>\n",
       "      <td>...</td>\n",
       "      <td>1</td>\n",
       "      <td>0</td>\n",
       "      <td>0</td>\n",
       "      <td>1</td>\n",
       "      <td>0</td>\n",
       "      <td>0</td>\n",
       "      <td>0</td>\n",
       "      <td>0</td>\n",
       "      <td>0</td>\n",
       "      <td>0</td>\n",
       "      <td>0</td>\n",
       "      <td>1</td>\n",
       "      <td>1</td>\n",
       "      <td>0</td>\n",
       "      <td>0</td>\n",
       "      <td>0</td>\n",
       "      <td>0</td>\n",
       "      <td>0</td>\n",
       "      <td>0</td>\n",
       "      <td>0</td>\n",
       "      <td>0</td>\n",
       "      <td>0</td>\n",
       "      <td>0</td>\n",
       "      <td>1</td>\n",
       "      <td>0</td>\n",
       "      <td>0</td>\n",
       "      <td>0</td>\n",
       "      <td>0</td>\n",
       "      <td>0</td>\n",
       "      <td>0</td>\n",
       "      <td>0</td>\n",
       "      <td>0</td>\n",
       "      <td>0</td>\n",
       "      <td>0</td>\n",
       "      <td>0</td>\n",
       "      <td>0</td>\n",
       "      <td>0</td>\n",
       "      <td>1</td>\n",
       "      <td>0</td>\n",
       "      <td>0</td>\n",
       "    </tr>\n",
       "    <tr>\n",
       "      <th>3</th>\n",
       "      <td>35000</td>\n",
       "      <td>2019.0</td>\n",
       "      <td>43000.0</td>\n",
       "      <td>32.6013</td>\n",
       "      <td>-85.443974</td>\n",
       "      <td>1</td>\n",
       "      <td>0</td>\n",
       "      <td>0</td>\n",
       "      <td>0</td>\n",
       "      <td>0</td>\n",
       "      <td>0</td>\n",
       "      <td>0</td>\n",
       "      <td>0</td>\n",
       "      <td>0</td>\n",
       "      <td>0</td>\n",
       "      <td>0</td>\n",
       "      <td>1</td>\n",
       "      <td>0</td>\n",
       "      <td>0</td>\n",
       "      <td>0</td>\n",
       "      <td>0</td>\n",
       "      <td>0</td>\n",
       "      <td>0</td>\n",
       "      <td>0</td>\n",
       "      <td>0</td>\n",
       "      <td>0</td>\n",
       "      <td>0</td>\n",
       "      <td>0</td>\n",
       "      <td>0</td>\n",
       "      <td>0</td>\n",
       "      <td>0</td>\n",
       "      <td>0</td>\n",
       "      <td>0</td>\n",
       "      <td>0</td>\n",
       "      <td>0</td>\n",
       "      <td>0</td>\n",
       "      <td>0</td>\n",
       "      <td>0</td>\n",
       "      <td>0</td>\n",
       "      <td>0</td>\n",
       "      <td>...</td>\n",
       "      <td>1</td>\n",
       "      <td>0</td>\n",
       "      <td>0</td>\n",
       "      <td>1</td>\n",
       "      <td>0</td>\n",
       "      <td>0</td>\n",
       "      <td>0</td>\n",
       "      <td>0</td>\n",
       "      <td>0</td>\n",
       "      <td>1</td>\n",
       "      <td>0</td>\n",
       "      <td>0</td>\n",
       "      <td>1</td>\n",
       "      <td>0</td>\n",
       "      <td>0</td>\n",
       "      <td>0</td>\n",
       "      <td>0</td>\n",
       "      <td>0</td>\n",
       "      <td>0</td>\n",
       "      <td>0</td>\n",
       "      <td>0</td>\n",
       "      <td>0</td>\n",
       "      <td>0</td>\n",
       "      <td>0</td>\n",
       "      <td>0</td>\n",
       "      <td>1</td>\n",
       "      <td>0</td>\n",
       "      <td>0</td>\n",
       "      <td>0</td>\n",
       "      <td>0</td>\n",
       "      <td>0</td>\n",
       "      <td>0</td>\n",
       "      <td>0</td>\n",
       "      <td>1</td>\n",
       "      <td>0</td>\n",
       "      <td>0</td>\n",
       "      <td>0</td>\n",
       "      <td>0</td>\n",
       "      <td>0</td>\n",
       "      <td>0</td>\n",
       "    </tr>\n",
       "    <tr>\n",
       "      <th>4</th>\n",
       "      <td>29990</td>\n",
       "      <td>2016.0</td>\n",
       "      <td>17302.0</td>\n",
       "      <td>32.5900</td>\n",
       "      <td>-85.480000</td>\n",
       "      <td>0</td>\n",
       "      <td>0</td>\n",
       "      <td>1</td>\n",
       "      <td>0</td>\n",
       "      <td>0</td>\n",
       "      <td>0</td>\n",
       "      <td>0</td>\n",
       "      <td>0</td>\n",
       "      <td>0</td>\n",
       "      <td>0</td>\n",
       "      <td>0</td>\n",
       "      <td>1</td>\n",
       "      <td>0</td>\n",
       "      <td>0</td>\n",
       "      <td>0</td>\n",
       "      <td>0</td>\n",
       "      <td>0</td>\n",
       "      <td>0</td>\n",
       "      <td>0</td>\n",
       "      <td>0</td>\n",
       "      <td>0</td>\n",
       "      <td>1</td>\n",
       "      <td>0</td>\n",
       "      <td>0</td>\n",
       "      <td>0</td>\n",
       "      <td>0</td>\n",
       "      <td>0</td>\n",
       "      <td>0</td>\n",
       "      <td>0</td>\n",
       "      <td>0</td>\n",
       "      <td>0</td>\n",
       "      <td>0</td>\n",
       "      <td>0</td>\n",
       "      <td>0</td>\n",
       "      <td>0</td>\n",
       "      <td>...</td>\n",
       "      <td>1</td>\n",
       "      <td>0</td>\n",
       "      <td>0</td>\n",
       "      <td>1</td>\n",
       "      <td>0</td>\n",
       "      <td>0</td>\n",
       "      <td>0</td>\n",
       "      <td>0</td>\n",
       "      <td>0</td>\n",
       "      <td>0</td>\n",
       "      <td>0</td>\n",
       "      <td>1</td>\n",
       "      <td>1</td>\n",
       "      <td>0</td>\n",
       "      <td>0</td>\n",
       "      <td>0</td>\n",
       "      <td>0</td>\n",
       "      <td>0</td>\n",
       "      <td>0</td>\n",
       "      <td>0</td>\n",
       "      <td>0</td>\n",
       "      <td>0</td>\n",
       "      <td>0</td>\n",
       "      <td>1</td>\n",
       "      <td>0</td>\n",
       "      <td>0</td>\n",
       "      <td>0</td>\n",
       "      <td>0</td>\n",
       "      <td>0</td>\n",
       "      <td>0</td>\n",
       "      <td>0</td>\n",
       "      <td>0</td>\n",
       "      <td>0</td>\n",
       "      <td>0</td>\n",
       "      <td>0</td>\n",
       "      <td>0</td>\n",
       "      <td>1</td>\n",
       "      <td>0</td>\n",
       "      <td>0</td>\n",
       "      <td>0</td>\n",
       "    </tr>\n",
       "  </tbody>\n",
       "</table>\n",
       "<p>5 rows × 103 columns</p>\n",
       "</div>"
      ],
      "text/plain": [
       "   price    year  ...  paint_color_white  paint_color_yellow\n",
       "0  15000  2013.0  ...                  0                   0\n",
       "1  27990  2012.0  ...                  0                   0\n",
       "2  34590  2016.0  ...                  0                   0\n",
       "3  35000  2019.0  ...                  0                   0\n",
       "4  29990  2016.0  ...                  0                   0\n",
       "\n",
       "[5 rows x 103 columns]"
      ]
     },
     "execution_count": 25,
     "metadata": {},
     "output_type": "execute_result"
    }
   ],
   "source": [
    "# Get dummy variables\n",
    "df_encoded = pd.get_dummies(df,columns=['condition','cylinders','manufacturer','fuel','title_status','transmission','drive','type','paint_color'])\n",
    "# reset index\n",
    "df_encoded = df_encoded.reset_index(drop=True)\n",
    "df_encoded.head()"
   ]
  },
  {
   "cell_type": "code",
   "execution_count": 26,
   "metadata": {
    "colab": {
     "base_uri": "https://localhost:8080/"
    },
    "id": "T0pSep7cd77H",
    "outputId": "f2fa2c72-f197-4c72-892f-59d083830c78"
   },
   "outputs": [
    {
     "name": "stdout",
     "output_type": "stream",
     "text": [
      "<class 'pandas.core.frame.DataFrame'>\n",
      "RangeIndex: 116612 entries, 0 to 116611\n",
      "Columns: 103 entries, price to paint_color_yellow\n",
      "dtypes: float64(4), int64(1), uint8(98)\n",
      "memory usage: 15.3 MB\n"
     ]
    }
   ],
   "source": [
    "df_encoded.info()"
   ]
  },
  {
   "cell_type": "markdown",
   "metadata": {
    "id": "uyiL43wR70kg"
   },
   "source": [
    "### Correlation matrix"
   ]
  },
  {
   "cell_type": "markdown",
   "metadata": {
    "id": "6hK0omLC850l"
   },
   "source": [
    "Plot correlation matrix using heatmap to check how the features are correlated."
   ]
  },
  {
   "cell_type": "code",
   "execution_count": 27,
   "metadata": {
    "colab": {
     "base_uri": "https://localhost:8080/",
     "height": 461
    },
    "id": "CftxNAXQ7ek9",
    "outputId": "e5a63a60-7f8e-4585-ac2b-2fa1d54d2e70"
   },
   "outputs": [
    {
     "data": {
      "text/html": [
       "<div>\n",
       "<style scoped>\n",
       "    .dataframe tbody tr th:only-of-type {\n",
       "        vertical-align: middle;\n",
       "    }\n",
       "\n",
       "    .dataframe tbody tr th {\n",
       "        vertical-align: top;\n",
       "    }\n",
       "\n",
       "    .dataframe thead th {\n",
       "        text-align: right;\n",
       "    }\n",
       "</style>\n",
       "<table border=\"1\" class=\"dataframe\">\n",
       "  <thead>\n",
       "    <tr style=\"text-align: right;\">\n",
       "      <th></th>\n",
       "      <th>price</th>\n",
       "      <th>year</th>\n",
       "      <th>odometer</th>\n",
       "      <th>lat</th>\n",
       "      <th>long</th>\n",
       "      <th>condition_excellent</th>\n",
       "      <th>condition_fair</th>\n",
       "      <th>condition_good</th>\n",
       "      <th>condition_like new</th>\n",
       "      <th>condition_new</th>\n",
       "      <th>condition_salvage</th>\n",
       "      <th>cylinders_10 cylinders</th>\n",
       "      <th>cylinders_12 cylinders</th>\n",
       "      <th>cylinders_3 cylinders</th>\n",
       "      <th>cylinders_4 cylinders</th>\n",
       "      <th>cylinders_5 cylinders</th>\n",
       "      <th>cylinders_6 cylinders</th>\n",
       "      <th>cylinders_8 cylinders</th>\n",
       "      <th>cylinders_other</th>\n",
       "      <th>manufacturer_acura</th>\n",
       "      <th>manufacturer_alfa-romeo</th>\n",
       "      <th>manufacturer_aston-martin</th>\n",
       "      <th>manufacturer_audi</th>\n",
       "      <th>manufacturer_bmw</th>\n",
       "      <th>manufacturer_buick</th>\n",
       "      <th>manufacturer_cadillac</th>\n",
       "      <th>manufacturer_chevrolet</th>\n",
       "      <th>manufacturer_chrysler</th>\n",
       "      <th>manufacturer_datsun</th>\n",
       "      <th>manufacturer_dodge</th>\n",
       "      <th>manufacturer_ferrari</th>\n",
       "      <th>manufacturer_fiat</th>\n",
       "      <th>manufacturer_ford</th>\n",
       "      <th>manufacturer_gmc</th>\n",
       "      <th>manufacturer_harley-davidson</th>\n",
       "      <th>manufacturer_honda</th>\n",
       "      <th>manufacturer_hyundai</th>\n",
       "      <th>manufacturer_infiniti</th>\n",
       "      <th>manufacturer_jaguar</th>\n",
       "      <th>manufacturer_jeep</th>\n",
       "      <th>...</th>\n",
       "      <th>fuel_gas</th>\n",
       "      <th>fuel_hybrid</th>\n",
       "      <th>fuel_other</th>\n",
       "      <th>title_status_clean</th>\n",
       "      <th>title_status_lien</th>\n",
       "      <th>title_status_missing</th>\n",
       "      <th>title_status_parts only</th>\n",
       "      <th>title_status_rebuilt</th>\n",
       "      <th>title_status_salvage</th>\n",
       "      <th>transmission_automatic</th>\n",
       "      <th>transmission_manual</th>\n",
       "      <th>transmission_other</th>\n",
       "      <th>drive_4wd</th>\n",
       "      <th>drive_fwd</th>\n",
       "      <th>drive_rwd</th>\n",
       "      <th>type_SUV</th>\n",
       "      <th>type_bus</th>\n",
       "      <th>type_convertible</th>\n",
       "      <th>type_coupe</th>\n",
       "      <th>type_hatchback</th>\n",
       "      <th>type_mini-van</th>\n",
       "      <th>type_offroad</th>\n",
       "      <th>type_other</th>\n",
       "      <th>type_pickup</th>\n",
       "      <th>type_sedan</th>\n",
       "      <th>type_truck</th>\n",
       "      <th>type_van</th>\n",
       "      <th>type_wagon</th>\n",
       "      <th>paint_color_black</th>\n",
       "      <th>paint_color_blue</th>\n",
       "      <th>paint_color_brown</th>\n",
       "      <th>paint_color_custom</th>\n",
       "      <th>paint_color_green</th>\n",
       "      <th>paint_color_grey</th>\n",
       "      <th>paint_color_orange</th>\n",
       "      <th>paint_color_purple</th>\n",
       "      <th>paint_color_red</th>\n",
       "      <th>paint_color_silver</th>\n",
       "      <th>paint_color_white</th>\n",
       "      <th>paint_color_yellow</th>\n",
       "    </tr>\n",
       "  </thead>\n",
       "  <tbody>\n",
       "    <tr>\n",
       "      <th>price</th>\n",
       "      <td>1.000000</td>\n",
       "      <td>-0.001394</td>\n",
       "      <td>0.000660</td>\n",
       "      <td>0.003353</td>\n",
       "      <td>-0.006727</td>\n",
       "      <td>0.001920</td>\n",
       "      <td>-0.000402</td>\n",
       "      <td>-0.001324</td>\n",
       "      <td>-0.000662</td>\n",
       "      <td>-0.000218</td>\n",
       "      <td>-0.000256</td>\n",
       "      <td>-0.000343</td>\n",
       "      <td>-0.000079</td>\n",
       "      <td>-0.000183</td>\n",
       "      <td>-0.002988</td>\n",
       "      <td>-0.000419</td>\n",
       "      <td>-0.002849</td>\n",
       "      <td>0.006192</td>\n",
       "      <td>-0.000201</td>\n",
       "      <td>-0.000433</td>\n",
       "      <td>-0.000069</td>\n",
       "      <td>-0.000004</td>\n",
       "      <td>-0.000433</td>\n",
       "      <td>-0.000694</td>\n",
       "      <td>0.000307</td>\n",
       "      <td>-0.000494</td>\n",
       "      <td>-0.001468</td>\n",
       "      <td>-0.000599</td>\n",
       "      <td>-0.000058</td>\n",
       "      <td>-0.000773</td>\n",
       "      <td>0.000028</td>\n",
       "      <td>-0.000175</td>\n",
       "      <td>0.000395</td>\n",
       "      <td>-0.000267</td>\n",
       "      <td>-0.000071</td>\n",
       "      <td>-0.001117</td>\n",
       "      <td>-0.000687</td>\n",
       "      <td>-0.000417</td>\n",
       "      <td>-0.000210</td>\n",
       "      <td>-0.000857</td>\n",
       "      <td>...</td>\n",
       "      <td>-0.002099</td>\n",
       "      <td>-0.000471</td>\n",
       "      <td>-0.000361</td>\n",
       "      <td>0.000927</td>\n",
       "      <td>-0.000296</td>\n",
       "      <td>-0.000214</td>\n",
       "      <td>-0.000113</td>\n",
       "      <td>-0.000663</td>\n",
       "      <td>-0.000503</td>\n",
       "      <td>0.001511</td>\n",
       "      <td>-0.001171</td>\n",
       "      <td>-0.000895</td>\n",
       "      <td>0.003046</td>\n",
       "      <td>-0.003047</td>\n",
       "      <td>-0.000145</td>\n",
       "      <td>-0.002314</td>\n",
       "      <td>-0.000149</td>\n",
       "      <td>-0.000664</td>\n",
       "      <td>-0.000980</td>\n",
       "      <td>-0.000908</td>\n",
       "      <td>-0.000701</td>\n",
       "      <td>-0.000258</td>\n",
       "      <td>-0.000491</td>\n",
       "      <td>0.010757</td>\n",
       "      <td>-0.002482</td>\n",
       "      <td>-0.000926</td>\n",
       "      <td>-0.000681</td>\n",
       "      <td>-0.000727</td>\n",
       "      <td>-0.001444</td>\n",
       "      <td>-0.001441</td>\n",
       "      <td>-0.000744</td>\n",
       "      <td>-0.000639</td>\n",
       "      <td>-0.000775</td>\n",
       "      <td>-0.001133</td>\n",
       "      <td>-0.000297</td>\n",
       "      <td>-0.000232</td>\n",
       "      <td>-0.001357</td>\n",
       "      <td>0.006234</td>\n",
       "      <td>0.000039</td>\n",
       "      <td>-0.000351</td>\n",
       "    </tr>\n",
       "    <tr>\n",
       "      <th>year</th>\n",
       "      <td>-0.001394</td>\n",
       "      <td>1.000000</td>\n",
       "      <td>-0.121849</td>\n",
       "      <td>-0.017176</td>\n",
       "      <td>0.045622</td>\n",
       "      <td>0.039175</td>\n",
       "      <td>-0.198708</td>\n",
       "      <td>-0.021908</td>\n",
       "      <td>0.089139</td>\n",
       "      <td>0.013423</td>\n",
       "      <td>-0.037250</td>\n",
       "      <td>0.006593</td>\n",
       "      <td>-0.018691</td>\n",
       "      <td>0.003289</td>\n",
       "      <td>0.105183</td>\n",
       "      <td>-0.015790</td>\n",
       "      <td>0.073138</td>\n",
       "      <td>-0.177879</td>\n",
       "      <td>-0.021187</td>\n",
       "      <td>0.014431</td>\n",
       "      <td>-0.012011</td>\n",
       "      <td>-0.001573</td>\n",
       "      <td>0.018972</td>\n",
       "      <td>0.008730</td>\n",
       "      <td>-0.019731</td>\n",
       "      <td>-0.020594</td>\n",
       "      <td>-0.057207</td>\n",
       "      <td>0.000251</td>\n",
       "      <td>-0.045956</td>\n",
       "      <td>0.016089</td>\n",
       "      <td>-0.012032</td>\n",
       "      <td>0.006648</td>\n",
       "      <td>-0.050236</td>\n",
       "      <td>0.025788</td>\n",
       "      <td>-0.008009</td>\n",
       "      <td>0.002207</td>\n",
       "      <td>0.045581</td>\n",
       "      <td>0.040080</td>\n",
       "      <td>-0.021113</td>\n",
       "      <td>0.015797</td>\n",
       "      <td>...</td>\n",
       "      <td>-0.042457</td>\n",
       "      <td>0.025151</td>\n",
       "      <td>0.072371</td>\n",
       "      <td>-0.031292</td>\n",
       "      <td>0.031492</td>\n",
       "      <td>-0.113793</td>\n",
       "      <td>-0.033259</td>\n",
       "      <td>0.056221</td>\n",
       "      <td>0.003051</td>\n",
       "      <td>-0.000216</td>\n",
       "      <td>-0.273004</td>\n",
       "      <td>0.229044</td>\n",
       "      <td>0.130429</td>\n",
       "      <td>0.098167</td>\n",
       "      <td>-0.260796</td>\n",
       "      <td>0.070733</td>\n",
       "      <td>-0.023408</td>\n",
       "      <td>-0.166420</td>\n",
       "      <td>-0.125383</td>\n",
       "      <td>0.022365</td>\n",
       "      <td>0.006027</td>\n",
       "      <td>-0.057157</td>\n",
       "      <td>0.049509</td>\n",
       "      <td>0.017716</td>\n",
       "      <td>0.039351</td>\n",
       "      <td>-0.024781</td>\n",
       "      <td>0.031683</td>\n",
       "      <td>0.009940</td>\n",
       "      <td>0.074910</td>\n",
       "      <td>-0.044292</td>\n",
       "      <td>-0.048510</td>\n",
       "      <td>-0.081766</td>\n",
       "      <td>-0.128971</td>\n",
       "      <td>0.035497</td>\n",
       "      <td>-0.053335</td>\n",
       "      <td>-0.034581</td>\n",
       "      <td>-0.057617</td>\n",
       "      <td>0.031916</td>\n",
       "      <td>0.085163</td>\n",
       "      <td>-0.083540</td>\n",
       "    </tr>\n",
       "    <tr>\n",
       "      <th>odometer</th>\n",
       "      <td>0.000660</td>\n",
       "      <td>-0.121849</td>\n",
       "      <td>1.000000</td>\n",
       "      <td>0.001574</td>\n",
       "      <td>-0.009015</td>\n",
       "      <td>-0.011939</td>\n",
       "      <td>0.085609</td>\n",
       "      <td>-0.004265</td>\n",
       "      <td>-0.022948</td>\n",
       "      <td>-0.019047</td>\n",
       "      <td>0.023779</td>\n",
       "      <td>-0.004314</td>\n",
       "      <td>-0.000346</td>\n",
       "      <td>-0.008623</td>\n",
       "      <td>-0.010421</td>\n",
       "      <td>0.009472</td>\n",
       "      <td>-0.012084</td>\n",
       "      <td>0.023101</td>\n",
       "      <td>-0.001069</td>\n",
       "      <td>-0.000622</td>\n",
       "      <td>-0.005696</td>\n",
       "      <td>-0.002565</td>\n",
       "      <td>-0.003830</td>\n",
       "      <td>-0.008881</td>\n",
       "      <td>0.005619</td>\n",
       "      <td>-0.007990</td>\n",
       "      <td>0.001276</td>\n",
       "      <td>-0.000917</td>\n",
       "      <td>-0.001504</td>\n",
       "      <td>-0.016192</td>\n",
       "      <td>-0.005578</td>\n",
       "      <td>-0.007897</td>\n",
       "      <td>0.015155</td>\n",
       "      <td>0.009163</td>\n",
       "      <td>0.001599</td>\n",
       "      <td>0.018708</td>\n",
       "      <td>-0.002512</td>\n",
       "      <td>-0.015508</td>\n",
       "      <td>-0.003197</td>\n",
       "      <td>-0.012763</td>\n",
       "      <td>...</td>\n",
       "      <td>-0.020067</td>\n",
       "      <td>0.002494</td>\n",
       "      <td>-0.032844</td>\n",
       "      <td>0.011647</td>\n",
       "      <td>-0.006680</td>\n",
       "      <td>0.020938</td>\n",
       "      <td>0.046889</td>\n",
       "      <td>-0.023502</td>\n",
       "      <td>0.000462</td>\n",
       "      <td>0.077169</td>\n",
       "      <td>0.025163</td>\n",
       "      <td>-0.116928</td>\n",
       "      <td>0.010585</td>\n",
       "      <td>-0.000882</td>\n",
       "      <td>-0.011313</td>\n",
       "      <td>0.022047</td>\n",
       "      <td>0.003477</td>\n",
       "      <td>-0.021180</td>\n",
       "      <td>-0.040386</td>\n",
       "      <td>-0.000685</td>\n",
       "      <td>0.014764</td>\n",
       "      <td>0.019998</td>\n",
       "      <td>-0.039909</td>\n",
       "      <td>-0.010428</td>\n",
       "      <td>-0.009172</td>\n",
       "      <td>0.041431</td>\n",
       "      <td>-0.002067</td>\n",
       "      <td>0.006897</td>\n",
       "      <td>-0.019093</td>\n",
       "      <td>0.009834</td>\n",
       "      <td>0.008460</td>\n",
       "      <td>0.010394</td>\n",
       "      <td>0.014461</td>\n",
       "      <td>0.005645</td>\n",
       "      <td>-0.005079</td>\n",
       "      <td>0.000666</td>\n",
       "      <td>-0.003221</td>\n",
       "      <td>0.006438</td>\n",
       "      <td>-0.007077</td>\n",
       "      <td>-0.007413</td>\n",
       "    </tr>\n",
       "    <tr>\n",
       "      <th>lat</th>\n",
       "      <td>0.003353</td>\n",
       "      <td>-0.017176</td>\n",
       "      <td>0.001574</td>\n",
       "      <td>1.000000</td>\n",
       "      <td>-0.036147</td>\n",
       "      <td>-0.003674</td>\n",
       "      <td>0.021939</td>\n",
       "      <td>0.019707</td>\n",
       "      <td>-0.036392</td>\n",
       "      <td>-0.007436</td>\n",
       "      <td>0.001897</td>\n",
       "      <td>-0.034408</td>\n",
       "      <td>0.001189</td>\n",
       "      <td>-0.002482</td>\n",
       "      <td>0.048124</td>\n",
       "      <td>0.003275</td>\n",
       "      <td>-0.021794</td>\n",
       "      <td>-0.019517</td>\n",
       "      <td>0.000853</td>\n",
       "      <td>-0.012114</td>\n",
       "      <td>-0.003781</td>\n",
       "      <td>-0.008307</td>\n",
       "      <td>0.016017</td>\n",
       "      <td>-0.018466</td>\n",
       "      <td>0.022964</td>\n",
       "      <td>-0.012204</td>\n",
       "      <td>0.021430</td>\n",
       "      <td>0.002373</td>\n",
       "      <td>-0.004211</td>\n",
       "      <td>-0.006372</td>\n",
       "      <td>0.002268</td>\n",
       "      <td>-0.000553</td>\n",
       "      <td>0.005725</td>\n",
       "      <td>0.007562</td>\n",
       "      <td>0.000760</td>\n",
       "      <td>0.009310</td>\n",
       "      <td>-0.003384</td>\n",
       "      <td>-0.019715</td>\n",
       "      <td>-0.007811</td>\n",
       "      <td>0.007039</td>\n",
       "      <td>...</td>\n",
       "      <td>0.002112</td>\n",
       "      <td>-0.002917</td>\n",
       "      <td>-0.013366</td>\n",
       "      <td>-0.011343</td>\n",
       "      <td>0.014938</td>\n",
       "      <td>0.000935</td>\n",
       "      <td>0.002907</td>\n",
       "      <td>0.016703</td>\n",
       "      <td>-0.015592</td>\n",
       "      <td>0.057674</td>\n",
       "      <td>0.015845</td>\n",
       "      <td>-0.084907</td>\n",
       "      <td>0.172864</td>\n",
       "      <td>-0.039838</td>\n",
       "      <td>-0.156434</td>\n",
       "      <td>0.045016</td>\n",
       "      <td>0.000272</td>\n",
       "      <td>-0.022785</td>\n",
       "      <td>-0.037492</td>\n",
       "      <td>0.020787</td>\n",
       "      <td>0.008358</td>\n",
       "      <td>-0.008119</td>\n",
       "      <td>-0.040907</td>\n",
       "      <td>-0.007029</td>\n",
       "      <td>-0.008431</td>\n",
       "      <td>-0.004110</td>\n",
       "      <td>-0.005502</td>\n",
       "      <td>0.028989</td>\n",
       "      <td>0.000038</td>\n",
       "      <td>0.024942</td>\n",
       "      <td>0.008947</td>\n",
       "      <td>-0.003614</td>\n",
       "      <td>0.012759</td>\n",
       "      <td>0.020243</td>\n",
       "      <td>0.002467</td>\n",
       "      <td>0.004927</td>\n",
       "      <td>0.018661</td>\n",
       "      <td>-0.000449</td>\n",
       "      <td>-0.053567</td>\n",
       "      <td>-0.004446</td>\n",
       "    </tr>\n",
       "    <tr>\n",
       "      <th>long</th>\n",
       "      <td>-0.006727</td>\n",
       "      <td>0.045622</td>\n",
       "      <td>-0.009015</td>\n",
       "      <td>-0.036147</td>\n",
       "      <td>1.000000</td>\n",
       "      <td>-0.053509</td>\n",
       "      <td>-0.012486</td>\n",
       "      <td>0.071354</td>\n",
       "      <td>-0.016820</td>\n",
       "      <td>-0.001037</td>\n",
       "      <td>-0.016063</td>\n",
       "      <td>0.022180</td>\n",
       "      <td>-0.002474</td>\n",
       "      <td>-0.000563</td>\n",
       "      <td>-0.038417</td>\n",
       "      <td>-0.000939</td>\n",
       "      <td>0.021125</td>\n",
       "      <td>0.014030</td>\n",
       "      <td>-0.013008</td>\n",
       "      <td>-0.005297</td>\n",
       "      <td>-0.005659</td>\n",
       "      <td>0.004730</td>\n",
       "      <td>-0.001788</td>\n",
       "      <td>-0.003467</td>\n",
       "      <td>0.011683</td>\n",
       "      <td>0.004168</td>\n",
       "      <td>0.020277</td>\n",
       "      <td>-0.002666</td>\n",
       "      <td>-0.007850</td>\n",
       "      <td>-0.003289</td>\n",
       "      <td>-0.003192</td>\n",
       "      <td>-0.010250</td>\n",
       "      <td>0.008547</td>\n",
       "      <td>0.009363</td>\n",
       "      <td>-0.013124</td>\n",
       "      <td>0.003830</td>\n",
       "      <td>-0.001065</td>\n",
       "      <td>0.004630</td>\n",
       "      <td>-0.000533</td>\n",
       "      <td>0.014731</td>\n",
       "      <td>...</td>\n",
       "      <td>0.013200</td>\n",
       "      <td>-0.023186</td>\n",
       "      <td>0.022089</td>\n",
       "      <td>0.025138</td>\n",
       "      <td>-0.006966</td>\n",
       "      <td>0.001209</td>\n",
       "      <td>-0.004488</td>\n",
       "      <td>0.008725</td>\n",
       "      <td>-0.058448</td>\n",
       "      <td>-0.054316</td>\n",
       "      <td>-0.039722</td>\n",
       "      <td>0.100745</td>\n",
       "      <td>0.047328</td>\n",
       "      <td>-0.028581</td>\n",
       "      <td>-0.023152</td>\n",
       "      <td>-0.006846</td>\n",
       "      <td>-0.003576</td>\n",
       "      <td>0.012520</td>\n",
       "      <td>0.014182</td>\n",
       "      <td>-0.017245</td>\n",
       "      <td>-0.001648</td>\n",
       "      <td>-0.033970</td>\n",
       "      <td>0.014564</td>\n",
       "      <td>-0.003149</td>\n",
       "      <td>-0.004573</td>\n",
       "      <td>-0.001265</td>\n",
       "      <td>0.009086</td>\n",
       "      <td>0.016045</td>\n",
       "      <td>0.033511</td>\n",
       "      <td>0.015952</td>\n",
       "      <td>-0.010125</td>\n",
       "      <td>0.007513</td>\n",
       "      <td>-0.001895</td>\n",
       "      <td>-0.016655</td>\n",
       "      <td>0.001270</td>\n",
       "      <td>-0.004000</td>\n",
       "      <td>0.028349</td>\n",
       "      <td>-0.010795</td>\n",
       "      <td>-0.039251</td>\n",
       "      <td>-0.001629</td>\n",
       "    </tr>\n",
       "    <tr>\n",
       "      <th>...</th>\n",
       "      <td>...</td>\n",
       "      <td>...</td>\n",
       "      <td>...</td>\n",
       "      <td>...</td>\n",
       "      <td>...</td>\n",
       "      <td>...</td>\n",
       "      <td>...</td>\n",
       "      <td>...</td>\n",
       "      <td>...</td>\n",
       "      <td>...</td>\n",
       "      <td>...</td>\n",
       "      <td>...</td>\n",
       "      <td>...</td>\n",
       "      <td>...</td>\n",
       "      <td>...</td>\n",
       "      <td>...</td>\n",
       "      <td>...</td>\n",
       "      <td>...</td>\n",
       "      <td>...</td>\n",
       "      <td>...</td>\n",
       "      <td>...</td>\n",
       "      <td>...</td>\n",
       "      <td>...</td>\n",
       "      <td>...</td>\n",
       "      <td>...</td>\n",
       "      <td>...</td>\n",
       "      <td>...</td>\n",
       "      <td>...</td>\n",
       "      <td>...</td>\n",
       "      <td>...</td>\n",
       "      <td>...</td>\n",
       "      <td>...</td>\n",
       "      <td>...</td>\n",
       "      <td>...</td>\n",
       "      <td>...</td>\n",
       "      <td>...</td>\n",
       "      <td>...</td>\n",
       "      <td>...</td>\n",
       "      <td>...</td>\n",
       "      <td>...</td>\n",
       "      <td>...</td>\n",
       "      <td>...</td>\n",
       "      <td>...</td>\n",
       "      <td>...</td>\n",
       "      <td>...</td>\n",
       "      <td>...</td>\n",
       "      <td>...</td>\n",
       "      <td>...</td>\n",
       "      <td>...</td>\n",
       "      <td>...</td>\n",
       "      <td>...</td>\n",
       "      <td>...</td>\n",
       "      <td>...</td>\n",
       "      <td>...</td>\n",
       "      <td>...</td>\n",
       "      <td>...</td>\n",
       "      <td>...</td>\n",
       "      <td>...</td>\n",
       "      <td>...</td>\n",
       "      <td>...</td>\n",
       "      <td>...</td>\n",
       "      <td>...</td>\n",
       "      <td>...</td>\n",
       "      <td>...</td>\n",
       "      <td>...</td>\n",
       "      <td>...</td>\n",
       "      <td>...</td>\n",
       "      <td>...</td>\n",
       "      <td>...</td>\n",
       "      <td>...</td>\n",
       "      <td>...</td>\n",
       "      <td>...</td>\n",
       "      <td>...</td>\n",
       "      <td>...</td>\n",
       "      <td>...</td>\n",
       "      <td>...</td>\n",
       "      <td>...</td>\n",
       "      <td>...</td>\n",
       "      <td>...</td>\n",
       "      <td>...</td>\n",
       "      <td>...</td>\n",
       "    </tr>\n",
       "    <tr>\n",
       "      <th>paint_color_purple</th>\n",
       "      <td>-0.000232</td>\n",
       "      <td>-0.034581</td>\n",
       "      <td>0.000666</td>\n",
       "      <td>0.004927</td>\n",
       "      <td>-0.004000</td>\n",
       "      <td>-0.015196</td>\n",
       "      <td>0.013520</td>\n",
       "      <td>0.008476</td>\n",
       "      <td>0.002007</td>\n",
       "      <td>-0.001719</td>\n",
       "      <td>0.009467</td>\n",
       "      <td>-0.004782</td>\n",
       "      <td>0.005471</td>\n",
       "      <td>0.005182</td>\n",
       "      <td>-0.001871</td>\n",
       "      <td>-0.003150</td>\n",
       "      <td>0.002977</td>\n",
       "      <td>-0.000512</td>\n",
       "      <td>0.000174</td>\n",
       "      <td>-0.004233</td>\n",
       "      <td>-0.001078</td>\n",
       "      <td>-0.000359</td>\n",
       "      <td>-0.002819</td>\n",
       "      <td>-0.003569</td>\n",
       "      <td>0.013994</td>\n",
       "      <td>0.001068</td>\n",
       "      <td>0.001329</td>\n",
       "      <td>0.001181</td>\n",
       "      <td>-0.000754</td>\n",
       "      <td>0.030349</td>\n",
       "      <td>-0.000754</td>\n",
       "      <td>-0.002103</td>\n",
       "      <td>-0.004270</td>\n",
       "      <td>-0.004491</td>\n",
       "      <td>-0.000977</td>\n",
       "      <td>0.005482</td>\n",
       "      <td>0.000170</td>\n",
       "      <td>-0.003408</td>\n",
       "      <td>-0.003170</td>\n",
       "      <td>0.000447</td>\n",
       "      <td>...</td>\n",
       "      <td>0.005947</td>\n",
       "      <td>0.013403</td>\n",
       "      <td>-0.004423</td>\n",
       "      <td>-0.004539</td>\n",
       "      <td>-0.001128</td>\n",
       "      <td>0.011914</td>\n",
       "      <td>-0.001224</td>\n",
       "      <td>0.001190</td>\n",
       "      <td>0.003735</td>\n",
       "      <td>0.003274</td>\n",
       "      <td>-0.000612</td>\n",
       "      <td>-0.003554</td>\n",
       "      <td>-0.014950</td>\n",
       "      <td>0.007325</td>\n",
       "      <td>0.009209</td>\n",
       "      <td>0.003727</td>\n",
       "      <td>-0.001982</td>\n",
       "      <td>-0.000091</td>\n",
       "      <td>0.012095</td>\n",
       "      <td>0.001452</td>\n",
       "      <td>0.000947</td>\n",
       "      <td>0.006010</td>\n",
       "      <td>-0.005411</td>\n",
       "      <td>-0.010363</td>\n",
       "      <td>0.005576</td>\n",
       "      <td>-0.006170</td>\n",
       "      <td>-0.004040</td>\n",
       "      <td>-0.006025</td>\n",
       "      <td>-0.026583</td>\n",
       "      <td>-0.019159</td>\n",
       "      <td>-0.009445</td>\n",
       "      <td>-0.008274</td>\n",
       "      <td>-0.009929</td>\n",
       "      <td>-0.018974</td>\n",
       "      <td>-0.004252</td>\n",
       "      <td>1.000000</td>\n",
       "      <td>-0.019126</td>\n",
       "      <td>-0.022550</td>\n",
       "      <td>-0.030965</td>\n",
       "      <td>-0.005015</td>\n",
       "    </tr>\n",
       "    <tr>\n",
       "      <th>paint_color_red</th>\n",
       "      <td>-0.001357</td>\n",
       "      <td>-0.057617</td>\n",
       "      <td>-0.003221</td>\n",
       "      <td>0.018661</td>\n",
       "      <td>0.028349</td>\n",
       "      <td>-0.014228</td>\n",
       "      <td>0.009116</td>\n",
       "      <td>0.015878</td>\n",
       "      <td>-0.008279</td>\n",
       "      <td>0.003393</td>\n",
       "      <td>-0.000025</td>\n",
       "      <td>-0.017621</td>\n",
       "      <td>-0.003355</td>\n",
       "      <td>-0.000798</td>\n",
       "      <td>-0.019013</td>\n",
       "      <td>-0.012902</td>\n",
       "      <td>-0.011635</td>\n",
       "      <td>0.037425</td>\n",
       "      <td>-0.000012</td>\n",
       "      <td>-0.013068</td>\n",
       "      <td>0.021245</td>\n",
       "      <td>-0.002283</td>\n",
       "      <td>-0.026655</td>\n",
       "      <td>-0.042898</td>\n",
       "      <td>0.007155</td>\n",
       "      <td>-0.015519</td>\n",
       "      <td>0.084577</td>\n",
       "      <td>-0.007289</td>\n",
       "      <td>-0.000771</td>\n",
       "      <td>0.005016</td>\n",
       "      <td>0.025344</td>\n",
       "      <td>0.001782</td>\n",
       "      <td>0.019056</td>\n",
       "      <td>-0.003125</td>\n",
       "      <td>-0.006210</td>\n",
       "      <td>-0.028649</td>\n",
       "      <td>-0.005409</td>\n",
       "      <td>-0.033052</td>\n",
       "      <td>-0.005289</td>\n",
       "      <td>0.031564</td>\n",
       "      <td>...</td>\n",
       "      <td>0.012663</td>\n",
       "      <td>-0.005978</td>\n",
       "      <td>0.002428</td>\n",
       "      <td>0.006104</td>\n",
       "      <td>-0.006270</td>\n",
       "      <td>0.000460</td>\n",
       "      <td>0.008310</td>\n",
       "      <td>-0.001291</td>\n",
       "      <td>-0.007296</td>\n",
       "      <td>-0.077174</td>\n",
       "      <td>0.032599</td>\n",
       "      <td>0.068530</td>\n",
       "      <td>0.001396</td>\n",
       "      <td>-0.020520</td>\n",
       "      <td>0.021225</td>\n",
       "      <td>-0.032605</td>\n",
       "      <td>-0.010300</td>\n",
       "      <td>0.045578</td>\n",
       "      <td>0.060644</td>\n",
       "      <td>0.009443</td>\n",
       "      <td>-0.011036</td>\n",
       "      <td>0.005044</td>\n",
       "      <td>0.047096</td>\n",
       "      <td>0.053951</td>\n",
       "      <td>-0.053117</td>\n",
       "      <td>-0.002167</td>\n",
       "      <td>-0.036830</td>\n",
       "      <td>-0.023095</td>\n",
       "      <td>-0.168891</td>\n",
       "      <td>-0.121722</td>\n",
       "      <td>-0.060007</td>\n",
       "      <td>-0.052569</td>\n",
       "      <td>-0.063085</td>\n",
       "      <td>-0.120550</td>\n",
       "      <td>-0.027012</td>\n",
       "      <td>-0.019126</td>\n",
       "      <td>1.000000</td>\n",
       "      <td>-0.143269</td>\n",
       "      <td>-0.196731</td>\n",
       "      <td>-0.031860</td>\n",
       "    </tr>\n",
       "    <tr>\n",
       "      <th>paint_color_silver</th>\n",
       "      <td>0.006234</td>\n",
       "      <td>0.031916</td>\n",
       "      <td>0.006438</td>\n",
       "      <td>-0.000449</td>\n",
       "      <td>-0.010795</td>\n",
       "      <td>0.023717</td>\n",
       "      <td>-0.010413</td>\n",
       "      <td>-0.016284</td>\n",
       "      <td>-0.004726</td>\n",
       "      <td>-0.005038</td>\n",
       "      <td>-0.002423</td>\n",
       "      <td>-0.016925</td>\n",
       "      <td>0.000941</td>\n",
       "      <td>0.001966</td>\n",
       "      <td>0.052084</td>\n",
       "      <td>0.009305</td>\n",
       "      <td>0.043293</td>\n",
       "      <td>-0.096328</td>\n",
       "      <td>-0.003941</td>\n",
       "      <td>0.016764</td>\n",
       "      <td>-0.004350</td>\n",
       "      <td>0.001034</td>\n",
       "      <td>0.001865</td>\n",
       "      <td>0.018796</td>\n",
       "      <td>-0.004206</td>\n",
       "      <td>-0.002479</td>\n",
       "      <td>-0.021002</td>\n",
       "      <td>0.017655</td>\n",
       "      <td>-0.000318</td>\n",
       "      <td>-0.015291</td>\n",
       "      <td>-0.002094</td>\n",
       "      <td>-0.010013</td>\n",
       "      <td>-0.076043</td>\n",
       "      <td>-0.031983</td>\n",
       "      <td>-0.005953</td>\n",
       "      <td>0.035786</td>\n",
       "      <td>0.032890</td>\n",
       "      <td>-0.004645</td>\n",
       "      <td>-0.005535</td>\n",
       "      <td>0.000693</td>\n",
       "      <td>...</td>\n",
       "      <td>0.030135</td>\n",
       "      <td>0.026846</td>\n",
       "      <td>-0.005574</td>\n",
       "      <td>-0.003313</td>\n",
       "      <td>0.000806</td>\n",
       "      <td>-0.007447</td>\n",
       "      <td>-0.005887</td>\n",
       "      <td>0.002853</td>\n",
       "      <td>0.005758</td>\n",
       "      <td>0.019790</td>\n",
       "      <td>-0.019116</td>\n",
       "      <td>-0.008560</td>\n",
       "      <td>-0.023852</td>\n",
       "      <td>0.087802</td>\n",
       "      <td>-0.070053</td>\n",
       "      <td>0.014288</td>\n",
       "      <td>-0.012820</td>\n",
       "      <td>-0.000745</td>\n",
       "      <td>-0.034526</td>\n",
       "      <td>0.007657</td>\n",
       "      <td>0.028144</td>\n",
       "      <td>-0.008634</td>\n",
       "      <td>0.003019</td>\n",
       "      <td>-0.039501</td>\n",
       "      <td>0.082097</td>\n",
       "      <td>-0.065942</td>\n",
       "      <td>-0.034129</td>\n",
       "      <td>0.014190</td>\n",
       "      <td>-0.199123</td>\n",
       "      <td>-0.143510</td>\n",
       "      <td>-0.070748</td>\n",
       "      <td>-0.061979</td>\n",
       "      <td>-0.074378</td>\n",
       "      <td>-0.142128</td>\n",
       "      <td>-0.031847</td>\n",
       "      <td>-0.022550</td>\n",
       "      <td>-0.143269</td>\n",
       "      <td>1.000000</td>\n",
       "      <td>-0.231946</td>\n",
       "      <td>-0.037563</td>\n",
       "    </tr>\n",
       "    <tr>\n",
       "      <th>paint_color_white</th>\n",
       "      <td>0.000039</td>\n",
       "      <td>0.085163</td>\n",
       "      <td>-0.007077</td>\n",
       "      <td>-0.053567</td>\n",
       "      <td>-0.039251</td>\n",
       "      <td>-0.019061</td>\n",
       "      <td>-0.019124</td>\n",
       "      <td>0.020742</td>\n",
       "      <td>0.010198</td>\n",
       "      <td>-0.002041</td>\n",
       "      <td>-0.005757</td>\n",
       "      <td>0.058990</td>\n",
       "      <td>-0.002775</td>\n",
       "      <td>0.006925</td>\n",
       "      <td>-0.091691</td>\n",
       "      <td>-0.010636</td>\n",
       "      <td>-0.010442</td>\n",
       "      <td>0.093350</td>\n",
       "      <td>0.002378</td>\n",
       "      <td>-0.009395</td>\n",
       "      <td>-0.005988</td>\n",
       "      <td>-0.003696</td>\n",
       "      <td>-0.023444</td>\n",
       "      <td>-0.025615</td>\n",
       "      <td>0.004650</td>\n",
       "      <td>-0.002770</td>\n",
       "      <td>0.022134</td>\n",
       "      <td>-0.021660</td>\n",
       "      <td>-0.006294</td>\n",
       "      <td>-0.027110</td>\n",
       "      <td>-0.006294</td>\n",
       "      <td>0.002981</td>\n",
       "      <td>0.127580</td>\n",
       "      <td>0.024548</td>\n",
       "      <td>-0.010054</td>\n",
       "      <td>-0.067635</td>\n",
       "      <td>-0.028020</td>\n",
       "      <td>-0.021424</td>\n",
       "      <td>-0.013821</td>\n",
       "      <td>-0.033374</td>\n",
       "      <td>...</td>\n",
       "      <td>-0.113073</td>\n",
       "      <td>-0.008832</td>\n",
       "      <td>0.020152</td>\n",
       "      <td>0.026173</td>\n",
       "      <td>0.003746</td>\n",
       "      <td>-0.010117</td>\n",
       "      <td>-0.001807</td>\n",
       "      <td>-0.025573</td>\n",
       "      <td>-0.011698</td>\n",
       "      <td>0.029904</td>\n",
       "      <td>-0.048107</td>\n",
       "      <td>0.003173</td>\n",
       "      <td>-0.012929</td>\n",
       "      <td>-0.087742</td>\n",
       "      <td>0.112708</td>\n",
       "      <td>-0.055629</td>\n",
       "      <td>0.035695</td>\n",
       "      <td>-0.037658</td>\n",
       "      <td>-0.038106</td>\n",
       "      <td>-0.034668</td>\n",
       "      <td>-0.019897</td>\n",
       "      <td>-0.013056</td>\n",
       "      <td>0.004666</td>\n",
       "      <td>0.042667</td>\n",
       "      <td>-0.090992</td>\n",
       "      <td>0.148615</td>\n",
       "      <td>0.158261</td>\n",
       "      <td>-0.016892</td>\n",
       "      <td>-0.273427</td>\n",
       "      <td>-0.197063</td>\n",
       "      <td>-0.097148</td>\n",
       "      <td>-0.085107</td>\n",
       "      <td>-0.102132</td>\n",
       "      <td>-0.195165</td>\n",
       "      <td>-0.043731</td>\n",
       "      <td>-0.030965</td>\n",
       "      <td>-0.196731</td>\n",
       "      <td>-0.231946</td>\n",
       "      <td>1.000000</td>\n",
       "      <td>-0.051580</td>\n",
       "    </tr>\n",
       "    <tr>\n",
       "      <th>paint_color_yellow</th>\n",
       "      <td>-0.000351</td>\n",
       "      <td>-0.083540</td>\n",
       "      <td>-0.007413</td>\n",
       "      <td>-0.004446</td>\n",
       "      <td>-0.001629</td>\n",
       "      <td>-0.015011</td>\n",
       "      <td>0.011665</td>\n",
       "      <td>0.006221</td>\n",
       "      <td>0.006105</td>\n",
       "      <td>0.006767</td>\n",
       "      <td>-0.000975</td>\n",
       "      <td>-0.002496</td>\n",
       "      <td>-0.002125</td>\n",
       "      <td>-0.003835</td>\n",
       "      <td>-0.014708</td>\n",
       "      <td>0.006722</td>\n",
       "      <td>-0.013185</td>\n",
       "      <td>0.028004</td>\n",
       "      <td>0.002554</td>\n",
       "      <td>-0.008658</td>\n",
       "      <td>-0.001796</td>\n",
       "      <td>-0.000598</td>\n",
       "      <td>-0.005166</td>\n",
       "      <td>-0.009142</td>\n",
       "      <td>-0.005751</td>\n",
       "      <td>-0.004929</td>\n",
       "      <td>0.031742</td>\n",
       "      <td>-0.001905</td>\n",
       "      <td>-0.001255</td>\n",
       "      <td>0.000927</td>\n",
       "      <td>0.005633</td>\n",
       "      <td>0.008860</td>\n",
       "      <td>0.003387</td>\n",
       "      <td>-0.006936</td>\n",
       "      <td>-0.001628</td>\n",
       "      <td>-0.011819</td>\n",
       "      <td>-0.012556</td>\n",
       "      <td>-0.007809</td>\n",
       "      <td>-0.001995</td>\n",
       "      <td>0.027885</td>\n",
       "      <td>...</td>\n",
       "      <td>0.002568</td>\n",
       "      <td>-0.006197</td>\n",
       "      <td>0.002874</td>\n",
       "      <td>0.002160</td>\n",
       "      <td>-0.004645</td>\n",
       "      <td>0.008955</td>\n",
       "      <td>0.010691</td>\n",
       "      <td>-0.001933</td>\n",
       "      <td>-0.003437</td>\n",
       "      <td>-0.051542</td>\n",
       "      <td>0.055096</td>\n",
       "      <td>0.017844</td>\n",
       "      <td>-0.030793</td>\n",
       "      <td>-0.025189</td>\n",
       "      <td>0.063812</td>\n",
       "      <td>-0.020203</td>\n",
       "      <td>0.004565</td>\n",
       "      <td>0.056036</td>\n",
       "      <td>0.071416</td>\n",
       "      <td>0.004701</td>\n",
       "      <td>-0.007135</td>\n",
       "      <td>0.014301</td>\n",
       "      <td>0.016962</td>\n",
       "      <td>-0.009927</td>\n",
       "      <td>-0.031551</td>\n",
       "      <td>-0.011338</td>\n",
       "      <td>-0.005926</td>\n",
       "      <td>-0.006046</td>\n",
       "      <td>-0.044280</td>\n",
       "      <td>-0.031913</td>\n",
       "      <td>-0.015733</td>\n",
       "      <td>-0.013783</td>\n",
       "      <td>-0.016540</td>\n",
       "      <td>-0.031606</td>\n",
       "      <td>-0.007082</td>\n",
       "      <td>-0.005015</td>\n",
       "      <td>-0.031860</td>\n",
       "      <td>-0.037563</td>\n",
       "      <td>-0.051580</td>\n",
       "      <td>1.000000</td>\n",
       "    </tr>\n",
       "  </tbody>\n",
       "</table>\n",
       "<p>103 rows × 103 columns</p>\n",
       "</div>"
      ],
      "text/plain": [
       "                       price      year  ...  paint_color_white  paint_color_yellow\n",
       "price               1.000000 -0.001394  ...           0.000039           -0.000351\n",
       "year               -0.001394  1.000000  ...           0.085163           -0.083540\n",
       "odometer            0.000660 -0.121849  ...          -0.007077           -0.007413\n",
       "lat                 0.003353 -0.017176  ...          -0.053567           -0.004446\n",
       "long               -0.006727  0.045622  ...          -0.039251           -0.001629\n",
       "...                      ...       ...  ...                ...                 ...\n",
       "paint_color_purple -0.000232 -0.034581  ...          -0.030965           -0.005015\n",
       "paint_color_red    -0.001357 -0.057617  ...          -0.196731           -0.031860\n",
       "paint_color_silver  0.006234  0.031916  ...          -0.231946           -0.037563\n",
       "paint_color_white   0.000039  0.085163  ...           1.000000           -0.051580\n",
       "paint_color_yellow -0.000351 -0.083540  ...          -0.051580            1.000000\n",
       "\n",
       "[103 rows x 103 columns]"
      ]
     },
     "execution_count": 27,
     "metadata": {},
     "output_type": "execute_result"
    }
   ],
   "source": [
    "# Corrlation between the variables\n",
    "df_encoded.corr()"
   ]
  },
  {
   "cell_type": "code",
   "execution_count": 28,
   "metadata": {
    "colab": {
     "base_uri": "https://localhost:8080/",
     "height": 645
    },
    "id": "Z7URqTpp76IO",
    "outputId": "eb53225a-ef1a-4092-89e2-2fd8aa5d2149"
   },
   "outputs": [
    {
     "data": {
      "image/png": "[encoded data removed]",
      "text/plain": [
       "<Figure size 864x576 with 2 Axes>"
      ]
     },
     "metadata": {},
     "output_type": "display_data"
    }
   ],
   "source": [
    "# Correlation plot\n",
    "plt.figure(figsize = (12,8))\n",
    "df_corr = df_encoded.corr()\n",
    "sns.heatmap(df_corr,fmt = \"\", cmap = \"RdYlGn\", linewidth = 0.30)\n",
    "plt.show()"
   ]
  },
  {
   "cell_type": "markdown",
   "metadata": {
    "id": "wLcV0FVB9mIC"
   },
   "source": [
    "It seems features have less or no correlation between them."
   ]
  },
  {
   "cell_type": "markdown",
   "metadata": {
    "id": "WzbMVXBBPiNr"
   },
   "source": [
    "### Split the data"
   ]
  },
  {
   "cell_type": "code",
   "execution_count": 32,
   "metadata": {
    "colab": {
     "base_uri": "https://localhost:8080/"
    },
    "id": "3l6FeYZv9Lnm",
    "outputId": "ab34efbc-0895-4340-a8a1-c5a450f8d6bd"
   },
   "outputs": [
    {
     "name": "stdout",
     "output_type": "stream",
     "text": [
      "X_train shape is (93289, 102)\n",
      "X_test shape is (23323, 102)\n",
      "y_train shape is (93289,)\n",
      "y_test shape is (23323,)\n"
     ]
    }
   ],
   "source": [
    "X = df_encoded.drop('price',axis=1)\n",
    "Y = df_encoded.price\n",
    "# Split the data into train and test dataset\n",
    "X_train, X_test, y_train, y_test = train_test_split(X,Y,test_size=0.2,random_state=42)\n",
    "\n",
    "print(f'X_train shape is {X_train.shape}')\n",
    "print(f'X_test shape is {X_test.shape}')\n",
    "print(f'y_train shape is {y_train.shape}')\n",
    "print(f'y_test shape is {y_test.shape}')"
   ]
  },
  {
   "cell_type": "markdown",
   "metadata": {
    "id": "mDB_rTcysYj-"
   },
   "source": [
    "Normalizing the data"
   ]
  },
  {
   "cell_type": "code",
   "execution_count": 59,
   "metadata": {
    "id": "4fkggxNzsX8e"
   },
   "outputs": [],
   "source": [
    "scaler = MinMaxScaler()\n",
    "scaler.fit(X_train)\n",
    "\n",
    "X_train_s = scaler.transform(X_train)\n",
    "X_test_s = scaler.transform(X_test)"
   ]
  },
  {
   "cell_type": "markdown",
   "metadata": {
    "id": "gKbVyJguaRPk"
   },
   "source": [
    "### Building predictive models"
   ]
  },
  {
   "cell_type": "markdown",
   "metadata": {
    "id": "l4krSm9-aclg"
   },
   "source": [
    "### Linear Regression Model"
   ]
  },
  {
   "cell_type": "code",
   "execution_count": 60,
   "metadata": {
    "colab": {
     "base_uri": "https://localhost:8080/"
    },
    "id": "lNGEhzwTTVbQ",
    "outputId": "5ba86800-fc0a-491b-f954-d9ca422dbba2"
   },
   "outputs": [
    {
     "data": {
      "text/plain": [
       "LinearRegression()"
      ]
     },
     "execution_count": 60,
     "metadata": {},
     "output_type": "execute_result"
    }
   ],
   "source": [
    "## Linear regression model\n",
    "lr = LinearRegression()\n",
    "\n",
    "## fitting the model\n",
    "lr.fit(X_train_s,y_train)"
   ]
  },
  {
   "cell_type": "code",
   "execution_count": 86,
   "metadata": {
    "colab": {
     "base_uri": "https://localhost:8080/"
    },
    "id": "-NU69OSZa4zL",
    "outputId": "a29f82a5-bfa0-4460-8de5-79050cda9899"
   },
   "outputs": [
    {
     "name": "stdout",
     "output_type": "stream",
     "text": [
      "Accuracy for linear regression is 0.0004848140211964891\n"
     ]
    }
   ],
   "source": [
    "score = lr.score(X_train_s,y_train)\n",
    "print(f'Accuracy for linear regression model is {score}')"
   ]
  },
  {
   "cell_type": "code",
   "execution_count": 90,
   "metadata": {
    "colab": {
     "base_uri": "https://localhost:8080/"
    },
    "id": "XWW_yzaD1omQ",
    "outputId": "9bc019d9-ac80-4a6d-f23c-d096eacda18c"
   },
   "outputs": [
    {
     "data": {
      "text/plain": [
       "array([-7.54933606e+09, -1.41275397e+10, -1.48323528e+10, ...,\n",
       "       -1.66055992e+10, -1.35362202e+10, -1.13216061e+10])"
      ]
     },
     "execution_count": 90,
     "metadata": {},
     "output_type": "execute_result"
    }
   ],
   "source": [
    "lr_pred = lr.predict(X_test)\n",
    "lr_pred"
   ]
  },
  {
   "cell_type": "code",
   "execution_count": 98,
   "metadata": {
    "colab": {
     "base_uri": "https://localhost:8080/"
    },
    "id": "W4lt40D01Ra1",
    "outputId": "b11a812e-4fc8-404b-9790-0814f5bdaebb"
   },
   "outputs": [
    {
     "name": "stdout",
     "output_type": "stream",
     "text": [
      "Root mean squared error for linear regression model is 28059973476.08717\n"
     ]
    }
   ],
   "source": [
    "mse = mean_squared_error(y_test,lr_pred)\n",
    "rmse = np.sqrt(mse)\n",
    "print(f'Root mean squared error for linear regression model is {rmse}')"
   ]
  },
  {
   "cell_type": "markdown",
   "metadata": {
    "id": "9KraEEH9067B"
   },
   "source": [
    "### Lasso regularization model"
   ]
  },
  {
   "cell_type": "code",
   "execution_count": 62,
   "metadata": {
    "colab": {
     "base_uri": "https://localhost:8080/"
    },
    "id": "PNh0KK2BpRyf",
    "outputId": "9000bd6a-8b5a-4f48-8487-383dedcae2df"
   },
   "outputs": [
    {
     "data": {
      "text/plain": [
       "Lasso(alpha=0.5)"
      ]
     },
     "execution_count": 62,
     "metadata": {},
     "output_type": "execute_result"
    }
   ],
   "source": [
    "## lasso model\n",
    "lasso =Lasso(alpha=0.5)\n",
    "\n",
    "lasso.fit(X_train_s,y_train)"
   ]
  },
  {
   "cell_type": "code",
   "execution_count": 63,
   "metadata": {
    "colab": {
     "base_uri": "https://localhost:8080/"
    },
    "id": "SD6r3aIpuVyB",
    "outputId": "1ef98123-aefe-4209-c41b-05ef39a98288"
   },
   "outputs": [
    {
     "data": {
      "text/plain": [
       "0.00048527256500785487"
      ]
     },
     "execution_count": 63,
     "metadata": {},
     "output_type": "execute_result"
    }
   ],
   "source": [
    "score = lasso.score(X_train_s,y_train)\n",
    "print(f'Accuracy for lasso model is {score}')"
   ]
  },
  {
   "cell_type": "code",
   "execution_count": 88,
   "metadata": {
    "colab": {
     "base_uri": "https://localhost:8080/"
    },
    "id": "B8n7IdZEueO5",
    "outputId": "cfbca19e-1d20-48d7-a777-7c4689023d98"
   },
   "outputs": [
    {
     "data": {
      "text/plain": [
       "array([-7.09317013e+09, -1.32560306e+10, -1.39165724e+10, ...,\n",
       "       -1.55775187e+10, -1.27020564e+10, -1.06274422e+10])"
      ]
     },
     "execution_count": 88,
     "metadata": {},
     "output_type": "execute_result"
    }
   ],
   "source": [
    "lasso_pred = lasso.predict(X_test)\n",
    "lasso_pred"
   ]
  },
  {
   "cell_type": "code",
   "execution_count": 99,
   "metadata": {
    "colab": {
     "base_uri": "https://localhost:8080/"
    },
    "id": "KfLGT0HUvQM0",
    "outputId": "6c7d11d4-5d78-4cc6-e720-f13909cc41f7"
   },
   "outputs": [
    {
     "name": "stdout",
     "output_type": "stream",
     "text": [
      "Root mean squared error for lasso model is 26297830759.381348\n"
     ]
    }
   ],
   "source": [
    "mse = mean_squared_error(y_test,lasso_pred)\n",
    "rmse = np.sqrt(mse)\n",
    "print(f'Root mean squared error for lasso model is {rmse}')"
   ]
  },
  {
   "cell_type": "markdown",
   "metadata": {
    "id": "OToowO371gDV"
   },
   "source": [
    "### LightGBM model"
   ]
  },
  {
   "cell_type": "code",
   "execution_count": 79,
   "metadata": {
    "id": "bnfVv-S7vqwF"
   },
   "outputs": [],
   "source": [
    "### lightGBM model\n",
    "lgbm = lightgbm.LGBMRegressor(learning_rate=0.4,n_estimators=80,reg_alpha=0.02,random_state=423)"
   ]
  },
  {
   "cell_type": "code",
   "execution_count": 80,
   "metadata": {
    "colab": {
     "base_uri": "https://localhost:8080/"
    },
    "id": "5Jw5NnkgwyuR",
    "outputId": "fb468747-b005-4d3e-aa55-5590d2ca54bd"
   },
   "outputs": [
    {
     "data": {
      "text/plain": [
       "LGBMRegressor(learning_rate=0.4, n_estimators=80, random_state=423,\n",
       "              reg_alpha=0.02)"
      ]
     },
     "execution_count": 80,
     "metadata": {},
     "output_type": "execute_result"
    }
   ],
   "source": [
    "lgbm.fit(X_train_s,y_train)"
   ]
  },
  {
   "cell_type": "code",
   "execution_count": 85,
   "metadata": {
    "colab": {
     "base_uri": "https://localhost:8080/"
    },
    "id": "jF264rS8w3Y4",
    "outputId": "da426ef6-78bd-47e7-9cdb-5b9048e11f85"
   },
   "outputs": [
    {
     "name": "stdout",
     "output_type": "stream",
     "text": [
      "Accuracy for lightGBM is 0.8071135344356644\n"
     ]
    }
   ],
   "source": [
    "score = lgbm.score(X_train_s,y_train)\n",
    "print(f'Accuracy for lightGBM model is {score}')"
   ]
  },
  {
   "cell_type": "code",
   "execution_count": 82,
   "metadata": {
    "colab": {
     "base_uri": "https://localhost:8080/"
    },
    "id": "mjETPOI7w8MA",
    "outputId": "35df5580-08fa-4153-a65b-302325585f4f"
   },
   "outputs": [
    {
     "data": {
      "text/plain": [
       "array([16665.52841911, 11609.83411837, 12804.66297447, ...,\n",
       "        4373.13748368, 13067.62748604, 18018.00713414])"
      ]
     },
     "execution_count": 82,
     "metadata": {},
     "output_type": "execute_result"
    }
   ],
   "source": [
    "lgbm_pred = lgbm.predict(X_test_s)\n",
    "lgbm_pred"
   ]
  },
  {
   "cell_type": "code",
   "execution_count": 102,
   "metadata": {
    "colab": {
     "base_uri": "https://localhost:8080/"
    },
    "id": "8pJFwhCSy6VX",
    "outputId": "6b249f4e-1251-49a9-c66a-dd2abc1e4adb"
   },
   "outputs": [
    {
     "name": "stdout",
     "output_type": "stream",
     "text": [
      "Root mean squared error for lightgbm model is 24499671.531292748\n"
     ]
    }
   ],
   "source": [
    "mse = mean_squared_error(y_test,lgbm_pred)\n",
    "rmse = np.sqrt(mse)\n",
    "print(f'Root mean squared error for lightgbm model is {rmse}')"
   ]
  },
  {
   "cell_type": "markdown",
   "metadata": {
    "id": "bfQAzc5G11z_"
   },
   "source": [
    "### Random Forest model"
   ]
  },
  {
   "cell_type": "code",
   "execution_count": 93,
   "metadata": {
    "id": "0emiGrVDzEOg"
   },
   "outputs": [],
   "source": [
    "rf = RandomForestRegressor()\n"
   ]
  },
  {
   "cell_type": "code",
   "execution_count": 94,
   "metadata": {
    "colab": {
     "base_uri": "https://localhost:8080/"
    },
    "id": "uD_NvXoh2oUB",
    "outputId": "f115675c-a679-4422-ac83-1f18f32b5440"
   },
   "outputs": [
    {
     "data": {
      "text/plain": [
       "RandomForestRegressor()"
      ]
     },
     "execution_count": 94,
     "metadata": {},
     "output_type": "execute_result"
    }
   ],
   "source": [
    "rf.fit(X_train_s,y_train)"
   ]
  },
  {
   "cell_type": "code",
   "execution_count": 95,
   "metadata": {
    "colab": {
     "base_uri": "https://localhost:8080/"
    },
    "id": "E4tk3vrw2rl3",
    "outputId": "616dd1aa-c0cd-499d-963b-5bbb65b5aadd"
   },
   "outputs": [
    {
     "name": "stdout",
     "output_type": "stream",
     "text": [
      "Accuracy for random forest model is 0.784146221158329\n"
     ]
    }
   ],
   "source": [
    "score = rf.score(X_train_s,y_train)\n",
    "print(f'Accuracy for random forest model is {score}')"
   ]
  },
  {
   "cell_type": "code",
   "execution_count": 96,
   "metadata": {
    "colab": {
     "base_uri": "https://localhost:8080/"
    },
    "id": "1LRZTaoP2_f2",
    "outputId": "68a2be94-3282-4277-ec6a-56a106fbc5ca"
   },
   "outputs": [
    {
     "data": {
      "text/plain": [
       "array([ 1102.38      , 12589.38      , 13520.06      , ...,\n",
       "        5241.42      , 20877.25      , 10667.51277778])"
      ]
     },
     "execution_count": 96,
     "metadata": {},
     "output_type": "execute_result"
    }
   ],
   "source": [
    "rf_pred = rf.predict(X_test_s)\n",
    "rf_pred"
   ]
  },
  {
   "cell_type": "code",
   "execution_count": 101,
   "metadata": {
    "colab": {
     "base_uri": "https://localhost:8080/"
    },
    "id": "b0cNPC-D3Gk4",
    "outputId": "482f8a78-e4b7-4641-c599-8226e55b35be"
   },
   "outputs": [
    {
     "name": "stdout",
     "output_type": "stream",
     "text": [
      "Root mean squared error for random forest model is 24784687.862064786\n"
     ]
    }
   ],
   "source": [
    "mse = mean_squared_error(y_test,rf_pred)\n",
    "rmse = np.sqrt(mse)\n",
    "print(f'Root mean squared error for random forest model is {rmse}')"
   ]
  },
  {
   "cell_type": "markdown",
   "metadata": {
    "id": "K3zFwA6t35_B"
   },
   "source": [
    "Comparison of different models"
   ]
  },
  {
   "cell_type": "code",
   "execution_count": 104,
   "metadata": {
    "colab": {
     "base_uri": "https://localhost:8080/",
     "height": 175
    },
    "id": "UQdeKiac3VsG",
    "outputId": "4c7acdf0-eb95-43a6-cf6a-872a911c365a"
   },
   "outputs": [
    {
     "data": {
      "text/html": [
       "<div>\n",
       "<style scoped>\n",
       "    .dataframe tbody tr th:only-of-type {\n",
       "        vertical-align: middle;\n",
       "    }\n",
       "\n",
       "    .dataframe tbody tr th {\n",
       "        vertical-align: top;\n",
       "    }\n",
       "\n",
       "    .dataframe thead th {\n",
       "        text-align: right;\n",
       "    }\n",
       "</style>\n",
       "<table border=\"1\" class=\"dataframe\">\n",
       "  <thead>\n",
       "    <tr style=\"text-align: right;\">\n",
       "      <th></th>\n",
       "      <th>Model</th>\n",
       "      <th>R^2</th>\n",
       "      <th>RMSE</th>\n",
       "    </tr>\n",
       "  </thead>\n",
       "  <tbody>\n",
       "    <tr>\n",
       "      <th>0</th>\n",
       "      <td>Linear Regression</td>\n",
       "      <td>0.000484</td>\n",
       "      <td>2.805000e+10</td>\n",
       "    </tr>\n",
       "    <tr>\n",
       "      <th>1</th>\n",
       "      <td>Lasso</td>\n",
       "      <td>0.000485</td>\n",
       "      <td>2.629000e+10</td>\n",
       "    </tr>\n",
       "    <tr>\n",
       "      <th>2</th>\n",
       "      <td>LightGBM</td>\n",
       "      <td>0.807000</td>\n",
       "      <td>2.449000e+10</td>\n",
       "    </tr>\n",
       "    <tr>\n",
       "      <th>3</th>\n",
       "      <td>Random Forest</td>\n",
       "      <td>0.784000</td>\n",
       "      <td>1.247830e+01</td>\n",
       "    </tr>\n",
       "  </tbody>\n",
       "</table>\n",
       "</div>"
      ],
      "text/plain": [
       "               Model       R^2          RMSE\n",
       "0  Linear Regression  0.000484  2.805000e+10\n",
       "1              Lasso  0.000485  2.629000e+10\n",
       "2           LightGBM  0.807000  2.449000e+10\n",
       "3      Random Forest  0.784000  1.247830e+01"
      ]
     },
     "execution_count": 104,
     "metadata": {},
     "output_type": "execute_result"
    }
   ],
   "source": [
    "model = ['Linear Regression','Lasso','LightGBM','Random Forest']\n",
    "R_square = [0.000484, 0.000485, 0.807, 0.784]\n",
    "rmse = [2.805e+10, 2.629e+10, 2.449e+10, 2.4783+10]\n",
    "\n",
    "results = pd.DataFrame(model,columns=['Model'])\n",
    "results['R^2'] = R_square\n",
    "results['RMSE'] = rmse\n",
    "\n",
    "results\n"
   ]
  },
  {
   "cell_type": "markdown",
   "metadata": {
    "id": "6jEitnTd8Kq2"
   },
   "source": [
    "After comparing different models, we can conclude that lightGBM model is performing well compared to other models."
   ]
  },
  {
   "cell_type": "code",
   "execution_count": 109,
   "metadata": {
    "colab": {
     "base_uri": "https://localhost:8080/",
     "height": 535
    },
    "id": "C-Jgsz1t72zJ",
    "outputId": "d897d358-c469-428c-f696-cee927788806"
   },
   "outputs": [
    {
     "data": {
      "text/plain": [
       "<matplotlib.axes._subplots.AxesSubplot at 0x7f90ddb9bc10>"
      ]
     },
     "execution_count": 109,
     "metadata": {},
     "output_type": "execute_result"
    },
    {
     "data": {
      "image/png": "[encoded data removed]",
      "text/plain": [
       "<Figure size 1080x576 with 1 Axes>"
      ]
     },
     "metadata": {
      "needs_background": "light"
     },
     "output_type": "display_data"
    }
   ],
   "source": [
    "## Feature importance using LightGBM\n",
    "\n",
    "lightgbm.plot_importance(lgbm,max_num_features=30,importance_type=\"split\",figsize=(15,8))"
   ]
  },
  {
   "cell_type": "code",
   "execution_count": null,
   "metadata": {
    "id": "deisp3UoCNs5"
   },
   "outputs": [],
   "source": []
  }
 ],
 "metadata": {
  "colab": {
   "name": "UsedCars",
   "provenance": []
  },
  "kernelspec": {
   "display_name": "Python 3",
   "language": "python",
   "name": "python3"
  },
  "language_info": {
   "codemirror_mode": {
    "name": "ipython",
    "version": 3
   },
   "file_extension": ".py",
   "mimetype": "text/x-python",
   "name": "python",
   "nbconvert_exporter": "python",
   "pygments_lexer": "ipython3",
   "version": "3.8.8"
  }
 },
 "nbformat": 4,
 "nbformat_minor": 1
}
